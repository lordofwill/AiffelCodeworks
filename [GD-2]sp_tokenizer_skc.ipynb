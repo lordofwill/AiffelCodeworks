{
 "cells": [
  {
   "cell_type": "markdown",
   "id": "fifth-eclipse",
   "metadata": {},
   "source": [
    "## 라이브러리 import\n",
    "---"
   ]
  },
  {
   "cell_type": "code",
   "execution_count": 2,
   "id": "guilty-campbell",
   "metadata": {},
   "outputs": [],
   "source": [
    "import os\n",
    "import sentencepiece as spm\n",
    "from konlpy.tag import Mecab\n",
    "import matplotlib.pyplot as plt\n",
    "import tensorflow as tf\n",
    "from tensorflow import keras\n",
    "import numpy as np\n",
    "\n",
    "import urllib.request\n",
    "import pandas as pd\n",
    "\n",
    "import csv\n",
    "from sklearn.model_selection import train_test_split\n",
    "\n",
    "%matplotlib inline"
   ]
  },
  {
   "cell_type": "markdown",
   "id": "opened-token",
   "metadata": {},
   "source": [
    "## 데이터 불러오기\n",
    "---"
   ]
  },
  {
   "cell_type": "code",
   "execution_count": 3,
   "id": "polyphonic-villa",
   "metadata": {},
   "outputs": [
    {
     "data": {
      "text/html": [
       "<div>\n",
       "<style scoped>\n",
       "    .dataframe tbody tr th:only-of-type {\n",
       "        vertical-align: middle;\n",
       "    }\n",
       "\n",
       "    .dataframe tbody tr th {\n",
       "        vertical-align: top;\n",
       "    }\n",
       "\n",
       "    .dataframe thead th {\n",
       "        text-align: right;\n",
       "    }\n",
       "</style>\n",
       "<table border=\"1\" class=\"dataframe\">\n",
       "  <thead>\n",
       "    <tr style=\"text-align: right;\">\n",
       "      <th></th>\n",
       "      <th>id</th>\n",
       "      <th>document</th>\n",
       "      <th>label</th>\n",
       "    </tr>\n",
       "  </thead>\n",
       "  <tbody>\n",
       "    <tr>\n",
       "      <th>0</th>\n",
       "      <td>8112052</td>\n",
       "      <td>어릴때보고 지금다시봐도 재밌어요ㅋㅋ</td>\n",
       "      <td>1</td>\n",
       "    </tr>\n",
       "    <tr>\n",
       "      <th>1</th>\n",
       "      <td>8132799</td>\n",
       "      <td>디자인을 배우는 학생으로, 외국디자이너와 그들이 일군 전통을 통해 발전해가는 문화산...</td>\n",
       "      <td>1</td>\n",
       "    </tr>\n",
       "    <tr>\n",
       "      <th>2</th>\n",
       "      <td>4655635</td>\n",
       "      <td>폴리스스토리 시리즈는 1부터 뉴까지 버릴께 하나도 없음.. 최고.</td>\n",
       "      <td>1</td>\n",
       "    </tr>\n",
       "    <tr>\n",
       "      <th>3</th>\n",
       "      <td>9251303</td>\n",
       "      <td>와.. 연기가 진짜 개쩔구나.. 지루할거라고 생각했는데 몰입해서 봤다.. 그래 이런...</td>\n",
       "      <td>1</td>\n",
       "    </tr>\n",
       "    <tr>\n",
       "      <th>4</th>\n",
       "      <td>10067386</td>\n",
       "      <td>안개 자욱한 밤하늘에 떠 있는 초승달 같은 영화.</td>\n",
       "      <td>1</td>\n",
       "    </tr>\n",
       "  </tbody>\n",
       "</table>\n",
       "</div>"
      ],
      "text/plain": [
       "         id                                           document  label\n",
       "0   8112052                                어릴때보고 지금다시봐도 재밌어요ㅋㅋ      1\n",
       "1   8132799  디자인을 배우는 학생으로, 외국디자이너와 그들이 일군 전통을 통해 발전해가는 문화산...      1\n",
       "2   4655635               폴리스스토리 시리즈는 1부터 뉴까지 버릴께 하나도 없음.. 최고.      1\n",
       "3   9251303  와.. 연기가 진짜 개쩔구나.. 지루할거라고 생각했는데 몰입해서 봤다.. 그래 이런...      1\n",
       "4  10067386                        안개 자욱한 밤하늘에 떠 있는 초승달 같은 영화.      1"
      ]
     },
     "execution_count": 3,
     "metadata": {},
     "output_type": "execute_result"
    }
   ],
   "source": [
    "# train_data = pd.read_table('~/aiffel/sentiment_classification/data/ratings_train.txt')\n",
    "# test_data = pd.read_table('~/aiffel/sentiment_classification/data/ratings_test.txt')\n",
    "\n",
    "urllib.request.urlretrieve(\"https://raw.githubusercontent.com/e9t/nsmc/master/ratings.txt\", filename=\"ratings.txt\")\n",
    "\n",
    "naver_df = pd.read_table('ratings.txt')\n",
    "raw_len = len(naver_df)\n",
    "naver_df.head()"
   ]
  },
  {
   "cell_type": "markdown",
   "id": "focal-brief",
   "metadata": {},
   "source": [
    "## 데이터 전처리\n",
    "---"
   ]
  },
  {
   "cell_type": "markdown",
   "id": "fundamental-reunion",
   "metadata": {},
   "source": [
    "결측치 제거"
   ]
  },
  {
   "cell_type": "code",
   "execution_count": 4,
   "id": "worthy-stuart",
   "metadata": {},
   "outputs": [
    {
     "data": {
      "text/plain": [
       "id          0\n",
       "document    8\n",
       "label       0\n",
       "dtype: int64"
      ]
     },
     "execution_count": 4,
     "metadata": {},
     "output_type": "execute_result"
    }
   ],
   "source": [
    "naver_df.isnull().sum()"
   ]
  },
  {
   "cell_type": "code",
   "execution_count": 5,
   "id": "previous-organization",
   "metadata": {},
   "outputs": [
    {
     "name": "stdout",
     "output_type": "stream",
     "text": [
      "<bound method NDFrame._add_numeric_operations.<locals>.sum of            id  document  label\n",
      "0       False     False  False\n",
      "1       False     False  False\n",
      "2       False     False  False\n",
      "3       False     False  False\n",
      "4       False     False  False\n",
      "...       ...       ...    ...\n",
      "199995  False     False  False\n",
      "199996  False     False  False\n",
      "199997  False     False  False\n",
      "199998  False     False  False\n",
      "199999  False     False  False\n",
      "\n",
      "[199992 rows x 3 columns]>\n"
     ]
    }
   ],
   "source": [
    "naver_df = naver_df.dropna(how='any')\n",
    "print(naver_df.isnull().sum)"
   ]
  },
  {
   "cell_type": "markdown",
   "id": "greek-links",
   "metadata": {},
   "source": [
    "중복 제거"
   ]
  },
  {
   "cell_type": "code",
   "execution_count": 6,
   "id": "german-climb",
   "metadata": {},
   "outputs": [],
   "source": [
    "corpus = naver_df.drop_duplicates(['document'])  "
   ]
  },
  {
   "cell_type": "code",
   "execution_count": 7,
   "id": "characteristic-freeware",
   "metadata": {},
   "outputs": [
    {
     "name": "stdout",
     "output_type": "stream",
     "text": [
      "전처리 전 데이터 개수 : 200000\n",
      "전처리 후 데이터 개수 : 194543\n"
     ]
    }
   ],
   "source": [
    "print('전처리 전 데이터 개수 :', raw_len)\n",
    "print('전처리 후 데이터 개수 :', len(corpus)) "
   ]
  },
  {
   "cell_type": "code",
   "execution_count": 8,
   "id": "possible-driving",
   "metadata": {},
   "outputs": [
    {
     "data": {
      "text/html": [
       "<div>\n",
       "<style scoped>\n",
       "    .dataframe tbody tr th:only-of-type {\n",
       "        vertical-align: middle;\n",
       "    }\n",
       "\n",
       "    .dataframe tbody tr th {\n",
       "        vertical-align: top;\n",
       "    }\n",
       "\n",
       "    .dataframe thead th {\n",
       "        text-align: right;\n",
       "    }\n",
       "</style>\n",
       "<table border=\"1\" class=\"dataframe\">\n",
       "  <thead>\n",
       "    <tr style=\"text-align: right;\">\n",
       "      <th></th>\n",
       "      <th>id</th>\n",
       "      <th>document</th>\n",
       "      <th>label</th>\n",
       "    </tr>\n",
       "  </thead>\n",
       "  <tbody>\n",
       "    <tr>\n",
       "      <th>0</th>\n",
       "      <td>8112052</td>\n",
       "      <td>어릴때보고 지금다시봐도 재밌어요ㅋㅋ</td>\n",
       "      <td>1</td>\n",
       "    </tr>\n",
       "    <tr>\n",
       "      <th>1</th>\n",
       "      <td>8132799</td>\n",
       "      <td>디자인을 배우는 학생으로, 외국디자이너와 그들이 일군 전통을 통해 발전해가는 문화산...</td>\n",
       "      <td>1</td>\n",
       "    </tr>\n",
       "    <tr>\n",
       "      <th>2</th>\n",
       "      <td>4655635</td>\n",
       "      <td>폴리스스토리 시리즈는 1부터 뉴까지 버릴께 하나도 없음.. 최고.</td>\n",
       "      <td>1</td>\n",
       "    </tr>\n",
       "    <tr>\n",
       "      <th>3</th>\n",
       "      <td>9251303</td>\n",
       "      <td>와.. 연기가 진짜 개쩔구나.. 지루할거라고 생각했는데 몰입해서 봤다.. 그래 이런...</td>\n",
       "      <td>1</td>\n",
       "    </tr>\n",
       "    <tr>\n",
       "      <th>4</th>\n",
       "      <td>10067386</td>\n",
       "      <td>안개 자욱한 밤하늘에 떠 있는 초승달 같은 영화.</td>\n",
       "      <td>1</td>\n",
       "    </tr>\n",
       "  </tbody>\n",
       "</table>\n",
       "</div>"
      ],
      "text/plain": [
       "         id                                           document  label\n",
       "0   8112052                                어릴때보고 지금다시봐도 재밌어요ㅋㅋ      1\n",
       "1   8132799  디자인을 배우는 학생으로, 외국디자이너와 그들이 일군 전통을 통해 발전해가는 문화산...      1\n",
       "2   4655635               폴리스스토리 시리즈는 1부터 뉴까지 버릴께 하나도 없음.. 최고.      1\n",
       "3   9251303  와.. 연기가 진짜 개쩔구나.. 지루할거라고 생각했는데 몰입해서 봤다.. 그래 이런...      1\n",
       "4  10067386                        안개 자욱한 밤하늘에 떠 있는 초승달 같은 영화.      1"
      ]
     },
     "execution_count": 8,
     "metadata": {},
     "output_type": "execute_result"
    }
   ],
   "source": [
    "corpus.head()"
   ]
  },
  {
   "cell_type": "markdown",
   "id": "other-operator",
   "metadata": {},
   "source": [
    "### 데이터 분석\n",
    "---"
   ]
  },
  {
   "cell_type": "code",
   "execution_count": 9,
   "id": "accessory-louisiana",
   "metadata": {},
   "outputs": [
    {
     "data": {
      "text/plain": [
       "0                                  어릴때보고 지금다시봐도 재밌어요ㅋㅋ\n",
       "1    디자인을 배우는 학생으로, 외국디자이너와 그들이 일군 전통을 통해 발전해가는 문화산...\n",
       "2                 폴리스스토리 시리즈는 1부터 뉴까지 버릴께 하나도 없음.. 최고.\n",
       "3    와.. 연기가 진짜 개쩔구나.. 지루할거라고 생각했는데 몰입해서 봤다.. 그래 이런...\n",
       "4                          안개 자욱한 밤하늘에 떠 있는 초승달 같은 영화.\n",
       "Name: document, dtype: object"
      ]
     },
     "execution_count": 9,
     "metadata": {},
     "output_type": "execute_result"
    }
   ],
   "source": [
    "review = corpus['document']\n",
    "review.head()"
   ]
  },
  {
   "cell_type": "code",
   "execution_count": 10,
   "id": "alpine-latvia",
   "metadata": {},
   "outputs": [
    {
     "name": "stdout",
     "output_type": "stream",
     "text": [
      "문장의 최단 길이: 1\n",
      "문장의 최장 길이: 142\n",
      "문장의 평균 길이: 36\n"
     ]
    },
    {
     "data": {
      "image/png": "[encoded data removed]",
      "text/plain": [
       "<Figure size 432x288 with 1 Axes>"
      ]
     },
     "metadata": {
      "needs_background": "light"
     },
     "output_type": "display_data"
    }
   ],
   "source": [
    "min_len = 999\n",
    "max_len = 0\n",
    "sum_len = 0\n",
    "\n",
    "for sen in review:\n",
    "    length = len(sen)\n",
    "    if min_len > length: \n",
    "        min_len = length\n",
    "        \n",
    "    if max_len < length: \n",
    "        max_len = length\n",
    "    \n",
    "    sum_len += length\n",
    "\n",
    "print(\"문장의 최단 길이:\", min_len)\n",
    "print(\"문장의 최장 길이:\", max_len)\n",
    "print(\"문장의 평균 길이:\", sum_len // len(review))\n",
    "\n",
    "sentence_length = np.zeros((max_len), dtype=np.int)\n",
    "\n",
    "for sen in review:\n",
    "    sentence_length[len(sen)-1] += 1\n",
    "\n",
    "plt.bar(range(max_len), sentence_length, width=1.0)\n",
    "plt.title(\"Sentence Length Distribution\")\n",
    "plt.show()"
   ]
  },
  {
   "cell_type": "code",
   "execution_count": 11,
   "id": "fantastic-potter",
   "metadata": {},
   "outputs": [],
   "source": [
    "def check_sentence_with_length(raw, length):\n",
    "    count = 0\n",
    "    \n",
    "    for sen in raw:\n",
    "        if len(sen) == length:\n",
    "            print(sen)\n",
    "            print(count)\n",
    "            count += 1\n",
    "            if count > 10: return \n",
    "            \n",
    "def count_sentencenum_by_length(init, end):\n",
    "    count = 0\n",
    "\n",
    "    for sen_l in range(init, end):\n",
    "        count += sentence_length[sen_l]\n",
    "    return count\n",
    "        "
   ]
  },
  {
   "cell_type": "code",
   "execution_count": 12,
   "id": "funky-pattern",
   "metadata": {},
   "outputs": [
    {
     "name": "stdout",
     "output_type": "stream",
     "text": [
      "내가 남자라그런가 이거 겁나 긴장감있고 흥미진진하던데..ㄷㄷ 나만그런가워낙에 격투씬을 좋아해서.ㅋㅋㅋ 그냥 아무생각없이 집에서 스마트티비로 봐서 재밌었나봄 이거 뭔영화인지도 모르고 암살에 나온 이정재 있길래 걍봄 ㅋㅋ 하여튼 너무 재밌게 봤음\n",
      "0\n",
      "줄리아 로버츠의 웃음은 정말 보는 사람을 기쁘게 해준다. 웃음 하나로 기쁨과 슬픔을 표현할 수 있는 배우..전통을 깨고 여성의 새로운 삶을 살으라고 영화는 보여주는 데 영화에서는 전통을 완전히 벗어나야 한다는 것만을 강조하는 것 같아 아쉽다.\n",
      "1\n",
      "평점 왜 이렇게 낮아요??? 영화 대박인데...진짜....ㅋㅋㅋ 와.. 어떻게 이런상상을 해서 이런 영화를... 대박대박.. ㅠ 생각지못한 반전.. 처음엔 반신반의하면서 봤는데.. 최고내요...ㄷㄷㄷ 근데 금발 여주는 중반에 좀 짜증나긴했음ㅋ\n",
      "2\n",
      "큰 기대 안하고 띄엄띄엄 보다가 집중해서 봤네요!! 저는 잘봤습니다. 액션도 뛰어나고 아슬아슬한 장면들을 극복해 가는게 나름 잼있었어요!! 마지막에 여자 박사가 살았는지 죽었는지가 안나와서 좀 아쉽네요..그래도 딸은 살렸으니 다행스럽다는 ㅎㅎ\n",
      "3\n",
      "누군가는 잃고, 누군가는 벌고, 또 누군가는 죽는 게임. 그리고 끊임없이 반복되는 삶과 기억의 굴레. 하지만 시작할 때부터 영화는 이미 심각했고, 지루했다. 다 본 후 생각해보니 그럴 수밖에 없었겠다 싶다. 넓고 얕은 재미, 길고 깊은 여운.\n",
      "4\n",
      "영화내용은 사실별거 없지만 보고나면 생각을 많이하게 되는 영화임. 재미있기도 하고, 결론은 무엇이냐 하면 빨갱이들이 아무것도 모르는 사람들 선동해서 비참한 결과를 낳게 한다는 내용임. 복수심에 불타는 이북출신들도 나오는데 다 역사적인 사실임.\n",
      "5\n",
      "고등학교때 보고 지금에서 생각난 영화 참~그땐 눈물 콧물 흘리면서 봤는데짐 보면 나올라나.. 하긴 세월이 많이 흘렀지 아마 짐 시대하곤 스토리자체가 뻔하니깐 하지만 지금도 잊혀지지않는장면은 주인공이 공부하는장면과하늘도 갈라놓지 못한 그들의사랑\n",
      "6\n",
      "오스카는 흔히 볼수있는 아들이자 장난끼 많은 오빠 그리고 항상 미안해하는 남편. 감정이 앞서서 문제를 만들수도 있지만 언제나 마음은 내 가족, 내 사랑인 그 한사람. 정말 거지같은 상황속에서도 사랑이라는 한 단어로 살아남으려는 자를 짖밟았다.\n",
      "7\n",
      "올타쿠나커플때문에 다시 우결 보게됬어여제가 소은이같은 성격이라 너무공감되고 설레여~소은씨는 드센게 아니라 남자를 잘 맞춰주고 흡수하는 스펀지같은 여자에요^^그리고 재림씨 자기마음을 다 말해주는 재림씨 너무짱~~~정말 오빠,아빠, 애기같은 매력\n",
      "8\n",
      "오히려 평점 조작같은데.. 감독이 충무로 미움 삿을수도 있다는 생각까지 든다...한국영화 별로 좋아하진않지만.. 이영화가 이렇게까지 평점낮을만큼 재미없진 않다. 이정도 평점의 다른 영화같지않은 영화들과 비교할때 이 평점은 이해가 되질 않는다.\n",
      "9\n",
      "이루어 질수 없기에 더욱 너무나 애절하고 안타까운 야하기만 한게 아니라 너무나 아름다운 영상. 그리고 소녀를 사랑하는 마음을 이룰 수 없는 중국인 청년의 안타깝고 애절한 눈빛. 소녀와 여인의 경계에 있는 제인마치도 너무나 묘하게 잘 어울린다.\n",
      "10\n"
     ]
    }
   ],
   "source": [
    "check_sentence_with_length(review, 135)"
   ]
  },
  {
   "cell_type": "code",
   "execution_count": 13,
   "id": "social-mother",
   "metadata": {},
   "outputs": [
    {
     "name": "stdout",
     "output_type": "stream",
     "text": [
      "길이 135 이상의 문장수: 3686\n"
     ]
    }
   ],
   "source": [
    "# sentence_length[135]\n",
    "    \n",
    "print(f'길이 135 이상의 문장수: {count_sentencenum_by_length(135, 142)}')"
   ]
  },
  {
   "cell_type": "markdown",
   "id": "opposite-retailer",
   "metadata": {},
   "source": [
    "문장확인"
   ]
  },
  {
   "cell_type": "code",
   "execution_count": 14,
   "id": "secret-apparel",
   "metadata": {},
   "outputs": [
    {
     "name": "stdout",
     "output_type": "stream",
     "text": [
      "내용이너무좋아요.ㅎ\n",
      "0\n",
      "뀰잼이다뀰잼이라구여\n",
      "1\n",
      "13살이엇냐?...\n",
      "2\n",
      "알파치노 연기때문에\n",
      "3\n",
      "이물감. 시 같았다\n",
      "4\n",
      "매력적인 영화...\n",
      "5\n",
      "이거 재밌는데...\n",
      "6\n",
      ".겁쟁이페달보고싶다\n",
      "7\n",
      "한국 영화치고 좋다\n",
      "8\n",
      "정말 멋진 결말!ㅎ\n",
      "9\n",
      "너무 잘 봣어요..\n",
      "10\n"
     ]
    }
   ],
   "source": [
    "check_sentence_with_length(review, 10)"
   ]
  },
  {
   "cell_type": "code",
   "execution_count": 15,
   "id": "offshore-allen",
   "metadata": {},
   "outputs": [
    {
     "name": "stdout",
     "output_type": "stream",
     "text": [
      "굿\n",
      "0\n",
      "핡\n",
      "1\n",
      "휴\n",
      "2\n",
      "시\n",
      "3\n",
      "ㅋ\n",
      "4\n",
      "ㅇ\n",
      "5\n",
      "‥\n",
      "6\n",
      "O\n",
      "7\n",
      "갑\n",
      "8\n",
      "ㅎ\n",
      "9\n",
      ".\n",
      "10\n"
     ]
    }
   ],
   "source": [
    "check_sentence_with_length(review, 1)"
   ]
  },
  {
   "cell_type": "code",
   "execution_count": 16,
   "id": "pharmaceutical-visitor",
   "metadata": {},
   "outputs": [
    {
     "name": "stdout",
     "output_type": "stream",
     "text": [
      "길이 10 이하의 문장수: 16226\n"
     ]
    }
   ],
   "source": [
    "   \n",
    "print(f'길이 10 이하의 문장수: {count_sentencenum_by_length(0, 10)}')"
   ]
  },
  {
   "cell_type": "markdown",
   "id": "invisible-birmingham",
   "metadata": {},
   "source": [
    "### 문장 길이 선정\n",
    "---"
   ]
  },
  {
   "cell_type": "code",
   "execution_count": 17,
   "id": "separated-gardening",
   "metadata": {},
   "outputs": [],
   "source": [
    "def below_threshold_len(max_len, nested_list):\n",
    "    cnt = 0\n",
    "    for s in nested_list:\n",
    "        if(len(s) <= max_len):\n",
    "            cnt = cnt + 1\n",
    "    print('전체 샘플 중 길이가 %s 이하인 샘플의 비율: %s'%(max_len, (cnt / len(nested_list))*100))\n",
    "    \n",
    "def above_threshold_len(min_len, nested_list):\n",
    "    cnt = 0\n",
    "    for s in nested_list:\n",
    "        if(len(s) > min_len):\n",
    "            cnt = cnt + 1\n",
    "    print('전체 샘플 중 길이가 %s 초과인 샘플의 비율: %s'%(min_len, (cnt / len(nested_list))*100))   \n",
    "    "
   ]
  },
  {
   "cell_type": "code",
   "execution_count": 18,
   "id": "naval-capitol",
   "metadata": {},
   "outputs": [
    {
     "name": "stdout",
     "output_type": "stream",
     "text": [
      "전체 샘플 중 길이가 36 이하인 샘플의 비율: 66.08616090016089\n",
      "전체 샘플 중 길이가 140 이하인 샘플의 비율: 99.99948597482305\n",
      "전체 샘플 중 길이가 100 이하인 샘플의 비율: 94.05529882853662\n",
      "전체 샘플 중 길이가 80 이하인 샘플의 비율: 90.84726769917191\n",
      "전체 샘플 중 길이가 60 이하인 샘플의 비율: 85.86739178484962\n"
     ]
    }
   ],
   "source": [
    "below_threshold_len(36, review)  # 평균\n",
    "below_threshold_len(140, review)  \n",
    "below_threshold_len(100, review)  # \n",
    "below_threshold_len(80, review)\n",
    "below_threshold_len(60, review)  "
   ]
  },
  {
   "cell_type": "code",
   "execution_count": 19,
   "id": "geological-issue",
   "metadata": {},
   "outputs": [
    {
     "name": "stdout",
     "output_type": "stream",
     "text": [
      "전체 샘플 중 길이가 36 초과인 샘플의 비율: 33.91383909983911\n",
      "전체 샘플 중 길이가 1 초과인 샘플의 비율: 99.93626087805781\n"
     ]
    }
   ],
   "source": [
    "above_threshold_len(36, review)  # 평균\n",
    "above_threshold_len(1, review)"
   ]
  },
  {
   "cell_type": "markdown",
   "id": "pressed-knitting",
   "metadata": {},
   "source": []
  },
  {
   "cell_type": "code",
   "execution_count": 20,
   "id": "trying-reliance",
   "metadata": {},
   "outputs": [
    {
     "data": {
      "image/png": "[encoded data removed]",
      "text/plain": [
       "<Figure size 432x288 with 1 Axes>"
      ]
     },
     "metadata": {
      "needs_background": "light"
     },
     "output_type": "display_data"
    }
   ],
   "source": [
    "max_len = 80   \n",
    "min_len = 0\n",
    "        \n",
    "filtered_corpus = corpus[corpus['document'].str.len() < max_len]   \n",
    "\n",
    "sentence_length = np.zeros((max_len), dtype=np.int)\n",
    "\n",
    "for sen in filtered_corpus['document']:\n",
    "    sentence_length[len(sen)-1] += 1\n",
    "\n",
    "plt.bar(range(max_len), sentence_length, width=1.0)\n",
    "plt.title(\"Sentence Length Distribution\")\n",
    "plt.show()"
   ]
  },
  {
   "cell_type": "code",
   "execution_count": 21,
   "id": "antique-chart",
   "metadata": {},
   "outputs": [
    {
     "data": {
      "text/html": [
       "<div>\n",
       "<style scoped>\n",
       "    .dataframe tbody tr th:only-of-type {\n",
       "        vertical-align: middle;\n",
       "    }\n",
       "\n",
       "    .dataframe tbody tr th {\n",
       "        vertical-align: top;\n",
       "    }\n",
       "\n",
       "    .dataframe thead th {\n",
       "        text-align: right;\n",
       "    }\n",
       "</style>\n",
       "<table border=\"1\" class=\"dataframe\">\n",
       "  <thead>\n",
       "    <tr style=\"text-align: right;\">\n",
       "      <th></th>\n",
       "      <th>id</th>\n",
       "      <th>document</th>\n",
       "      <th>label</th>\n",
       "    </tr>\n",
       "  </thead>\n",
       "  <tbody>\n",
       "    <tr>\n",
       "      <th>199990</th>\n",
       "      <td>5465496</td>\n",
       "      <td>장르는 무협인데 내가 보기엔 코믹이던데 막장 평점 2점도 아깝다</td>\n",
       "      <td>0</td>\n",
       "    </tr>\n",
       "    <tr>\n",
       "      <th>199991</th>\n",
       "      <td>8965828</td>\n",
       "      <td>나치입장에서 본 영화가 갑자기 연속으로 나오네? 뭔일 있었나...</td>\n",
       "      <td>0</td>\n",
       "    </tr>\n",
       "    <tr>\n",
       "      <th>199992</th>\n",
       "      <td>2228930</td>\n",
       "      <td>태권도???</td>\n",
       "      <td>0</td>\n",
       "    </tr>\n",
       "    <tr>\n",
       "      <th>199993</th>\n",
       "      <td>417815</td>\n",
       "      <td>음 왜 봤을까? 예고편이 다 -</td>\n",
       "      <td>0</td>\n",
       "    </tr>\n",
       "    <tr>\n",
       "      <th>199994</th>\n",
       "      <td>4834376</td>\n",
       "      <td>개연성이 없어요.. 별루다...</td>\n",
       "      <td>0</td>\n",
       "    </tr>\n",
       "    <tr>\n",
       "      <th>199995</th>\n",
       "      <td>8963373</td>\n",
       "      <td>포켓 몬스터 짜가 ㅡㅡ;;</td>\n",
       "      <td>0</td>\n",
       "    </tr>\n",
       "    <tr>\n",
       "      <th>199996</th>\n",
       "      <td>3302770</td>\n",
       "      <td>쓰.레.기</td>\n",
       "      <td>0</td>\n",
       "    </tr>\n",
       "    <tr>\n",
       "      <th>199997</th>\n",
       "      <td>5458175</td>\n",
       "      <td>완전 사이코영화. 마지막은 더욱더 이 영화의질을 떨어트린다.</td>\n",
       "      <td>0</td>\n",
       "    </tr>\n",
       "    <tr>\n",
       "      <th>199998</th>\n",
       "      <td>6908648</td>\n",
       "      <td>왜난 재미없었지 ㅠㅠ 라따뚜이 보고나서 스머프 봐서 그런가 ㅋㅋ</td>\n",
       "      <td>0</td>\n",
       "    </tr>\n",
       "    <tr>\n",
       "      <th>199999</th>\n",
       "      <td>8548411</td>\n",
       "      <td>포풍저그가나가신다영차영차영차</td>\n",
       "      <td>0</td>\n",
       "    </tr>\n",
       "  </tbody>\n",
       "</table>\n",
       "</div>"
      ],
      "text/plain": [
       "             id                              document  label\n",
       "199990  5465496   장르는 무협인데 내가 보기엔 코믹이던데 막장 평점 2점도 아깝다      0\n",
       "199991  8965828  나치입장에서 본 영화가 갑자기 연속으로 나오네? 뭔일 있었나...      0\n",
       "199992  2228930                                태권도???      0\n",
       "199993   417815                     음 왜 봤을까? 예고편이 다 -      0\n",
       "199994  4834376                     개연성이 없어요.. 별루다...      0\n",
       "199995  8963373                        포켓 몬스터 짜가 ㅡㅡ;;      0\n",
       "199996  3302770                                 쓰.레.기      0\n",
       "199997  5458175     완전 사이코영화. 마지막은 더욱더 이 영화의질을 떨어트린다.      0\n",
       "199998  6908648   왜난 재미없었지 ㅠㅠ 라따뚜이 보고나서 스머프 봐서 그런가 ㅋㅋ      0\n",
       "199999  8548411                       포풍저그가나가신다영차영차영차      0"
      ]
     },
     "execution_count": 21,
     "metadata": {},
     "output_type": "execute_result"
    }
   ],
   "source": [
    "filtered_corpus.tail(10)"
   ]
  },
  {
   "cell_type": "code",
   "execution_count": 22,
   "id": "first-walker",
   "metadata": {},
   "outputs": [
    {
     "data": {
      "text/plain": [
       "array([ 124,  460,  793, 1222, 1469, 1882, 2187, 2270, 2440, 3379, 4459,\n",
       "       5711, 5970, 5848, 5518, 5265, 5005, 4947, 4806, 4626, 4542, 4436,\n",
       "       4264, 4129, 4073, 3973, 3865, 3809, 3743, 3665, 3561, 3566, 3353,\n",
       "       3339, 3036, 2831, 2736, 2736, 2775, 2856, 2486, 2486, 2495, 2625,\n",
       "       2599, 2257, 1660, 1311, 1079,  968,  893,  844,  799,  789,  765,\n",
       "        678,  686,  654,  658,  648,  614,  554,  600,  555,  544,  554,\n",
       "        528,  528,  473,  493,  443,  477,  469,  443,  403,  437,  422,\n",
       "        388,  398,    0])"
      ]
     },
     "execution_count": 22,
     "metadata": {},
     "output_type": "execute_result"
    }
   ],
   "source": [
    "sentence_length"
   ]
  },
  {
   "cell_type": "code",
   "execution_count": 23,
   "id": "automatic-television",
   "metadata": {},
   "outputs": [
    {
     "data": {
      "image/png": "[encoded data removed]",
      "text/plain": [
       "<Figure size 864x360 with 1 Axes>"
      ]
     },
     "metadata": {
      "needs_background": "light"
     },
     "output_type": "display_data"
    }
   ],
   "source": [
    "plt.figure(figsize=(12,5))\n",
    "plt.boxplot([sentence_length], showmeans=True)\n",
    "plt.show()"
   ]
  },
  {
   "cell_type": "code",
   "execution_count": 24,
   "id": "viral-zambia",
   "metadata": {},
   "outputs": [
    {
     "name": "stdout",
     "output_type": "stream",
     "text": [
      "전처리 전 데이터 개수 : 200000\n",
      "전처리 후 데이터 개수 : 176372\n",
      "전처리 후 남은 데이터 양(%) 88.18599999999999\n"
     ]
    }
   ],
   "source": [
    "print('전처리 전 데이터 개수 :', raw_len)\n",
    "print('전처리 후 데이터 개수 :', len(filtered_corpus))\n",
    "print('전처리 후 남은 데이터 양(%)', (len(filtered_corpus)/raw_len)*100)"
   ]
  },
  {
   "cell_type": "markdown",
   "id": "relative-tradition",
   "metadata": {},
   "source": [
    "길이는 80으로 결정했습니다."
   ]
  },
  {
   "cell_type": "markdown",
   "id": "refined-movement",
   "metadata": {},
   "source": [
    "## 형태소 기반 토큰화\n",
    "---"
   ]
  },
  {
   "cell_type": "code",
   "execution_count": 25,
   "id": "comprehensive-uganda",
   "metadata": {},
   "outputs": [],
   "source": [
    "mecab = Mecab()\n",
    "\n",
    "def mecab_split(sentence):\n",
    "    return mecab.morphs(sentence)\n",
    "\n",
    "def tokenize(corpus):  # corpus: Tokenized Sentence's List\n",
    "    tokenizer = tf.keras.preprocessing.text.Tokenizer(filters='')\n",
    "    tokenizer.fit_on_texts(corpus)\n",
    "\n",
    "    tensor = tokenizer.texts_to_sequences(corpus)\n",
    "\n",
    "    tensor = tf.keras.preprocessing.sequence.pad_sequences(tensor, padding='post')\n",
    "\n",
    "    return tensor, tokenizer"
   ]
  },
  {
   "cell_type": "code",
   "execution_count": 26,
   "id": "suffering-stable",
   "metadata": {},
   "outputs": [
    {
     "name": "stdout",
     "output_type": "stream",
     "text": [
      "['아버지', '가', '방', '에', '들어가', '신다', '.']\n"
     ]
    }
   ],
   "source": [
    "print(mecab.morphs('아버지가방에들어가신다.'))"
   ]
  },
  {
   "cell_type": "code",
   "execution_count": 27,
   "id": "naval-imperial",
   "metadata": {},
   "outputs": [],
   "source": [
    "mecab_corpus = []\n",
    "    \n",
    "for kor in filtered_corpus['document']:\n",
    "    mecab_corpus.append(mecab_split(kor))"
   ]
  },
  {
   "cell_type": "code",
   "execution_count": 28,
   "id": "apparent-marathon",
   "metadata": {},
   "outputs": [
    {
     "name": "stdout",
     "output_type": "stream",
     "text": [
      "176372\n",
      "['어릴', '때', '보', '고', '지금', '다시', '봐도', '재밌', '어요', 'ㅋㅋ']\n"
     ]
    }
   ],
   "source": [
    "print(len(mecab_corpus))\n",
    "\n",
    "print(mecab_corpus[0])"
   ]
  },
  {
   "cell_type": "code",
   "execution_count": 29,
   "id": "amazing-month",
   "metadata": {},
   "outputs": [
    {
     "name": "stdout",
     "output_type": "stream",
     "text": [
      "MeCab Vocab Size: 51787\n"
     ]
    }
   ],
   "source": [
    "mecab_tensor, mecab_tokenizer = tokenize(mecab_corpus)\n",
    "\n",
    "print(\"MeCab Vocab Size:\", len(mecab_tokenizer.index_word))"
   ]
  },
  {
   "cell_type": "code",
   "execution_count": 30,
   "id": "shared-metallic",
   "metadata": {},
   "outputs": [
    {
     "name": "stdout",
     "output_type": "stream",
     "text": [
      "좀 짱인듯 허정무대신 장외룡감독을 한국국대로 고고싱\n",
      "['좀', '짱', '인', '듯', '허정무', '대신', '장외룡', '감독', '을', '한국', '국', '대로', '고고', '싱']\n"
     ]
    }
   ],
   "source": [
    "print(filtered_corpus['document'][110])\n",
    "\n",
    "# print (filtered_corpus.loc[filtered_corpus['document'].str.contains('허정무')])\n",
    "\n",
    "print(mecab_corpus[100])"
   ]
  },
  {
   "cell_type": "code",
   "execution_count": 31,
   "id": "affected-saturday",
   "metadata": {
    "scrolled": true
   },
   "outputs": [
    {
     "name": "stdout",
     "output_type": "stream",
     "text": [
      "좀 짱 인 듯 허정무 대신 장외룡 감독 을 한국 국 대로 고고 싱\n"
     ]
    }
   ],
   "source": [
    "texts = mecab_tokenizer.sequences_to_texts([mecab_tensor[100]])\n",
    "print(texts[0])"
   ]
  },
  {
   "cell_type": "markdown",
   "id": "serial-benjamin",
   "metadata": {},
   "source": [
    "## SentencePiece 모델 학습\n",
    "---"
   ]
  },
  {
   "cell_type": "code",
   "execution_count": 32,
   "id": "proved-holiday",
   "metadata": {},
   "outputs": [
    {
     "name": "stdout",
     "output_type": "stream",
     "text": [
      "-rw-r--r-- 1 root root 446670 Dec  9 07:08 korean_spm_bpe_12k.model\r\n",
      "-rw-r--r-- 1 root root 185887 Dec  9 07:08 korean_spm_bpe_12k.vocab\r\n",
      "-rw-r--r-- 1 root root 296983 Dec  9 07:07 korean_spm_bpe_4k.model\r\n",
      "-rw-r--r-- 1 root root  50204 Dec  9 07:07 korean_spm_bpe_4k.vocab\r\n",
      "-rw-r--r-- 1 root root 370509 Dec  9 07:07 korean_spm_bpe_8k.model\r\n",
      "-rw-r--r-- 1 root root 115730 Dec  9 07:07 korean_spm_bpe_8k.vocab\r\n",
      "-rw-r--r-- 1 root root 375034 Dec  8 05:42 korean_spm.model\r\n",
      "-rw-r--r-- 1 root root 454051 Dec  9 07:07 korean_spm_unigram_12k.model\r\n",
      "-rw-r--r-- 1 root root 227059 Dec  9 07:07 korean_spm_unigram_12k.vocab\r\n",
      "-rw-r--r-- 1 root root 298434 Dec  9 07:06 korean_spm_unigram_4k.model\r\n",
      "-rw-r--r-- 1 root root  64338 Dec  9 07:06 korean_spm_unigram_4k.vocab\r\n",
      "-rw-r--r-- 1 root root 375045 Dec  9 07:06 korean_spm_unigram_8k.model\r\n",
      "-rw-r--r-- 1 root root 144412 Dec  9 07:06 korean_spm_unigram_8k.vocab\r\n",
      "-rw-r--r-- 1 root root 144412 Dec  8 05:42 korean_spm.vocab\r\n"
     ]
    }
   ],
   "source": [
    "temp_file = os.getenv('HOME')+'/aiffel/sp_tokenizer/data/korean-english-park.train.ko.temp'\n",
    "\n",
    "vocab_size = 8000\n",
    "\n",
    "with open(temp_file, 'w') as f:\n",
    "    for row in filtered_corpus['document']:   # 이전 스텝에서 정제했던 corpus를 활용합니다.\n",
    "        f.write(str(row) + '\\n')\n",
    "\n",
    "spm.SentencePieceTrainer.Train(\n",
    "    '--input={} --model_prefix=korean_spm_unigram_4k --vocab_size={}'.format(temp_file, 4000)    \n",
    ")\n",
    "\n",
    "spm.SentencePieceTrainer.Train(\n",
    "    '--input={} --model_prefix=korean_spm_unigram_8k --vocab_size={}'.format(temp_file, vocab_size)    \n",
    ")\n",
    "\n",
    "spm.SentencePieceTrainer.Train(\n",
    "    '--input={} --model_prefix=korean_spm_unigram_12k --vocab_size={}'.format(temp_file, 12000)    \n",
    ")\n",
    "#위 Train에서  --model_type = 'unigram'이 디폴트 적용되어 있습니다. --model_type = 'bpe' 로 옵션을 주어 변경할 수 있습니다.\n",
    "\n",
    "spm.SentencePieceTrainer.Train(\n",
    "    '--input={} --model_prefix=korean_spm_bpe_4k --model_type=bpe --vocab_size={}'.format(temp_file, 4000)    \n",
    ")\n",
    "\n",
    "spm.SentencePieceTrainer.Train(\n",
    "    '--input={} --model_prefix=korean_spm_bpe_8k --model_type=bpe --vocab_size={}'.format(temp_file, vocab_size)    \n",
    ")\n",
    "\n",
    "spm.SentencePieceTrainer.Train(\n",
    "    '--input={} --model_prefix=korean_spm_bpe_12k --model_type=bpe --vocab_size={}'.format(temp_file, 12000)    \n",
    ")\n",
    "\n",
    "!ls -l korean_spm*"
   ]
  },
  {
   "cell_type": "markdown",
   "id": "monetary-aberdeen",
   "metadata": {},
   "source": [
    "학습 결과 확인"
   ]
  },
  {
   "cell_type": "code",
   "execution_count": 33,
   "id": "final-hamilton",
   "metadata": {},
   "outputs": [
    {
     "name": "stdout",
     "output_type": "stream",
     "text": [
      "subword의 개수 : 8000\n"
     ]
    },
    {
     "data": {
      "text/html": [
       "<div>\n",
       "<style scoped>\n",
       "    .dataframe tbody tr th:only-of-type {\n",
       "        vertical-align: middle;\n",
       "    }\n",
       "\n",
       "    .dataframe tbody tr th {\n",
       "        vertical-align: top;\n",
       "    }\n",
       "\n",
       "    .dataframe thead th {\n",
       "        text-align: right;\n",
       "    }\n",
       "</style>\n",
       "<table border=\"1\" class=\"dataframe\">\n",
       "  <thead>\n",
       "    <tr style=\"text-align: right;\">\n",
       "      <th></th>\n",
       "      <th>0</th>\n",
       "      <th>1</th>\n",
       "    </tr>\n",
       "  </thead>\n",
       "  <tbody>\n",
       "    <tr>\n",
       "      <th>0</th>\n",
       "      <td>&lt;unk&gt;</td>\n",
       "      <td>0.00000</td>\n",
       "    </tr>\n",
       "    <tr>\n",
       "      <th>1</th>\n",
       "      <td>&lt;s&gt;</td>\n",
       "      <td>0.00000</td>\n",
       "    </tr>\n",
       "    <tr>\n",
       "      <th>2</th>\n",
       "      <td>&lt;/s&gt;</td>\n",
       "      <td>0.00000</td>\n",
       "    </tr>\n",
       "    <tr>\n",
       "      <th>3</th>\n",
       "      <td>▁</td>\n",
       "      <td>-3.29221</td>\n",
       "    </tr>\n",
       "    <tr>\n",
       "      <th>4</th>\n",
       "      <td>.</td>\n",
       "      <td>-3.47849</td>\n",
       "    </tr>\n",
       "    <tr>\n",
       "      <th>5</th>\n",
       "      <td>..</td>\n",
       "      <td>-4.28223</td>\n",
       "    </tr>\n",
       "    <tr>\n",
       "      <th>6</th>\n",
       "      <td>이</td>\n",
       "      <td>-4.44348</td>\n",
       "    </tr>\n",
       "    <tr>\n",
       "      <th>7</th>\n",
       "      <td>▁영화</td>\n",
       "      <td>-4.45867</td>\n",
       "    </tr>\n",
       "    <tr>\n",
       "      <th>8</th>\n",
       "      <td>...</td>\n",
       "      <td>-4.51412</td>\n",
       "    </tr>\n",
       "    <tr>\n",
       "      <th>9</th>\n",
       "      <td>의</td>\n",
       "      <td>-4.72683</td>\n",
       "    </tr>\n",
       "  </tbody>\n",
       "</table>\n",
       "</div>"
      ],
      "text/plain": [
       "       0        1\n",
       "0  <unk>  0.00000\n",
       "1    <s>  0.00000\n",
       "2   </s>  0.00000\n",
       "3      ▁ -3.29221\n",
       "4      . -3.47849\n",
       "5     .. -4.28223\n",
       "6      이 -4.44348\n",
       "7    ▁영화 -4.45867\n",
       "8    ... -4.51412\n",
       "9      의 -4.72683"
      ]
     },
     "execution_count": 33,
     "metadata": {},
     "output_type": "execute_result"
    }
   ],
   "source": [
    "vocab_list = pd.read_csv('korean_spm_unigram_8k.vocab', sep='\\t', header=None, quoting=csv.QUOTE_NONE)\n",
    "print('subword의 개수 :', len(vocab_list))\n",
    "vocab_list[:10]"
   ]
  },
  {
   "cell_type": "code",
   "execution_count": 34,
   "id": "comparable-newman",
   "metadata": {},
   "outputs": [
    {
     "name": "stdout",
     "output_type": "stream",
     "text": [
      "subword의 개수 : 12000\n"
     ]
    },
    {
     "data": {
      "text/html": [
       "<div>\n",
       "<style scoped>\n",
       "    .dataframe tbody tr th:only-of-type {\n",
       "        vertical-align: middle;\n",
       "    }\n",
       "\n",
       "    .dataframe tbody tr th {\n",
       "        vertical-align: top;\n",
       "    }\n",
       "\n",
       "    .dataframe thead th {\n",
       "        text-align: right;\n",
       "    }\n",
       "</style>\n",
       "<table border=\"1\" class=\"dataframe\">\n",
       "  <thead>\n",
       "    <tr style=\"text-align: right;\">\n",
       "      <th></th>\n",
       "      <th>0</th>\n",
       "      <th>1</th>\n",
       "    </tr>\n",
       "  </thead>\n",
       "  <tbody>\n",
       "    <tr>\n",
       "      <th>0</th>\n",
       "      <td>&lt;unk&gt;</td>\n",
       "      <td>0</td>\n",
       "    </tr>\n",
       "    <tr>\n",
       "      <th>1</th>\n",
       "      <td>&lt;s&gt;</td>\n",
       "      <td>0</td>\n",
       "    </tr>\n",
       "    <tr>\n",
       "      <th>2</th>\n",
       "      <td>&lt;/s&gt;</td>\n",
       "      <td>0</td>\n",
       "    </tr>\n",
       "    <tr>\n",
       "      <th>3</th>\n",
       "      <td>..</td>\n",
       "      <td>0</td>\n",
       "    </tr>\n",
       "    <tr>\n",
       "      <th>4</th>\n",
       "      <td>영화</td>\n",
       "      <td>-1</td>\n",
       "    </tr>\n",
       "    <tr>\n",
       "      <th>5</th>\n",
       "      <td>▁영화</td>\n",
       "      <td>-2</td>\n",
       "    </tr>\n",
       "    <tr>\n",
       "      <th>6</th>\n",
       "      <td>▁이</td>\n",
       "      <td>-3</td>\n",
       "    </tr>\n",
       "    <tr>\n",
       "      <th>7</th>\n",
       "      <td>...</td>\n",
       "      <td>-4</td>\n",
       "    </tr>\n",
       "    <tr>\n",
       "      <th>8</th>\n",
       "      <td>▁아</td>\n",
       "      <td>-5</td>\n",
       "    </tr>\n",
       "    <tr>\n",
       "      <th>9</th>\n",
       "      <td>▁재</td>\n",
       "      <td>-6</td>\n",
       "    </tr>\n",
       "  </tbody>\n",
       "</table>\n",
       "</div>"
      ],
      "text/plain": [
       "       0  1\n",
       "0  <unk>  0\n",
       "1    <s>  0\n",
       "2   </s>  0\n",
       "3     ..  0\n",
       "4     영화 -1\n",
       "5    ▁영화 -2\n",
       "6     ▁이 -3\n",
       "7    ... -4\n",
       "8     ▁아 -5\n",
       "9     ▁재 -6"
      ]
     },
     "execution_count": 34,
     "metadata": {},
     "output_type": "execute_result"
    }
   ],
   "source": [
    "vocab_list = pd.read_csv('korean_spm_bpe_12k.vocab', sep='\\t', header=None, quoting=csv.QUOTE_NONE)\n",
    "print('subword의 개수 :', len(vocab_list))\n",
    "vocab_list[:10]"
   ]
  },
  {
   "cell_type": "markdown",
   "id": "middle-standard",
   "metadata": {},
   "source": [
    "### SentencePiece 모델 비교\n",
    "---"
   ]
  },
  {
   "cell_type": "code",
   "execution_count": 35,
   "id": "blond-electronics",
   "metadata": {},
   "outputs": [],
   "source": [
    "def show_SP_demo(model):\n",
    "    s = spm.SentencePieceProcessor()\n",
    "    s.Load(model)\n",
    "\n",
    "    # SentencePiece를 활용한 sentence -> encoding\n",
    "    tokensIDs = s.EncodeAsIds('아버지가방에들어가신다.')\n",
    "    print(tokensIDs)\n",
    "\n",
    "    # SentencePiece를 활용한 sentence -> encoded pieces\n",
    "    print(s.SampleEncodeAsPieces('아버지가방에들어가신다.',1, 0.0))\n",
    "\n",
    "    # SentencePiece를 활용한 encoding -> sentence 복원\n",
    "    print(s.DecodeIds(tokensIDs))"
   ]
  },
  {
   "cell_type": "code",
   "execution_count": 36,
   "id": "regional-latino",
   "metadata": {},
   "outputs": [
    {
     "name": "stdout",
     "output_type": "stream",
     "text": [
      "korean_spm_bpe_4k.model\n",
      "[8, 2447, 924, 2543, 2273, 1502, 2269, 2376, 2263, 2261]\n",
      "['▁아', '버', '지가', '방', '에', '들어', '가', '신', '다', '.']\n",
      "아버지가방에들어가신다.\n",
      "\n",
      "korean_spm_bpe_8k.model\n",
      "[5574, 924, 6543, 6273, 1502, 6269, 6376, 6263, 6261]\n",
      "['▁아버', '지가', '방', '에', '들어', '가', '신', '다', '.']\n",
      "아버지가방에들어가신다.\n",
      "\n",
      "korean_spm_bpe_12k.model\n",
      "[8429, 10543, 10273, 1502, 10269, 10376, 10263, 10261]\n",
      "['▁아버지가', '방', '에', '들어', '가', '신', '다', '.']\n",
      "아버지가방에들어가신다.\n",
      "\n",
      "korean_spm_unigram_4k.model\n",
      "[2035, 8, 391, 15, 1646, 8, 119, 13, 4]\n",
      "['▁아버지', '가', '방', '에', '들어', '가', '신', '다', '.']\n",
      "아버지가방에들어가신다.\n",
      "\n",
      "korean_spm_unigram_8k.model\n",
      "[1600, 10, 424, 15, 1406, 10, 140, 16, 4]\n",
      "['▁아버지', '가', '방', '에', '들어', '가', '신', '다', '.']\n",
      "아버지가방에들어가신다.\n",
      "\n",
      "korean_spm_unigram_12k.model\n",
      "[8506, 471, 15, 1649, 10, 177, 17, 3]\n",
      "['▁아버지가', '방', '에', '들어', '가', '신', '다', '.']\n",
      "아버지가방에들어가신다.\n",
      "\n",
      "KoNLPy MeCab\n",
      "['아버지', '가', '방', '에', '들어가', '신다', '.']\n"
     ]
    }
   ],
   "source": [
    "print('korean_spm_bpe_4k.model')\n",
    "show_SP_demo(model='korean_spm_bpe_4k.model')\n",
    "print()\n",
    "print('korean_spm_bpe_8k.model')\n",
    "show_SP_demo(model='korean_spm_bpe_8k.model')\n",
    "print()\n",
    "print('korean_spm_bpe_12k.model')\n",
    "show_SP_demo(model='korean_spm_bpe_12k.model')\n",
    "print()\n",
    "print('korean_spm_unigram_4k.model')\n",
    "show_SP_demo(model='korean_spm_unigram_4k.model')\n",
    "print()\n",
    "print('korean_spm_unigram_8k.model')\n",
    "show_SP_demo(model='korean_spm_unigram_8k.model')\n",
    "print()\n",
    "print('korean_spm_unigram_12k.model')\n",
    "show_SP_demo(model='korean_spm_unigram_12k.model')\n",
    "print()\n",
    "print('KoNLPy MeCab')\n",
    "print(mecab.morphs('아버지가방에들어가신다.'))\n"
   ]
  },
  {
   "cell_type": "markdown",
   "id": "familiar-basketball",
   "metadata": {},
   "source": [
    "unigram 4k, unigram 8k, KoNLPy MeCab 모델에서 '아버지' 조사 '가' 적절히 구분한 것으로 판단된다."
   ]
  },
  {
   "cell_type": "markdown",
   "id": "entitled-jackson",
   "metadata": {},
   "source": [
    "## Tokenizer 함수 작성\n",
    "---"
   ]
  },
  {
   "cell_type": "code",
   "execution_count": 37,
   "id": "worldwide-worth",
   "metadata": {},
   "outputs": [],
   "source": [
    "def sp_tokenize(s, corpus, spm):\n",
    "\n",
    "    tensor = []\n",
    "\n",
    "    for sen in corpus:\n",
    "        tensor.append(s.EncodeAsIds(sen))\n",
    "\n",
    "    with open(\"./{}.vocab\".format(spm), 'r') as f:\n",
    "        vocab = f.readlines()\n",
    "\n",
    "    word_index = {}\n",
    "    index_word = {}\n",
    "\n",
    "    for idx, line in enumerate(vocab):\n",
    "        word = line.split(\"\\t\")[0]\n",
    "\n",
    "        word_index.update({idx:word})\n",
    "        index_word.update({word:idx})\n",
    "\n",
    "    tensor = tf.keras.preprocessing.sequence.pad_sequences(tensor, padding='pre', maxlen=max_len)\n",
    "\n",
    "    return tensor, word_index, index_word"
   ]
  },
  {
   "cell_type": "code",
   "execution_count": 38,
   "id": "incorrect-testing",
   "metadata": {},
   "outputs": [
    {
     "name": "stdout",
     "output_type": "stream",
     "text": [
      "[[   0    0    0    0    0    0    0    0    0    0    0    0    0    0\n",
      "     0    0    0    0    0    0    0    0    0    0    0    0    0    0\n",
      "     0    0    0    0    0    0    0    0    0    0    0    0    0    0\n",
      "     0    0    0    0    0    0    0    0    0    0    0    0    0    0\n",
      "     0    0    0    0    0    0    0    0    0    0    0    0    0    0\n",
      "     0    0    0    0  544 3456   14 1246 1802    4]\n",
      " [   0    0    0    0    0    0    0    0    0    0    0    0    0    0\n",
      "     0    0    0    0    0    0    0    0    0    0    0    0    0    0\n",
      "     0    0    0    0    0    0    0    0    0    0    0    0    0    0\n",
      "     0    0    0    0    0    0    0    0    0    0    0    0    0    0\n",
      "     0    0    0    0    0    0    0    0    0    0    0    0    0    0\n",
      "  1662 2221  241  566   10    3   17 7939  670    8]]\n"
     ]
    }
   ],
   "source": [
    "# sp_tokenize(s, corpus) 사용 예제\n",
    "\n",
    "s = spm.SentencePieceProcessor()\n",
    "\n",
    "s.Load('korean_spm_unigram_8k.model') \n",
    "\n",
    "my_corpus = ['나는 밥을 먹었습니다.', '그러나 여전히 ㅠㅠ 배가 고픕니다...']\n",
    "tensor, word_index, index_word = sp_tokenize(s, my_corpus, 'korean_spm_unigram_8k')           \n",
    "print(tensor)\n",
    "# print(word_index)\n",
    "# print(index_word)"
   ]
  },
  {
   "cell_type": "markdown",
   "id": "junior-holder",
   "metadata": {},
   "source": [
    "### lstm감정분석 모델 학습\n",
    "---"
   ]
  },
  {
   "cell_type": "code",
   "execution_count": 39,
   "id": "fitted-italian",
   "metadata": {},
   "outputs": [],
   "source": [
    "tensor, word_index, index_word = sp_tokenize(s, filtered_corpus['document'], 'korean_spm_unigram_8k')"
   ]
  },
  {
   "cell_type": "code",
   "execution_count": 40,
   "id": "dense-label",
   "metadata": {},
   "outputs": [],
   "source": [
    "# mecab_tensor, mecab_tokenizer = tokenize(mecab_corpus)\n",
    "# mecab_tensor\n",
    "mecab_word_index = mecab_tokenizer.index_word\n",
    "mecab_index_word = mecab_tokenizer.word_index"
   ]
  },
  {
   "cell_type": "markdown",
   "id": "editorial-westminster",
   "metadata": {},
   "source": [
    "데이터셋 나누기"
   ]
  },
  {
   "cell_type": "code",
   "execution_count": 41,
   "id": "colonial-milan",
   "metadata": {},
   "outputs": [],
   "source": [
    "filtered_label = np.array(filtered_corpus['label'])\n",
    "x_train, x_val, y_train, y_val = train_test_split(tensor, filtered_label, test_size=0.2)\n",
    "x_train, x_test, y_train, y_test = train_test_split(x_train, y_train, test_size=0.2)"
   ]
  },
  {
   "cell_type": "code",
   "execution_count": 42,
   "id": "seasonal-carry",
   "metadata": {},
   "outputs": [],
   "source": [
    "mx_train, mx_val, my_train, my_val = train_test_split(mecab_tensor, filtered_label, test_size=0.2)\n",
    "mx_train, mx_test, my_train, my_test = train_test_split(mx_train, my_train, test_size=0.2)"
   ]
  },
  {
   "cell_type": "code",
   "execution_count": 43,
   "id": "labeled-boutique",
   "metadata": {},
   "outputs": [
    {
     "data": {
      "text/plain": [
       "array([   0,    0,    0,    0,    0,    0,    0,    0,    0,    0,    0,\n",
       "          0,    0,    0,    0,    0,    0,    0,    0,    0,    0,    0,\n",
       "          0,    0,    0,    0,    0,    0,    0,    0,    0,    0,    0,\n",
       "          0,    0,    0,    0,    0,    0,    0,    0,    0,    0,    0,\n",
       "          0,    0,    0,    0,    0,    0,    0,    0,    0,    0,    0,\n",
       "          0,    0,    0,    0,    0,    0,    0,    0,    0,    0,    0,\n",
       "          0,    0,    0,    0,    0,    0,    0,    0,   49, 3985,   16,\n",
       "       1681,  542, 7149], dtype=int32)"
      ]
     },
     "execution_count": 43,
     "metadata": {},
     "output_type": "execute_result"
    }
   ],
   "source": [
    "x_train[111000]"
   ]
  },
  {
   "cell_type": "code",
   "execution_count": 44,
   "id": "helpful-performer",
   "metadata": {},
   "outputs": [
    {
     "data": {
      "text/plain": [
       "array([ 4722, 18074,    66,    10,   120,   541,   283,    28,   166,\n",
       "          18,  1873,  3298,     5,     0,     0,     0,     0,     0,\n",
       "           0,     0,     0,     0,     0,     0,     0,     0,     0,\n",
       "           0,     0,     0,     0,     0,     0,     0,     0,     0,\n",
       "           0,     0,     0,     0,     0,     0,     0,     0,     0,\n",
       "           0,     0,     0,     0,     0,     0,     0,     0,     0,\n",
       "           0,     0,     0,     0], dtype=int32)"
      ]
     },
     "execution_count": 44,
     "metadata": {},
     "output_type": "execute_result"
    }
   ],
   "source": [
    "mx_train[111000]"
   ]
  },
  {
   "cell_type": "code",
   "execution_count": 45,
   "id": "governmental-sphere",
   "metadata": {},
   "outputs": [
    {
     "name": "stdout",
     "output_type": "stream",
     "text": [
      "112877 28220 35275\n",
      "112877 28220 35275\n"
     ]
    }
   ],
   "source": [
    "print(len(x_train), len(x_test), len(x_val))\n",
    "print(len(y_train), len(y_test), len(y_val))"
   ]
  },
  {
   "cell_type": "code",
   "execution_count": 46,
   "id": "swiss-drink",
   "metadata": {},
   "outputs": [
    {
     "name": "stdout",
     "output_type": "stream",
     "text": [
      "112877 28220 35275\n",
      "112877 28220 35275\n"
     ]
    }
   ],
   "source": [
    "print(len(mx_train), len(mx_test), len(mx_val))\n",
    "print(len(my_train), len(my_test), len(my_val))"
   ]
  },
  {
   "cell_type": "code",
   "execution_count": 47,
   "id": "ongoing-porter",
   "metadata": {},
   "outputs": [],
   "source": [
    "\n",
    "def make_LSTM_model(dim, layer, vocab):\n",
    "    vocab_size = vocab\n",
    "    word_vector_dim = dim \n",
    "\n",
    "    model_LSTM = keras.Sequential()\n",
    "    model_LSTM.add(keras.layers.Embedding(vocab, \n",
    "                                 dim,\n",
    "                                    ))\n",
    "            \n",
    "    model_LSTM.add(keras.layers.LSTM(layer))\n",
    "    model_LSTM.add(keras.layers.Dense(1, activation='sigmoid'))  # 최종 출력은 긍정/부정을 나타내는 1dim 입니다.\n",
    "\n",
    "    model_LSTM.summary()\n",
    "    return model_LSTM\n",
    "\n",
    "es = keras.callbacks.EarlyStopping(monitor='val_loss', mode='min', verbose=1, patience=4)\n",
    "\n",
    "def train_LSTM_model(model_LSTM, epochs, batch_size, x_train, y_train, x_val, y_val):\n",
    "    model_LSTM.compile(optimizer='adam',\n",
    "              loss='binary_crossentropy',\n",
    "              metrics=['accuracy'])              \n",
    "\n",
    "    history_LSTM = model_LSTM.fit(x_train,\n",
    "                    y_train,\n",
    "                    epochs=epochs,\n",
    "                    batch_size=batch_size,\n",
    "                    validation_data=(x_val,y_val),\n",
    "                    callbacks=es,\n",
    "                    verbose=1)\n",
    "    \n",
    "    return history_LSTM, model_LSTM\n",
    "\n",
    "def show_result(model_LSTM, x_test, y_test):\n",
    "    results = model_LSTM.evaluate(x_test,  y_test, verbose=2)\n",
    "    return results\n"
   ]
  },
  {
   "cell_type": "markdown",
   "id": "occupied-lingerie",
   "metadata": {},
   "source": [
    "유니그램8k 모델"
   ]
  },
  {
   "cell_type": "code",
   "execution_count": 48,
   "id": "sporting-fountain",
   "metadata": {},
   "outputs": [
    {
     "name": "stdout",
     "output_type": "stream",
     "text": [
      "Model: \"sequential\"\n",
      "_________________________________________________________________\n",
      "Layer (type)                 Output Shape              Param #   \n",
      "=================================================================\n",
      "embedding (Embedding)        (None, None, 32)          256000    \n",
      "_________________________________________________________________\n",
      "lstm (LSTM)                  (None, 128)               82432     \n",
      "_________________________________________________________________\n",
      "dense (Dense)                (None, 1)                 129       \n",
      "=================================================================\n",
      "Total params: 338,561\n",
      "Trainable params: 338,561\n",
      "Non-trainable params: 0\n",
      "_________________________________________________________________\n"
     ]
    }
   ],
   "source": [
    "model_unigram8k=make_LSTM_model(32, 128, 8000)"
   ]
  },
  {
   "cell_type": "code",
   "execution_count": 49,
   "id": "opened-bolivia",
   "metadata": {},
   "outputs": [
    {
     "name": "stdout",
     "output_type": "stream",
     "text": [
      "Epoch 1/20\n",
      "1764/1764 [==============================] - 38s 20ms/step - loss: 0.4683 - accuracy: 0.7650 - val_loss: 0.3486 - val_accuracy: 0.8465\n",
      "Epoch 2/20\n",
      "1764/1764 [==============================] - 35s 20ms/step - loss: 0.3117 - accuracy: 0.8652 - val_loss: 0.3312 - val_accuracy: 0.8546\n",
      "Epoch 3/20\n",
      "1764/1764 [==============================] - 35s 20ms/step - loss: 0.2691 - accuracy: 0.8846 - val_loss: 0.3383 - val_accuracy: 0.8540\n",
      "Epoch 4/20\n",
      "1764/1764 [==============================] - 35s 20ms/step - loss: 0.2385 - accuracy: 0.9015 - val_loss: 0.3443 - val_accuracy: 0.8510\n",
      "Epoch 5/20\n",
      "1764/1764 [==============================] - 35s 20ms/step - loss: 0.2075 - accuracy: 0.9134 - val_loss: 0.3614 - val_accuracy: 0.8517\n",
      "Epoch 6/20\n",
      "1764/1764 [==============================] - 35s 20ms/step - loss: 0.1792 - accuracy: 0.9279 - val_loss: 0.4137 - val_accuracy: 0.8433\n",
      "Epoch 00006: early stopping\n"
     ]
    }
   ],
   "source": [
    "history_unigram8k, model_unigram8k = train_LSTM_model(model_unigram8k,20, 64, x_train, y_train, x_val, y_val)"
   ]
  },
  {
   "cell_type": "code",
   "execution_count": 50,
   "id": "metallic-adrian",
   "metadata": {},
   "outputs": [
    {
     "name": "stdout",
     "output_type": "stream",
     "text": [
      "882/882 - 5s - loss: 0.4190 - accuracy: 0.8395\n",
      "[0.4189665615558624, 0.8395464420318604]\n"
     ]
    }
   ],
   "source": [
    "print(show_result(model_unigram8k, x_test, y_test))"
   ]
  },
  {
   "cell_type": "markdown",
   "id": "southern-olive",
   "metadata": {},
   "source": [
    "konlpy 모델"
   ]
  },
  {
   "cell_type": "code",
   "execution_count": 51,
   "id": "emotional-alfred",
   "metadata": {},
   "outputs": [
    {
     "name": "stdout",
     "output_type": "stream",
     "text": [
      "Model: \"sequential_1\"\n",
      "_________________________________________________________________\n",
      "Layer (type)                 Output Shape              Param #   \n",
      "=================================================================\n",
      "embedding_1 (Embedding)      (None, None, 32)          1920000   \n",
      "_________________________________________________________________\n",
      "lstm_1 (LSTM)                (None, 128)               82432     \n",
      "_________________________________________________________________\n",
      "dense_1 (Dense)              (None, 1)                 129       \n",
      "=================================================================\n",
      "Total params: 2,002,561\n",
      "Trainable params: 2,002,561\n",
      "Non-trainable params: 0\n",
      "_________________________________________________________________\n"
     ]
    }
   ],
   "source": [
    "model_mecab=make_LSTM_model(32, 128, 60000)\n",
    "# 8000이라고 했더니 오류가 발생해서 mecab으로 확인한 51787의 vocabsize를 참조해 60000으로 바꿔줬습니다."
   ]
  },
  {
   "cell_type": "code",
   "execution_count": 52,
   "id": "ranging-greenhouse",
   "metadata": {},
   "outputs": [
    {
     "name": "stdout",
     "output_type": "stream",
     "text": [
      "Epoch 1/20\n",
      "1764/1764 [==============================] - 41s 22ms/step - loss: 0.6778 - accuracy: 0.5570 - val_loss: 0.6738 - val_accuracy: 0.5904\n",
      "Epoch 2/20\n",
      "1764/1764 [==============================] - 39s 22ms/step - loss: 0.6696 - accuracy: 0.5951 - val_loss: 0.6817 - val_accuracy: 0.5592\n",
      "Epoch 3/20\n",
      "1764/1764 [==============================] - 39s 22ms/step - loss: 0.6849 - accuracy: 0.5407 - val_loss: 0.6747 - val_accuracy: 0.5936\n",
      "Epoch 4/20\n",
      "1764/1764 [==============================] - 39s 22ms/step - loss: 0.6709 - accuracy: 0.5995 - val_loss: 0.6585 - val_accuracy: 0.6145\n",
      "Epoch 5/20\n",
      "1764/1764 [==============================] - 38s 22ms/step - loss: 0.5111 - accuracy: 0.7402 - val_loss: 0.3876 - val_accuracy: 0.8255\n",
      "Epoch 6/20\n",
      "1764/1764 [==============================] - 39s 22ms/step - loss: 0.3159 - accuracy: 0.8677 - val_loss: 0.3776 - val_accuracy: 0.8353\n",
      "Epoch 7/20\n",
      "1764/1764 [==============================] - 39s 22ms/step - loss: 0.2511 - accuracy: 0.9017 - val_loss: 0.4119 - val_accuracy: 0.8301\n",
      "Epoch 8/20\n",
      "1764/1764 [==============================] - 39s 22ms/step - loss: 0.2045 - accuracy: 0.9226 - val_loss: 0.4221 - val_accuracy: 0.8330\n",
      "Epoch 9/20\n",
      "1764/1764 [==============================] - 39s 22ms/step - loss: 0.1698 - accuracy: 0.9369 - val_loss: 0.5030 - val_accuracy: 0.8130\n",
      "Epoch 10/20\n",
      "1764/1764 [==============================] - 39s 22ms/step - loss: 0.1446 - accuracy: 0.9482 - val_loss: 0.4982 - val_accuracy: 0.8242\n",
      "Epoch 00010: early stopping\n"
     ]
    }
   ],
   "source": [
    "history_mecab, model_mecab = train_LSTM_model(model_mecab, 20, 64, mx_train, my_train, mx_val, my_val)"
   ]
  },
  {
   "cell_type": "code",
   "execution_count": 53,
   "id": "manufactured-disabled",
   "metadata": {},
   "outputs": [
    {
     "name": "stdout",
     "output_type": "stream",
     "text": [
      "882/882 - 4s - loss: 0.5083 - accuracy: 0.8190\n",
      "[0.5083483457565308, 0.8189936280250549]\n"
     ]
    }
   ],
   "source": [
    "print(show_result(model_mecab, mx_test, my_test))"
   ]
  },
  {
   "cell_type": "markdown",
   "id": "given-exception",
   "metadata": {},
   "source": [
    "나머지 모델 데이터 셋 마련"
   ]
  },
  {
   "cell_type": "code",
   "execution_count": 54,
   "id": "skilled-notification",
   "metadata": {},
   "outputs": [],
   "source": [
    "tensor, word_index, index_word = sp_tokenize(s, filtered_corpus['document'], 'korean_spm_unigram_4k')"
   ]
  },
  {
   "cell_type": "code",
   "execution_count": 55,
   "id": "electronic-gazette",
   "metadata": {},
   "outputs": [],
   "source": [
    "u4kx_train, u4kx_val, u4ky_train, u4ky_val = train_test_split(tensor, filtered_label, test_size=0.2)\n",
    "u4kx_train, u4kx_test, u4ky_train, u4ky_test = train_test_split(x_train, y_train, test_size=0.2)"
   ]
  },
  {
   "cell_type": "code",
   "execution_count": 56,
   "id": "approximate-wichita",
   "metadata": {},
   "outputs": [
    {
     "name": "stdout",
     "output_type": "stream",
     "text": [
      "90301 22576 35275\n",
      "90301 22576 35275\n"
     ]
    }
   ],
   "source": [
    "print(len(u4kx_train), len(u4kx_test), len(u4kx_val))\n",
    "print(len(u4ky_train), len(u4ky_test), len(u4ky_val))"
   ]
  },
  {
   "cell_type": "code",
   "execution_count": 57,
   "id": "honey-communications",
   "metadata": {},
   "outputs": [],
   "source": [
    "tensor, word_index, index_word = sp_tokenize(s, filtered_corpus['document'], 'korean_spm_unigram_12k')"
   ]
  },
  {
   "cell_type": "code",
   "execution_count": 58,
   "id": "maritime-thought",
   "metadata": {},
   "outputs": [],
   "source": [
    "u12kx_train, u12kx_val, u12ky_train, u12ky_val = train_test_split(tensor, filtered_label, test_size=0.2)\n",
    "u12kx_train, u12kx_test, u12ky_train, u12ky_test = train_test_split(x_train, y_train, test_size=0.2)"
   ]
  },
  {
   "cell_type": "code",
   "execution_count": 59,
   "id": "exact-tomato",
   "metadata": {},
   "outputs": [],
   "source": [
    "tensor, word_index, index_word = sp_tokenize(s, filtered_corpus['document'], 'korean_spm_bpe_4k')"
   ]
  },
  {
   "cell_type": "code",
   "execution_count": 60,
   "id": "cardiovascular-collective",
   "metadata": {},
   "outputs": [],
   "source": [
    "b4kx_train, b4kx_val, b4ky_train, b4ky_val = train_test_split(tensor, filtered_label, test_size=0.2)\n",
    "b4kx_train, b4kx_test, b4ky_train, b4ky_test = train_test_split(x_train, y_train, test_size=0.2)"
   ]
  },
  {
   "cell_type": "code",
   "execution_count": 61,
   "id": "utility-beaver",
   "metadata": {},
   "outputs": [],
   "source": [
    "tensor, word_index, index_word = sp_tokenize(s, filtered_corpus['document'], 'korean_spm_bpe_8k')"
   ]
  },
  {
   "cell_type": "code",
   "execution_count": 62,
   "id": "classified-devon",
   "metadata": {},
   "outputs": [],
   "source": [
    "b8kx_train, b8kx_val, b8ky_train, b8ky_val = train_test_split(tensor, filtered_label, test_size=0.2)\n",
    "b8kx_train, b8kx_test, b8ky_train, b8ky_test = train_test_split(x_train, y_train, test_size=0.2)"
   ]
  },
  {
   "cell_type": "code",
   "execution_count": 63,
   "id": "bored-edmonton",
   "metadata": {},
   "outputs": [],
   "source": [
    "tensor, word_index, index_word = sp_tokenize(s, filtered_corpus['document'], 'korean_spm_bpe_12k')"
   ]
  },
  {
   "cell_type": "code",
   "execution_count": 64,
   "id": "fallen-primary",
   "metadata": {},
   "outputs": [],
   "source": [
    "b12kx_train, b12kx_val, b12ky_train, b12ky_val = train_test_split(tensor, filtered_label, test_size=0.2)\n",
    "b12kx_train, b12kx_test, b12ky_train, b12ky_test = train_test_split(x_train, y_train, test_size=0.2)"
   ]
  },
  {
   "cell_type": "markdown",
   "id": "excessive-petroleum",
   "metadata": {},
   "source": [
    "unigram4k model"
   ]
  },
  {
   "cell_type": "code",
   "execution_count": 65,
   "id": "sorted-ancient",
   "metadata": {},
   "outputs": [
    {
     "name": "stdout",
     "output_type": "stream",
     "text": [
      "Model: \"sequential_2\"\n",
      "_________________________________________________________________\n",
      "Layer (type)                 Output Shape              Param #   \n",
      "=================================================================\n",
      "embedding_2 (Embedding)      (None, None, 32)          256000    \n",
      "_________________________________________________________________\n",
      "lstm_2 (LSTM)                (None, 128)               82432     \n",
      "_________________________________________________________________\n",
      "dense_2 (Dense)              (None, 1)                 129       \n",
      "=================================================================\n",
      "Total params: 338,561\n",
      "Trainable params: 338,561\n",
      "Non-trainable params: 0\n",
      "_________________________________________________________________\n"
     ]
    }
   ],
   "source": [
    "model_unigram4k=make_LSTM_model(32, 128, 8000)"
   ]
  },
  {
   "cell_type": "code",
   "execution_count": 66,
   "id": "vocal-worker",
   "metadata": {},
   "outputs": [
    {
     "name": "stdout",
     "output_type": "stream",
     "text": [
      "Epoch 1/20\n",
      "1411/1411 [==============================] - 30s 20ms/step - loss: 0.4854 - accuracy: 0.7543 - val_loss: 0.3349 - val_accuracy: 0.8564\n",
      "Epoch 2/20\n",
      "1411/1411 [==============================] - 28s 20ms/step - loss: 0.3202 - accuracy: 0.8637 - val_loss: 0.3078 - val_accuracy: 0.8701\n",
      "Epoch 3/20\n",
      "1411/1411 [==============================] - 28s 20ms/step - loss: 0.2739 - accuracy: 0.8832 - val_loss: 0.2898 - val_accuracy: 0.8789\n",
      "Epoch 4/20\n",
      "1411/1411 [==============================] - 28s 20ms/step - loss: 0.2354 - accuracy: 0.9037 - val_loss: 0.2828 - val_accuracy: 0.8831\n",
      "Epoch 5/20\n",
      "1411/1411 [==============================] - 28s 20ms/step - loss: 0.2067 - accuracy: 0.9169 - val_loss: 0.2785 - val_accuracy: 0.8914\n",
      "Epoch 6/20\n",
      "1411/1411 [==============================] - 28s 20ms/step - loss: 0.1732 - accuracy: 0.9316 - val_loss: 0.2787 - val_accuracy: 0.8956\n",
      "Epoch 7/20\n",
      "1411/1411 [==============================] - 28s 20ms/step - loss: 0.1472 - accuracy: 0.9427 - val_loss: 0.2914 - val_accuracy: 0.8989\n",
      "Epoch 8/20\n",
      "1411/1411 [==============================] - 28s 20ms/step - loss: 0.1184 - accuracy: 0.9548 - val_loss: 0.3102 - val_accuracy: 0.9028\n",
      "Epoch 9/20\n",
      "1411/1411 [==============================] - 28s 20ms/step - loss: 0.0971 - accuracy: 0.9642 - val_loss: 0.3440 - val_accuracy: 0.9046\n",
      "Epoch 00009: early stopping\n"
     ]
    }
   ],
   "source": [
    "history_unigram4k, model_unigram4k = train_LSTM_model(model_unigram4k,20, 64, u4kx_train, u4ky_train, u4kx_val, u4ky_val)"
   ]
  },
  {
   "cell_type": "code",
   "execution_count": 67,
   "id": "vital-telling",
   "metadata": {},
   "outputs": [
    {
     "name": "stdout",
     "output_type": "stream",
     "text": [
      "706/706 - 4s - loss: 0.6188 - accuracy: 0.8306\n",
      "[0.618834912776947, 0.8305723071098328]\n"
     ]
    }
   ],
   "source": [
    "print(show_result(model_unigram4k, u4kx_test, u4ky_test))"
   ]
  },
  {
   "cell_type": "markdown",
   "id": "executive-period",
   "metadata": {},
   "source": [
    "bpe4k model"
   ]
  },
  {
   "cell_type": "code",
   "execution_count": 68,
   "id": "biological-porcelain",
   "metadata": {},
   "outputs": [
    {
     "name": "stdout",
     "output_type": "stream",
     "text": [
      "Model: \"sequential_3\"\n",
      "_________________________________________________________________\n",
      "Layer (type)                 Output Shape              Param #   \n",
      "=================================================================\n",
      "embedding_3 (Embedding)      (None, None, 32)          256000    \n",
      "_________________________________________________________________\n",
      "lstm_3 (LSTM)                (None, 128)               82432     \n",
      "_________________________________________________________________\n",
      "dense_3 (Dense)              (None, 1)                 129       \n",
      "=================================================================\n",
      "Total params: 338,561\n",
      "Trainable params: 338,561\n",
      "Non-trainable params: 0\n",
      "_________________________________________________________________\n"
     ]
    }
   ],
   "source": [
    "model_bpe4k=make_LSTM_model(32, 128, 8000)"
   ]
  },
  {
   "cell_type": "code",
   "execution_count": 69,
   "id": "revolutionary-supervision",
   "metadata": {},
   "outputs": [
    {
     "name": "stdout",
     "output_type": "stream",
     "text": [
      "Epoch 1/20\n",
      "1411/1411 [==============================] - 30s 20ms/step - loss: 0.4766 - accuracy: 0.7594 - val_loss: 0.3285 - val_accuracy: 0.8589\n",
      "Epoch 2/20\n",
      "1411/1411 [==============================] - 28s 20ms/step - loss: 0.3112 - accuracy: 0.8680 - val_loss: 0.2997 - val_accuracy: 0.8740\n",
      "Epoch 3/20\n",
      "1411/1411 [==============================] - 28s 20ms/step - loss: 0.2658 - accuracy: 0.8894 - val_loss: 0.2835 - val_accuracy: 0.8802\n",
      "Epoch 4/20\n",
      "1411/1411 [==============================] - 28s 20ms/step - loss: 0.2339 - accuracy: 0.9019 - val_loss: 0.2772 - val_accuracy: 0.8874\n",
      "Epoch 5/20\n",
      "1411/1411 [==============================] - 28s 20ms/step - loss: 0.2028 - accuracy: 0.9163 - val_loss: 0.2720 - val_accuracy: 0.8922\n",
      "Epoch 6/20\n",
      "1411/1411 [==============================] - 28s 20ms/step - loss: 0.1702 - accuracy: 0.9313 - val_loss: 0.2893 - val_accuracy: 0.8934\n",
      "Epoch 7/20\n",
      "1411/1411 [==============================] - 28s 20ms/step - loss: 0.1401 - accuracy: 0.9436 - val_loss: 0.2847 - val_accuracy: 0.8983\n",
      "Epoch 8/20\n",
      "1411/1411 [==============================] - 28s 20ms/step - loss: 0.1136 - accuracy: 0.9560 - val_loss: 0.3159 - val_accuracy: 0.9032\n",
      "Epoch 9/20\n",
      "1411/1411 [==============================] - 28s 20ms/step - loss: 0.0899 - accuracy: 0.9680 - val_loss: 0.3458 - val_accuracy: 0.9041\n",
      "Epoch 00009: early stopping\n"
     ]
    }
   ],
   "source": [
    "history_bpe4k, model_bpe4k = train_LSTM_model(model_bpe4k,20, 64, b4kx_train, b4ky_train, b4kx_val, b4ky_val)"
   ]
  },
  {
   "cell_type": "code",
   "execution_count": 70,
   "id": "covered-assembly",
   "metadata": {},
   "outputs": [
    {
     "name": "stdout",
     "output_type": "stream",
     "text": [
      "706/706 - 4s - loss: 0.1877 - accuracy: 0.9449\n",
      "[0.18771037459373474, 0.944941520690918]\n"
     ]
    }
   ],
   "source": [
    "print(show_result(model_unigram4k, b4kx_test, b4ky_test))"
   ]
  },
  {
   "cell_type": "markdown",
   "id": "acquired-commons",
   "metadata": {},
   "source": [
    "unigram12k model"
   ]
  },
  {
   "cell_type": "code",
   "execution_count": 71,
   "id": "unique-fraud",
   "metadata": {},
   "outputs": [
    {
     "name": "stdout",
     "output_type": "stream",
     "text": [
      "Model: \"sequential_4\"\n",
      "_________________________________________________________________\n",
      "Layer (type)                 Output Shape              Param #   \n",
      "=================================================================\n",
      "embedding_4 (Embedding)      (None, None, 32)          256000    \n",
      "_________________________________________________________________\n",
      "lstm_4 (LSTM)                (None, 128)               82432     \n",
      "_________________________________________________________________\n",
      "dense_4 (Dense)              (None, 1)                 129       \n",
      "=================================================================\n",
      "Total params: 338,561\n",
      "Trainable params: 338,561\n",
      "Non-trainable params: 0\n",
      "_________________________________________________________________\n"
     ]
    }
   ],
   "source": [
    "model_unigram12k=make_LSTM_model(32, 128, 8000)"
   ]
  },
  {
   "cell_type": "code",
   "execution_count": 72,
   "id": "oriental-module",
   "metadata": {},
   "outputs": [
    {
     "name": "stdout",
     "output_type": "stream",
     "text": [
      "Epoch 1/20\n",
      "1411/1411 [==============================] - 31s 20ms/step - loss: 0.4969 - accuracy: 0.7468 - val_loss: 0.3279 - val_accuracy: 0.8593\n",
      "Epoch 2/20\n",
      "1411/1411 [==============================] - 28s 20ms/step - loss: 0.3152 - accuracy: 0.8662 - val_loss: 0.2991 - val_accuracy: 0.8729\n",
      "Epoch 3/20\n",
      "1411/1411 [==============================] - 28s 20ms/step - loss: 0.2749 - accuracy: 0.8842 - val_loss: 0.2869 - val_accuracy: 0.8795\n",
      "Epoch 4/20\n",
      "1411/1411 [==============================] - 28s 20ms/step - loss: 0.2358 - accuracy: 0.9017 - val_loss: 0.2785 - val_accuracy: 0.8860\n",
      "Epoch 5/20\n",
      "1411/1411 [==============================] - 28s 20ms/step - loss: 0.2017 - accuracy: 0.9166 - val_loss: 0.2704 - val_accuracy: 0.8926\n",
      "Epoch 6/20\n",
      "1411/1411 [==============================] - 28s 20ms/step - loss: 0.1694 - accuracy: 0.9317 - val_loss: 0.2834 - val_accuracy: 0.8962\n",
      "Epoch 7/20\n",
      "1411/1411 [==============================] - 28s 20ms/step - loss: 0.1441 - accuracy: 0.9428 - val_loss: 0.2884 - val_accuracy: 0.8996\n",
      "Epoch 8/20\n",
      "1411/1411 [==============================] - 28s 20ms/step - loss: 0.1166 - accuracy: 0.9550 - val_loss: 0.3165 - val_accuracy: 0.9022\n",
      "Epoch 9/20\n",
      "1411/1411 [==============================] - 28s 20ms/step - loss: 0.0984 - accuracy: 0.9623 - val_loss: 0.3323 - val_accuracy: 0.9049\n",
      "Epoch 00009: early stopping\n"
     ]
    }
   ],
   "source": [
    "history_unigram12k, model_unigram12k = train_LSTM_model(model_unigram12k, 20, 64, u12kx_train, u12ky_train, u12kx_val, u12ky_val)"
   ]
  },
  {
   "cell_type": "code",
   "execution_count": 73,
   "id": "complicated-third",
   "metadata": {},
   "outputs": [
    {
     "name": "stdout",
     "output_type": "stream",
     "text": [
      "706/706 - 4s - loss: 0.6119 - accuracy: 0.8244\n",
      "[0.6119276285171509, 0.8244153261184692]\n"
     ]
    }
   ],
   "source": [
    "print(show_result(model_unigram12k, u12kx_test, u12ky_test))"
   ]
  },
  {
   "cell_type": "markdown",
   "id": "animated-klein",
   "metadata": {},
   "source": [
    "bpe8k model"
   ]
  },
  {
   "cell_type": "code",
   "execution_count": 74,
   "id": "forward-direction",
   "metadata": {},
   "outputs": [
    {
     "name": "stdout",
     "output_type": "stream",
     "text": [
      "Model: \"sequential_5\"\n",
      "_________________________________________________________________\n",
      "Layer (type)                 Output Shape              Param #   \n",
      "=================================================================\n",
      "embedding_5 (Embedding)      (None, None, 32)          256000    \n",
      "_________________________________________________________________\n",
      "lstm_5 (LSTM)                (None, 128)               82432     \n",
      "_________________________________________________________________\n",
      "dense_5 (Dense)              (None, 1)                 129       \n",
      "=================================================================\n",
      "Total params: 338,561\n",
      "Trainable params: 338,561\n",
      "Non-trainable params: 0\n",
      "_________________________________________________________________\n"
     ]
    }
   ],
   "source": [
    "model_bpe8k=make_LSTM_model(32, 128, 8000)"
   ]
  },
  {
   "cell_type": "code",
   "execution_count": 75,
   "id": "alpha-number",
   "metadata": {},
   "outputs": [
    {
     "name": "stdout",
     "output_type": "stream",
     "text": [
      "Epoch 1/20\n",
      "1411/1411 [==============================] - 30s 20ms/step - loss: 0.4861 - accuracy: 0.7517 - val_loss: 0.3321 - val_accuracy: 0.8580\n",
      "Epoch 2/20\n",
      "1411/1411 [==============================] - 28s 20ms/step - loss: 0.3141 - accuracy: 0.8660 - val_loss: 0.3060 - val_accuracy: 0.8713\n",
      "Epoch 3/20\n",
      "1411/1411 [==============================] - 28s 20ms/step - loss: 0.2753 - accuracy: 0.8839 - val_loss: 0.2923 - val_accuracy: 0.8800\n",
      "Epoch 4/20\n",
      "1411/1411 [==============================] - 28s 20ms/step - loss: 0.2366 - accuracy: 0.9027 - val_loss: 0.2767 - val_accuracy: 0.8858\n",
      "Epoch 5/20\n",
      "1411/1411 [==============================] - 28s 20ms/step - loss: 0.2078 - accuracy: 0.9152 - val_loss: 0.2734 - val_accuracy: 0.8911\n",
      "Epoch 6/20\n",
      "1411/1411 [==============================] - 28s 20ms/step - loss: 0.1741 - accuracy: 0.9308 - val_loss: 0.2742 - val_accuracy: 0.8958\n",
      "Epoch 7/20\n",
      "1411/1411 [==============================] - 28s 20ms/step - loss: 0.1481 - accuracy: 0.9417 - val_loss: 0.2853 - val_accuracy: 0.8996\n",
      "Epoch 8/20\n",
      "1411/1411 [==============================] - 28s 20ms/step - loss: 0.1245 - accuracy: 0.9520 - val_loss: 0.2958 - val_accuracy: 0.9032\n",
      "Epoch 9/20\n",
      "1411/1411 [==============================] - 28s 20ms/step - loss: 0.1015 - accuracy: 0.9610 - val_loss: 0.3253 - val_accuracy: 0.9051\n",
      "Epoch 00009: early stopping\n"
     ]
    }
   ],
   "source": [
    "history_bpe8k, model_bpe8k = train_LSTM_model(model_bpe8k,20, 64, b8kx_train, b8ky_train, b8kx_val, b8ky_val)"
   ]
  },
  {
   "cell_type": "code",
   "execution_count": 76,
   "id": "aggressive-bronze",
   "metadata": {},
   "outputs": [
    {
     "name": "stdout",
     "output_type": "stream",
     "text": [
      "706/706 - 4s - loss: 0.5940 - accuracy: 0.8310\n",
      "[0.5940221548080444, 0.8309709429740906]\n"
     ]
    }
   ],
   "source": [
    "print(show_result(model_bpe8k, b8kx_test, b8ky_test))"
   ]
  },
  {
   "cell_type": "markdown",
   "id": "terminal-mystery",
   "metadata": {},
   "source": [
    "bpe12k model"
   ]
  },
  {
   "cell_type": "code",
   "execution_count": 77,
   "id": "protective-capability",
   "metadata": {},
   "outputs": [
    {
     "name": "stdout",
     "output_type": "stream",
     "text": [
      "Model: \"sequential_6\"\n",
      "_________________________________________________________________\n",
      "Layer (type)                 Output Shape              Param #   \n",
      "=================================================================\n",
      "embedding_6 (Embedding)      (None, None, 32)          256000    \n",
      "_________________________________________________________________\n",
      "lstm_6 (LSTM)                (None, 128)               82432     \n",
      "_________________________________________________________________\n",
      "dense_6 (Dense)              (None, 1)                 129       \n",
      "=================================================================\n",
      "Total params: 338,561\n",
      "Trainable params: 338,561\n",
      "Non-trainable params: 0\n",
      "_________________________________________________________________\n"
     ]
    }
   ],
   "source": [
    "model_bpe12k=make_LSTM_model(32, 128, 8000)"
   ]
  },
  {
   "cell_type": "code",
   "execution_count": 78,
   "id": "parental-example",
   "metadata": {},
   "outputs": [
    {
     "name": "stdout",
     "output_type": "stream",
     "text": [
      "Epoch 1/20\n",
      "1411/1411 [==============================] - 30s 20ms/step - loss: 0.4766 - accuracy: 0.7579 - val_loss: 0.3304 - val_accuracy: 0.8573\n",
      "Epoch 2/20\n",
      "1411/1411 [==============================] - 28s 20ms/step - loss: 0.3117 - accuracy: 0.8683 - val_loss: 0.3066 - val_accuracy: 0.8694\n",
      "Epoch 3/20\n",
      "1411/1411 [==============================] - 28s 20ms/step - loss: 0.2705 - accuracy: 0.8852 - val_loss: 0.2867 - val_accuracy: 0.8803\n",
      "Epoch 4/20\n",
      "1411/1411 [==============================] - 28s 20ms/step - loss: 0.2384 - accuracy: 0.8998 - val_loss: 0.2782 - val_accuracy: 0.8869\n",
      "Epoch 5/20\n",
      "1411/1411 [==============================] - 28s 20ms/step - loss: 0.2059 - accuracy: 0.9156 - val_loss: 0.2742 - val_accuracy: 0.8916\n",
      "Epoch 6/20\n",
      "1411/1411 [==============================] - 28s 20ms/step - loss: 0.1739 - accuracy: 0.9294 - val_loss: 0.2761 - val_accuracy: 0.8958\n",
      "Epoch 7/20\n",
      "1411/1411 [==============================] - 28s 20ms/step - loss: 0.1448 - accuracy: 0.9435 - val_loss: 0.3040 - val_accuracy: 0.8962\n",
      "Epoch 8/20\n",
      "1411/1411 [==============================] - 28s 20ms/step - loss: 0.1212 - accuracy: 0.9539 - val_loss: 0.3052 - val_accuracy: 0.9032\n",
      "Epoch 9/20\n",
      "1411/1411 [==============================] - 28s 20ms/step - loss: 0.0924 - accuracy: 0.9661 - val_loss: 0.3295 - val_accuracy: 0.9024\n",
      "Epoch 00009: early stopping\n"
     ]
    }
   ],
   "source": [
    "history_bpe12k, model_bpe12k = train_LSTM_model(model_bpe12k, 20, 64, b12kx_train, b12ky_train, b12kx_val, b12ky_val)"
   ]
  },
  {
   "cell_type": "code",
   "execution_count": 79,
   "id": "collected-courtesy",
   "metadata": {},
   "outputs": [
    {
     "name": "stdout",
     "output_type": "stream",
     "text": [
      "706/706 - 4s - loss: 0.5808 - accuracy: 0.8253\n",
      "[0.5808307528495789, 0.825256884098053]\n"
     ]
    }
   ],
   "source": [
    "print(show_result(model_bpe12k, b12kx_test, b12ky_test))"
   ]
  },
  {
   "cell_type": "markdown",
   "id": "incoming-likelihood",
   "metadata": {},
   "source": [
    "### 학습과정 시각화\n",
    "---"
   ]
  },
  {
   "cell_type": "code",
   "execution_count": 80,
   "id": "impaired-advice",
   "metadata": {},
   "outputs": [],
   "source": [
    "def draw_graph(model_history, param):\n",
    "    # summarize history for accuracy\n",
    "    plt.plot(model_history.history['accuracy'])\n",
    "    plt.plot(model_history.history['val_accuracy'])\n",
    "    plt.title('{}_accuracy'.format(param))\n",
    "    plt.ylabel('accuracy')\n",
    "    plt.xlabel('epoch')\n",
    "    plt.legend(['train', 'val'], loc='upper left')\n",
    "    plt.show()\n",
    "    # summarize history for loss\n",
    "    plt.plot(model_history.history['loss'])\n",
    "    plt.plot(model_history.history['val_loss'])\n",
    "    plt.title('{}_loss'.format(param))\n",
    "    plt.ylabel('loss')\n",
    "    plt.xlabel('epoch')\n",
    "    plt.legend(['train', 'val'], loc='upper left')\n",
    "    plt.show()"
   ]
  },
  {
   "cell_type": "code",
   "execution_count": 81,
   "id": "published-leave",
   "metadata": {},
   "outputs": [
    {
     "data": {
      "image/png": "[encoded data removed]",
      "text/plain": [
       "<Figure size 432x288 with 1 Axes>"
      ]
     },
     "metadata": {
      "needs_background": "light"
     },
     "output_type": "display_data"
    },
    {
     "data": {
      "image/png": "[encoded data removed]",
      "text/plain": [
       "<Figure size 432x288 with 1 Axes>"
      ]
     },
     "metadata": {
      "needs_background": "light"
     },
     "output_type": "display_data"
    }
   ],
   "source": [
    "draw_graph(history_unigram8k, 'unigram4k')"
   ]
  },
  {
   "cell_type": "code",
   "execution_count": 82,
   "id": "alike-seller",
   "metadata": {},
   "outputs": [
    {
     "data": {
      "image/png": "[encoded data removed]",
      "text/plain": [
       "<Figure size 432x288 with 1 Axes>"
      ]
     },
     "metadata": {
      "needs_background": "light"
     },
     "output_type": "display_data"
    },
    {
     "data": {
      "image/png": "[encoded data removed]",
      "text/plain": [
       "<Figure size 432x288 with 1 Axes>"
      ]
     },
     "metadata": {
      "needs_background": "light"
     },
     "output_type": "display_data"
    }
   ],
   "source": [
    "draw_graph(history_unigram8k, 'unigram8k')"
   ]
  },
  {
   "cell_type": "code",
   "execution_count": 83,
   "id": "operational-falls",
   "metadata": {},
   "outputs": [
    {
     "data": {
      "image/png": "[encoded data removed]",
      "text/plain": [
       "<Figure size 432x288 with 1 Axes>"
      ]
     },
     "metadata": {
      "needs_background": "light"
     },
     "output_type": "display_data"
    },
    {
     "data": {
      "image/png": "[encoded data removed]",
      "text/plain": [
       "<Figure size 432x288 with 1 Axes>"
      ]
     },
     "metadata": {
      "needs_background": "light"
     },
     "output_type": "display_data"
    }
   ],
   "source": [
    "draw_graph(history_unigram12k, 'unigram12k')"
   ]
  },
  {
   "cell_type": "code",
   "execution_count": 84,
   "id": "lasting-isolation",
   "metadata": {},
   "outputs": [
    {
     "data": {
      "image/png": "[encoded data removed]",
      "text/plain": [
       "<Figure size 432x288 with 1 Axes>"
      ]
     },
     "metadata": {
      "needs_background": "light"
     },
     "output_type": "display_data"
    },
    {
     "data": {
      "image/png": "[encoded data removed]",
      "text/plain": [
       "<Figure size 432x288 with 1 Axes>"
      ]
     },
     "metadata": {
      "needs_background": "light"
     },
     "output_type": "display_data"
    }
   ],
   "source": [
    "draw_graph(history_bpe4k, 'bpe4k')"
   ]
  },
  {
   "cell_type": "code",
   "execution_count": 85,
   "id": "bright-anatomy",
   "metadata": {},
   "outputs": [
    {
     "data": {
      "image/png": "[encoded data removed]",
      "text/plain": [
       "<Figure size 432x288 with 1 Axes>"
      ]
     },
     "metadata": {
      "needs_background": "light"
     },
     "output_type": "display_data"
    },
    {
     "data": {
      "image/png": "[encoded data removed]",
      "text/plain": [
       "<Figure size 432x288 with 1 Axes>"
      ]
     },
     "metadata": {
      "needs_background": "light"
     },
     "output_type": "display_data"
    }
   ],
   "source": [
    "draw_graph(history_bpe8k, 'bpe8k')"
   ]
  },
  {
   "cell_type": "code",
   "execution_count": 86,
   "id": "quality-proportion",
   "metadata": {},
   "outputs": [
    {
     "data": {
      "image/png": "[encoded data removed]",
      "text/plain": [
       "<Figure size 432x288 with 1 Axes>"
      ]
     },
     "metadata": {
      "needs_background": "light"
     },
     "output_type": "display_data"
    },
    {
     "data": {
      "image/png": "[encoded data removed]",
      "text/plain": [
       "<Figure size 432x288 with 1 Axes>"
      ]
     },
     "metadata": {
      "needs_background": "light"
     },
     "output_type": "display_data"
    }
   ],
   "source": [
    "draw_graph(history_bpe12k, 'bpe12k')"
   ]
  },
  {
   "cell_type": "code",
   "execution_count": 87,
   "id": "academic-bottom",
   "metadata": {},
   "outputs": [
    {
     "data": {
      "image/png": "[encoded data removed]",
      "text/plain": [
       "<Figure size 432x288 with 1 Axes>"
      ]
     },
     "metadata": {
      "needs_background": "light"
     },
     "output_type": "display_data"
    },
    {
     "data": {
      "image/png": "[encoded data removed]",
      "text/plain": [
       "<Figure size 432x288 with 1 Axes>"
      ]
     },
     "metadata": {
      "needs_background": "light"
     },
     "output_type": "display_data"
    }
   ],
   "source": [
    "draw_graph(history_mecab, 'konlpy')"
   ]
  },
  {
   "cell_type": "markdown",
   "id": "finite-minute",
   "metadata": {},
   "source": [
    "\n",
    "### 결과\n",
    "---\n",
    "학습한 모든 모델이 test accuracy에서 80%이상의 성능을 보였으며, vocab_size를 4000으로한 bpe를 적용한 모델의 경우 0.9를 상회하는 test accuracy를 얻을 수 있었습니다. \n",
    "\n",
    "학습 결과에서 konlpy만 다소 특이한 변화를 보였습니다만,\\\n",
    "노드의 코드가 너무 단순하고, 텐서의 모양을 바꾸는 등의 설정방식을 파악 못 했기에,\\\n",
    "제대로 되지 못 한 적용일 수도 있겠다는 생각이 듭니다.\n",
    "\n",
    "unigram과 나머지 bpe는 별 다른 차이를 보이지 못 했으며, konlpy도 비슷한 정확도에서 마무리되었습니다.\n",
    "\n",
    "\n",
    "\n",
    "### 회고\n",
    "---\n",
    "지나온 node인 영화감성분석의 lstm 모델을 구성하는데있어서 많은 부족함을 느꼈습니다.\\\n",
    "노드가 끝나도록 이해가 안 되는 부분 중에 하나는 모델에 입력하는 vocab_size가 전처리에서의 vocab_size와 무관하게 8000으로\\\n",
    "모두 작동이 되는 점이었습니다.\n",
    "\n",
    "4k나 12k에 맞게 값을 바꿔주는 시도를 했는데, 값을 줄일시 에러가 발생해서 8000으로 진행했으며, 12000의 경우에도 8000으로 작동되기에\\\n",
    "모델에 대한 추가공부의 중요성을 느낄 수 있었습니다.\n"
   ]
  }
 ],
 "metadata": {
  "kernelspec": {
   "display_name": "Python 3",
   "language": "python",
   "name": "python3"
  },
  "language_info": {
   "codemirror_mode": {
    "name": "ipython",
    "version": 3
   },
   "file_extension": ".py",
   "mimetype": "text/x-python",
   "name": "python",
   "nbconvert_exporter": "python",
   "pygments_lexer": "ipython3",
   "version": "3.7.9"
  }
 },
 "nbformat": 4,
 "nbformat_minor": 5
}
