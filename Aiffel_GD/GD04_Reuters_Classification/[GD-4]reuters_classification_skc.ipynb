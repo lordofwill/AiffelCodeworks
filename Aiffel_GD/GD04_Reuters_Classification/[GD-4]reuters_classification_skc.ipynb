{
 "cells": [
  {
   "cell_type": "markdown",
   "id": "psychological-chess",
   "metadata": {},
   "source": [
    "## 라이브러리 import\n",
    "---"
   ]
  },
  {
   "cell_type": "code",
   "execution_count": 1,
   "id": "amino-example",
   "metadata": {},
   "outputs": [],
   "source": [
    "from tensorflow.keras.datasets import reuters\n",
    "import matplotlib.pyplot as plt\n",
    "import seaborn as sns\n",
    "import numpy as np\n",
    "import pandas as pd\n",
    "\n",
    "from sklearn.feature_extraction.text import CountVectorizer\n",
    "from sklearn.feature_extraction.text import TfidfTransformer\n",
    "from sklearn.naive_bayes import MultinomialNB \n",
    "from sklearn.linear_model import LogisticRegression, SGDClassifier\n",
    "\n",
    "from sklearn.naive_bayes import ComplementNB\n",
    "from sklearn.tree import DecisionTreeClassifier\n",
    "from sklearn.ensemble import RandomForestClassifier\n",
    "from sklearn.ensemble import GradientBoostingClassifier\n",
    "from sklearn.ensemble import VotingClassifier\n",
    "from sklearn.svm import LinearSVC\n",
    "from sklearn.metrics import accuracy_score \n",
    "from sklearn.metrics import f1_score\n",
    "from sklearn.model_selection import train_test_split\n",
    "\n",
    "from sklearn.metrics import classification_report\n",
    "from sklearn.metrics import confusion_matrix\n",
    "\n",
    "from tensorflow import keras\n",
    "import tensorflow as tf\n",
    "\n",
    "import time\n",
    "import datetime"
   ]
  },
  {
   "cell_type": "markdown",
   "id": "respective-memory",
   "metadata": {},
   "source": [
    "## 데이터 가져오기\n",
    "---"
   ]
  },
  {
   "cell_type": "code",
   "execution_count": 2,
   "id": "healthy-mother",
   "metadata": {},
   "outputs": [
    {
     "name": "stderr",
     "output_type": "stream",
     "text": [
      "/opt/conda/lib/python3.7/site-packages/tensorflow/python/keras/datasets/reuters.py:148: VisibleDeprecationWarning: Creating an ndarray from ragged nested sequences (which is a list-or-tuple of lists-or-tuples-or ndarrays with different lengths or shapes) is deprecated. If you meant to do this, you must specify 'dtype=object' when creating the ndarray\n",
      "  x_train, y_train = np.array(xs[:idx]), np.array(labels[:idx])\n",
      "/opt/conda/lib/python3.7/site-packages/tensorflow/python/keras/datasets/reuters.py:149: VisibleDeprecationWarning: Creating an ndarray from ragged nested sequences (which is a list-or-tuple of lists-or-tuples-or ndarrays with different lengths or shapes) is deprecated. If you meant to do this, you must specify 'dtype=object' when creating the ndarray\n",
      "  x_test, y_test = np.array(xs[idx:]), np.array(labels[idx:])\n"
     ]
    }
   ],
   "source": [
    "(x_train, y_train), (x_test, y_test) = reuters.load_data(num_words=None, test_split=0.2)"
   ]
  },
  {
   "cell_type": "code",
   "execution_count": 3,
   "id": "informative-completion",
   "metadata": {},
   "outputs": [
    {
     "name": "stdout",
     "output_type": "stream",
     "text": [
      "훈련 샘플의 수: 8982\n",
      "테스트 샘플의 수: 2246\n"
     ]
    }
   ],
   "source": [
    "print('훈련 샘플의 수: {}'.format(len(x_train)))\n",
    "print('테스트 샘플의 수: {}'.format(len(x_test)))"
   ]
  },
  {
   "cell_type": "code",
   "execution_count": 4,
   "id": "liquid-camping",
   "metadata": {},
   "outputs": [
    {
     "name": "stdout",
     "output_type": "stream",
     "text": [
      "클래스의 수 : 46\n"
     ]
    }
   ],
   "source": [
    "num_classes = max(y_train) + 1\n",
    "print('클래스의 수 : {}'.format(num_classes))"
   ]
  },
  {
   "cell_type": "code",
   "execution_count": 5,
   "id": "biblical-finder",
   "metadata": {},
   "outputs": [
    {
     "name": "stdout",
     "output_type": "stream",
     "text": [
      "훈련용 뉴스의 최대 길이 :2376\n",
      "훈련용 뉴스의 평균 길이 :145.5398574927633\n"
     ]
    },
    {
     "data": {
      "image/png": "[encoded data removed]",
      "text/plain": [
       "<Figure size 432x288 with 1 Axes>"
      ]
     },
     "metadata": {
      "needs_background": "light"
     },
     "output_type": "display_data"
    }
   ],
   "source": [
    "print('훈련용 뉴스의 최대 길이 :{}'.format(max(len(l) for l in x_train)))\n",
    "print('훈련용 뉴스의 평균 길이 :{}'.format(sum(map(len, x_train))/len(x_train)))\n",
    "\n",
    "plt.hist([len(s) for s in x_train], bins=50)\n",
    "plt.xlabel('length of samples')\n",
    "plt.ylabel('number of samples')\n",
    "plt.show()"
   ]
  },
  {
   "cell_type": "code",
   "execution_count": 6,
   "id": "detailed-income",
   "metadata": {},
   "outputs": [],
   "source": [
    "word_index = reuters.get_word_index(path=\"reuters_word_index.json\")"
   ]
  },
  {
   "cell_type": "code",
   "execution_count": 7,
   "id": "viral-motel",
   "metadata": {},
   "outputs": [],
   "source": [
    "index_to_word = {index + 3 : word for word, index in word_index.items()}"
   ]
  },
  {
   "cell_type": "markdown",
   "id": "unnecessary-measurement",
   "metadata": {},
   "source": [
    "인덱스에 3을 더해서 뒤로 항목을 밀어놓고, <pad>, <sos>, <unk>를 추가"
   ]
  },
  {
   "cell_type": "code",
   "execution_count": 8,
   "id": "integral-brazilian",
   "metadata": {},
   "outputs": [],
   "source": [
    "for index, token in enumerate((\"<pad>\", \"<sos>\", \"<unk>\")):\n",
    "  index_to_word[index]=token"
   ]
  },
  {
   "cell_type": "code",
   "execution_count": 9,
   "id": "private-surprise",
   "metadata": {},
   "outputs": [
    {
     "data": {
      "text/plain": [
       "[1,\n",
       " 27595,\n",
       " 28842,\n",
       " 8,\n",
       " 43,\n",
       " 10,\n",
       " 447,\n",
       " 5,\n",
       " 25,\n",
       " 207,\n",
       " 270,\n",
       " 5,\n",
       " 3095,\n",
       " 111,\n",
       " 16,\n",
       " 369,\n",
       " 186,\n",
       " 90,\n",
       " 67,\n",
       " 7,\n",
       " 89,\n",
       " 5,\n",
       " 19,\n",
       " 102,\n",
       " 6,\n",
       " 19,\n",
       " 124,\n",
       " 15,\n",
       " 90,\n",
       " 67,\n",
       " 84,\n",
       " 22,\n",
       " 482,\n",
       " 26,\n",
       " 7,\n",
       " 48,\n",
       " 4,\n",
       " 49,\n",
       " 8,\n",
       " 864,\n",
       " 39,\n",
       " 209,\n",
       " 154,\n",
       " 6,\n",
       " 151,\n",
       " 6,\n",
       " 83,\n",
       " 11,\n",
       " 15,\n",
       " 22,\n",
       " 155,\n",
       " 11,\n",
       " 15,\n",
       " 7,\n",
       " 48,\n",
       " 9,\n",
       " 4579,\n",
       " 1005,\n",
       " 504,\n",
       " 6,\n",
       " 258,\n",
       " 6,\n",
       " 272,\n",
       " 11,\n",
       " 15,\n",
       " 22,\n",
       " 134,\n",
       " 44,\n",
       " 11,\n",
       " 15,\n",
       " 16,\n",
       " 8,\n",
       " 197,\n",
       " 1245,\n",
       " 90,\n",
       " 67,\n",
       " 52,\n",
       " 29,\n",
       " 209,\n",
       " 30,\n",
       " 32,\n",
       " 132,\n",
       " 6,\n",
       " 109,\n",
       " 15,\n",
       " 17,\n",
       " 12]"
      ]
     },
     "execution_count": 9,
     "metadata": {},
     "output_type": "execute_result"
    }
   ],
   "source": [
    "x_train[0]"
   ]
  },
  {
   "cell_type": "code",
   "execution_count": 10,
   "id": "parallel-sociology",
   "metadata": {},
   "outputs": [
    {
     "name": "stdout",
     "output_type": "stream",
     "text": [
      "<sos> mcgrath rentcorp said as a result of its december acquisition of space co it expects earnings per share in 1987 of 1 15 to 1 30 dlrs per share up from 70 cts in 1986 the company said pretax net should rise to nine to 10 mln dlrs from six mln dlrs in 1986 and rental operation revenues to 19 to 22 mln dlrs from 12 5 mln dlrs it said cash flow per share this year should be 2 50 to three dlrs reuter 3\n"
     ]
    }
   ],
   "source": [
    "print(' '.join([index_to_word[index] for index in x_train[0]]))"
   ]
  },
  {
   "cell_type": "markdown",
   "id": "according-recorder",
   "metadata": {},
   "source": [
    "데이터 변환"
   ]
  },
  {
   "cell_type": "code",
   "execution_count": 11,
   "id": "turkish-scanning",
   "metadata": {},
   "outputs": [],
   "source": [
    "decoded = []\n",
    "for i in range(len(x_train)):\n",
    "    t = ' '.join([index_to_word[index] for index in x_train[i]])\n",
    "    decoded.append(t)\n",
    "\n",
    "x_train = decoded"
   ]
  },
  {
   "cell_type": "code",
   "execution_count": 12,
   "id": "female-measure",
   "metadata": {},
   "outputs": [],
   "source": [
    "decoded = []\n",
    "for i in range(len(x_test)):\n",
    "    t = ' '.join([index_to_word[index] for index in x_test[i]])\n",
    "    decoded.append(t)\n",
    "\n",
    "x_test = decoded"
   ]
  },
  {
   "cell_type": "markdown",
   "id": "checked-generic",
   "metadata": {},
   "source": [
    "벡터화"
   ]
  },
  {
   "cell_type": "markdown",
   "id": "speaking-sodium",
   "metadata": {},
   "source": [
    "DTM"
   ]
  },
  {
   "cell_type": "code",
   "execution_count": 13,
   "id": "acquired-warrior",
   "metadata": {},
   "outputs": [
    {
     "name": "stdout",
     "output_type": "stream",
     "text": [
      "(8982, 26506)\n"
     ]
    }
   ],
   "source": [
    "dtmvector = CountVectorizer()\n",
    "x_train_dtm = dtmvector.fit_transform(x_train)\n",
    "print(x_train_dtm.shape)"
   ]
  },
  {
   "cell_type": "markdown",
   "id": "remarkable-japanese",
   "metadata": {},
   "source": [
    "TF-IDF"
   ]
  },
  {
   "cell_type": "code",
   "execution_count": 14,
   "id": "reverse-stanford",
   "metadata": {},
   "outputs": [
    {
     "name": "stdout",
     "output_type": "stream",
     "text": [
      "(8982, 26506)\n"
     ]
    }
   ],
   "source": [
    "tfidf_transformer = TfidfTransformer()\n",
    "tfidfv = tfidf_transformer.fit_transform(x_train_dtm)\n",
    "print(tfidfv.shape)"
   ]
  },
  {
   "cell_type": "markdown",
   "id": "technological-barrier",
   "metadata": {},
   "source": [
    "## 모델 학습\n",
    "---"
   ]
  },
  {
   "cell_type": "code",
   "execution_count": 15,
   "id": "skilled-congo",
   "metadata": {},
   "outputs": [],
   "source": [
    "x_test_dtm = dtmvector.transform(x_test) #테스트 데이터를 DTM으로 변환\n",
    "tfidfv_test = tfidf_transformer.transform(x_test_dtm) #DTM을 TF-IDF 행렬로 변환"
   ]
  },
  {
   "cell_type": "code",
   "execution_count": 16,
   "id": "christian-start",
   "metadata": {},
   "outputs": [],
   "source": [
    "#급조결과값 저장용 행렬\n",
    "bayse = []\n",
    "cnb = []\n",
    "logistic = []\n",
    "svm = []\n",
    "dtree = []\n",
    "rf = []\n",
    "gbs = []\n",
    "voting = []\n",
    "\n",
    "bayse_f = []\n",
    "cnb_f = []\n",
    "logistic_f = []\n",
    "svm_f = []\n",
    "dtree_f = []\n",
    "rf_f = []\n",
    "gbs_f = []\n",
    "voting_f = []"
   ]
  },
  {
   "cell_type": "code",
   "execution_count": 17,
   "id": "willing-immunology",
   "metadata": {},
   "outputs": [],
   "source": [
    "def train_ml(tfidfv, y_train, tfidfv_test, y_test):\n",
    "    # 나이브 베이즈 분류기 \n",
    "    mod = MultinomialNB()\n",
    "    mod.fit(tfidfv, y_train)\n",
    "    \n",
    "    mod_predicted = mod.predict(tfidfv_test) #테스트 데이터에 대한 예측\n",
    "    acc = accuracy_score(y_test, mod_predicted)\n",
    "    f1 = f1_score(y_test, mod_predicted, average='weighted')\n",
    "    print(\"나이브 베이즈 정확도: \", acc, \"    f1score: \",f1) #예측값과 실제값 비교\n",
    "    \n",
    "    bayse.append(acc) # 결과값 저장\n",
    "    bayse_f.append(f1)\n",
    "    \n",
    "    # CNB\n",
    "    cb = ComplementNB()\n",
    "    cb.fit(tfidfv, y_train)\n",
    "    \n",
    "    cb_predicted = cb.predict(tfidfv_test) #테스트 데이터에 대한 예측\n",
    "    acc = accuracy_score(y_test, cb_predicted)\n",
    "    f1 = f1_score(y_test, cb_predicted, average='weighted')\n",
    "    print(\"CNB 정확도: \", acc, \"    f1score: \",f1) #예측값과 실제값 비교    \n",
    "    cnb.append(acc)\n",
    "    cnb_f.append(f1)\n",
    "    \n",
    "    # 로지스틱 회귀 \n",
    "    lr = LogisticRegression(C=10000, penalty='l2')\n",
    "    lr.fit(tfidfv, y_train)\n",
    "\n",
    "    lr_predicted = lr.predict(tfidfv_test) #테스트 데이터에 대한 예측\n",
    "    acc = accuracy_score(y_test, lr_predicted)\n",
    "    f1 = f1_score(y_test, lr_predicted, average='weighted')\n",
    "    print(\"로지스틱 회귀 정확도: \", acc, \"    f1score: \",f1) #예측값과 실제값 비교    \n",
    "    logistic.append(acc)\n",
    "    logistic_f.append(f1)\n",
    "    \n",
    "    # 선형 서포트 벡터 머신 \n",
    "    lsvc = LinearSVC(C=1000, penalty='l1', max_iter=500, dual=False)\n",
    "    lsvc.fit(tfidfv, y_train)\n",
    "    \n",
    "    lsvc_predicted = lsvc.predict(tfidfv_test) #테스트 데이터에 대한 예측\n",
    "    acc = accuracy_score(y_test, lsvc_predicted)\n",
    "    f1 = f1_score(y_test, lsvc_predicted, average='weighted')\n",
    "    print(\"SVM 정확도: \", acc, \"    f1score: \",f1) #예측값과 실제값 비교    \n",
    "    svm.append(acc)\n",
    "    svm_f.append(f1)\n",
    "    \n",
    "    # 결정 트리(Decision Tree) \n",
    "    tree = DecisionTreeClassifier(max_depth=10, random_state=0)\n",
    "    tree.fit(tfidfv, y_train)\n",
    "    \n",
    "    tree_predicted = tree.predict(tfidfv_test) #테스트 데이터에 대한 예측\n",
    "    acc = accuracy_score(y_test, tree_predicted)\n",
    "    f1 = f1_score(y_test, tree_predicted, average='weighted')\n",
    "    print(\"결정 트리 정확도: \", acc, \"    f1score: \",f1) #예측값과 실제값 비교    \n",
    "    dtree.append(acc)\n",
    "    dtree_f.append(f1)\n",
    "    \n",
    "    # 랜덤 포레스트(Random Forest)\n",
    "    forest = RandomForestClassifier(n_estimators=5, random_state=0)\n",
    "    forest.fit(tfidfv, y_train)\n",
    "    \n",
    "    forest_predicted = forest.predict(tfidfv_test) #테스트 데이터에 대한 예측\n",
    "    acc = accuracy_score(y_test, forest_predicted)\n",
    "    f1 = f1_score(y_test, forest_predicted, average='weighted')\n",
    "    print(\"랜덤 포레스트 정확도: \", acc, \"    f1score: \",f1) #예측값과 실제값 비교    \n",
    "    rf.append(acc)\n",
    "    rf_f.append(f1)\n",
    "    \n",
    "    # 그래디언트 부스팅 트리(GradientBoostingClassifier)\n",
    "    grbt = GradientBoostingClassifier(random_state=0, verbose=3) # verbose=3\n",
    "    grbt.fit(tfidfv, y_train)\n",
    "\n",
    "    grbt_predicted = grbt.predict(tfidfv_test) #테스트 데이터에 대한 예측\n",
    "    acc = accuracy_score(y_test, grbt_predicted)\n",
    "    f1 = f1_score(y_test, grbt_predicted, average='weighted')\n",
    "    print(\"그래디언트 부스팅 트리 정확도: \", acc, \"    f1score: \",f1) #예측값과 실제값 비교    \n",
    "    gbs.append(acc)\n",
    "    gbs_f.append(f1)\n",
    "    \n",
    "    # 보팅(Voting)\n",
    "    voting_classifier = VotingClassifier(estimators=[\n",
    "         ('lr', LogisticRegression(C=10000, penalty='l2')),\n",
    "        ('cb', ComplementNB()),\n",
    "        ('grbt', GradientBoostingClassifier(random_state=0))\n",
    "        ], voting='soft', n_jobs=-1)\n",
    "    voting_classifier.fit(tfidfv, y_train)\n",
    "    \n",
    "    voting_classifier_predicted = voting_classifier.predict(tfidfv_test) #테스트 데이터에 대한 예측\n",
    "    acc = accuracy_score(y_test, voting_classifier_predicted)\n",
    "    f1 = f1_score(y_test, voting_classifier_predicted, average='weighted')\n",
    "    print(\"보팅 정확도: \", acc, \"    f1score: \",f1) #예측값과 실제값 비교    \n",
    "    voting.append(acc)\n",
    "    voting_f.append(f1)\n",
    "    \n",
    "    print(\"보팅 정확도:\", accuracy_score(y_test, voting_classifier_predicted)) #예측값과 실제값 비교\n",
    "\n",
    "    \n",
    "    return mod, cb, lr, lsvc, tree, forest, grbt, voting_classifier"
   ]
  },
  {
   "cell_type": "code",
   "execution_count": 18,
   "id": "warming-hearing",
   "metadata": {},
   "outputs": [
    {
     "name": "stdout",
     "output_type": "stream",
     "text": [
      "나이브 베이즈 정확도:  0.5997328584149599     f1score:  0.5045670886188423\n",
      "CNB 정확도:  0.7649154051647373     f1score:  0.7346534179503126\n"
     ]
    },
    {
     "name": "stderr",
     "output_type": "stream",
     "text": [
      "/opt/conda/lib/python3.7/site-packages/sklearn/linear_model/_logistic.py:762: ConvergenceWarning: lbfgs failed to converge (status=1):\n",
      "STOP: TOTAL NO. of ITERATIONS REACHED LIMIT.\n",
      "\n",
      "Increase the number of iterations (max_iter) or scale the data as shown in:\n",
      "    https://scikit-learn.org/stable/modules/preprocessing.html\n",
      "Please also refer to the documentation for alternative solver options:\n",
      "    https://scikit-learn.org/stable/modules/linear_model.html#logistic-regression\n",
      "  extra_warning_msg=_LOGISTIC_SOLVER_CONVERGENCE_MSG)\n"
     ]
    },
    {
     "name": "stdout",
     "output_type": "stream",
     "text": [
      "로지스틱 회귀 정확도:  0.813446126447017     f1score:  0.8079349566211766\n"
     ]
    },
    {
     "name": "stderr",
     "output_type": "stream",
     "text": [
      "/opt/conda/lib/python3.7/site-packages/sklearn/svm/_base.py:975: ConvergenceWarning: Liblinear failed to converge, increase the number of iterations.\n",
      "  \"the number of iterations.\", ConvergenceWarning)\n"
     ]
    },
    {
     "name": "stdout",
     "output_type": "stream",
     "text": [
      "SVM 정확도:  0.7831700801424755     f1score:  0.777981986827129\n",
      "결정 트리 정확도:  0.6211041852181657     f1score:  0.5769283128518846\n",
      "랜덤 포레스트 정확도:  0.6544968833481746     f1score:  0.6225909375608356\n",
      "      Iter       Train Loss   Remaining Time \n",
      "         1       12845.1851           18.92m\n",
      "         2   689466281.7264           18.82m\n",
      "         3 6884613407215.1387           18.68m\n",
      "         4 5935818824582923550720.0000           18.50m\n",
      "         5 9040644020576697454476775298309462042959687372080133879675061827235923374847613060426279764553817024942513812241979907601155443654656.0000           18.32m\n",
      "         6 9040644020576697454476775298309462042959687372080133879675061827235923374847613060426279764553817024942513812241979907601155443654656.0000           18.15m\n",
      "         7 9040644020576697454476775298309462042959687372080133879675061827235923374847613060426279764553817024942513812241979907601155443654656.0000           17.96m\n",
      "         8 9040644020576697454476775298309462042959687372080133879675061827235923374847613060426279764553817024942513812241979907601155443654656.0000           17.77m\n",
      "         9 9040644020576697454476775298309462042959687372080133879675061827235923374847613060426279764553817024942513812241979907601155443654656.0000           17.60m\n",
      "        10 9040644020576697454476775298309462042959687372080133879675061827235923374847613060426279764553817024942513812241979907601155443654656.0000           17.41m\n",
      "        11 9040644020576697454476775298309462042959687372080133879675061827235923374847613060426279764553817024942513812241979907601155443654656.0000           17.20m\n",
      "        12 9040644020576697454476775298309462042959687372080133879675061827235923374847613060426279764553817024942513812241979907601155443654656.0000           17.01m\n",
      "        13 9040644020576697454476775298309462042959687372080133879675061827235923374847613060426279764553817024942513812241979907601155443654656.0000           16.82m\n",
      "        14 9040644020576697454476775298309462042959687372080133879675061827235923374847613060426279764553817024942513812241979907601155443654656.0000           16.63m\n",
      "        15 9040644020576697454476775298309462042959687372080133879675061827235923374847613060426279764553817024942513812241979907601155443654656.0000           16.42m\n",
      "        16 9040644020576697454476775298309462042959687372080133879675061827235923374847613060426279764553817024942513812241979907601155443654656.0000           16.23m\n",
      "        17 9040644020576697454476775298309462042959687372080133879675061827235923374847613060426279764553817024942513812241979907601155443654656.0000           16.03m\n",
      "        18 9040644020576697454476775298309462042959687372080133879675061827235923374847613060426279764553817024942513812241979907601155443654656.0000           15.83m\n",
      "        19 9040644020576697454476775298309462042959687372080133879675061827235923374847613060426279764553817024942513812241979907601155443654656.0000           15.64m\n",
      "        20 9040644020576697454476775298309462042959687372080133879675061827235923374847613060426279764553817024942513812241979907601155443654656.0000           15.44m\n",
      "        21 9040644020576697454476775298309462042959687372080133879675061827235923374847613060426279764553817024942513812241979907601155443654656.0000           15.24m\n",
      "        22 9040644020576697454476775298309462042959687372080133879675061827235923374847613060426279764553817024942513812241979907601155443654656.0000           15.05m\n",
      "        23 9040644020576697454476775298309462042959687372080133879675061827235923374847613060426279764553817024942513812241979907601155443654656.0000           14.85m\n",
      "        24 9040644020576697454476775298309462042959687372080133879675061827235923374847613060426279764553817024942513812241979907601155443654656.0000           14.66m\n",
      "        25 71276538223797627407516241100862978529530963044983872457904873785026599868454939389911852427245548475410496325767775571272401790294044479567429632.0000           14.47m\n",
      "        26 71276538223797627407516241100862978529530963044983872457904873785026599868454939389911852427245548475410496325767775571272401790294044479567429632.0000           14.27m\n",
      "        27 71276538223797627407516241100862978529530963044983872457904873785026599868454939389911852427245548475410496325767775571272401790294044479567429632.0000           14.08m\n",
      "        28 71276538223797627407516241100862978529530963044983872457904873785026599868454939389911852427245548475410496325767775571272401790294044479567429632.0000           13.88m\n",
      "        29 71276538223797627407516241100862978529530963044983872457904873785026599868454939389911852427245548475410496325767775571272401790294044479567429632.0000           13.69m\n",
      "        30 71276538223797627407516241100862978529530963044983872457904873785026599868454939389911852427245548475410496325767775571272401790294044479567429632.0000           13.50m\n",
      "        31 71276538223797627407516241100862978529530963044983872457904873785026599868454939389911852427245548475410496325767775571272401790294044479567429632.0000           13.31m\n",
      "        32 71276538223797627407516241100862978529530963044983872457904873785026599868454939389911852427245548475410496325767775571272401790294044479567429632.0000           13.12m\n",
      "        33 71276538223797627407516241100862978529530963044983872457904873785026599868454939389911852427245548475410496325767775571272401790294044479567429632.0000           12.93m\n",
      "        34 71276538223797627407516241100862978529530963044983872457904873785026599868454939389911852427245548475410496325767775571272401790294044479567429632.0000           12.74m\n",
      "        35 71276538223797627407516241100862978529530963044983872457904873785026599868454939389911852427245548475410496325767775571272401790294044479567429632.0000           12.56m\n",
      "        36 71276538223797627407516241100862978529530963044983872457904873785026599868454939389911852427245548475410496325767775571272401790294044479567429632.0000           12.37m\n",
      "        37 71276538223797627407516241100862978529530963044983872457904873785026599868454939389911852427245548475410496325767775571272401790294044479567429632.0000           12.17m\n",
      "        38 71276538223797627407516241100862978529530963044983872457904873785026599868454939389911852427245548475410496325767775571272401790294044479567429632.0000           11.98m\n",
      "        39 71276538223797627407516241100862978529530963044983872457904873785026599868454939389911852427245548475410496325767775571272401790294044479567429632.0000           11.79m\n",
      "        40 71276538223797627407516241100862978529530963044983872457904873785026599868454939389911852427245548475410496325767775571272401790294044479567429632.0000           11.60m\n",
      "        41 71276538223797627407516241100862978529530963044983872457904873785026599868454939389911852427245548475410496325767775571272401790294044479567429632.0000           11.40m\n",
      "        42 71276538223797627407516241100862978529530963044983872457904873785026599868454939389911852427245548475410496325767775571272401790294044479567429632.0000           11.21m\n",
      "        43 71276538223797627407516241100862978529530963044983872457904873785026599868454939389911852427245548475410496325767775571272401790294044479567429632.0000           11.02m\n",
      "        44 71276538223797627407516241100862978529530963044983872457904873785026599868454939389911852427245548475410496325767775571272401790294044479567429632.0000           10.82m\n",
      "        45 71276538223797627407516241100862978529530963044983872457904873785026599868454939389911852427245548475410496325767775571272401790294044479567429632.0000           10.63m\n",
      "        46 71276538223797627407516241100862978529530963044983872457904873785026599868454939389911852427245548475410496325767775571272401790294044479567429632.0000           10.44m\n",
      "        47 71276538223797627407516241100862978529530963044983872457904873785026599868454939389911852427245548475410496325767775571272401790294044479567429632.0000           10.25m\n",
      "        48 71276538223797627407516241100862978529530963044983872457904873785026599868454939389911852427245548475410496325767775571272401790294044479567429632.0000           10.06m\n",
      "        49 71276538223797627407516241100862978529530963044983872457904873785026599868454939389911852427245548475410496325767775571272401790294044479567429632.0000            9.86m\n"
     ]
    },
    {
     "name": "stdout",
     "output_type": "stream",
     "text": [
      "        50 71276538223797627407516241100862978529530963044983872457904873785026599868454939389911852427245548475410496325767775571272401790294044479567429632.0000            9.67m\n",
      "        51 71276538223797627407516241100862978529530963044983872457904873785026599868454939389911852427245548475410496325767775571272401790294044479567429632.0000            9.48m\n",
      "        52 71276538223797627407516241100862978529530963044983872457904873785026599868454939389911852427245548475410496325767775571272401790294044479567429632.0000            9.28m\n",
      "        53 71276538223797627407516241100862978529530963044983872457904873785026599868454939389911852427245548475410496325767775571272401790294044479567429632.0000            9.09m\n",
      "        54 71276538223797627407516241100862978529530963044983872457904873785026599868454939389911852427245548475410496325767775571272401790294044479567429632.0000            8.90m\n",
      "        55 71276538223797627407516241100862978529530963044983872457904873785026599868454939389911852427245548475410496325767775571272401790294044479567429632.0000            8.70m\n",
      "        56 71276538223797627407516241100862978529530963044983872457904873785026599868454939389911852427245548475410496325767775571272401790294044479567429632.0000            8.51m\n",
      "        57 71276538223797627407516241100862978529530963044983872457904873785026599868454939389911852427245548475410496325767775571272401790294044479567429632.0000            8.32m\n",
      "        58 71276538223797627407516241100862978529530963044983872457904873785026599868454939389911852427245548475410496325767775571272401790294044479567429632.0000            8.12m\n",
      "        59 71276538223797627407516241100862978529530963044983872457904873785026599868454939389911852427245548475410496325767775571272401790294044479567429632.0000            7.93m\n",
      "        60 71276538223797627407516241100862978529530963044983872457904873785026599868454939389911852427245548475410496325767775571272401790294044479567429632.0000            7.74m\n",
      "        61 71276538223797627407516241100862978529530963044983872457904873785026599868454939389911852427245548475410496325767775571272401790294044479567429632.0000            7.54m\n",
      "        62 71276538223797627407516241100862978529530963044983872457904873785026599868454939389911852427245548475410496325767775571272401790294044479567429632.0000            7.35m\n",
      "        63 71276538223797627407516241100862978529530963044983872457904873785026599868454939389911852427245548475410496325767775571272401790294044479567429632.0000            7.16m\n",
      "        64 71276538223797627407516241100862978529530963044983872457904873785026599868454939389911852427245548475410496325767775571272401790294044479567429632.0000            6.96m\n",
      "        65 71276538223797627407516241100862978529530963044983872457904873785026599868454939389911852427245548475410496325767775571272401790294044479567429632.0000            6.77m\n",
      "        66 71276538223797627407516241100862978529530963044983872457904873785026599868454939389911852427245548475410496325767775571272401790294044479567429632.0000            6.58m\n",
      "        67 71276538223797627407516241100862978529530963044983872457904873785026599868454939389911852427245548475410496325767775571272401790294044479567429632.0000            6.38m\n",
      "        68 71276538223797627407516241100862978529530963044983872457904873785026599868454939389911852427245548475410496325767775571272401790294044479567429632.0000            6.19m\n",
      "        69 71276538223797627407516241100862978529530963044983872457904873785026599868454939389911852427245548475410496325767775571272401790294044479567429632.0000            6.00m\n",
      "        70 71276538223797627407516241100862978529530963044983872457904873785026599868454939389911852427245548475410496325767775571272401790294044479567429632.0000            5.80m\n",
      "        71 71276538223797627407516241100862978529530963044983872457904873785026599868454939389911852427245548475410496325767775571272401790294044479567429632.0000            5.61m\n",
      "        72 71276538223797627407516241100862978529530963044983872457904873785026599868454939389911852427245548475410496325767775571272401790294044479567429632.0000            5.41m\n",
      "        73 71276538223797627407516241100862978529530963044983872457904873785026599868454939389911852427245548475410496325767775571272401790294044479567429632.0000            5.22m\n",
      "        74 71276538223797627407516241100862978529530963044983872457904873785026599868454939389911852427245548475410496325767775571272401790294044479567429632.0000            5.03m\n",
      "        75 71276538223797627407516241100862978529530963044983872457904873785026599868454939389911852427245548475410496325767775571272401790294044479567429632.0000            4.83m\n",
      "        76 71276538223797627407516241100862978529530963044983872457904873785026599868454939389911852427245548475410496325767775571272401790294044479567429632.0000            4.64m\n",
      "        77 71276538223797627407516241100862978529530963044983872457904873785026599868454939389911852427245548475410496325767775571272401790294044479567429632.0000            4.45m\n",
      "        78 71276538223797627407516241100862978529530963044983872457904873785026599868454939389911852427245548475410496325767775571272401790294044479567429632.0000            4.25m\n",
      "        79 71276538223797627407516241100862978529530963044983872457904873785026599868454939389911852427245548475410496325767775571272401790294044479567429632.0000            4.06m\n",
      "        80 71276538223797627407516241100862978529530963044983872457904873785026599868454939389911852427245548475410496325767775571272401790294044479567429632.0000            3.87m\n",
      "        81 71276538223797627407516241100862978529530963044983872457904873785026599868454939389911852427245548475410496325767775571272401790294044479567429632.0000            3.67m\n",
      "        82 71276538223797627407516241100862978529530963044983872457904873785026599868454939389911852427245548475410496325767775571272401790294044479567429632.0000            3.48m\n",
      "        83 71276538223797627407516241100862978529530963044983872457904873785026599868454939389911852427245548475410496325767775571272401790294044479567429632.0000            3.29m\n",
      "        84 71276538223797627407516241100862978529530963044983872457904873785026599868454939389911852427245548475410496325767775571272401790294044479567429632.0000            3.09m\n",
      "        85 71276538223797627407516241100862978529530963044983872457904873785026599868454939389911852427245548475410496325767775571272401790294044479567429632.0000            2.90m\n",
      "        86 71276538223797627407516241100862978529530963044983872457904873785026599868454939389911852427245548475410496325767775571272401790294044479567429632.0000            2.71m\n",
      "        87 71276538223797627407516241100862978529530963044983872457904873785026599868454939389911852427245548475410496325767775571272401790294044479567429632.0000            2.51m\n",
      "        88 71276538223797627407516241100862978529530963044983872457904873785026599868454939389911852427245548475410496325767775571272401790294044479567429632.0000            2.32m\n",
      "        89 71276538223797627407516241100862978529530963044983872457904873785026599868454939389911852427245548475410496325767775571272401790294044479567429632.0000            2.13m\n",
      "        90 71276538223797627407516241100862978529530963044983872457904873785026599868454939389911852427245548475410496325767775571272401790294044479567429632.0000            1.93m\n",
      "        91 71276538223797627407516241100862978529530963044983872457904873785026599868454939389911852427245548475410496325767775571272401790294044479567429632.0000            1.74m\n",
      "        92 71276538223797627407516241100862978529530963044983872457904873785026599868454939389911852427245548475410496325767775571272401790294044479567429632.0000            1.55m\n",
      "        93 71276538223797627407516241100862978529530963044983872457904873785026599868454939389911852427245548475410496325767775571272401790294044479567429632.0000            1.35m\n",
      "        94 71276538223797627407516241100862978529530963044983872457904873785026599868454939389911852427245548475410496325767775571272401790294044479567429632.0000            1.16m\n",
      "        95 71276538223797627407516241100862978529530963044983872457904873785026599868454939389911852427245548475410496325767775571272401790294044479567429632.0000           58.01s\n"
     ]
    },
    {
     "name": "stdout",
     "output_type": "stream",
     "text": [
      "        96 71276538223797627407516241100862978529530963044983872457904873785026599868454939389911852427245548475410496325767775571272401790294044479567429632.0000           46.41s\n",
      "        97 71276538223797627407516241100862978529530963044983872457904873785026599868454939389911852427245548475410496325767775571272401790294044479567429632.0000           34.81s\n",
      "        98 71276538223797627407516241100862978529530963044983872457904873785026599868454939389911852427245548475410496325767775571272401790294044479567429632.0000           23.21s\n",
      "        99 71276538223797627407516241100862978529530963044983872457904873785026599868454939389911852427245548475410496325767775571272401790294044479567429632.0000           11.60s\n",
      "       100 71276538223797627407516241100862978529530963044983872457904873785026599868454939389911852427245548475410496325767775571272401790294044479567429632.0000            0.00s\n",
      "그래디언트 부스팅 트리 정확도:  0.7702582368655387     f1score:  0.7641672650539437\n",
      "보팅 정확도:  0.8187889581478184     f1score:  0.8147231278247327\n",
      "보팅 정확도: 0.8187889581478184\n"
     ]
    }
   ],
   "source": [
    "mod, cb, lr, lsvc, tree, forest, grbt, voting_classifier = train_ml(tfidfv, y_train, tfidfv_test, y_test)"
   ]
  },
  {
   "cell_type": "markdown",
   "id": "sound-horror",
   "metadata": {},
   "source": [
    "### 단어 5000개 사용"
   ]
  },
  {
   "cell_type": "code",
   "execution_count": 19,
   "id": "social-vaccine",
   "metadata": {},
   "outputs": [
    {
     "name": "stderr",
     "output_type": "stream",
     "text": [
      "/opt/conda/lib/python3.7/site-packages/tensorflow/python/keras/datasets/reuters.py:148: VisibleDeprecationWarning: Creating an ndarray from ragged nested sequences (which is a list-or-tuple of lists-or-tuples-or ndarrays with different lengths or shapes) is deprecated. If you meant to do this, you must specify 'dtype=object' when creating the ndarray\n",
      "  x_train, y_train = np.array(xs[:idx]), np.array(labels[:idx])\n",
      "/opt/conda/lib/python3.7/site-packages/tensorflow/python/keras/datasets/reuters.py:149: VisibleDeprecationWarning: Creating an ndarray from ragged nested sequences (which is a list-or-tuple of lists-or-tuples-or ndarrays with different lengths or shapes) is deprecated. If you meant to do this, you must specify 'dtype=object' when creating the ndarray\n",
      "  x_test, y_test = np.array(xs[idx:]), np.array(labels[idx:])\n"
     ]
    }
   ],
   "source": [
    "(x_train_5k, y_train_5k), (x_test_5k, y_test_5k) = reuters.load_data(num_words=5000, test_split=0.2)"
   ]
  },
  {
   "cell_type": "code",
   "execution_count": 20,
   "id": "alleged-incidence",
   "metadata": {},
   "outputs": [],
   "source": [
    "decoded = []\n",
    "for i in range(len(x_train_5k)):\n",
    "    t = ' '.join([index_to_word[index] for index in x_train_5k[i]])\n",
    "    decoded.append(t)\n",
    "\n",
    "x_train_5k = decoded"
   ]
  },
  {
   "cell_type": "code",
   "execution_count": 21,
   "id": "diverse-minute",
   "metadata": {},
   "outputs": [],
   "source": [
    "decoded = []\n",
    "for i in range(len(x_test_5k)):\n",
    "    t = ' '.join([index_to_word[index] for index in x_test_5k[i]])\n",
    "    decoded.append(t)\n",
    "\n",
    "x_test_5k = decoded"
   ]
  },
  {
   "cell_type": "code",
   "execution_count": 22,
   "id": "nasty-evening",
   "metadata": {
    "scrolled": true
   },
   "outputs": [
    {
     "name": "stdout",
     "output_type": "stream",
     "text": [
      "(8982, 4867)\n"
     ]
    }
   ],
   "source": [
    "dtmvector = CountVectorizer()\n",
    "x_train_dtm_5k = dtmvector.fit_transform(x_train_5k)\n",
    "print(x_train_dtm_5k.shape)"
   ]
  },
  {
   "cell_type": "code",
   "execution_count": 23,
   "id": "animal-dublin",
   "metadata": {},
   "outputs": [
    {
     "name": "stdout",
     "output_type": "stream",
     "text": [
      "(8982, 4867)\n"
     ]
    }
   ],
   "source": [
    "tfidf_transformer = TfidfTransformer()\n",
    "tfidfv_5k = tfidf_transformer.fit_transform(x_train_dtm_5k)\n",
    "print(tfidfv_5k.shape)"
   ]
  },
  {
   "cell_type": "code",
   "execution_count": 24,
   "id": "alien-shelf",
   "metadata": {},
   "outputs": [],
   "source": [
    "x_test_dtm_5k = dtmvector.transform(x_test_5k) # 테스트 데이터를 DTM으로 변환\n",
    "tfidfv_test_5k = tfidf_transformer.transform(x_test_dtm_5k) # DTM을 TF-IDF 행렬로 변환"
   ]
  },
  {
   "cell_type": "code",
   "execution_count": 25,
   "id": "hollywood-nickel",
   "metadata": {},
   "outputs": [
    {
     "name": "stdout",
     "output_type": "stream",
     "text": [
      "나이브 베이즈 정확도:  0.6731967943009796     f1score:  0.6012501291711391\n",
      "CNB 정확도:  0.7707034728406055     f1score:  0.7458990404916549\n"
     ]
    },
    {
     "name": "stderr",
     "output_type": "stream",
     "text": [
      "/opt/conda/lib/python3.7/site-packages/sklearn/linear_model/_logistic.py:762: ConvergenceWarning: lbfgs failed to converge (status=1):\n",
      "STOP: TOTAL NO. of ITERATIONS REACHED LIMIT.\n",
      "\n",
      "Increase the number of iterations (max_iter) or scale the data as shown in:\n",
      "    https://scikit-learn.org/stable/modules/preprocessing.html\n",
      "Please also refer to the documentation for alternative solver options:\n",
      "    https://scikit-learn.org/stable/modules/linear_model.html#logistic-regression\n",
      "  extra_warning_msg=_LOGISTIC_SOLVER_CONVERGENCE_MSG)\n"
     ]
    },
    {
     "name": "stdout",
     "output_type": "stream",
     "text": [
      "로지스틱 회귀 정확도:  0.8058771148708815     f1score:  0.7994583667437475\n"
     ]
    },
    {
     "name": "stderr",
     "output_type": "stream",
     "text": [
      "/opt/conda/lib/python3.7/site-packages/sklearn/svm/_base.py:975: ConvergenceWarning: Liblinear failed to converge, increase the number of iterations.\n",
      "  \"the number of iterations.\", ConvergenceWarning)\n"
     ]
    },
    {
     "name": "stdout",
     "output_type": "stream",
     "text": [
      "SVM 정확도:  0.7671415850400712     f1score:  0.7624867127418774\n",
      "결정 트리 정확도:  0.6179875333926982     f1score:  0.5729970881280324\n",
      "랜덤 포레스트 정확도:  0.701246660730187     f1score:  0.6770217603524399\n",
      "      Iter       Train Loss   Remaining Time \n",
      "         1       13200.9090           16.54m\n",
      "         2 19141531432.3860           16.39m\n",
      "         3 1018136056482137345428864037762575643679300980036667356656533462569269067776.0000           16.25m\n",
      "         4 5793438208146438552371750463374243580454084126740516228669142075250525372030044080110043136.0000           16.11m\n",
      "         5 3979630484381169793867261128601856110593550227404752540847489843154493525639763256294740889013872088305157670725524817116093080321688237768704.0000           15.98m\n",
      "         6 3979630484381169793867261128601856110593550227404752540847489843154493525639763256294740889013872088305157670725524817116093080321688237768704.0000           15.82m\n",
      "         7 3979630484381169793867261128601856110593550227404752540847489843154493525639763256294740889013872088305157670725524817116093080321688237768704.0000           15.65m\n",
      "         8 3979630484381169793867261128601856110593550227404752540847489843154493525639763256294740889013872088305157670725524817116093080321688237768704.0000           15.49m\n",
      "         9 3979630484381169793867261128601856110593550227404752540847489843154493525639763256294740889013872088305157670725524817116093080321688237768704.0000           15.32m\n",
      "        10 3979630484381169793867261128601856110593550227404752540847489843154493525639763256294740889013872088305157670725524817116093080321688237768704.0000           15.17m\n",
      "        11 3979630484381169793867261128601856110593550227404752540847489843154493525639763256294740889013872088305157670725524817116093080321688237768704.0000           15.02m\n",
      "        12 3979630484381169793867261128601856110593550227404752540847489843154493525639763256294740889013872088305157670725524817116093080321688237768704.0000           14.87m\n",
      "        13 3979630484381169793867261128601856110593550227404752540847489843154493525639763256294740889013872088305157670725524817116093080321688237768704.0000           14.70m\n",
      "        14 3979630484381169793867261128601856110593550227404752540847489843154493525639763256294740889013872088305157670725524817116093080321688237768704.0000           14.53m\n",
      "        15 3979630484381169793867261128601856110593550227404752540847489843154493525639763256294740889013872088305157670725524817116093080321688237768704.0000           14.36m\n",
      "        16 3979630484381169793867261128601856110593550227404752540847489843154493525639763256294740889013872088305157670725524817116093080321688237768704.0000           14.19m\n",
      "        17 3979630484381169793867261128601856110593550227404752540847489843154493525639763256294740889013872088305157670725524817116093080321688237768704.0000           14.02m\n",
      "        18 3979630484381169793867261128601856110593550227404752540847489843154493525639763256294740889013872088305157670725524817116093080321688237768704.0000           13.86m\n",
      "        19 3979630484381169793867261128601856110593550227404752540847489843154493525639763256294740889013872088305157670725524817116093080321688237768704.0000           13.69m\n",
      "        20 3979630484381169793867261128601856110593550227404752540847489843154493525639763256294740889013872088305157670725524817116093080321688237768704.0000           13.52m\n",
      "        21 3979630484381169793867261128601856110593550227404752540847489843154493525639763256294740889013872088305157670725524817116093080321688237768704.0000           13.35m\n",
      "        22 3979630484381169793867261128601856110593550227404752540847489843154493525639763256294740889013872088305157670725524817116093080321688237768704.0000           13.18m\n",
      "        23 3979630484381169793867261128601856110593550227404752540847489843154493525639763256294740889013872088305157670725524817116093080321688237768704.0000           13.01m\n",
      "        24 3979630484381169793867261128601856110593550227404752540847489843154493525639763256294740889013872088305157670725524817116093080321688237768704.0000           12.84m\n",
      "        25 3979630484381169793867261128601856110593550227404752540847489843154493525639763256294740889013872088305157670725524817116093080321688237768704.0000           12.68m\n",
      "        26 3979630484381169793867261128601856110593550227404752540847489843154493525639763256294740889013872088305157670725524817116093080321688237768704.0000           12.50m\n",
      "        27 3979630484381173178473821334674682744399927355192476462279466620274336263041595061252392018927962713273915122067783236783098648441282755559424.0000           12.34m\n",
      "        28 3979630484381173178473821334674682744399927355192476462279466620274336263041595061252392018927962713273915122067783236783098648441282755559424.0000           12.17m\n",
      "        29 3979630484381173178473821334674682744399927355192476462279466620274336263041595061252392018927962713273915122067783236783098648441282755559424.0000           12.00m\n",
      "        30 3979630484381173178473821334674682744399927355192476462279466620274336263041595061252392018927962713273915122067783236783098648441282755559424.0000           11.83m\n",
      "        31 3979630484381173178473821334674682744399927355192476462279466620274336263041595061252392018927962713273915122067783236783098648441282755559424.0000           11.66m\n",
      "        32 3979630484381173178473821334674682744399927355192476462279466620274336263041595061252392018927962713273915122067783236783098648441282755559424.0000           11.49m\n",
      "        33 3979630484381173178473821334674682744399927355192476462279466620274336263041595061252392018927962713273915122067783236783098648441282755559424.0000           11.32m\n",
      "        34 3979630484381173178473821334674682744399927355192476462279466620274336263041595061252392018927962713273915122067783236783098648441282755559424.0000           11.15m\n",
      "        35 3979630484381173178473821334674682744399927355192476462279466620274336263041595061252392018927962713273915122067783236783098648441282755559424.0000           10.98m\n",
      "        36 3979630484381173178473821334674682744399927355192476462279466620274336263041595061252392018927962713273915122067783236783098648441282755559424.0000           10.82m\n",
      "        37 3979630484381173178473821334674682744399927355192476462279466620274336263041595061252392018927962713273915122067783236783098648441282755559424.0000           10.64m\n",
      "        38 3979630484381173178473821334674682744399927355192476462279466620274336263041595061252392018927962713273915122067783236783098648441282755559424.0000           10.47m\n",
      "        39 3979630484381173178473821334674682744399927355192476462279466620274336263041595061252392018927962713273915122067783236783098648441282755559424.0000           10.31m\n",
      "        40 3979630484381173178473821334674682744399927355192476462279466620274336263041595061252392018927962713273915122067783236783098648441282755559424.0000           10.14m\n",
      "        41 3979630484381173178473821334674682744399927355192476462279466620274336263041595061252392018927962713273915122067783236783098648441282755559424.0000            9.97m\n",
      "        42 3979630484381173178473821334674682744399927355192476462279466620274336263041595061252392018927962713273915122067783236783098648441282755559424.0000            9.80m\n",
      "        43 3979630484381173178473821334674682744399927355192476462279466620274336263041595061252392018927962713273915122067783236783098648441282755559424.0000            9.63m\n",
      "        44 3979630484381173178473821334674682744399927355192476462279466620274336263041595061252392018927962713273915122067783236783098648441282755559424.0000            9.46m\n",
      "        45 3979630484381173178473821334674682744399927355192476462279466620274336263041595061252392018927962713273915122067783236783098648441282755559424.0000            9.29m\n",
      "        46 3979630484381173178473821334674682744399927355192476462279466620274336263041595061252392018927962713273915122067783236783098648441282755559424.0000            9.12m\n",
      "        47 3979630484381173178473821334674682744399927355192476462279466620274336263041595061252392018927962713273915122067783236783098648441282755559424.0000            8.95m\n",
      "        48 3979630484381173178473821334674682744399927355192476462279466620274336263041595061252392018927962713273915122067783236783098648441282755559424.0000            8.79m\n"
     ]
    },
    {
     "name": "stdout",
     "output_type": "stream",
     "text": [
      "        49 3979630484381173178473821334674682744399927355192476462279466620274336263041595061252392018927962713273915122067783236783098648441282755559424.0000            8.62m\n",
      "        50 3979630484381173178473821334674682744399927355192476462279466620274336263041595061252392018927962713273915122067783236783098648441282755559424.0000            8.45m\n",
      "        51 3979630484381173178473821334674682744399927355192476462279466620274336263041595061252392018927962713273915122067783236783098648441282755559424.0000            8.28m\n",
      "        52 3979630484381173178473821334674682744399927355192476462279466620274336263041595061252392018927962713273915122067783236783098648441282755559424.0000            8.11m\n",
      "        53 3979630484381173178473821334674682744399927355192476462279466620274336263041595061252392018927962713273915122067783236783098648441282755559424.0000            7.94m\n",
      "        54 3979630484381173178473821334674682744399927355192476462279466620274336263041595061252392018927962713273915122067783236783098648441282755559424.0000            7.77m\n",
      "        55 3979630484381173178473821334674682744399927355192476462279466620274336263041595061252392018927962713273915122067783236783098648441282755559424.0000            7.60m\n",
      "        56 3979630484381173178473821334674682744399927355192476462279466620274336263041595061252392018927962713273915122067783236783098648441282755559424.0000            7.43m\n",
      "        57 3979630484381173178473821334674682744399927355192476462279466620274336263041595061252392018927962713273915122067783236783098648441282755559424.0000            7.27m\n",
      "        58 3979630484381173178473821334674682744399927355192476462279466620274336263041595061252392018927962713273915122067783236783098648441282755559424.0000            7.10m\n",
      "        59 3979630484381173178473821334674682744399927355192476462279466620274336263041595061252392018927962713273915122067783236783098648441282755559424.0000            6.93m\n",
      "        60 3979630484381173178473821334674682744399927355192476462279466620274336263041595061252392018927962713273915122067783236783098648441282755559424.0000            6.76m\n",
      "        61 3979630484381173178473821334674682744399927355192476462279466620274336263041595061252392018927962713273915122067783236783098648441282755559424.0000            6.59m\n",
      "        62 3979630484381173178473821334674682744399927355192476462279466620274336263041595061252392018927962713273915122067783236783098648441282755559424.0000            6.42m\n",
      "        63 3979630484381173178473821334674682744399927355192476462279466620274336263041595061252392018927962713273915122067783236783098648441282755559424.0000            6.25m\n",
      "        64 3979630484381173178473821334674682744399927355192476462279466620274336263041595061252392018927962713273915122067783236783098648441282755559424.0000            6.08m\n",
      "        65 3979630484381173178473821334674682744399927355192476462279466620274336263041595061252392018927962713273915122067783236783098648441282755559424.0000            5.91m\n",
      "        66 3979630484381173178473821334674682744399927355192476462279466620274336263041595061252392018927962713273915122067783236783098648441282755559424.0000            5.74m\n",
      "        67 3979630484381173178473821334674682744399927355192476462279466620274336263041595061252392018927962713273915122067783236783098648441282755559424.0000            5.57m\n",
      "        68 3979630484381173178473821334674682744399927355192476462279466620274336263041595061252392018927962713273915122067783236783098648441282755559424.0000            5.41m\n",
      "        69 3979630484381173178473821334674682744399927355192476462279466620274336263041595061252392018927962713273915122067783236783098648441282755559424.0000            5.24m\n",
      "        70 3979630484381173178473821334674682744399927355192476462279466620274336263041595061252392018927962713273915122067783236783098648441282755559424.0000            5.07m\n",
      "        71 3979630484381173178473821334674682744399927355192476462279466620274336263041595061252392018927962713273915122067783236783098648441282755559424.0000            4.90m\n",
      "        72 3979630484381173178473821334674682744399927355192476462279466620274336263041595061252392018927962713273915122067783236783098648441282755559424.0000            4.73m\n",
      "        73 3979630484381173178473821334674682744399927355192476462279466620274336263041595061252392018927962713273915122067783236783098648441282755559424.0000            4.56m\n",
      "        74 3979630484381173178473821334674682744399927355192476462279466620274336263041595061252392018927962713273915122067783236783098648441282755559424.0000            4.39m\n",
      "        75 3979630484381173178473821334674682744399927355192476462279466620274336263041595061252392018927962713273915122067783236783098648441282755559424.0000            4.22m\n",
      "        76 3979630484381173178473821334674682744399927355192476462279466620274336263041595061252392018927962713273915122067783236783098648441282755559424.0000            4.05m\n",
      "        77 3979630484381173178473821334674682744399927355192476462279466620274336263041595061252392018927962713273915122067783236783098648441282755559424.0000            3.88m\n",
      "        78 3979630484381173178473821334674682744399927355192476462279466620274336263041595061252392018927962713273915122067783236783098648441282755559424.0000            3.72m\n",
      "        79 3979630484381173178473821334674682744399927355192476462279466620274336263041595061252392018927962713273915122067783236783098648441282755559424.0000            3.55m\n",
      "        80 3979630484381173178473821334674682744399927355192476462279466620274336263041595061252392018927962713273915122067783236783098648441282755559424.0000            3.38m\n",
      "        81 3979630484381173178473821334674682744399927355192476462279466620274336263041595061252392018927962713273915122067783236783098648441282755559424.0000            3.21m\n",
      "        82 3979630484381173178473821334674682744399927355192476462279466620274336263041595061252392018927962713273915122067783236783098648441282755559424.0000            3.04m\n",
      "        83 3979630484381173178473821334674682744399927355192476462279466620274336263041595061252392018927962713273915122067783236783098648441282755559424.0000            2.87m\n",
      "        84 3979630484381173178473821334674682744399927355192476462279466620274336263041595061252392018927962713273915122067783236783098648441282755559424.0000            2.70m\n",
      "        85 3979630484381173178473821334674682744399927355192476462279466620274336263041595061252392018927962713273915122067783236783098648441282755559424.0000            2.53m\n",
      "        86 3979630484381173178473821334674682744399927355192476462279466620274336263041595061252392018927962713273915122067783236783098648441282755559424.0000            2.36m\n",
      "        87 3979630484381173178473821334674682744399927355192476462279466620274336263041595061252392018927962713273915122067783236783098648441282755559424.0000            2.20m\n",
      "        88 3979630484381173178473821334674682744399927355192476462279466620274336263041595061252392018927962713273915122067783236783098648441282755559424.0000            2.03m\n",
      "        89 3979630484381173178473821334674682744399927355192476462279466620274336263041595061252392018927962713273915122067783236783098648441282755559424.0000            1.86m\n",
      "        90 3979630484381173178473821334674682744399927355192476462279466620274336263041595061252392018927962713273915122067783236783098648441282755559424.0000            1.69m\n",
      "        91 3979630484381173178473821334674682744399927355192476462279466620274336263041595061252392018927962713273915122067783236783098648441282755559424.0000            1.52m\n",
      "        92 3979630484381173178473821334674682744399927355192476462279466620274336263041595061252392018927962713273915122067783236783098648441282755559424.0000            1.35m\n",
      "        93 3979630484381173178473821334674682744399927355192476462279466620274336263041595061252392018927962713273915122067783236783098648441282755559424.0000            1.18m\n",
      "        94 3979630484381173178473821334674682744399927355192476462279466620274336263041595061252392018927962713273915122067783236783098648441282755559424.0000            1.01m\n",
      "        95 3979630484381173178473821334674682744399927355192476462279466620274336263041595061252392018927962713273915122067783236783098648441282755559424.0000           50.66s\n"
     ]
    },
    {
     "name": "stdout",
     "output_type": "stream",
     "text": [
      "        96 3979630484381173178473821334674682744399927355192476462279466620274336263041595061252392018927962713273915122067783236783098648441282755559424.0000           40.53s\n",
      "        97 3979630484381173178473821334674682744399927355192476462279466620274336263041595061252392018927962713273915122067783236783098648441282755559424.0000           30.39s\n",
      "        98 3979630484381173178473821334674682744399927355192476462279466620274336263041595061252392018927962713273915122067783236783098648441282755559424.0000           20.26s\n",
      "        99 3979630484381173178473821334674682744399927355192476462279466620274336263041595061252392018927962713273915122067783236783098648441282755559424.0000           10.13s\n",
      "       100 3979630484381173178473821334674682744399927355192476462279466620274336263041595061252392018927962713273915122067783236783098648441282755559424.0000            0.00s\n",
      "그래디언트 부스팅 트리 정확도:  0.767586821015138     f1score:  0.7662475269931749\n",
      "보팅 정확도:  0.8161175422974176     f1score:  0.8126712904613167\n",
      "보팅 정확도: 0.8161175422974176\n",
      "time : 2136.575578689575\n"
     ]
    }
   ],
   "source": [
    "\n",
    "start = time.time() \n",
    "\n",
    "mod_5k, cb_5k, lr_5k, lsvc_5k, tree_5k, forest_5k, grbt_5k, voting_classifier_5k = train_ml(tfidfv_5k, y_train_5k, tfidfv_test_5k, y_test_5k)\n",
    "\n",
    "print(\"time :\", time.time() - start)"
   ]
  },
  {
   "cell_type": "markdown",
   "id": "american-sheet",
   "metadata": {},
   "source": [
    "### 단어 1000개 사용"
   ]
  },
  {
   "cell_type": "code",
   "execution_count": 26,
   "id": "convertible-heating",
   "metadata": {},
   "outputs": [
    {
     "name": "stderr",
     "output_type": "stream",
     "text": [
      "/opt/conda/lib/python3.7/site-packages/tensorflow/python/keras/datasets/reuters.py:148: VisibleDeprecationWarning: Creating an ndarray from ragged nested sequences (which is a list-or-tuple of lists-or-tuples-or ndarrays with different lengths or shapes) is deprecated. If you meant to do this, you must specify 'dtype=object' when creating the ndarray\n",
      "  x_train, y_train = np.array(xs[:idx]), np.array(labels[:idx])\n",
      "/opt/conda/lib/python3.7/site-packages/tensorflow/python/keras/datasets/reuters.py:149: VisibleDeprecationWarning: Creating an ndarray from ragged nested sequences (which is a list-or-tuple of lists-or-tuples-or ndarrays with different lengths or shapes) is deprecated. If you meant to do this, you must specify 'dtype=object' when creating the ndarray\n",
      "  x_test, y_test = np.array(xs[idx:]), np.array(labels[idx:])\n"
     ]
    }
   ],
   "source": [
    "(x_train_1k, y_train_1k), (x_test_1k, y_test_1k) = reuters.load_data(num_words=1000, test_split=0.2)"
   ]
  },
  {
   "cell_type": "code",
   "execution_count": 27,
   "id": "introductory-patch",
   "metadata": {},
   "outputs": [],
   "source": [
    "decoded = []\n",
    "for i in range(len(x_train_1k)):\n",
    "    t = ' '.join([index_to_word[index] for index in x_train_1k[i]])\n",
    "    decoded.append(t)\n",
    "\n",
    "x_train_1k = decoded"
   ]
  },
  {
   "cell_type": "code",
   "execution_count": 28,
   "id": "cross-challenge",
   "metadata": {},
   "outputs": [],
   "source": [
    "decoded = []\n",
    "for i in range(len(x_test_1k)):\n",
    "    t = ' '.join([index_to_word[index] for index in x_test_1k[i]])\n",
    "    decoded.append(t)\n",
    "\n",
    "x_test_1k = decoded"
   ]
  },
  {
   "cell_type": "code",
   "execution_count": 29,
   "id": "wrong-colors",
   "metadata": {},
   "outputs": [
    {
     "name": "stdout",
     "output_type": "stream",
     "text": [
      "(8982, 969)\n"
     ]
    }
   ],
   "source": [
    "dtmvector = CountVectorizer()\n",
    "x_train_dtm_1k = dtmvector.fit_transform(x_train_1k)\n",
    "print(x_train_dtm_1k.shape)"
   ]
  },
  {
   "cell_type": "code",
   "execution_count": 30,
   "id": "spatial-orlando",
   "metadata": {},
   "outputs": [
    {
     "name": "stdout",
     "output_type": "stream",
     "text": [
      "(8982, 969)\n"
     ]
    }
   ],
   "source": [
    "tfidf_transformer = TfidfTransformer()\n",
    "tfidfv_1k = tfidf_transformer.fit_transform(x_train_dtm_1k)\n",
    "print(tfidfv_1k.shape)"
   ]
  },
  {
   "cell_type": "code",
   "execution_count": 31,
   "id": "threaded-lender",
   "metadata": {},
   "outputs": [],
   "source": [
    "x_test_dtm_1k = dtmvector.transform(x_test_1k) #테스트 데이터를 DTM으로 변환\n",
    "tfidfv_test_1k = tfidf_transformer.transform(x_test_dtm_1k) #DTM을 TF-IDF 행렬로 변환"
   ]
  },
  {
   "cell_type": "code",
   "execution_count": 32,
   "id": "approved-think",
   "metadata": {},
   "outputs": [
    {
     "name": "stdout",
     "output_type": "stream",
     "text": [
      "나이브 베이즈 정확도:  0.6856634016028496     f1score:  0.6365038314524903\n",
      "CNB 정확도:  0.7346393588601959     f1score:  0.6972989886481723\n"
     ]
    },
    {
     "name": "stderr",
     "output_type": "stream",
     "text": [
      "/opt/conda/lib/python3.7/site-packages/sklearn/linear_model/_logistic.py:762: ConvergenceWarning: lbfgs failed to converge (status=1):\n",
      "STOP: TOTAL NO. of ITERATIONS REACHED LIMIT.\n",
      "\n",
      "Increase the number of iterations (max_iter) or scale the data as shown in:\n",
      "    https://scikit-learn.org/stable/modules/preprocessing.html\n",
      "Please also refer to the documentation for alternative solver options:\n",
      "    https://scikit-learn.org/stable/modules/linear_model.html#logistic-regression\n",
      "  extra_warning_msg=_LOGISTIC_SOLVER_CONVERGENCE_MSG)\n"
     ]
    },
    {
     "name": "stdout",
     "output_type": "stream",
     "text": [
      "로지스틱 회귀 정확도:  0.780053428317008     f1score:  0.7739080204330848\n"
     ]
    },
    {
     "name": "stderr",
     "output_type": "stream",
     "text": [
      "/opt/conda/lib/python3.7/site-packages/sklearn/svm/_base.py:975: ConvergenceWarning: Liblinear failed to converge, increase the number of iterations.\n",
      "  \"the number of iterations.\", ConvergenceWarning)\n"
     ]
    },
    {
     "name": "stdout",
     "output_type": "stream",
     "text": [
      "SVM 정확도:  0.7203918076580588     f1score:  0.7156437601610428\n",
      "결정 트리 정확도:  0.6179875333926982     f1score:  0.5452644109309468\n",
      "랜덤 포레스트 정확도:  0.707479964381122     f1score:  0.682847024656397\n",
      "      Iter       Train Loss   Remaining Time \n",
      "         1       14117.1745           13.53m\n",
      "         2    35639162.1314           13.38m\n",
      "         3    42705979.3760           13.23m\n",
      "         4  9126252191.8651           13.10m\n",
      "         5  9126424532.2802           12.99m\n",
      "         6 62647635205.0903           12.88m\n",
      "         7 62648065808.4197           12.75m\n",
      "         8 62648065658.7994           12.62m\n",
      "         9 608185690008282430912365147168569475398132500303209932316333183827805761102415935379079168.0000           12.48m\n",
      "        10 608185690008282430912365147168569475398132500303209932316333183827805761102415935379079168.0000           12.34m\n",
      "        11 608185690008282430912365147168569475398132500303209932316333183827805761102415935379079168.0000           12.21m\n",
      "        12 608185690008282430912365147168569475398132500303209932316333183827805761102415935379079168.0000           12.07m\n",
      "        13 608185690008282430912365147168569475398132500303209932316333183827805761102415935379079168.0000           11.93m\n",
      "        14 608185690008282430912365147168569475398132500303209932316333183827805761102415935379079168.0000           11.79m\n",
      "        15 608185690008282430912365147168569475398132500303209932316333183827805761102415935379079168.0000           11.65m\n",
      "        16 608185690008282430912365147168569475398132500303209932316333183827805761102415935379079168.0000           11.51m\n",
      "        17 608185690008282430912365147168569475398132500303209932316333183827805761102415935379079168.0000           11.37m\n",
      "        18 608185690008282430912365147168569475398132500303209932316333183827805761102415935379079168.0000           11.23m\n",
      "        19 608185690008282430912365147168569475398132500303209932316333183827805761102415935379079168.0000           11.08m\n",
      "        20 608185690008282430912365147168569475398132500303209932316333183827805761102415935379079168.0000           10.94m\n",
      "        21 608185690008282430912365147168569475398132500303209932316333183827805761102415935379079168.0000           10.80m\n",
      "        22 608185690008282430912365147168569475398132500303209932316333183827805761102415935379079168.0000           10.66m\n",
      "        23 608185690008282430912365147168569475398132500303209932316333183827805761102415935379079168.0000           10.52m\n",
      "        24 608185690008282430912365147168569475398132500303209932316333183827805761102415935379079168.0000           10.38m\n",
      "        25 608185690008282430912365147168569475398132500303209932316333183827805761102415935379079168.0000           10.24m\n",
      "        26 608185690008282430912365147168569475398132500303209932316333183827805761102415935379079168.0000           10.10m\n",
      "        27 608185690008282430912365147168569475398132500303209932316333183827805761102415935379079168.0000            9.96m\n",
      "        28 608185690008282430912365147168569475398132500303209932316333183827805761102415935379079168.0000            9.83m\n",
      "        29 608185690008282430912365147168569475398132500303209932316333183827805761102415935379079168.0000            9.69m\n",
      "        30 608185690008282430912365147168569475398132500303209932316333183827805761102415935379079168.0000            9.55m\n",
      "        31 608185690008282430912365147168569475398132500303209932316333183827805761102415935379079168.0000            9.42m\n",
      "        32 608185690008282430912365147168569475398132500303209932316333183827805761102415935379079168.0000            9.28m\n",
      "        33 608185690008282430912365147168569475398132500303209932316333183827805761102415935379079168.0000            9.14m\n",
      "        34 608185690008282430912365147168569475398132500303209932316333183827805761102415935379079168.0000            9.01m\n",
      "        35 608185690008282430912365147168569475398132500303209932316333183827805761102415935379079168.0000            8.87m\n",
      "        36 608185690008282430912365147168569475398132500303209932316333183827805761102415935379079168.0000            8.73m\n",
      "        37 608185690008282430912365147168569475398132500303209932316333183827805761102415935379079168.0000            8.60m\n",
      "        38 608185690008282430912365147168569475398132500303209932316333183827805761102415935379079168.0000            8.46m\n",
      "        39 608185690008282430912365147168569475398132500303209932316333183827805761102415935379079168.0000            8.32m\n",
      "        40 608185690008282430912365147168569475398132500303209932316333183827805761102415935379079168.0000            8.18m\n",
      "        41 608185690008282430912365147168569475398132500303209932316333183827805761102415935379079168.0000            8.04m\n",
      "        42 608185690008282430912365147168569475398132500303209932316333183827805761102415935379079168.0000            7.91m\n",
      "        43 608185690008282430912365147168569475398132500303209932316333183827805761102415935379079168.0000            7.77m\n",
      "        44 608185690008282430912365147168569475398132500303209932316333183827805761102415935379079168.0000            7.63m\n",
      "        45 608185690008282430912365147168569475398132500303209932316333183827805761102415935379079168.0000            7.50m\n",
      "        46 608185690008282430912365147168569475398132500303209932316333183827805761102415935379079168.0000            7.36m\n",
      "        47 608185690008282430912365147168569475398132500303209932316333183827805761102415935379079168.0000            7.22m\n",
      "        48 2727818721237681697848013696884752249525208280862574447680396836235420493736391096058164991782432004269670400.0000            7.09m\n",
      "        49 2727818721237681697848013696884752249525208280862574447680396836235420493736391096058164991782432004269670400.0000            6.95m\n",
      "        50 2727818721237681697848013696884752249525208280862574447680396836235420493736391096058164991782432004269670400.0000            6.81m\n",
      "        51 2727818721237681697848013696884752249525208280862574447680396836235420493736391096058164991782432004269670400.0000            6.68m\n",
      "        52 2727818721237681697848013696884752249525208280862574447680396836235420493736391096058164991782432004269670400.0000            6.54m\n",
      "        53 2727818721237681697848013696884752249525208280862574447680396836235420493736391096058164991782432004269670400.0000            6.40m\n",
      "        54 2727818721237681697848013696884752249525208280862574447680396836235420493736391096058164991782432004269670400.0000            6.26m\n",
      "        55 2727818721237681697848013696884752249525208280862574447680396836235420493736391096058164991782432004269670400.0000            6.13m\n",
      "        56 2727818721237681697848013696884752249525208280862574447680396836235420493736391096058164991782432004269670400.0000            5.99m\n",
      "        57 2727818721237681697848013696884752249525208280862574447680396836235420493736391096058164991782432004269670400.0000            5.85m\n",
      "        58 2727818721237681697848013696884752249525208280862574447680396836235420493736391096058164991782432004269670400.0000            5.71m\n",
      "        59 2727818721237681697848013696884752249525208280862574447680396836235420493736391096058164991782432004269670400.0000            5.58m\n",
      "        60 2727818721237681697848013696884752249525208280862574447680396836235420493736391096058164991782432004269670400.0000            5.44m\n",
      "        61 2727818721237681697848013696884752249525208280862574447680396836235420493736391096058164991782432004269670400.0000            5.30m\n",
      "        62 2727818721237681697848013696884752249525208280862574447680396836235420493736391096058164991782432004269670400.0000            5.17m\n",
      "        63 2727818721237681697848013696884752249525208280862574447680396836235420493736391096058164991782432004269670400.0000            5.03m\n",
      "        64 2727818721237681697848013696884752249525208280862574447680396836235420493736391096058164991782432004269670400.0000            4.89m\n",
      "        65 2727818721237681697848013696884752249525208280862574447680396836235420493736391096058164991782432004269670400.0000            4.76m\n",
      "        66 2727818721237681697848013696884752249525208280862574447680396836235420493736391096058164991782432004269670400.0000            4.62m\n",
      "        67 2727818721237681697848013696884752249525208280862574447680396836235420493736391096058164991782432004269670400.0000            4.49m\n"
     ]
    },
    {
     "name": "stdout",
     "output_type": "stream",
     "text": [
      "        68 2727818721237681697848013696884752249525208280862574447680396836235420493736391096058164991782432004269670400.0000            4.35m\n",
      "        69 2727818721237681697848013696884752249525208280862574447680396836235420493736391096058164991782432004269670400.0000            4.21m\n",
      "        70 2727818721237681697848013696884752249525208280862574447680396836235420493736391096058164991782432004269670400.0000            4.08m\n",
      "        71 2727818721237681697848013696884752249525208280862574447680396836235420493736391096058164991782432004269670400.0000            3.94m\n",
      "        72 2727818721237681697848013696884752249525208280862574447680396836235420493736391096058164991782432004269670400.0000            3.81m\n",
      "        73 2727818721237681697848013696884752249525208280862574447680396836235420493736391096058164991782432004269670400.0000            3.67m\n",
      "        74 2727818721237681697848013696884752249525208280862574447680396836235420493736391096058164991782432004269670400.0000            3.53m\n",
      "        75 2727818721237681697848013696884752249525208280862574447680396836235420493736391096058164991782432004269670400.0000            3.40m\n",
      "        76 2727818721237681697848013696884752249525208280862574447680396836235420493736391096058164991782432004269670400.0000            3.26m\n",
      "        77 2727818721237681697848013696884752249525208280862574447680396836235420493736391096058164991782432004269670400.0000            3.13m\n",
      "        78 2727818721237681697848013696884752249525208280862574447680396836235420493736391096058164991782432004269670400.0000            2.99m\n",
      "        79 2727818721237681697848013696884752249525208280862574447680396836235420493736391096058164991782432004269670400.0000            2.85m\n",
      "        80 2727818721237681697848013696884752249525208280862574447680396836235420493736391096058164991782432004269670400.0000            2.72m\n",
      "        81 2727818721237681697848013696884752249525208280862574447680396836235420493736391096058164991782432004269670400.0000            2.58m\n",
      "        82 2727818721237681697848013696884752249525208280862574447680396836235420493736391096058164991782432004269670400.0000            2.45m\n",
      "        83 2727818721237681697848013696884752249525208280862574447680396836235420493736391096058164991782432004269670400.0000            2.31m\n",
      "        84 2727818721237681697848013696884752249525208280862574447680396836235420493736391096058164991782432004269670400.0000            2.17m\n",
      "        85 2727818721237681697848013696884752249525208280862574447680396836235420493736391096058164991782432004269670400.0000            2.04m\n",
      "        86 2727818721237681697848013696884752249525208280862574447680396836235420493736391096058164991782432004269670400.0000            1.90m\n",
      "        87 2727818721237681697848013696884752249525208280862574447680396836235420493736391096058164991782432004269670400.0000            1.77m\n",
      "        88 2727818721237681697848013696884752249525208280862574447680396836235420493736391096058164991782432004269670400.0000            1.63m\n",
      "        89 2727818721237681697848013696884752249525208280862574447680396836235420493736391096058164991782432004269670400.0000            1.50m\n",
      "        90 2727818721237681697848013696884752249525208280862574447680396836235420493736391096058164991782432004269670400.0000            1.36m\n",
      "        91 2727818721237681697848013696884752249525208280862574447680396836235420493736391096058164991782432004269670400.0000            1.22m\n",
      "        92 2727818721237681697848013696884752249525208280862574447680396836235420493736391096058164991782432004269670400.0000            1.09m\n",
      "        93 2727818721237681697848013696884752249525208280862574447680396836235420493736391096058164991782432004269670400.0000           57.13s\n",
      "        94 2727818721237681697848013696884752249525208280862574447680396836235420493736391096058164991782432004269670400.0000           48.98s\n",
      "        95 2727818721237681697848013696884752249525208280862574447680396836235420493736391096058164991782432004269670400.0000           40.83s\n",
      "        96 2727818721237681697848013696884752249525208280862574447680396836235420493736391096058164991782432004269670400.0000           32.66s\n",
      "        97 2727818721237681697848013696884752249525208280862574447680396836235420493736391096058164991782432004269670400.0000           24.50s\n",
      "        98 2727818721237681697848013696884752249525208280862574447680396836235420493736391096058164991782432004269670400.0000           16.34s\n",
      "        99 2727818721237681697848013696884752249525208280862574447680396836235420493736391096058164991782432004269670400.0000            8.17s\n",
      "       100 2727818721237681697848013696884752249525208280862574447680396836235420493736391096058164991782432004269670400.0000            0.00s\n",
      "그래디언트 부스팅 트리 정확도:  0.7457702582368655     f1score:  0.7387791830151157\n",
      "보팅 정확도:  0.7845057880676759     f1score:  0.7774656772042381\n",
      "보팅 정확도: 0.7845057880676759\n",
      "run time : 0:28:17\n"
     ]
    }
   ],
   "source": [
    "start = time.time() \n",
    "\n",
    "mod_1k, cb_1k, lr_1k, lsvc_1k, tree_1k, forest_1k, grbt_1k, voting_classifier_1k = train_ml(tfidfv_1k, y_train_1k, tfidfv_test_1k, y_test_1k)\n",
    "\n",
    "\n",
    "sec = time.time()-start\n",
    "times = str(datetime.timedelta(seconds=sec)).split(\".\")\n",
    "times = times[0]\n",
    "print('run time :', times)"
   ]
  },
  {
   "cell_type": "markdown",
   "id": "democratic-performance",
   "metadata": {},
   "source": [
    "### 단어 10000개 사용"
   ]
  },
  {
   "cell_type": "code",
   "execution_count": 33,
   "id": "handy-hudson",
   "metadata": {
    "scrolled": true
   },
   "outputs": [
    {
     "name": "stderr",
     "output_type": "stream",
     "text": [
      "/opt/conda/lib/python3.7/site-packages/tensorflow/python/keras/datasets/reuters.py:148: VisibleDeprecationWarning: Creating an ndarray from ragged nested sequences (which is a list-or-tuple of lists-or-tuples-or ndarrays with different lengths or shapes) is deprecated. If you meant to do this, you must specify 'dtype=object' when creating the ndarray\n",
      "  x_train, y_train = np.array(xs[:idx]), np.array(labels[:idx])\n",
      "/opt/conda/lib/python3.7/site-packages/tensorflow/python/keras/datasets/reuters.py:149: VisibleDeprecationWarning: Creating an ndarray from ragged nested sequences (which is a list-or-tuple of lists-or-tuples-or ndarrays with different lengths or shapes) is deprecated. If you meant to do this, you must specify 'dtype=object' when creating the ndarray\n",
      "  x_test, y_test = np.array(xs[idx:]), np.array(labels[idx:])\n"
     ]
    }
   ],
   "source": [
    "(x_train_10k, y_train_10k), (x_test_10k, y_test_10k) = reuters.load_data(num_words=10000, test_split=0.2)"
   ]
  },
  {
   "cell_type": "code",
   "execution_count": 34,
   "id": "oriented-southeast",
   "metadata": {},
   "outputs": [],
   "source": [
    "decoded = []\n",
    "for i in range(len(x_train_10k)):\n",
    "    t = ' '.join([index_to_word[index] for index in x_train_10k[i]])\n",
    "    decoded.append(t)\n",
    "\n",
    "x_train_10k = decoded"
   ]
  },
  {
   "cell_type": "code",
   "execution_count": 35,
   "id": "eligible-experiment",
   "metadata": {},
   "outputs": [],
   "source": [
    "decoded = []\n",
    "for i in range(len(x_test_10k)):\n",
    "    t = ' '.join([index_to_word[index] for index in x_test_10k[i]])\n",
    "    decoded.append(t)\n",
    "\n",
    "x_test_10k = decoded"
   ]
  },
  {
   "cell_type": "code",
   "execution_count": 36,
   "id": "hourly-utilization",
   "metadata": {},
   "outputs": [
    {
     "name": "stdout",
     "output_type": "stream",
     "text": [
      "(8982, 9670)\n"
     ]
    }
   ],
   "source": [
    "dtmvector = CountVectorizer()\n",
    "x_train_dtm_10k = dtmvector.fit_transform(x_train_10k)\n",
    "print(x_train_dtm_10k.shape)"
   ]
  },
  {
   "cell_type": "code",
   "execution_count": 37,
   "id": "practical-brook",
   "metadata": {},
   "outputs": [
    {
     "name": "stdout",
     "output_type": "stream",
     "text": [
      "(8982, 9670)\n"
     ]
    }
   ],
   "source": [
    "tfidf_transformer = TfidfTransformer()\n",
    "tfidfv_10k = tfidf_transformer.fit_transform(x_train_dtm_10k)\n",
    "print(tfidfv_10k.shape)"
   ]
  },
  {
   "cell_type": "code",
   "execution_count": 38,
   "id": "temporal-duration",
   "metadata": {},
   "outputs": [],
   "source": [
    "x_test_dtm_10k = dtmvector.transform(x_test_10k) #테스트 데이터를 DTM으로 변환\n",
    "tfidfv_test_10k = tfidf_transformer.transform(x_test_dtm_10k) #DTM을 TF-IDF 행렬로 변환"
   ]
  },
  {
   "cell_type": "code",
   "execution_count": 39,
   "id": "distinguished-auditor",
   "metadata": {},
   "outputs": [
    {
     "name": "stdout",
     "output_type": "stream",
     "text": [
      "나이브 베이즈 정확도:  0.6567230632235085     f1score:  0.5764467518778252\n",
      "CNB 정확도:  0.7707034728406055     f1score:  0.7456682614453047\n"
     ]
    },
    {
     "name": "stderr",
     "output_type": "stream",
     "text": [
      "/opt/conda/lib/python3.7/site-packages/sklearn/linear_model/_logistic.py:762: ConvergenceWarning: lbfgs failed to converge (status=1):\n",
      "STOP: TOTAL NO. of ITERATIONS REACHED LIMIT.\n",
      "\n",
      "Increase the number of iterations (max_iter) or scale the data as shown in:\n",
      "    https://scikit-learn.org/stable/modules/preprocessing.html\n",
      "Please also refer to the documentation for alternative solver options:\n",
      "    https://scikit-learn.org/stable/modules/linear_model.html#logistic-regression\n",
      "  extra_warning_msg=_LOGISTIC_SOLVER_CONVERGENCE_MSG)\n"
     ]
    },
    {
     "name": "stdout",
     "output_type": "stream",
     "text": [
      "로지스틱 회귀 정확도:  0.8076580587711487     f1score:  0.8014651882605348\n"
     ]
    },
    {
     "name": "stderr",
     "output_type": "stream",
     "text": [
      "/opt/conda/lib/python3.7/site-packages/sklearn/svm/_base.py:975: ConvergenceWarning: Liblinear failed to converge, increase the number of iterations.\n",
      "  \"the number of iterations.\", ConvergenceWarning)\n"
     ]
    },
    {
     "name": "stdout",
     "output_type": "stream",
     "text": [
      "SVM 정확도:  0.7711487088156723     f1score:  0.7656455688459559\n",
      "결정 트리 정확도:  0.6202137132680321     f1score:  0.5776398779280149\n",
      "랜덤 포레스트 정확도:  0.674087266251113     f1score:  0.6429484177284822\n",
      "      Iter       Train Loss   Remaining Time \n",
      "         1       13120.6334           17.34m\n",
      "         2   858177598.4933           17.28m\n",
      "         3   946802549.6393           17.14m\n",
      "         4 237936546535516355390923778577443137004998111350751232.0000           17.01m\n",
      "         5 29932193976389972415457316369798088344148526429337375113230188232847921979331343979616204345474359412007156081620446930232527552512.0000           16.85m\n",
      "         6 29932193976389972415457316369798088344148526429337375113230188232847921979331343979616204345474359412007156081620446930232527552512.0000           16.68m\n",
      "         7 29932193976389972415457316369798088344148526429337375113230188232847921979331343979616204345474359412007156081620446930232527552512.0000           16.50m\n",
      "         8 29932193976389972415457316369798088344148526429337375113230188232847921979331343979616204345474359412007156081620446930232527552512.0000           16.32m\n",
      "         9 29932193976389972415457316369798088344148526429337375113230188232847921979331343979616204345474359412007156081620446930232527552512.0000           16.15m\n",
      "        10 29932193976389972415457316369798088344148526429337375113230188232847921979331343979616204345474359412007156081620446930232527552512.0000           15.98m\n",
      "        11 133241604195543544730923504073661458186388693113892106655906663702503754123160194053998540169759677913969725237240462866978825043968.0000           15.81m\n",
      "        12 133241604195543544730923504073661458186388693113892106655906663702503754123160194053998540169759677913969725237240462866978825043968.0000           15.64m\n",
      "        13 133241604195543544730923504073661458186388693113892106655906663702503754123160194053998540169759677913969725237240462866978825043968.0000           15.47m\n",
      "        14 133241604195543544730923504073661458186388693113892106655906663702503754123160194053998540169759677913969725237240462866978825043968.0000           15.29m\n",
      "        15 133241604195543544730923504073661458186388693113892106655906663702503754123160194053998540169759677913969725237240462866978825043968.0000           15.12m\n",
      "        16 133241604195543544730923504073661458186388693113892106655906663702503754123160194053998540169759677913969725237240462866978825043968.0000           14.94m\n",
      "        17 133241604195543544730923504073661458186388693113892106655906663702503754123160194053998540169759677913969725237240462866978825043968.0000           14.76m\n",
      "        18 133241604195543544730923504073661458186388693113892106655906663702503754123160194053998540169759677913969725237240462866978825043968.0000           14.58m\n",
      "        19 133241604195543544730923504073661458186388693113892106655906663702503754123160194053998540169759677913969725237240462866978825043968.0000           14.41m\n",
      "        20 133241604195543544730923504073661458186388693113892106655906663702503754123160194053998540169759677913969725237240462866978825043968.0000           14.23m\n",
      "        21 133241604195543544730923504073661458186388693113892106655906663702503754123160194053998540169759677913969725237240462866978825043968.0000           14.05m\n",
      "        22 133241604195543544730923504073661458186388693113892106655906663702503754123160194053998540169759677913969725237240462866978825043968.0000           13.87m\n",
      "        23 133241604195543544730923504073661458186388693113892106655906663702503754123160194053998540169759677913969725237240462866978825043968.0000           13.70m\n",
      "        24 133241604195543544730923504073661458186388693113892106655906663702503754123160194053998540169759677913969725237240462866978825043968.0000           13.52m\n",
      "        25 133241604195543544730923504073661458186388693113892106655906663702503754123160194053998540169759677913969725237240462866978825043968.0000           13.34m\n",
      "        26 133241604195543544730923504073661458186388693113892106655906663702503754123160194053998540169759677913969725237240462866978825043968.0000           13.16m\n",
      "        27 133241604195543544730923504073661458186388693113892106655906663702503754123160194053998540169759677913969725237240462866978825043968.0000           12.98m\n",
      "        28 133241604195543544730923504073661458186388693113892106655906663702503754123160194053998540169759677913969725237240462866978825043968.0000           12.81m\n",
      "        29 133241604195543544730923504073661458186388693113892106655906663702503754123160194053998540169759677913969725237240462866978825043968.0000           12.63m\n",
      "        30 133241604195543544730923504073661458186388693113892106655906663702503754123160194053998540169759677913969725237240462866978825043968.0000           12.45m\n",
      "        31 133241604195543544730923504073661458186388693113892106655906663702503754123160194053998540169759677913969725237240462866978825043968.0000           12.27m\n",
      "        32 133241604195543544730923504073661458186388693113892106655906663702503754123160194053998540169759677913969725237240462866978825043968.0000           12.09m\n",
      "        33 133241604195543544730923504073661458186388693113892106655906663702503754123160194053998540169759677913969725237240462866978825043968.0000           11.92m\n",
      "        34 133241604195543544730923504073661458186388693113892106655906663702503754123160194053998540169759677913969725237240462866978825043968.0000           11.74m\n",
      "        35 133241604195543544730923504073661458186388693113892106655906663702503754123160194053998540169759677913969725237240462866978825043968.0000           11.56m\n",
      "        36 133241604195543544730923504073661458186388693113892106655906663702503754123160194053998540169759677913969725237240462866978825043968.0000           11.38m\n",
      "        37 133241604195543544730923504073661458186388693113892106655906663702503754123160194053998540169759677913969725237240462866978825043968.0000           11.20m\n",
      "        38 133241604195543544730923504073661458186388693113892106655906663702503754123160194053998540169759677913969725237240462866978825043968.0000           11.02m\n",
      "        39 133241604195543544730923504073661458186388693113892106655906663702503754123160194053998540169759677913969725237240462866978825043968.0000           10.84m\n",
      "        40 133241604195543544730923504073661458186388693113892106655906663702503754123160194053998540169759677913969725237240462866978825043968.0000           10.67m\n",
      "        41 133241604195543544730923504073661458186388693113892106655906663702503754123160194053998540169759677913969725237240462866978825043968.0000           10.49m\n",
      "        42 133241604195543544730923504073661458186388693113892106655906663702503754123160194053998540169759677913969725237240462866978825043968.0000           10.31m\n",
      "        43 133241604195543544730923504073661458186388693113892106655906663702503754123160194053998540169759677913969725237240462866978825043968.0000           10.13m\n",
      "        44 133241604195543544730923504073661458186388693113892106655906663702503754123160194053998540169759677913969725237240462866978825043968.0000            9.95m\n",
      "        45 133241604195543544730923504073661458186388693113892106655906663702503754123160194053998540169759677913969725237240462866978825043968.0000            9.77m\n",
      "        46 133241604195543544730923504073661458186388693113892106655906663702503754123160194053998540169759677913969725237240462866978825043968.0000            9.59m\n",
      "        47 133241604195543544730923504073661458186388693113892106655906663702503754123160194053998540169759677913969725237240462866978825043968.0000            9.42m\n",
      "        48 133241604195543544730923504073661458186388693113892106655906663702503754123160194053998540169759677913969725237240462866978825043968.0000            9.24m\n",
      "        49 133241604195543544730923504073661458186388693113892106655906663702503754123160194053998540169759677913969725237240462866978825043968.0000            9.06m\n",
      "        50 133241604195543544730923504073661458186388693113892106655906663702503754123160194053998540169759677913969725237240462866978825043968.0000            8.88m\n",
      "        51 133241604195543544730923504073661458186388693113892106655906663702503754123160194053998540169759677913969725237240462866978825043968.0000            8.70m\n"
     ]
    },
    {
     "name": "stdout",
     "output_type": "stream",
     "text": [
      "        52 133241604195543544730923504073661458186388693113892106655906663702503754123160194053998540169759677913969725237240462866978825043968.0000            8.53m\n",
      "        53 133241604195543544730923504073661458186388693113892106655906663702503754123160194053998540169759677913969725237240462866978825043968.0000            8.35m\n",
      "        54 133241604195543544730923504073661458186388693113892106655906663702503754123160194053998540169759677913969725237240462866978825043968.0000            8.17m\n",
      "        55 133241604195543544730923504073661458186388693113892106655906663702503754123160194053998540169759677913969725237240462866978825043968.0000            7.99m\n",
      "        56 133241604195543544730923504073661458186388693113892106655906663702503754123160194053998540169759677913969725237240462866978825043968.0000            7.81m\n",
      "        57 133241604195543544730923504073661458186388693113892106655906663702503754123160194053998540169759677913969725237240462866978825043968.0000            7.64m\n",
      "        58 133241604195543544730923504073661458186388693113892106655906663702503754123160194053998540169759677913969725237240462866978825043968.0000            7.46m\n",
      "        59 133241604195543544730923504073661458186388693113892106655906663702503754123160194053998540169759677913969725237240462866978825043968.0000            7.28m\n",
      "        60 133241604195543544730923504073661458186388693113892106655906663702503754123160194053998540169759677913969725237240462866978825043968.0000            7.10m\n",
      "        61 133241604195543544730923504073661458186388693113892106655906663702503754123160194053998540169759677913969725237240462866978825043968.0000            6.93m\n",
      "        62 133241604195543544730923504073661458186388693113892106655906663702503754123160194053998540169759677913969725237240462866978825043968.0000            6.75m\n",
      "        63 133241604195543544730923504073661458186388693113892106655906663702503754123160194053998540169759677913969725237240462866978825043968.0000            6.57m\n",
      "        64 133241604195543544730923504073661458186388693113892106655906663702503754123160194053998540169759677913969725237240462866978825043968.0000            6.39m\n",
      "        65 133241604195543544730923504073661458186388693113892106655906663702503754123160194053998540169759677913969725237240462866978825043968.0000            6.22m\n",
      "        66 133241604195543544730923504073661458186388693113892106655906663702503754123160194053998540169759677913969725237240462866978825043968.0000            6.04m\n",
      "        67 133241604195543544730923504073661458186388693113892106655906663702503754123160194053998540169759677913969725237240462866978825043968.0000            5.86m\n",
      "        68 133241604195543544730923504073661458186388693113892106655906663702503754123160194053998540169759677913969725237240462866978825043968.0000            5.68m\n",
      "        69 133241604195543544730923504073661458186388693113892106655906663702503754123160194053998540169759677913969725237240462866978825043968.0000            5.51m\n",
      "        70 133241604195543544730923504073661458186388693113892106655906663702503754123160194053998540169759677913969725237240462866978825043968.0000            5.33m\n",
      "        71 133241604195543544730923504073661458186388693113892106655906663702503754123160194053998540169759677913969725237240462866978825043968.0000            5.15m\n",
      "        72 133241604195543544730923504073661458186388693113892106655906663702503754123160194053998540169759677913969725237240462866978825043968.0000            4.97m\n",
      "        73 133241604195543544730923504073661458186388693113892106655906663702503754123160194053998540169759677913969725237240462866978825043968.0000            4.80m\n",
      "        74 133241604195543544730923504073661458186388693113892106655906663702503754123160194053998540169759677913969725237240462866978825043968.0000            4.62m\n",
      "        75 133241604195543544730923504073661458186388693113892106655906663702503754123160194053998540169759677913969725237240462866978825043968.0000            4.44m\n",
      "        76 133241604195543544730923504073661458186388693113892106655906663702503754123160194053998540169759677913969725237240462866978825043968.0000            4.26m\n",
      "        77 133241604195543544730923504073661458186388693113892106655906663702503754123160194053998540169759677913969725237240462866978825043968.0000            4.09m\n",
      "        78 133241604195543544730923504073661458186388693113892106655906663702503754123160194053998540169759677913969725237240462866978825043968.0000            3.91m\n",
      "        79 133241604195543544730923504073661458186388693113892106655906663702503754123160194053998540169759677913969725237240462866978825043968.0000            3.73m\n",
      "        80 133241604195543544730923504073661458186388693113892106655906663702503754123160194053998540169759677913969725237240462866978825043968.0000            3.55m\n",
      "        81 133241604195543544730923504073661458186388693113892106655906663702503754123160194053998540169759677913969725237240462866978825043968.0000            3.38m\n",
      "        82 133241604195543544730923504073661458186388693113892106655906663702503754123160194053998540169759677913969725237240462866978825043968.0000            3.20m\n",
      "        83 133241604195543544730923504073661458186388693113892106655906663702503754123160194053998540169759677913969725237240462866978825043968.0000            3.02m\n",
      "        84 133241604195543544730923504073661458186388693113892106655906663702503754123160194053998540169759677913969725237240462866978825043968.0000            2.84m\n",
      "        85 133241604195543544730923504073661458186388693113892106655906663702503754123160194053998540169759677913969725237240462866978825043968.0000            2.67m\n",
      "        86 133241604195543544730923504073661458186388693113892106655906663702503754123160194053998540169759677913969725237240462866978825043968.0000            2.49m\n",
      "        87 133241604195543544730923504073661458186388693113892106655906663702503754123160194053998540169759677913969725237240462866978825043968.0000            2.31m\n",
      "        88 133241604195543544730923504073661458186388693113892106655906663702503754123160194053998540169759677913969725237240462866978825043968.0000            2.13m\n",
      "        89 133241604195543544730923504073661458186388693113892106655906663702503754123160194053998540169759677913969725237240462866978825043968.0000            1.96m\n",
      "        90 133241604195543544730923504073661458186388693113892106655906663702503754123160194053998540169759677913969725237240462866978825043968.0000            1.78m\n",
      "        91 133241604195543544730923504073661458186388693113892106655906663702503754123160194053998540169759677913969725237240462866978825043968.0000            1.60m\n",
      "        92 133241604195543544730923504073661458186388693113892106655906663702503754123160194053998540169759677913969725237240462866978825043968.0000            1.42m\n",
      "        93 133241604195543544730923504073661458186388693113892106655906663702503754123160194053998540169759677913969725237240462866978825043968.0000            1.24m\n",
      "        94 133241604195543544730923504073661458186388693113892106655906663702503754123160194053998540169759677913969725237240462866978825043968.0000            1.07m\n",
      "        95 133241604195543544730923504073661458186388693113892106655906663702503754123160194053998540169759677913969725237240462866978825043968.0000           53.33s\n",
      "        96 133241604195543544730923504073661458186388693113892106655906663702503754123160194053998540169759677913969725237240462866978825043968.0000           42.66s\n",
      "        97 133241604195543544730923504073661458186388693113892106655906663702503754123160194053998540169759677913969725237240462866978825043968.0000           32.00s\n",
      "        98 133241604195543544730923504073661458186388693113892106655906663702503754123160194053998540169759677913969725237240462866978825043968.0000           21.33s\n",
      "        99 133241604195543544730923504073661458186388693113892106655906663702503754123160194053998540169759677913969725237240462866978825043968.0000           10.67s\n",
      "       100 133241604195543544730923504073661458186388693113892106655906663702503754123160194053998540169759677913969725237240462866978825043968.0000            0.00s\n",
      "그래디언트 부스팅 트리 정확도:  0.7666963490650045     f1score:  0.7625990588567523\n"
     ]
    },
    {
     "name": "stdout",
     "output_type": "stream",
     "text": [
      "보팅 정확도:  0.8116651825467498     f1score:  0.8082216149049796\n",
      "보팅 정확도: 0.8116651825467498\n",
      "run time : 0:37:47\n"
     ]
    }
   ],
   "source": [
    "start = time.time() \n",
    "\n",
    "mod_10k, cb_10k, lr_10k, lsvc_10k, tree_10k, forest_10k, grbt_10k, voting_classifier_10k = train_ml(tfidfv_10k, y_train_10k, tfidfv_test_10k, y_test_10k)\n",
    "\n",
    "sec = time.time()-start\n",
    "times = str(datetime.timedelta(seconds=sec)).split(\".\")\n",
    "times = times[0]\n",
    "print('run time :', times)"
   ]
  },
  {
   "cell_type": "markdown",
   "id": "atlantic-concentrate",
   "metadata": {},
   "source": [
    "## 결과 확인\n",
    "---\n",
    "각 모델들의 accuracy와 f1score를 취합하여 비교했습니다.\n"
   ]
  },
  {
   "cell_type": "code",
   "execution_count": 41,
   "id": "prime-hormone",
   "metadata": {},
   "outputs": [],
   "source": [
    "vocab_size_list = ['whole', '5k', '1k', '10k']\n",
    "model_list = [bayse, cnb, logistic, svm, dtree, rf, gbs, voting]\n",
    "model_flist = [bayse_f, cnb_f, logistic_f, svm_f, dtree_f, rf_f, gbs_f, voting_f]"
   ]
  },
  {
   "cell_type": "code",
   "execution_count": 42,
   "id": "global-local",
   "metadata": {},
   "outputs": [],
   "source": [
    "f1_dict = {}\n",
    "acc_dict = {}\n",
    "for idx, vs in enumerate(vocab_size_list):\n",
    "    acc_list = []\n",
    "    f1_list = []\n",
    "    for model in model_list:\n",
    "        acc_list.append(model[idx])            \n",
    "    acc_dict[vs] = max(acc_list)  # 결국 가장 높은 결과를 갖는 한 모델이 쓰인다는 생각이 들어서 평균 대신 max로 ..\n",
    "#     acc_dict[vs] = sum(acc_list)/len(model_list)\n",
    "    for model_f in model_flist:\n",
    "        f1_list.append(model_f[idx])\n",
    "    f1_dict[vs] = max(f1_list) "
   ]
  },
  {
   "cell_type": "code",
   "execution_count": 43,
   "id": "stuffed-sugar",
   "metadata": {},
   "outputs": [
    {
     "data": {
      "text/plain": [
       "{'whole': 0.8187889581478184,\n",
       " '5k': 0.8161175422974176,\n",
       " '1k': 0.7845057880676759,\n",
       " '10k': 0.8116651825467498}"
      ]
     },
     "execution_count": 43,
     "metadata": {},
     "output_type": "execute_result"
    }
   ],
   "source": [
    "acc_dict"
   ]
  },
  {
   "cell_type": "code",
   "execution_count": 44,
   "id": "fatal-madonna",
   "metadata": {},
   "outputs": [
    {
     "data": {
      "text/plain": [
       "{'whole': 0.8147231278247327,\n",
       " '5k': 0.8126712904613167,\n",
       " '1k': 0.7774656772042381,\n",
       " '10k': 0.8082216149049796}"
      ]
     },
     "execution_count": 44,
     "metadata": {},
     "output_type": "execute_result"
    }
   ],
   "source": [
    "f1_dict"
   ]
  },
  {
   "cell_type": "markdown",
   "id": "chronic-checkout",
   "metadata": {},
   "source": [
    "## 딥러닝 모델 학습\n",
    "---"
   ]
  },
  {
   "cell_type": "markdown",
   "id": "international-general",
   "metadata": {},
   "source": [
    "전체 데이터를 활용하는 점이 너무 큰 데이터라는 생각이 들어서,\\\n",
    "다음으로 높았던 5K 데이터를 적용하기로 했습니다."
   ]
  },
  {
   "cell_type": "code",
   "execution_count": 72,
   "id": "vietnamese-compact",
   "metadata": {},
   "outputs": [],
   "source": [
    "(x_train_5k, y_train_5k), (x_test_5k, y_test_5k) = reuters.load_data(num_words=5000, test_split=0.2)"
   ]
  },
  {
   "cell_type": "code",
   "execution_count": 49,
   "id": "pretty-malaysia",
   "metadata": {},
   "outputs": [],
   "source": [
    "# tfidfv_5k_arr = tfidfv_5k.toarray()\n",
    "# tfidfv_test_5k_arr = tfidfv_test_5k.toarray()\n",
    "# 그대로 사용하는 것은 실패했습니다. 텐서 사이즈를 못 맞췄습니다.\n",
    "\n",
    "# vocab_size = 5000\n",
    "# word_vector_dim = 32 \n",
    "\n",
    "# s = tfidfv_5k.shape\n",
    "# tfidfv_5k_m = tfidfv_5k_arr.reshape(s[0], s[1], 1)\n",
    "# inarray = (tfidfv_5k_m.shape[1], tfidfv_5k_m.shape[2])\n",
    "# dt_train = tf.data.Dataset.from_tensor_slices((tfidfv_5k_arr, y_train_5k)).batch(64)\n",
    "\n",
    "# # tfidfv_5k_m.shape\n",
    "# inarray\n",
    "# # tfidfv_5k[0].shape\n",
    "# # inarray\n",
    "# # st"
   ]
  },
  {
   "cell_type": "markdown",
   "id": "ignored-search",
   "metadata": {},
   "source": [
    "### 데이터 전처리\n",
    "---"
   ]
  },
  {
   "cell_type": "code",
   "execution_count": 73,
   "id": "waiting-promotion",
   "metadata": {},
   "outputs": [],
   "source": [
    "x_train_5ks, x_val_5ks, y_train_5ks, y_val_5ks = train_test_split(x_train_5k, \n",
    "                                                      y_train_5k,\n",
    "                                                      test_size=0.1, \n",
    "                                                      random_state=50)"
   ]
  },
  {
   "cell_type": "code",
   "execution_count": 74,
   "id": "joint-healthcare",
   "metadata": {},
   "outputs": [],
   "source": [
    "def tensorflow_dataset(input_x, input_y, buffer_size, batch_size):\n",
    "    tf_data = tf.data.Dataset.from_tensor_slices((input_x, input_y))\n",
    "    tf_data = tf_data.shuffle(buffer_size)\n",
    "    tf_data = tf_data.repeat()\n",
    "    tf_data = tf_data.batch(batch_size)\n",
    "    tf_data = tf_data.prefetch(buffer_size = -1)\n",
    "    return tf_data "
   ]
  },
  {
   "cell_type": "code",
   "execution_count": 75,
   "id": "lasting-cheese",
   "metadata": {},
   "outputs": [
    {
     "name": "stdout",
     "output_type": "stream",
     "text": [
      "문장의 최대 길이 : 2376\n"
     ]
    }
   ],
   "source": [
    "max_len = np.max(list(map(lambda x: len(x), x_train_5ks)))\n",
    "print(f\"문장의 최대 길이 : {max_len}\")\n",
    "\n",
    "\n",
    "batch_size = 32\n",
    "embedd_size = 100\n",
    "\n",
    "# 훈련셋\n",
    "pad_x_train = tf.keras.preprocessing.sequence.pad_sequences(x_train_5ks, maxlen = max_len)\n",
    "num_words = np.max(pad_x_train) + 1\n",
    "y_tmp = y_train_5ks.reshape(-1,1)\n",
    "buffer = len(y_tmp)\n",
    "tf_data = tensorflow_dataset(pad_x_train, y_tmp, buffer, batch_size)"
   ]
  },
  {
   "cell_type": "code",
   "execution_count": 76,
   "id": "formed-outreach",
   "metadata": {},
   "outputs": [],
   "source": [
    "# 테스트 셋\n",
    "total_num_test = len(x_test_5k)\n",
    "pad_x_test = tf.keras.preprocessing.sequence.pad_sequences(x_test_5k, maxlen = max_len)\n",
    "y_tmp_test = y_test_5k.reshape(-1,1)\n",
    "tf_test = tensorflow_dataset(pad_x_test, y_tmp_test, buffer, batch_size)"
   ]
  },
  {
   "cell_type": "code",
   "execution_count": 77,
   "id": "czech-greene",
   "metadata": {},
   "outputs": [],
   "source": [
    "# 발리데이션 셋\n",
    "total_num_val = len(x_val_5ks)\n",
    "pad_x_val = tf.keras.preprocessing.sequence.pad_sequences(x_val_5ks, maxlen = max_len)\n",
    "y_tmp_val = y_val_5ks.reshape(-1,1)\n",
    "tf_data_val = tensorflow_dataset(pad_x_val, y_tmp_val, buffer, batch_size)"
   ]
  },
  {
   "cell_type": "markdown",
   "id": "prostate-perception",
   "metadata": {},
   "source": [
    "### CNN 1-D 모델\n",
    "---"
   ]
  },
  {
   "cell_type": "code",
   "execution_count": 56,
   "id": "warming-reason",
   "metadata": {},
   "outputs": [
    {
     "name": "stdout",
     "output_type": "stream",
     "text": [
      "Model: \"sequential\"\n",
      "_________________________________________________________________\n",
      "Layer (type)                 Output Shape              Param #   \n",
      "=================================================================\n",
      "embedding (Embedding)        (None, None, 100)         500000    \n",
      "_________________________________________________________________\n",
      "conv1d (Conv1D)              (None, None, 64)          19264     \n",
      "_________________________________________________________________\n",
      "global_max_pooling1d (Global (None, 64)                0         \n",
      "_________________________________________________________________\n",
      "dense (Dense)                (None, 64)                4160      \n",
      "_________________________________________________________________\n",
      "dense_1 (Dense)              (None, 46)                2990      \n",
      "=================================================================\n",
      "Total params: 526,414\n",
      "Trainable params: 526,414\n",
      "Non-trainable params: 0\n",
      "_________________________________________________________________\n"
     ]
    }
   ],
   "source": [
    "model_CNN = keras.Sequential()\n",
    "model_CNN.add(keras.layers.Embedding(vocab_size, \n",
    "                                 100))\n",
    "model_CNN.add(keras.layers.Conv1D(64, kernel_size = 3))\n",
    "model_CNN.add(keras.layers.GlobalMaxPooling1D())\n",
    "model_CNN.add(keras.layers.Dense(64, activation='relu'))\n",
    "model_CNN.add(keras.layers.Dense(num_classes, activation='softmax'))\n",
    "\n",
    "model_CNN.summary()"
   ]
  },
  {
   "cell_type": "code",
   "execution_count": 57,
   "id": "religious-curtis",
   "metadata": {},
   "outputs": [
    {
     "name": "stdout",
     "output_type": "stream",
     "text": [
      "Epoch 1/20\n",
      "126/126 [==============================] - 8s 38ms/step - loss: 2.9457 - accuracy: 0.3813 - val_loss: 1.9261 - val_accuracy: 0.5625\n",
      "Epoch 2/20\n",
      "126/126 [==============================] - 4s 36ms/step - loss: 1.7039 - accuracy: 0.5681 - val_loss: 1.5240 - val_accuracy: 0.7188\n",
      "Epoch 3/20\n",
      "126/126 [==============================] - 4s 36ms/step - loss: 1.2946 - accuracy: 0.6969 - val_loss: 1.1969 - val_accuracy: 0.7188\n",
      "Epoch 4/20\n",
      "126/126 [==============================] - 4s 35ms/step - loss: 1.1017 - accuracy: 0.7493 - val_loss: 0.6516 - val_accuracy: 0.8750\n",
      "Epoch 5/20\n",
      "126/126 [==============================] - 5s 36ms/step - loss: 0.9043 - accuracy: 0.7841 - val_loss: 1.5884 - val_accuracy: 0.6562\n",
      "Epoch 6/20\n",
      "126/126 [==============================] - 4s 36ms/step - loss: 0.8854 - accuracy: 0.7872 - val_loss: 0.7775 - val_accuracy: 0.7812\n",
      "Epoch 7/20\n",
      "126/126 [==============================] - 4s 35ms/step - loss: 0.6634 - accuracy: 0.8393 - val_loss: 0.9680 - val_accuracy: 0.8125\n",
      "Epoch 8/20\n",
      "126/126 [==============================] - 5s 36ms/step - loss: 0.6626 - accuracy: 0.8429 - val_loss: 0.9560 - val_accuracy: 0.7812\n",
      "Epoch 00008: early stopping\n"
     ]
    }
   ],
   "source": [
    "es = keras.callbacks.EarlyStopping(monitor='val_loss', mode='min', verbose=1, patience=4)\n",
    "epochs=20\n",
    "batch_size=64\n",
    "\n",
    "model_CNN.compile(optimizer='adam', loss='sparse_categorical_crossentropy', metrics=['accuracy'])\n",
    "\n",
    "history_CNN = model_CNN.fit(tf_data,\n",
    "              steps_per_epoch = buffer // batch_size,\n",
    "              epochs = 20, validation_data = tf_data_val, validation_steps=1, callbacks = [es])"
   ]
  },
  {
   "cell_type": "code",
   "execution_count": 59,
   "id": "wrapped-formation",
   "metadata": {},
   "outputs": [],
   "source": [
    "def visualize_train(train_history):\n",
    "    # summarize history for accuracy\n",
    "    plt.plot(train_history.history['accuracy'])\n",
    "    plt.plot(train_history.history['val_accuracy'])\n",
    "    plt.title('accuracy')\n",
    "    plt.ylabel('accuracy')\n",
    "    plt.xlabel('epoch')\n",
    "    plt.legend(['train', 'val'], loc='upper left')\n",
    "    plt.show()\n",
    "    # summarize history for loss\n",
    "    plt.plot(train_history.history['loss'])\n",
    "    plt.plot(train_history.history['val_loss'])\n",
    "    plt.title('loss')\n",
    "    plt.ylabel('loss')\n",
    "    plt.xlabel('epoch')\n",
    "    plt.legend(['train', 'val'], loc='upper left')\n",
    "    plt.show()"
   ]
  },
  {
   "cell_type": "code",
   "execution_count": 60,
   "id": "assigned-attribute",
   "metadata": {},
   "outputs": [
    {
     "data": {
      "image/png": "[encoded data removed]",
      "text/plain": [
       "<Figure size 432x288 with 1 Axes>"
      ]
     },
     "metadata": {
      "needs_background": "light"
     },
     "output_type": "display_data"
    },
    {
     "data": {
      "image/png": "[encoded data removed]",
      "text/plain": [
       "<Figure size 432x288 with 1 Axes>"
      ]
     },
     "metadata": {
      "needs_background": "light"
     },
     "output_type": "display_data"
    }
   ],
   "source": [
    "visualize_train(history_CNN)"
   ]
  },
  {
   "cell_type": "code",
   "execution_count": 61,
   "id": "congressional-candy",
   "metadata": {},
   "outputs": [
    {
     "name": "stdout",
     "output_type": "stream",
     "text": [
      "35/35 [==============================] - 1s 14ms/step - loss: 0.9289 - accuracy: 0.7812\n",
      "[0.928906261920929, 0.78125]\n"
     ]
    }
   ],
   "source": [
    "results = model_CNN.evaluate(tf_test,  steps = total_num_test // batch_size)\n",
    "print(results)"
   ]
  },
  {
   "cell_type": "code",
   "execution_count": 62,
   "id": "artificial-variation",
   "metadata": {},
   "outputs": [
    {
     "name": "stdout",
     "output_type": "stream",
     "text": [
      "              precision    recall  f1-score   support\n",
      "\n",
      "           0       0.82      0.75      0.78        12\n",
      "           1       0.72      0.89      0.79       105\n",
      "           2       0.48      0.75      0.59        20\n",
      "           3       0.91      0.95      0.93       813\n",
      "           4       0.82      0.87      0.84       474\n",
      "           5       0.00      0.00      0.00         5\n",
      "           6       0.87      0.93      0.90        14\n",
      "           7       1.00      0.33      0.50         3\n",
      "           8       0.57      0.61      0.59        38\n",
      "           9       0.76      0.88      0.81        25\n",
      "          10       0.88      0.97      0.92        30\n",
      "          11       0.74      0.66      0.70        83\n",
      "          12       0.67      0.15      0.25        13\n",
      "          13       0.64      0.57      0.60        37\n",
      "          14       0.00      0.00      0.00         2\n",
      "          15       0.00      0.00      0.00         9\n",
      "          16       0.65      0.86      0.74        99\n",
      "          17       0.50      0.08      0.14        12\n",
      "          18       0.55      0.55      0.55        20\n",
      "          19       0.58      0.80      0.68       133\n",
      "          20       0.71      0.36      0.48        70\n",
      "          21       0.69      0.67      0.68        27\n",
      "          22       0.00      0.00      0.00         7\n",
      "          23       0.00      0.00      0.00        12\n",
      "          24       0.67      0.11      0.18        19\n",
      "          25       0.85      0.90      0.88        31\n",
      "          26       0.50      0.12      0.20         8\n",
      "          27       0.00      0.00      0.00         4\n",
      "          28       0.00      0.00      0.00        10\n",
      "          29       0.00      0.00      0.00         4\n",
      "          30       1.00      0.50      0.67        12\n",
      "          31       0.23      0.54      0.32        13\n",
      "          32       1.00      0.40      0.57        10\n",
      "          33       0.00      0.00      0.00         5\n",
      "          34       0.42      0.71      0.53         7\n",
      "          35       0.00      0.00      0.00         6\n",
      "          36       0.60      0.27      0.37        11\n",
      "          37       0.00      0.00      0.00         2\n",
      "          38       1.00      0.33      0.50         3\n",
      "          39       0.00      0.00      0.00         5\n",
      "          40       0.00      0.00      0.00        10\n",
      "          41       0.00      0.00      0.00         8\n",
      "          42       0.00      0.00      0.00         3\n",
      "          43       0.00      0.00      0.00         6\n",
      "          44       1.00      0.80      0.89         5\n",
      "          45       0.00      0.00      0.00         1\n",
      "\n",
      "    accuracy                           0.79      2246\n",
      "   macro avg       0.45      0.38      0.38      2246\n",
      "weighted avg       0.76      0.79      0.76      2246\n",
      "\n"
     ]
    },
    {
     "name": "stderr",
     "output_type": "stream",
     "text": [
      "/opt/conda/lib/python3.7/site-packages/sklearn/metrics/_classification.py:1221: UndefinedMetricWarning: Precision and F-score are ill-defined and being set to 0.0 in labels with no predicted samples. Use `zero_division` parameter to control this behavior.\n",
      "  _warn_prf(average, modifier, msg_start, len(result))\n"
     ]
    }
   ],
   "source": [
    "y_pred_5k_C = model_CNN.predict(pad_x_test)\n",
    "y_pred_5k_C = np.argmax(y_pred_5k_C, axis = 1)\n",
    "print(classification_report(y_test_5k, y_pred_5k_C))"
   ]
  },
  {
   "cell_type": "code",
   "execution_count": 63,
   "id": "final-episode",
   "metadata": {},
   "outputs": [],
   "source": [
    "def graph_confusion_matrix(model, x_test, y_test):#, classes_name):\n",
    "    df_cm = pd.DataFrame(confusion_matrix(y_test, model.predict(x_test).argmax(axis=1)))#, index=classes_name, columns=classes_name)\n",
    "    fig = plt.figure(figsize=(15,15))\n",
    "    heatmap = sns.heatmap(df_cm, annot=True, fmt=\"d\")\n",
    "    heatmap.yaxis.set_ticklabels(heatmap.yaxis.get_ticklabels(), rotation=0, ha='right', fontsize=12)\n",
    "    heatmap.xaxis.set_ticklabels(heatmap.xaxis.get_ticklabels(), rotation=45, ha='right', fontsize=12)\n",
    "    plt.ylabel('label')\n",
    "    plt.xlabel('predicted value')"
   ]
  },
  {
   "cell_type": "code",
   "execution_count": 64,
   "id": "prepared-nowhere",
   "metadata": {},
   "outputs": [
    {
     "data": {
      "image/png": "[encoded data removed]",
      "text/plain": [
       "<Figure size 1080x1080 with 2 Axes>"
      ]
     },
     "metadata": {
      "needs_background": "light"
     },
     "output_type": "display_data"
    }
   ],
   "source": [
    "graph_confusion_matrix(model_CNN, pad_x_test, y_pred_5k_C)"
   ]
  },
  {
   "cell_type": "markdown",
   "id": "engaged-apple",
   "metadata": {},
   "source": []
  },
  {
   "cell_type": "markdown",
   "id": "english-reverse",
   "metadata": {},
   "source": [
    "### LSTM 모델\n",
    "---"
   ]
  },
  {
   "cell_type": "code",
   "execution_count": 65,
   "id": "rational-forth",
   "metadata": {},
   "outputs": [
    {
     "name": "stdout",
     "output_type": "stream",
     "text": [
      "Model: \"sequential_1\"\n",
      "_________________________________________________________________\n",
      "Layer (type)                 Output Shape              Param #   \n",
      "=================================================================\n",
      "embedding_1 (Embedding)      (None, None, 100)         500000    \n",
      "_________________________________________________________________\n",
      "lstm (LSTM)                  (None, 128)               117248    \n",
      "_________________________________________________________________\n",
      "dense_2 (Dense)              (None, 128)               16512     \n",
      "_________________________________________________________________\n",
      "dense_3 (Dense)              (None, 46)                5934      \n",
      "=================================================================\n",
      "Total params: 639,694\n",
      "Trainable params: 639,694\n",
      "Non-trainable params: 0\n",
      "_________________________________________________________________\n"
     ]
    }
   ],
   "source": [
    "vocab_size = 5000\n",
    "word_vector_dim = 100  \n",
    "\n",
    "model_LSTM = keras.Sequential()\n",
    "model_LSTM.add(keras.layers.Embedding(vocab_size, \n",
    "                                 word_vector_dim))\n",
    "model_LSTM.add(keras.layers.LSTM(128))\n",
    "# model_LSTM.add(keras.layers.Dense(512, activation='relu'))\n",
    "# model_LSTM.add(keras.layers.Dropout(0.3))\n",
    "model_LSTM.add(keras.layers.Dense(128, activation='relu'))\n",
    "# model_LSTM.add(keras.layers.Dropout(0.3))\n",
    "model_LSTM.add(keras.layers.Dense(num_classes, activation='softmax'))  \n",
    "\n",
    "model_LSTM.summary()"
   ]
  },
  {
   "cell_type": "code",
   "execution_count": 66,
   "id": "unique-pound",
   "metadata": {},
   "outputs": [
    {
     "name": "stdout",
     "output_type": "stream",
     "text": [
      "Epoch 1/20\n",
      "126/126 [==============================] - 43s 323ms/step - loss: 2.7983 - accuracy: 0.3309 - val_loss: 2.1688 - val_accuracy: 0.4688\n",
      "Epoch 2/20\n",
      "126/126 [==============================] - 40s 320ms/step - loss: 2.1182 - accuracy: 0.4625 - val_loss: 2.3063 - val_accuracy: 0.4375\n",
      "Epoch 3/20\n",
      "126/126 [==============================] - 40s 320ms/step - loss: 2.4009 - accuracy: 0.4011 - val_loss: 1.9765 - val_accuracy: 0.5000\n",
      "Epoch 4/20\n",
      "126/126 [==============================] - 40s 321ms/step - loss: 1.9662 - accuracy: 0.4840 - val_loss: 1.9110 - val_accuracy: 0.5000\n",
      "Epoch 5/20\n",
      "126/126 [==============================] - 40s 316ms/step - loss: 1.6783 - accuracy: 0.5535 - val_loss: 2.0943 - val_accuracy: 0.4688\n",
      "Epoch 6/20\n",
      "126/126 [==============================] - 40s 316ms/step - loss: 1.6432 - accuracy: 0.5707 - val_loss: 1.1252 - val_accuracy: 0.7812\n",
      "Epoch 7/20\n",
      "126/126 [==============================] - 42s 336ms/step - loss: 1.6037 - accuracy: 0.5828 - val_loss: 1.7669 - val_accuracy: 0.5938\n",
      "Epoch 8/20\n",
      "126/126 [==============================] - 43s 339ms/step - loss: 1.5409 - accuracy: 0.6036 - val_loss: 1.1360 - val_accuracy: 0.6562\n",
      "Epoch 9/20\n",
      "126/126 [==============================] - 42s 337ms/step - loss: 1.4693 - accuracy: 0.6279 - val_loss: 1.3773 - val_accuracy: 0.6562\n",
      "Epoch 10/20\n",
      "126/126 [==============================] - 40s 316ms/step - loss: 1.4573 - accuracy: 0.6311 - val_loss: 1.9104 - val_accuracy: 0.5625\n",
      "Epoch 00010: early stopping\n"
     ]
    }
   ],
   "source": [
    "es = keras.callbacks.EarlyStopping(monitor='val_loss', mode='min', verbose=1, patience=4)\n",
    "\n",
    "model_LSTM.compile(optimizer='adam',\n",
    "              loss='sparse_categorical_crossentropy',\n",
    "              metrics=['accuracy'])\n",
    "            \n",
    "epochs=20\n",
    "batch_size=64\n",
    "\n",
    "history_LSTM = model_LSTM.fit(tf_data,\n",
    "              steps_per_epoch = buffer // batch_size,\n",
    "              epochs = 20, validation_data = tf_data_val, validation_steps=1, callbacks = [es])\n",
    "\n",
    "\n",
    "\n",
    "# history_LSTM = model_LSTM.fit(tfidfv_5k_arr,\n",
    "#                                 y_train_5k,\n",
    "#                                 epochs=epochs,\n",
    "#                                 batch_size=batch_size,\n",
    "#                                 callbacks=[es],\n",
    "#                                 validation_split=0.2,\n",
    "#                                 verbose=1)"
   ]
  },
  {
   "cell_type": "code",
   "execution_count": 67,
   "id": "going-cooper",
   "metadata": {},
   "outputs": [
    {
     "name": "stdout",
     "output_type": "stream",
     "text": [
      "35/35 [==============================] - 4s 109ms/step - loss: 1.5334 - accuracy: 0.6330\n",
      "[1.5334010124206543, 0.6330357193946838]\n"
     ]
    }
   ],
   "source": [
    "results = model_LSTM.evaluate(tf_test,  steps = total_num_test // batch_size)\n",
    "print(results)"
   ]
  },
  {
   "cell_type": "code",
   "execution_count": 79,
   "id": "stuck-shadow",
   "metadata": {},
   "outputs": [
    {
     "name": "stdout",
     "output_type": "stream",
     "text": [
      "              precision    recall  f1-score   support\n",
      "\n",
      "           0       0.00      0.00      0.00        12\n",
      "           1       0.18      0.88      0.29       105\n",
      "           2       0.00      0.00      0.00        20\n",
      "           3       0.94      0.93      0.93       813\n",
      "           4       0.71      0.90      0.80       474\n",
      "           5       0.00      0.00      0.00         5\n",
      "           6       0.00      0.00      0.00        14\n",
      "           7       0.00      0.00      0.00         3\n",
      "           8       0.00      0.00      0.00        38\n",
      "           9       0.00      0.00      0.00        25\n",
      "          10       0.00      0.00      0.00        30\n",
      "          11       0.26      0.10      0.14        83\n",
      "          12       0.00      0.00      0.00        13\n",
      "          13       0.00      0.00      0.00        37\n",
      "          14       0.00      0.00      0.00         2\n",
      "          15       0.00      0.00      0.00         9\n",
      "          16       0.34      0.15      0.21        99\n",
      "          17       0.00      0.00      0.00        12\n",
      "          18       0.00      0.00      0.00        20\n",
      "          19       0.38      0.70      0.49       133\n",
      "          20       0.00      0.00      0.00        70\n",
      "          21       0.00      0.00      0.00        27\n",
      "          22       0.00      0.00      0.00         7\n",
      "          23       0.00      0.00      0.00        12\n",
      "          24       0.00      0.00      0.00        19\n",
      "          25       0.00      0.00      0.00        31\n",
      "          26       0.00      0.00      0.00         8\n",
      "          27       0.00      0.00      0.00         4\n",
      "          28       0.00      0.00      0.00        10\n",
      "          29       0.00      0.00      0.00         4\n",
      "          30       0.00      0.00      0.00        12\n",
      "          31       0.00      0.00      0.00        13\n",
      "          32       0.00      0.00      0.00        10\n",
      "          33       0.00      0.00      0.00         5\n",
      "          34       0.00      0.00      0.00         7\n",
      "          35       0.00      0.00      0.00         6\n",
      "          36       0.00      0.00      0.00        11\n",
      "          37       0.00      0.00      0.00         2\n",
      "          38       0.00      0.00      0.00         3\n",
      "          39       0.00      0.00      0.00         5\n",
      "          40       0.00      0.00      0.00        10\n",
      "          41       0.00      0.00      0.00         8\n",
      "          42       0.00      0.00      0.00         3\n",
      "          43       0.00      0.00      0.00         6\n",
      "          44       0.00      0.00      0.00         5\n",
      "          45       0.00      0.00      0.00         1\n",
      "\n",
      "    accuracy                           0.62      2246\n",
      "   macro avg       0.06      0.08      0.06      2246\n",
      "weighted avg       0.54      0.62      0.56      2246\n",
      "\n"
     ]
    }
   ],
   "source": [
    "y_pred_5k_l = model_LSTM.predict(pad_x_test)\n",
    "y_pred_5k_l = np.argmax(y_pred_5k_l, axis = 1)\n",
    "print(classification_report(y_test_5k, y_pred_5k_l))"
   ]
  },
  {
   "cell_type": "code",
   "execution_count": 80,
   "id": "under-appliance",
   "metadata": {},
   "outputs": [
    {
     "data": {
      "image/png": "[encoded data removed]",
      "text/plain": [
       "<Figure size 432x288 with 1 Axes>"
      ]
     },
     "metadata": {
      "needs_background": "light"
     },
     "output_type": "display_data"
    },
    {
     "data": {
      "image/png": "[encoded data removed]",
      "text/plain": [
       "<Figure size 432x288 with 1 Axes>"
      ]
     },
     "metadata": {
      "needs_background": "light"
     },
     "output_type": "display_data"
    }
   ],
   "source": [
    "visualize_train(history_LSTM)"
   ]
  },
  {
   "cell_type": "code",
   "execution_count": 81,
   "id": "hungarian-selection",
   "metadata": {
    "scrolled": true
   },
   "outputs": [
    {
     "data": {
      "image/png": "[encoded data removed]",
      "text/plain": [
       "<Figure size 1080x1080 with 2 Axes>"
      ]
     },
     "metadata": {
      "needs_background": "light"
     },
     "output_type": "display_data"
    }
   ],
   "source": [
    "graph_confusion_matrix(model_LSTM, pad_x_test, y_pred_5k_l)"
   ]
  },
  {
   "cell_type": "markdown",
   "id": "stainless-integration",
   "metadata": {},
   "source": [
    "### 결과\n",
    "---\n",
    "\n",
    "최종적으로 전체 단어를 그대로 이용한 모델이 제일 우수한 정확도(약 0.8188)와 f1 score(약 0.8147)를 나타냈습니다.\\\n",
    "모델은 앙상블 기법을 이용하는 voting이 제일 높은 값을 보이고 있습니다.\\\n",
    "모델 중에 voting이 가장 높은 값을 나타내는 이유는 다른 모델들을 이용해서 결과에 대한 각각의 최종값을\\\n",
    "도출하는 방식이기 때문입니다.\n",
    "\n",
    "다만 전체단어가 가장 높고 두 번째로 높은 값이 단어 수 5000개의 모델이어서,\\\n",
    "단어수는 voting모델에서 정확도를 올리는 데 중요한 지표가 아닐 수도 있겠다는 생각이 듭니다.\\\n",
    "물론 단어 수가 1000인 모델의 정확도 저하는 단어 수에 기인 할 수 있겠지만..\n",
    "\n",
    "딥러닝 모델은 LSTM과 CNN 1-D 모델을 적용해서 생성했습니다.\\\n",
    "정확도는 다음과 같습니다.\\\n",
    "CNN 1-D는 0.7812\\\n",
    "LSTM은 0.6330\n",
    "\n",
    "모두 단어 5000개의 voting모델에서 정확도는 약 0.8161입니다.\\\n",
    "따라서, 가장 좋은 성능을 보이는 것은 voting모델이었습니다."
   ]
  },
  {
   "cell_type": "markdown",
   "id": "amino-congo",
   "metadata": {},
   "source": [
    "### 회고\n",
    "---\n",
    "TF-IDF를 딥러닝에 그대로 적용해서 딥러닝모델을 생성해보려고 시도했지만,\\\n",
    "결국 텐서 사이즈가 일치하는 않는 오류가 뜨고,\\\n",
    "이를 해결해도 학습이 전혀 진행되지 않는 결과를 보여서(val정확도가 불변)\\\n",
    "결국, 창현님의 데이터셋 생성 코드를 퍼와서 딥러닝모델을 만들었습니다.\\\n",
    "텐서플로우 사용법에 대한 이해부족을 새삼 깊게 느끼게 된 노드였습니다.\n",
    "\n",
    "그리고 이번에 classification_report결과를 읽는 방법을\n",
    "https://blog.naver.com/PostView.naver?blogId=hannaurora&logNo=222498671200&parentCategoryNo=&categoryNo=41&viewDate=&isShowPopularPosts=true&from=search\n",
    "를 통하여 알 수 있게 되었습니다.\n"
   ]
  }
 ],
 "metadata": {
  "kernelspec": {
   "display_name": "Python 3",
   "language": "python",
   "name": "python3"
  },
  "language_info": {
   "codemirror_mode": {
    "name": "ipython",
    "version": 3
   },
   "file_extension": ".py",
   "mimetype": "text/x-python",
   "name": "python",
   "nbconvert_exporter": "python",
   "pygments_lexer": "ipython3",
   "version": "3.7.9"
  }
 },
 "nbformat": 4,
 "nbformat_minor": 5
}
