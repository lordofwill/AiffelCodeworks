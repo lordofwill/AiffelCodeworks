{
 "cells": [
  {
   "cell_type": "markdown",
   "id": "interpreted-status",
   "metadata": {},
   "source": [
    "### library import\n",
    "---\n",
    "사용 할 패키지를 미리 가져옵니다."
   ]
  },
  {
   "cell_type": "code",
   "execution_count": 59,
   "id": "suitable-patch",
   "metadata": {},
   "outputs": [],
   "source": [
    "import pandas as pd\n",
    "import os\n",
    "from scipy.sparse import csr_matrix\n",
    "from implicit.als import AlternatingLeastSquares\n",
    "import os\n",
    "import numpy as np"
   ]
  },
  {
   "cell_type": "markdown",
   "id": "chinese-cherry",
   "metadata": {},
   "source": [
    "### 데이터 전처리\n",
    "---\n",
    "영화이름이 적힌 데이터와 영화시청 데이터를 각각 받은 뒤, movie_id수와 title수를 비교하여 동명의 영화존재여부를 확인했습니다.\\\n",
    "동명의 영화가 존재하지 않는 다는 것을 확인한 뒤, 두 데이터를 합치고, 사용하는 것만 남겼습니다."
   ]
  },
  {
   "cell_type": "code",
   "execution_count": 60,
   "id": "relevant-conversion",
   "metadata": {},
   "outputs": [
    {
     "data": {
      "text/html": [
       "<div>\n",
       "<style scoped>\n",
       "    .dataframe tbody tr th:only-of-type {\n",
       "        vertical-align: middle;\n",
       "    }\n",
       "\n",
       "    .dataframe tbody tr th {\n",
       "        vertical-align: top;\n",
       "    }\n",
       "\n",
       "    .dataframe thead th {\n",
       "        text-align: right;\n",
       "    }\n",
       "</style>\n",
       "<table border=\"1\" class=\"dataframe\">\n",
       "  <thead>\n",
       "    <tr style=\"text-align: right;\">\n",
       "      <th></th>\n",
       "      <th>user_id</th>\n",
       "      <th>movie_id</th>\n",
       "      <th>ratings</th>\n",
       "      <th>timestamp</th>\n",
       "    </tr>\n",
       "  </thead>\n",
       "  <tbody>\n",
       "    <tr>\n",
       "      <th>0</th>\n",
       "      <td>1</td>\n",
       "      <td>1193</td>\n",
       "      <td>5</td>\n",
       "      <td>978300760</td>\n",
       "    </tr>\n",
       "    <tr>\n",
       "      <th>1</th>\n",
       "      <td>1</td>\n",
       "      <td>661</td>\n",
       "      <td>3</td>\n",
       "      <td>978302109</td>\n",
       "    </tr>\n",
       "    <tr>\n",
       "      <th>2</th>\n",
       "      <td>1</td>\n",
       "      <td>914</td>\n",
       "      <td>3</td>\n",
       "      <td>978301968</td>\n",
       "    </tr>\n",
       "    <tr>\n",
       "      <th>3</th>\n",
       "      <td>1</td>\n",
       "      <td>3408</td>\n",
       "      <td>4</td>\n",
       "      <td>978300275</td>\n",
       "    </tr>\n",
       "    <tr>\n",
       "      <th>4</th>\n",
       "      <td>1</td>\n",
       "      <td>2355</td>\n",
       "      <td>5</td>\n",
       "      <td>978824291</td>\n",
       "    </tr>\n",
       "  </tbody>\n",
       "</table>\n",
       "</div>"
      ],
      "text/plain": [
       "   user_id  movie_id  ratings  timestamp\n",
       "0        1      1193        5  978300760\n",
       "1        1       661        3  978302109\n",
       "2        1       914        3  978301968\n",
       "3        1      3408        4  978300275\n",
       "4        1      2355        5  978824291"
      ]
     },
     "execution_count": 60,
     "metadata": {},
     "output_type": "execute_result"
    }
   ],
   "source": [
    "rating_file_path=os.getenv('HOME') + '/aiffel/recommendata_iu/data/ml-1m/ratings.dat'\n",
    "ratings_cols = ['user_id', 'movie_id', 'ratings', 'timestamp']\n",
    "ratings = pd.read_csv(rating_file_path, sep='::', names=ratings_cols, engine='python', encoding = \"ISO-8859-1\")\n",
    "orginal_data_size = len(ratings)\n",
    "ratings.head()"
   ]
  },
  {
   "cell_type": "code",
   "execution_count": 61,
   "id": "continent-bobby",
   "metadata": {},
   "outputs": [
    {
     "name": "stdout",
     "output_type": "stream",
     "text": [
      "orginal_data_size: 1000209, filtered_data_size: 836478\n",
      "Ratio of Remaining Data is 83.63%\n"
     ]
    }
   ],
   "source": [
    "ratings = ratings[ratings['ratings']>=3]\n",
    "filtered_data_size = len(ratings)\n",
    "\n",
    "print(f'orginal_data_size: {orginal_data_size}, filtered_data_size: {filtered_data_size}')\n",
    "print(f'Ratio of Remaining Data is {filtered_data_size / orginal_data_size:.2%}')"
   ]
  },
  {
   "cell_type": "code",
   "execution_count": 62,
   "id": "alternative-institute",
   "metadata": {
    "scrolled": true
   },
   "outputs": [
    {
     "data": {
      "text/plain": [
       "0          5\n",
       "1          3\n",
       "2          3\n",
       "3          4\n",
       "4          5\n",
       "          ..\n",
       "1000203    3\n",
       "1000205    5\n",
       "1000206    5\n",
       "1000207    4\n",
       "1000208    4\n",
       "Name: counts, Length: 836478, dtype: int64"
      ]
     },
     "execution_count": 62,
     "metadata": {},
     "output_type": "execute_result"
    }
   ],
   "source": [
    "# ratings 컬럼의 이름을 counts로 바꿉니다.\n",
    "ratings.rename(columns={'ratings':'counts'}, inplace=True)\n",
    "ratings['counts']"
   ]
  },
  {
   "cell_type": "code",
   "execution_count": 63,
   "id": "binding-seeking",
   "metadata": {},
   "outputs": [
    {
     "data": {
      "text/html": [
       "<div>\n",
       "<style scoped>\n",
       "    .dataframe tbody tr th:only-of-type {\n",
       "        vertical-align: middle;\n",
       "    }\n",
       "\n",
       "    .dataframe tbody tr th {\n",
       "        vertical-align: top;\n",
       "    }\n",
       "\n",
       "    .dataframe thead th {\n",
       "        text-align: right;\n",
       "    }\n",
       "</style>\n",
       "<table border=\"1\" class=\"dataframe\">\n",
       "  <thead>\n",
       "    <tr style=\"text-align: right;\">\n",
       "      <th></th>\n",
       "      <th>movie_id</th>\n",
       "      <th>title</th>\n",
       "      <th>genre</th>\n",
       "    </tr>\n",
       "  </thead>\n",
       "  <tbody>\n",
       "    <tr>\n",
       "      <th>0</th>\n",
       "      <td>1</td>\n",
       "      <td>Toy Story (1995)</td>\n",
       "      <td>Animation|Children's|Comedy</td>\n",
       "    </tr>\n",
       "    <tr>\n",
       "      <th>1</th>\n",
       "      <td>2</td>\n",
       "      <td>Jumanji (1995)</td>\n",
       "      <td>Adventure|Children's|Fantasy</td>\n",
       "    </tr>\n",
       "    <tr>\n",
       "      <th>2</th>\n",
       "      <td>3</td>\n",
       "      <td>Grumpier Old Men (1995)</td>\n",
       "      <td>Comedy|Romance</td>\n",
       "    </tr>\n",
       "    <tr>\n",
       "      <th>3</th>\n",
       "      <td>4</td>\n",
       "      <td>Waiting to Exhale (1995)</td>\n",
       "      <td>Comedy|Drama</td>\n",
       "    </tr>\n",
       "    <tr>\n",
       "      <th>4</th>\n",
       "      <td>5</td>\n",
       "      <td>Father of the Bride Part II (1995)</td>\n",
       "      <td>Comedy</td>\n",
       "    </tr>\n",
       "  </tbody>\n",
       "</table>\n",
       "</div>"
      ],
      "text/plain": [
       "   movie_id                               title                         genre\n",
       "0         1                    Toy Story (1995)   Animation|Children's|Comedy\n",
       "1         2                      Jumanji (1995)  Adventure|Children's|Fantasy\n",
       "2         3             Grumpier Old Men (1995)                Comedy|Romance\n",
       "3         4            Waiting to Exhale (1995)                  Comedy|Drama\n",
       "4         5  Father of the Bride Part II (1995)                        Comedy"
      ]
     },
     "execution_count": 63,
     "metadata": {},
     "output_type": "execute_result"
    }
   ],
   "source": [
    "# 영화 제목을 보기 위해 메타 데이터를 읽어옵니다.\n",
    "movie_file_path=os.getenv('HOME') + '/aiffel/recommendata_iu/data/ml-1m/movies.dat'\n",
    "cols = ['movie_id', 'title', 'genre'] \n",
    "movies = pd.read_csv(movie_file_path, sep='::', names=cols, engine='python', encoding='ISO-8859-1')\n",
    "movies.head()"
   ]
  },
  {
   "cell_type": "code",
   "execution_count": 64,
   "id": "running-equity",
   "metadata": {},
   "outputs": [
    {
     "data": {
      "text/html": [
       "<div>\n",
       "<style scoped>\n",
       "    .dataframe tbody tr th:only-of-type {\n",
       "        vertical-align: middle;\n",
       "    }\n",
       "\n",
       "    .dataframe tbody tr th {\n",
       "        vertical-align: top;\n",
       "    }\n",
       "\n",
       "    .dataframe thead th {\n",
       "        text-align: right;\n",
       "    }\n",
       "</style>\n",
       "<table border=\"1\" class=\"dataframe\">\n",
       "  <thead>\n",
       "    <tr style=\"text-align: right;\">\n",
       "      <th></th>\n",
       "      <th>user_id</th>\n",
       "      <th>title</th>\n",
       "      <th>counts</th>\n",
       "    </tr>\n",
       "  </thead>\n",
       "  <tbody>\n",
       "    <tr>\n",
       "      <th>0</th>\n",
       "      <td>1</td>\n",
       "      <td>One Flew Over the Cuckoo's Nest (1975)</td>\n",
       "      <td>5</td>\n",
       "    </tr>\n",
       "    <tr>\n",
       "      <th>1</th>\n",
       "      <td>2</td>\n",
       "      <td>One Flew Over the Cuckoo's Nest (1975)</td>\n",
       "      <td>5</td>\n",
       "    </tr>\n",
       "    <tr>\n",
       "      <th>2</th>\n",
       "      <td>12</td>\n",
       "      <td>One Flew Over the Cuckoo's Nest (1975)</td>\n",
       "      <td>4</td>\n",
       "    </tr>\n",
       "    <tr>\n",
       "      <th>3</th>\n",
       "      <td>15</td>\n",
       "      <td>One Flew Over the Cuckoo's Nest (1975)</td>\n",
       "      <td>4</td>\n",
       "    </tr>\n",
       "    <tr>\n",
       "      <th>4</th>\n",
       "      <td>17</td>\n",
       "      <td>One Flew Over the Cuckoo's Nest (1975)</td>\n",
       "      <td>5</td>\n",
       "    </tr>\n",
       "  </tbody>\n",
       "</table>\n",
       "</div>"
      ],
      "text/plain": [
       "   user_id                                   title  counts\n",
       "0        1  One Flew Over the Cuckoo's Nest (1975)       5\n",
       "1        2  One Flew Over the Cuckoo's Nest (1975)       5\n",
       "2       12  One Flew Over the Cuckoo's Nest (1975)       4\n",
       "3       15  One Flew Over the Cuckoo's Nest (1975)       4\n",
       "4       17  One Flew Over the Cuckoo's Nest (1975)       5"
      ]
     },
     "execution_count": 64,
     "metadata": {},
     "output_type": "execute_result"
    }
   ],
   "source": [
    "data=pd.merge(ratings, movies, on='movie_id')\n",
    "using_cols = ['user_id', 'title', 'counts']\n",
    "data=data[using_cols]\n",
    "data.head()"
   ]
  },
  {
   "cell_type": "markdown",
   "id": "unique-retailer",
   "metadata": {},
   "source": [
    "### 데이터 탐색\n",
    "---\n",
    "ratings에 있는 유니크한 영화 개수\\\n",
    "ratings에 있는 유니크한 사용자 수\\\n",
    "가장 인기 있는 영화 30개(인기순)\\\n",
    "에 대한 정보를 확인했습니다.\n"
   ]
  },
  {
   "cell_type": "code",
   "execution_count": 65,
   "id": "purple-photographer",
   "metadata": {},
   "outputs": [
    {
     "data": {
      "text/plain": [
       "3628"
      ]
     },
     "execution_count": 65,
     "metadata": {},
     "output_type": "execute_result"
    }
   ],
   "source": [
    "# data['movie_id'].nunique()\n",
    "data['title'].nunique()"
   ]
  },
  {
   "cell_type": "code",
   "execution_count": 66,
   "id": "ecological-fourth",
   "metadata": {},
   "outputs": [
    {
     "data": {
      "text/plain": [
       "6039"
      ]
     },
     "execution_count": 66,
     "metadata": {},
     "output_type": "execute_result"
    }
   ],
   "source": [
    "data['user_id'].nunique()"
   ]
  },
  {
   "cell_type": "code",
   "execution_count": 67,
   "id": "civic-captain",
   "metadata": {},
   "outputs": [
    {
     "data": {
      "text/plain": [
       "title\n",
       "American Beauty (1999)                                   3211\n",
       "Star Wars: Episode IV - A New Hope (1977)                2910\n",
       "Star Wars: Episode V - The Empire Strikes Back (1980)    2885\n",
       "Star Wars: Episode VI - Return of the Jedi (1983)        2716\n",
       "Saving Private Ryan (1998)                               2561\n",
       "Terminator 2: Judgment Day (1991)                        2509\n",
       "Silence of the Lambs, The (1991)                         2498\n",
       "Raiders of the Lost Ark (1981)                           2473\n",
       "Back to the Future (1985)                                2460\n",
       "Matrix, The (1999)                                       2434\n",
       "Jurassic Park (1993)                                     2413\n",
       "Sixth Sense, The (1999)                                  2385\n",
       "Fargo (1996)                                             2371\n",
       "Braveheart (1995)                                        2314\n",
       "Men in Black (1997)                                      2297\n",
       "Schindler's List (1993)                                  2257\n",
       "Princess Bride, The (1987)                               2252\n",
       "Shakespeare in Love (1998)                               2213\n",
       "L.A. Confidential (1997)                                 2210\n",
       "Shawshank Redemption, The (1994)                         2194\n",
       "Godfather, The (1972)                                    2167\n",
       "Groundhog Day (1993)                                     2121\n",
       "E.T. the Extra-Terrestrial (1982)                        2102\n",
       "Being John Malkovich (1999)                              2066\n",
       "Ghostbusters (1984)                                      2051\n",
       "Pulp Fiction (1994)                                      2030\n",
       "Forrest Gump (1994)                                      2022\n",
       "Terminator, The (1984)                                   2019\n",
       "Toy Story (1995)                                         2000\n",
       "Fugitive, The (1993)                                     1941\n",
       "Name: user_id, dtype: int64"
      ]
     },
     "execution_count": 67,
     "metadata": {},
     "output_type": "execute_result"
    }
   ],
   "source": [
    "movies_count = data.groupby('title')['user_id'].count()\n",
    "movies_count.sort_values(ascending=False).head(30)"
   ]
  },
  {
   "cell_type": "markdown",
   "id": "stable-semiconductor",
   "metadata": {},
   "source": [
    "### 사용자 초기정보입력\n",
    "---\n",
    "선호하는 영화를 5가지 골라서 ratings에 추가했습니다.\\\n",
    "추가하는 과정에서 인덱싱이 잘 못되서 실행을 몇 번 반복했지만, 코드 상의 문제를 발견하기 전에 제대로 실행됬습니다"
   ]
  },
  {
   "cell_type": "code",
   "execution_count": 68,
   "id": "acceptable-honolulu",
   "metadata": {},
   "outputs": [
    {
     "data": {
      "text/html": [
       "<div>\n",
       "<style scoped>\n",
       "    .dataframe tbody tr th:only-of-type {\n",
       "        vertical-align: middle;\n",
       "    }\n",
       "\n",
       "    .dataframe tbody tr th {\n",
       "        vertical-align: top;\n",
       "    }\n",
       "\n",
       "    .dataframe thead th {\n",
       "        text-align: right;\n",
       "    }\n",
       "</style>\n",
       "<table border=\"1\" class=\"dataframe\">\n",
       "  <thead>\n",
       "    <tr style=\"text-align: right;\">\n",
       "      <th></th>\n",
       "      <th>user_id</th>\n",
       "      <th>title</th>\n",
       "      <th>counts</th>\n",
       "    </tr>\n",
       "  </thead>\n",
       "  <tbody>\n",
       "    <tr>\n",
       "      <th>836473</th>\n",
       "      <td>5851</td>\n",
       "      <td>One Little Indian (1973)</td>\n",
       "      <td>5.0</td>\n",
       "    </tr>\n",
       "    <tr>\n",
       "      <th>836474</th>\n",
       "      <td>5854</td>\n",
       "      <td>Slaughterhouse (1987)</td>\n",
       "      <td>4.0</td>\n",
       "    </tr>\n",
       "    <tr>\n",
       "      <th>836475</th>\n",
       "      <td>5854</td>\n",
       "      <td>Promise, The (Versprechen, Das) (1994)</td>\n",
       "      <td>3.0</td>\n",
       "    </tr>\n",
       "    <tr>\n",
       "      <th>836476</th>\n",
       "      <td>5938</td>\n",
       "      <td>Five Wives, Three Secretaries and Me (1998)</td>\n",
       "      <td>4.0</td>\n",
       "    </tr>\n",
       "    <tr>\n",
       "      <th>836477</th>\n",
       "      <td>5948</td>\n",
       "      <td>Identification of a Woman (Identificazione di ...</td>\n",
       "      <td>5.0</td>\n",
       "    </tr>\n",
       "    <tr>\n",
       "      <th>0</th>\n",
       "      <td>skc</td>\n",
       "      <td>Jurassic Park (1993)</td>\n",
       "      <td>4.0</td>\n",
       "    </tr>\n",
       "    <tr>\n",
       "      <th>1</th>\n",
       "      <td>skc</td>\n",
       "      <td>Back to the Future (1985)</td>\n",
       "      <td>4.0</td>\n",
       "    </tr>\n",
       "    <tr>\n",
       "      <th>2</th>\n",
       "      <td>skc</td>\n",
       "      <td>Braveheart (1995)</td>\n",
       "      <td>4.0</td>\n",
       "    </tr>\n",
       "    <tr>\n",
       "      <th>3</th>\n",
       "      <td>skc</td>\n",
       "      <td>Godfather, The (1972)</td>\n",
       "      <td>4.0</td>\n",
       "    </tr>\n",
       "    <tr>\n",
       "      <th>4</th>\n",
       "      <td>skc</td>\n",
       "      <td>Forrest Gump (1994)</td>\n",
       "      <td>4.0</td>\n",
       "    </tr>\n",
       "  </tbody>\n",
       "</table>\n",
       "</div>"
      ],
      "text/plain": [
       "       user_id                                              title  counts\n",
       "836473    5851                           One Little Indian (1973)     5.0\n",
       "836474    5854                              Slaughterhouse (1987)     4.0\n",
       "836475    5854             Promise, The (Versprechen, Das) (1994)     3.0\n",
       "836476    5938        Five Wives, Three Secretaries and Me (1998)     4.0\n",
       "836477    5948  Identification of a Woman (Identificazione di ...     5.0\n",
       "0          skc                               Jurassic Park (1993)     4.0\n",
       "1          skc                          Back to the Future (1985)     4.0\n",
       "2          skc                                  Braveheart (1995)     4.0\n",
       "3          skc                              Godfather, The (1972)     4.0\n",
       "4          skc                                Forrest Gump (1994)     4.0"
      ]
     },
     "execution_count": 68,
     "metadata": {},
     "output_type": "execute_result"
    }
   ],
   "source": [
    "# 본인이 좋아하는 아티스트 데이터로 바꿔서 추가하세요.\n",
    "my_favorite = ['Jurassic Park (1993)', 'Back to the Future (1985)', 'Braveheart (1995)', 'Godfather, The (1972)', 'Forrest Gump (1994)']\n",
    "\n",
    "# 'skc'이라는 user_id가 위 아티스트의 오래를 30회씩 들었다고 가정합시다.\n",
    "my_playlist = pd.DataFrame({'user_id' : ['skc']*5, 'title':my_favorite, 'counts' : [4.0]*5})\n",
    "\n",
    "# user_id에 'skc'이라는 데이터가 없다면 위에 임의로 만든 my_favortie 데이터를 추가해줍시다.\n",
    "if not data.isin({'user_id' : ['skc']})['user_id'].any():\n",
    "    data = data.append(my_playlist)\n",
    "    \n",
    "data.tail(10)"
   ]
  },
  {
   "cell_type": "code",
   "execution_count": 69,
   "id": "collect-queensland",
   "metadata": {},
   "outputs": [],
   "source": [
    "# 고유한 유저, 아티스트를 찾아내는 코드\n",
    "user_unique = data['user_id'].unique()\n",
    "title_unique = data['title'].unique()\n",
    "\n",
    "# 유저, 아티스트 indexing 하는 코드 idx는 index의 약자입니다.\n",
    "user_to_idx = {v : k for k, v in enumerate(user_unique)}\n",
    "title_to_idx = {v : k for k, v in enumerate(title_unique)}"
   ]
  },
  {
   "cell_type": "code",
   "execution_count": 70,
   "id": "dress-garbage",
   "metadata": {},
   "outputs": [
    {
     "data": {
      "text/html": [
       "<div>\n",
       "<style scoped>\n",
       "    .dataframe tbody tr th:only-of-type {\n",
       "        vertical-align: middle;\n",
       "    }\n",
       "\n",
       "    .dataframe tbody tr th {\n",
       "        vertical-align: top;\n",
       "    }\n",
       "\n",
       "    .dataframe thead th {\n",
       "        text-align: right;\n",
       "    }\n",
       "</style>\n",
       "<table border=\"1\" class=\"dataframe\">\n",
       "  <thead>\n",
       "    <tr style=\"text-align: right;\">\n",
       "      <th></th>\n",
       "      <th>user_id</th>\n",
       "      <th>title</th>\n",
       "      <th>counts</th>\n",
       "    </tr>\n",
       "  </thead>\n",
       "  <tbody>\n",
       "    <tr>\n",
       "      <th>836473</th>\n",
       "      <td>5851</td>\n",
       "      <td>One Little Indian (1973)</td>\n",
       "      <td>5.0</td>\n",
       "    </tr>\n",
       "    <tr>\n",
       "      <th>836474</th>\n",
       "      <td>5854</td>\n",
       "      <td>Slaughterhouse (1987)</td>\n",
       "      <td>4.0</td>\n",
       "    </tr>\n",
       "    <tr>\n",
       "      <th>836475</th>\n",
       "      <td>5854</td>\n",
       "      <td>Promise, The (Versprechen, Das) (1994)</td>\n",
       "      <td>3.0</td>\n",
       "    </tr>\n",
       "    <tr>\n",
       "      <th>836476</th>\n",
       "      <td>5938</td>\n",
       "      <td>Five Wives, Three Secretaries and Me (1998)</td>\n",
       "      <td>4.0</td>\n",
       "    </tr>\n",
       "    <tr>\n",
       "      <th>836477</th>\n",
       "      <td>5948</td>\n",
       "      <td>Identification of a Woman (Identificazione di ...</td>\n",
       "      <td>5.0</td>\n",
       "    </tr>\n",
       "    <tr>\n",
       "      <th>0</th>\n",
       "      <td>skc</td>\n",
       "      <td>Jurassic Park (1993)</td>\n",
       "      <td>4.0</td>\n",
       "    </tr>\n",
       "    <tr>\n",
       "      <th>1</th>\n",
       "      <td>skc</td>\n",
       "      <td>Back to the Future (1985)</td>\n",
       "      <td>4.0</td>\n",
       "    </tr>\n",
       "    <tr>\n",
       "      <th>2</th>\n",
       "      <td>skc</td>\n",
       "      <td>Braveheart (1995)</td>\n",
       "      <td>4.0</td>\n",
       "    </tr>\n",
       "    <tr>\n",
       "      <th>3</th>\n",
       "      <td>skc</td>\n",
       "      <td>Godfather, The (1972)</td>\n",
       "      <td>4.0</td>\n",
       "    </tr>\n",
       "    <tr>\n",
       "      <th>4</th>\n",
       "      <td>skc</td>\n",
       "      <td>Forrest Gump (1994)</td>\n",
       "      <td>4.0</td>\n",
       "    </tr>\n",
       "  </tbody>\n",
       "</table>\n",
       "</div>"
      ],
      "text/plain": [
       "       user_id                                              title  counts\n",
       "836473    5851                           One Little Indian (1973)     5.0\n",
       "836474    5854                              Slaughterhouse (1987)     4.0\n",
       "836475    5854             Promise, The (Versprechen, Das) (1994)     3.0\n",
       "836476    5938        Five Wives, Three Secretaries and Me (1998)     4.0\n",
       "836477    5948  Identification of a Woman (Identificazione di ...     5.0\n",
       "0          skc                               Jurassic Park (1993)     4.0\n",
       "1          skc                          Back to the Future (1985)     4.0\n",
       "2          skc                                  Braveheart (1995)     4.0\n",
       "3          skc                              Godfather, The (1972)     4.0\n",
       "4          skc                                Forrest Gump (1994)     4.0"
      ]
     },
     "execution_count": 70,
     "metadata": {},
     "output_type": "execute_result"
    }
   ],
   "source": [
    "data.tail(10)"
   ]
  },
  {
   "cell_type": "code",
   "execution_count": 71,
   "id": "primary-cincinnati",
   "metadata": {},
   "outputs": [
    {
     "name": "stdout",
     "output_type": "stream",
     "text": [
      "6039\n",
      "87\n"
     ]
    }
   ],
   "source": [
    "print(user_to_idx['skc'])\n",
    "print(title_to_idx['Braveheart (1995)'])"
   ]
  },
  {
   "cell_type": "code",
   "execution_count": 72,
   "id": "multiple-folks",
   "metadata": {},
   "outputs": [
    {
     "name": "stdout",
     "output_type": "stream",
     "text": [
      "user_id column indexing OK!!\n",
      "title column indexing OK!!\n"
     ]
    },
    {
     "data": {
      "text/html": [
       "<div>\n",
       "<style scoped>\n",
       "    .dataframe tbody tr th:only-of-type {\n",
       "        vertical-align: middle;\n",
       "    }\n",
       "\n",
       "    .dataframe tbody tr th {\n",
       "        vertical-align: top;\n",
       "    }\n",
       "\n",
       "    .dataframe thead th {\n",
       "        text-align: right;\n",
       "    }\n",
       "</style>\n",
       "<table border=\"1\" class=\"dataframe\">\n",
       "  <thead>\n",
       "    <tr style=\"text-align: right;\">\n",
       "      <th></th>\n",
       "      <th>user_id</th>\n",
       "      <th>title</th>\n",
       "      <th>counts</th>\n",
       "    </tr>\n",
       "  </thead>\n",
       "  <tbody>\n",
       "    <tr>\n",
       "      <th>0</th>\n",
       "      <td>0</td>\n",
       "      <td>0</td>\n",
       "      <td>5.0</td>\n",
       "    </tr>\n",
       "    <tr>\n",
       "      <th>1</th>\n",
       "      <td>1</td>\n",
       "      <td>0</td>\n",
       "      <td>5.0</td>\n",
       "    </tr>\n",
       "    <tr>\n",
       "      <th>2</th>\n",
       "      <td>2</td>\n",
       "      <td>0</td>\n",
       "      <td>4.0</td>\n",
       "    </tr>\n",
       "    <tr>\n",
       "      <th>3</th>\n",
       "      <td>3</td>\n",
       "      <td>0</td>\n",
       "      <td>4.0</td>\n",
       "    </tr>\n",
       "    <tr>\n",
       "      <th>4</th>\n",
       "      <td>4</td>\n",
       "      <td>0</td>\n",
       "      <td>5.0</td>\n",
       "    </tr>\n",
       "    <tr>\n",
       "      <th>5</th>\n",
       "      <td>5</td>\n",
       "      <td>0</td>\n",
       "      <td>4.0</td>\n",
       "    </tr>\n",
       "    <tr>\n",
       "      <th>6</th>\n",
       "      <td>6</td>\n",
       "      <td>0</td>\n",
       "      <td>5.0</td>\n",
       "    </tr>\n",
       "    <tr>\n",
       "      <th>7</th>\n",
       "      <td>7</td>\n",
       "      <td>0</td>\n",
       "      <td>5.0</td>\n",
       "    </tr>\n",
       "    <tr>\n",
       "      <th>8</th>\n",
       "      <td>8</td>\n",
       "      <td>0</td>\n",
       "      <td>3.0</td>\n",
       "    </tr>\n",
       "    <tr>\n",
       "      <th>9</th>\n",
       "      <td>9</td>\n",
       "      <td>0</td>\n",
       "      <td>5.0</td>\n",
       "    </tr>\n",
       "  </tbody>\n",
       "</table>\n",
       "</div>"
      ],
      "text/plain": [
       "   user_id  title  counts\n",
       "0        0      0     5.0\n",
       "1        1      0     5.0\n",
       "2        2      0     4.0\n",
       "3        3      0     4.0\n",
       "4        4      0     5.0\n",
       "5        5      0     4.0\n",
       "6        6      0     5.0\n",
       "7        7      0     5.0\n",
       "8        8      0     3.0\n",
       "9        9      0     5.0"
      ]
     },
     "execution_count": 72,
     "metadata": {},
     "output_type": "execute_result"
    }
   ],
   "source": [
    "temp_user_data = data['user_id'].map(user_to_idx.get).dropna()\n",
    "\n",
    "if len(temp_user_data) == len(data): # 모든 row가 정상적으로 인덱싱 되었다면\n",
    "    print('user_id column indexing OK!!')\n",
    "    data['user_id'] = temp_user_data # data['user_id']을 인덱싱된 Series로 교체해줍니다.\n",
    "else:\n",
    "    print(\"user_id column indexing fail!!\")\n",
    "    \n",
    "# artist_to_idx을 통해 artist 칼럼도 동일한 방식으로 인덱싱 해줍니다.\n",
    "temp_title_data = data['title'].map(title_to_idx.get).dropna()\n",
    "if len(temp_title_data) == len(data):\n",
    "    print('title column indexing OK!!')\n",
    "    data['title'] = temp_title_data\n",
    "else:\n",
    "    print('title column indexing fail!!')\n",
    "    \n",
    "data.head(10)"
   ]
  },
  {
   "cell_type": "markdown",
   "id": "narrative-voltage",
   "metadata": {},
   "source": [
    "### CSR matrix 생성\n",
    "---\n",
    "음악데이터와 비슷한 방식으로 csr matrix를 생성했습니다만, 다른 방식으로 생성하는 방법도 알아둬야 할 것 같습니다. "
   ]
  },
  {
   "cell_type": "code",
   "execution_count": 73,
   "id": "unsigned-nomination",
   "metadata": {},
   "outputs": [
    {
     "data": {
      "text/plain": [
       "<6040x3628 sparse matrix of type '<class 'numpy.float64'>'\n",
       "\twith 836483 stored elements in Compressed Sparse Row format>"
      ]
     },
     "execution_count": 73,
     "metadata": {},
     "output_type": "execute_result"
    }
   ],
   "source": [
    "num_user = data['user_id'].nunique()\n",
    "num_artist = data['title'].nunique()\n",
    "\n",
    "csr_data = csr_matrix((data.counts, (data.user_id, data.title)), shape= (num_user, num_artist))\n",
    "csr_data"
   ]
  },
  {
   "cell_type": "markdown",
   "id": "victorian-reward",
   "metadata": {},
   "source": [
    "### als_model 구성 및 훈련\n",
    "---\n",
    "Martix Factorization 모델을 implicit패키지를 이용하여 학습했습니다.\\\n",
    "MF에서 두 Feature Matrix를 한꺼번에 학습하는 것은 잘 수렴하지 않아서,\\\n",
    "번갈아 가며 학습하는 방식의 als_model이 효과적이라고 합니다.\n",
    "\n",
    "parameter 중 factors 와 iterations를 늘릴 시 학습도가 올라가지만, 과적합의 원인이 되기도합니다."
   ]
  },
  {
   "cell_type": "code",
   "execution_count": 74,
   "id": "limiting-vegetation",
   "metadata": {},
   "outputs": [],
   "source": [
    "os.environ['OPENBLAS_NUM_THREADS']='1'\n",
    "os.environ['KMP_DUPLICATE_LIB_OK']='True'\n",
    "os.environ['MKL_NUM_THREADS']='1'"
   ]
  },
  {
   "cell_type": "code",
   "execution_count": 76,
   "id": "liked-audience",
   "metadata": {},
   "outputs": [],
   "source": [
    "als_model = AlternatingLeastSquares(factors=100, regularization=0.01, use_gpu=False, iterations=15, dtype=np.float32)"
   ]
  },
  {
   "cell_type": "code",
   "execution_count": 77,
   "id": "caroline-politics",
   "metadata": {},
   "outputs": [
    {
     "data": {
      "text/plain": [
       "<3628x6040 sparse matrix of type '<class 'numpy.float64'>'\n",
       "\twith 836483 stored elements in Compressed Sparse Column format>"
      ]
     },
     "execution_count": 77,
     "metadata": {},
     "output_type": "execute_result"
    }
   ],
   "source": [
    "csr_data_transpose = csr_data.T\n",
    "csr_data_transpose"
   ]
  },
  {
   "cell_type": "code",
   "execution_count": 78,
   "id": "italic-screening",
   "metadata": {},
   "outputs": [
    {
     "data": {
      "application/vnd.jupyter.widget-view+json": {
       "model_id": "280e0eba86874adb8f94aaa3da8beeee",
       "version_major": 2,
       "version_minor": 0
      },
      "text/plain": [
       "  0%|          | 0/15 [00:00<?, ?it/s]"
      ]
     },
     "metadata": {},
     "output_type": "display_data"
    }
   ],
   "source": [
    "als_model.fit(csr_data_transpose)"
   ]
  },
  {
   "cell_type": "markdown",
   "id": "satisfied-magnet",
   "metadata": {},
   "source": [
    "### 선호도 확인\n",
    "---\n",
    "선호하는 영화와 그렇지 않은 모델을 선정하여 선호도를 확인했습니다.\\\n",
    "선호하는 영화는 0.6 초반의 값을 선호하지 않는 영화는 0.2 초반의 값을 보였습니다.\\\n",
    "주어진 데이터에 비해 0.6 초반의 값은 부족한 값이 아닌가하는 생각을 갖고 있습니다."
   ]
  },
  {
   "cell_type": "code",
   "execution_count": 81,
   "id": "annual-dancing",
   "metadata": {},
   "outputs": [
    {
     "name": "stdout",
     "output_type": "stream",
     "text": [
      "0.639825\n"
     ]
    }
   ],
   "source": [
    "skc, brave_heart = user_to_idx['skc'], title_to_idx['Braveheart (1995)']\n",
    "skc_vector, brave_heart_vector = als_model.user_factors[skc], als_model.item_factors[brave_heart]\n",
    "\n",
    "print(np.dot(skc_vector, brave_heart_vector))"
   ]
  },
  {
   "cell_type": "code",
   "execution_count": 82,
   "id": "julian-semester",
   "metadata": {},
   "outputs": [
    {
     "name": "stdout",
     "output_type": "stream",
     "text": [
      "0.23430586\n"
     ]
    }
   ],
   "source": [
    "american_beauty = title_to_idx['American Beauty (1999)']\n",
    "american_beauty_vector = als_model.item_factors[american_beauty]\n",
    "\n",
    "print(np.dot(skc_vector, american_beauty_vector))"
   ]
  },
  {
   "cell_type": "markdown",
   "id": "leading-fusion",
   "metadata": {},
   "source": [
    "### 비슷한 영화 추천\n",
    "---\n",
    "음악추천 함수를 이용하여 영화추천을 했습니다.\\\n",
    "함수안에 dict자료와 index dict자료를 추가한 것 외의 변형은 없습니다.\\"
   ]
  },
  {
   "cell_type": "code",
   "execution_count": 89,
   "id": "balanced-dancing",
   "metadata": {},
   "outputs": [],
   "source": [
    "def get_similar_title(title: str):\n",
    "    title_id = title_to_idx[title]\n",
    "    similar_title = als_model.similar_items(title_id)\n",
    "    \n",
    "    idx_to_title = {v:k for k,v in title_to_idx.items()}\n",
    "    [idx_to_title[i[0]] for i in similar_title]\n",
    "    \n",
    "    similar_title = [idx_to_title[i[0]] for i in similar_title]\n",
    "    return similar_title\n",
    "\n",
    "\n"
   ]
  },
  {
   "cell_type": "code",
   "execution_count": 91,
   "id": "verified-narrow",
   "metadata": {},
   "outputs": [
    {
     "data": {
      "text/plain": [
       "['Jurassic Park (1993)',\n",
       " 'Men in Black (1997)',\n",
       " 'Terminator 2: Judgment Day (1991)',\n",
       " 'Total Recall (1990)',\n",
       " 'Matrix, The (1999)',\n",
       " 'Lost World: Jurassic Park, The (1997)',\n",
       " 'Schlafes Bruder (Brother of Sleep) (1995)',\n",
       " 'Braveheart (1995)',\n",
       " 'Fifth Element, The (1997)',\n",
       " 'Little Odessa (1994)']"
      ]
     },
     "execution_count": 91,
     "metadata": {},
     "output_type": "execute_result"
    }
   ],
   "source": [
    "get_similar_title('Jurassic Park (1993)')"
   ]
  },
  {
   "cell_type": "markdown",
   "id": "occupational-imaging",
   "metadata": {},
   "source": [
    "### 유저에게 영화 추천\n",
    "---\n",
    "als 모델내에 이미 있는 recommend 메소드를 이용하여 좋아 할 만한 영화를 추천 받도록 했습니다.\\\n",
    "filter_already_liked_items은 유저가 평가한 영화를 제외하는 parameter입니다.\n",
    "\n",
    "유저가 평가한 영화가 추천에 영향을 미치는 정도를 explain메소드를 활용하여 확인했습니다."
   ]
  },
  {
   "cell_type": "code",
   "execution_count": 93,
   "id": "approved-happiness",
   "metadata": {},
   "outputs": [
    {
     "data": {
      "text/plain": [
       "['Godfather: Part II, The (1974)',\n",
       " 'Saving Private Ryan (1998)',\n",
       " 'Men in Black (1997)',\n",
       " 'Terminator 2: Judgment Day (1991)',\n",
       " 'Star Wars: Episode VI - Return of the Jedi (1983)',\n",
       " 'Godfather: Part III, The (1990)',\n",
       " 'Matrix, The (1999)',\n",
       " 'Star Wars: Episode IV - A New Hope (1977)',\n",
       " 'Star Wars: Episode V - The Empire Strikes Back (1980)',\n",
       " 'American Beauty (1999)',\n",
       " 'Groundhog Day (1993)',\n",
       " 'Dances with Wolves (1990)',\n",
       " 'Independence Day (ID4) (1996)',\n",
       " 'Rocky Horror Picture Show, The (1975)',\n",
       " 'Boat, The (Das Boot) (1981)',\n",
       " 'Legends of the Fall (1994)',\n",
       " 'Last of the Mohicans, The (1992)',\n",
       " \"Schindler's List (1993)\",\n",
       " 'Airplane! (1980)',\n",
       " 'Princess Bride, The (1987)']"
      ]
     },
     "execution_count": 93,
     "metadata": {},
     "output_type": "execute_result"
    }
   ],
   "source": [
    "user = user_to_idx['skc']\n",
    "# recommend에서는 user*item CSR Matrix를 받습니다.\n",
    "title_recommended = als_model.recommend(user, csr_data, N=20, filter_already_liked_items=True)\n",
    "[idx_to_title[i[0]] for i in title_recommended]"
   ]
  },
  {
   "cell_type": "code",
   "execution_count": 95,
   "id": "binding-claim",
   "metadata": {
    "scrolled": true
   },
   "outputs": [
    {
     "data": {
      "text/plain": [
       "[('Jurassic Park (1993)', 0.23726221234362777),\n",
       " ('Braveheart (1995)', 0.1075625998907844),\n",
       " ('Back to the Future (1985)', 0.035544932123658),\n",
       " ('Godfather, The (1972)', 0.004342283035292665),\n",
       " ('Forrest Gump (1994)', -0.011673535906903532)]"
      ]
     },
     "execution_count": 95,
     "metadata": {},
     "output_type": "execute_result"
    }
   ],
   "source": [
    "terminator = title_to_idx['Terminator 2: Judgment Day (1991)']\n",
    "explain = als_model.explain(user, csr_data, itemid=terminator)\n",
    "\n",
    "[(idx_to_title[i[0]], i[1]) for i in explain[1]]"
   ]
  },
  {
   "cell_type": "markdown",
   "id": "younger-invalid",
   "metadata": {},
   "source": [
    "### 회고\n",
    "---\n",
    "완성하는데, 급급하여 노드와 유사한 방식으로만 마무리를 하였지만,\\\n",
    "데이터에 주어졌던, genre등의 데이터 역시 같은 방식으로 활용하였다면 더 훌륭한 추천방식이 되지 않았을까 생각합니다\\\n"
   ]
  },
  {
   "cell_type": "code",
   "execution_count": null,
   "id": "numerous-hygiene",
   "metadata": {},
   "outputs": [],
   "source": []
  }
 ],
 "metadata": {
  "kernelspec": {
   "display_name": "Python 3",
   "language": "python",
   "name": "python3"
  },
  "language_info": {
   "codemirror_mode": {
    "name": "ipython",
    "version": 3
   },
   "file_extension": ".py",
   "mimetype": "text/x-python",
   "name": "python",
   "nbconvert_exporter": "python",
   "pygments_lexer": "ipython3",
   "version": "3.7.9"
  }
 },
 "nbformat": 4,
 "nbformat_minor": 5
}
