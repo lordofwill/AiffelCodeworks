{
 "cells": [
  {
   "cell_type": "markdown",
   "id": "initial-reproduction",
   "metadata": {},
   "source": [
    "### 라이브러리 import\n",
    "---\n",
    "필요한 라이브러리를 import했습니다.\\\n",
    "gensim의 경우 3.8.8로 다운그레이드를 진행했습니다.\\\n",
    "https://iambeginnerdeveloper.tistory.com/41\n",
    "블로그의 안내대로 pip install --upgrade gensim==3.8.3을 했으나 적용되지 않았습니다.\\\n",
    "그래서 conda uninstall gensim을 한 뒤, 다시 설치했습니다.\\\n",
    "또한 이런 방식을 이용해도 주피터 노트북에 적용되지 않았는데,\\\n",
    "커널을 종료하고 다시 생성해야만 적용될 수 있었습니다."
   ]
  },
  {
   "cell_type": "code",
   "execution_count": 132,
   "id": "subsequent-taxation",
   "metadata": {},
   "outputs": [],
   "source": [
    "import os\n",
    "import pandas as pd\n",
    "import urllib.request\n",
    "%matplotlib inline\n",
    "import matplotlib.pyplot as plt\n",
    "import re\n",
    "from konlpy.tag import Okt\n",
    "from tensorflow import keras\n",
    "from tensorflow.keras.preprocessing.text import Tokenizer\n",
    "import numpy as np\n",
    "from tensorflow.keras.preprocessing.sequence import pad_sequences\n",
    "from collections import Counter\n",
    "import gensim\n",
    "from gensim.models import KeyedVectors\n",
    "from tensorflow.keras.initializers import Constant"
   ]
  },
  {
   "cell_type": "markdown",
   "id": "answering-zimbabwe",
   "metadata": {},
   "source": [
    "### 데이터 가져오기\n",
    "---\n",
    "노드에 적힌대로 데이터를 가져왔습니다."
   ]
  },
  {
   "cell_type": "code",
   "execution_count": 133,
   "id": "thirty-palmer",
   "metadata": {},
   "outputs": [
    {
     "data": {
      "text/html": [
       "<div>\n",
       "<style scoped>\n",
       "    .dataframe tbody tr th:only-of-type {\n",
       "        vertical-align: middle;\n",
       "    }\n",
       "\n",
       "    .dataframe tbody tr th {\n",
       "        vertical-align: top;\n",
       "    }\n",
       "\n",
       "    .dataframe thead th {\n",
       "        text-align: right;\n",
       "    }\n",
       "</style>\n",
       "<table border=\"1\" class=\"dataframe\">\n",
       "  <thead>\n",
       "    <tr style=\"text-align: right;\">\n",
       "      <th></th>\n",
       "      <th>id</th>\n",
       "      <th>document</th>\n",
       "      <th>label</th>\n",
       "    </tr>\n",
       "  </thead>\n",
       "  <tbody>\n",
       "    <tr>\n",
       "      <th>0</th>\n",
       "      <td>9976970</td>\n",
       "      <td>아 더빙.. 진짜 짜증나네요 목소리</td>\n",
       "      <td>0</td>\n",
       "    </tr>\n",
       "    <tr>\n",
       "      <th>1</th>\n",
       "      <td>3819312</td>\n",
       "      <td>흠...포스터보고 초딩영화줄....오버연기조차 가볍지 않구나</td>\n",
       "      <td>1</td>\n",
       "    </tr>\n",
       "    <tr>\n",
       "      <th>2</th>\n",
       "      <td>10265843</td>\n",
       "      <td>너무재밓었다그래서보는것을추천한다</td>\n",
       "      <td>0</td>\n",
       "    </tr>\n",
       "    <tr>\n",
       "      <th>3</th>\n",
       "      <td>9045019</td>\n",
       "      <td>교도소 이야기구먼 ..솔직히 재미는 없다..평점 조정</td>\n",
       "      <td>0</td>\n",
       "    </tr>\n",
       "    <tr>\n",
       "      <th>4</th>\n",
       "      <td>6483659</td>\n",
       "      <td>사이몬페그의 익살스런 연기가 돋보였던 영화!스파이더맨에서 늙어보이기만 했던 커스틴 ...</td>\n",
       "      <td>1</td>\n",
       "    </tr>\n",
       "  </tbody>\n",
       "</table>\n",
       "</div>"
      ],
      "text/plain": [
       "         id                                           document  label\n",
       "0   9976970                                아 더빙.. 진짜 짜증나네요 목소리      0\n",
       "1   3819312                  흠...포스터보고 초딩영화줄....오버연기조차 가볍지 않구나      1\n",
       "2  10265843                                  너무재밓었다그래서보는것을추천한다      0\n",
       "3   9045019                      교도소 이야기구먼 ..솔직히 재미는 없다..평점 조정      0\n",
       "4   6483659  사이몬페그의 익살스런 연기가 돋보였던 영화!스파이더맨에서 늙어보이기만 했던 커스틴 ...      1"
      ]
     },
     "execution_count": 133,
     "metadata": {},
     "output_type": "execute_result"
    }
   ],
   "source": [
    "train_data = pd.read_table('~/aiffel/sentiment_classification/data/ratings_train.txt')\n",
    "test_data = pd.read_table('~/aiffel/sentiment_classification/data/ratings_test.txt')\n",
    "\n",
    "train_data.head()"
   ]
  },
  {
   "cell_type": "markdown",
   "id": "bearing-passport",
   "metadata": {},
   "source": [
    "### 데이터 로드 함수 및 단어사전 생성\n",
    "---\n",
    "노드에 적힌 그대로 생성 했습니다."
   ]
  },
  {
   "cell_type": "code",
   "execution_count": 134,
   "id": "detailed-mistress",
   "metadata": {},
   "outputs": [
    {
     "name": "stdout",
     "output_type": "stream",
     "text": [
      "훈련 개수: 146182, 테스트 개수: 49157\n"
     ]
    }
   ],
   "source": [
    "from konlpy.tag import Mecab\n",
    "tokenizer = Mecab()\n",
    "stopwords = ['의','가','이','은','들','는','좀','잘','걍','과','도','를','으로','자','에','와','한','하다']\n",
    "\n",
    "def load_data(train_data, test_data, num_words=10000):\n",
    "    train_data.drop_duplicates(subset=['document'], inplace=True)\n",
    "    train_data = train_data.dropna(how = 'any') \n",
    "    test_data.drop_duplicates(subset=['document'], inplace=True)\n",
    "    test_data = test_data.dropna(how = 'any') \n",
    "\n",
    "    X_train = []\n",
    "    for sentence in train_data['document']:\n",
    "        temp_X = tokenizer.morphs(sentence) # 토큰화\n",
    "        temp_X = [word for word in temp_X if not word in stopwords] # 불용어 제거\n",
    "        X_train.append(temp_X)\n",
    "\n",
    "    X_test = []\n",
    "    for sentence in test_data['document']:\n",
    "        temp_X = tokenizer.morphs(sentence) # 토큰화\n",
    "        temp_X = [word for word in temp_X if not word in stopwords] # 불용어 제거\n",
    "        X_test.append(temp_X)\n",
    "\n",
    "    words = np.concatenate(X_train).tolist()\n",
    "    counter = Counter(words)\n",
    "    counter = counter.most_common(10000-4)\n",
    "    vocab = ['<PAD>', '<BOS>', '<UNK>', '<UNUSED>'] + [key for key, _ in counter]\n",
    "    word_to_index = {word:index for index, word in enumerate(vocab)}\n",
    "\n",
    "    def wordlist_to_indexlist(wordlist):\n",
    "        return [word_to_index[word] if word in word_to_index else word_to_index['<UNK>'] for word in wordlist]\n",
    "\n",
    "    X_train = list(map(wordlist_to_indexlist, X_train))\n",
    "    X_test = list(map(wordlist_to_indexlist, X_test))\n",
    "\n",
    "    return X_train, np.array(list(train_data['label'])), X_test, np.array(list(test_data['label'])), word_to_index\n",
    "\n",
    "X_train, y_train, X_test, y_test, word_to_index = load_data(train_data, test_data) \n",
    "\n",
    "print(\"훈련 개수: {}, 테스트 개수: {}\".format(len(X_train), len(X_test)))"
   ]
  },
  {
   "cell_type": "code",
   "execution_count": 135,
   "id": "durable-panama",
   "metadata": {},
   "outputs": [],
   "source": [
    "index_to_word = {index:word for word, index in word_to_index.items()}"
   ]
  },
  {
   "cell_type": "markdown",
   "id": "allied-declaration",
   "metadata": {},
   "source": [
    "### 문장변환 함수\n",
    "---\n",
    "노드에 있던 문장을 벡터로 또 벡터를 문장으로 변환해주는 함수입니다."
   ]
  },
  {
   "cell_type": "code",
   "execution_count": 136,
   "id": "polyphonic-kenya",
   "metadata": {},
   "outputs": [],
   "source": [
    "# 문장 1개를 활용할 딕셔너리와 함께 주면, 단어 인덱스 리스트 벡터로 변환해 주는 함수입니다. \n",
    "# 단, 모든 문장은 <BOS>로 시작하는 것으로 합니다. \n",
    "def get_encoded_sentence(sentence, word_to_index):\n",
    "    return [word_to_index['<BOS>']]+[word_to_index[word] if word in word_to_index else word_to_index['<UNK>'] for word in sentence.split()]\n",
    "\n",
    "# 여러 개의 문장 리스트를 한꺼번에 단어 인덱스 리스트 벡터로 encode해 주는 함수입니다. \n",
    "def get_encoded_sentences(sentences, word_to_index):\n",
    "    return [get_encoded_sentence(sentence, word_to_index) for sentence in sentences]\n",
    "\n",
    "# 숫자 벡터로 encode된 문장을 원래대로 decode하는 함수입니다. \n",
    "def get_decoded_sentence(encoded_sentence, index_to_word):\n",
    "    return ' '.join(index_to_word[index] if index in index_to_word else '<UNK>' for index in encoded_sentence[1:])  #[1:]를 통해 <BOS>를 제외\n",
    "\n",
    "# 여러 개의 숫자 벡터로 encode된 문장을 한꺼번에 원래대로 decode하는 함수입니다. \n",
    "def get_decoded_sentences(encoded_sentences, index_to_word):\n",
    "    return [get_decoded_sentence(encoded_sentence, index_to_word) for encoded_sentence in encoded_sentences]"
   ]
  },
  {
   "cell_type": "markdown",
   "id": "royal-assignment",
   "metadata": {},
   "source": [
    "### 모델을 위한 데이터 분석\n",
    "---\n",
    "모델의 하이퍼파라미터 설정을 위한 데이터 분석입니다."
   ]
  },
  {
   "cell_type": "code",
   "execution_count": 137,
   "id": "bearing-cedar",
   "metadata": {},
   "outputs": [
    {
     "name": "stdout",
     "output_type": "stream",
     "text": [
      "문장길이 평균 :  15.96940191154864\n",
      "문장길이 최대 :  116\n",
      "문장길이 표준편차 :  12.843571191092\n",
      "pad_sequences maxlen :  41\n",
      "전체 문장의 0.9342988343341575%가 maxlen 설정값 이내에 포함됩니다. \n"
     ]
    }
   ],
   "source": [
    "total_data_text = list(X_train) + list(X_test)\n",
    "# 텍스트데이터 문장길이의 리스트를 생성한 후\n",
    "num_tokens = [len(tokens) for tokens in total_data_text]\n",
    "num_tokens = np.array(num_tokens)\n",
    "# 문장길이의 평균값, 최대값, 표준편차를 계산해 본다. \n",
    "print('문장길이 평균 : ', np.mean(num_tokens))\n",
    "print('문장길이 최대 : ', np.max(num_tokens))\n",
    "print('문장길이 표준편차 : ', np.std(num_tokens))\n",
    "\n",
    "# 예를들어, 최대 길이를 (평균 + 2*표준편차)로 한다면,  \n",
    "max_tokens = np.mean(num_tokens) + 2 * np.std(num_tokens)\n",
    "maxlen = int(max_tokens)\n",
    "print('pad_sequences maxlen : ', maxlen)\n",
    "print('전체 문장의 {}%가 maxlen 설정값 이내에 포함됩니다. '.format(np.sum(num_tokens < max_tokens) / len(num_tokens)))"
   ]
  },
  {
   "cell_type": "markdown",
   "id": "frank-howard",
   "metadata": {},
   "source": [
    "### 데이터 벡터화\n",
    "---\n",
    "패딩을 추가하여 길이을 맞춰줍니다.\\\n",
    "노드코드와 달리 pre를 이용하여 더 좋은 학습결과가 나오도록 했습니다."
   ]
  },
  {
   "cell_type": "code",
   "execution_count": 101,
   "id": "comic-oriental",
   "metadata": {},
   "outputs": [
    {
     "name": "stdout",
     "output_type": "stream",
     "text": [
      "(146182, 41)\n"
     ]
    }
   ],
   "source": [
    "# padding의 위치에 따라 달라질 수 있다.\n",
    "# pre\n",
    "X_train = keras.preprocessing.sequence.pad_sequences(X_train,\n",
    "                                                        value=word_to_index[\"<PAD>\"],\n",
    "                                                        padding='pre', # 혹은 'pre'\n",
    "                                                        maxlen=maxlen)\n",
    "\n",
    "X_test = keras.preprocessing.sequence.pad_sequences(X_test,\n",
    "                                                       value=word_to_index[\"<PAD>\"],\n",
    "                                                       padding='pre', # 혹은 'pre'\n",
    "                                                       maxlen=maxlen)\n",
    "\n",
    "print(X_train.shape)"
   ]
  },
  {
   "cell_type": "markdown",
   "id": "temporal-programming",
   "metadata": {},
   "source": [
    "### 모델설계\n",
    "---\n",
    "노드에서와 같이 3가지 모델을 모두 설계했습니다.\n"
   ]
  },
  {
   "cell_type": "code",
   "execution_count": 105,
   "id": "narrative-apollo",
   "metadata": {},
   "outputs": [
    {
     "name": "stdout",
     "output_type": "stream",
     "text": [
      "Model: \"sequential_29\"\n",
      "_________________________________________________________________\n",
      "Layer (type)                 Output Shape              Param #   \n",
      "=================================================================\n",
      "embedding_29 (Embedding)     (None, None, 200)         2000000   \n",
      "_________________________________________________________________\n",
      "lstm_18 (LSTM)               (None, 8)                 6688      \n",
      "_________________________________________________________________\n",
      "dense_52 (Dense)             (None, 8)                 72        \n",
      "_________________________________________________________________\n",
      "dense_53 (Dense)             (None, 1)                 9         \n",
      "=================================================================\n",
      "Total params: 2,006,769\n",
      "Trainable params: 2,006,769\n",
      "Non-trainable params: 0\n",
      "_________________________________________________________________\n",
      "----------------------\n",
      "Model: \"sequential_30\"\n",
      "_________________________________________________________________\n",
      "Layer (type)                 Output Shape              Param #   \n",
      "=================================================================\n",
      "embedding_30 (Embedding)     (None, None, 200)         2000000   \n",
      "_________________________________________________________________\n",
      "conv1d_8 (Conv1D)            (None, None, 16)          22416     \n",
      "_________________________________________________________________\n",
      "max_pooling1d_4 (MaxPooling1 (None, None, 16)          0         \n",
      "_________________________________________________________________\n",
      "conv1d_9 (Conv1D)            (None, None, 16)          1808      \n",
      "_________________________________________________________________\n",
      "global_max_pooling1d_4 (Glob (None, 16)                0         \n",
      "_________________________________________________________________\n",
      "dense_54 (Dense)             (None, 16)                272       \n",
      "_________________________________________________________________\n",
      "dense_55 (Dense)             (None, 1)                 17        \n",
      "=================================================================\n",
      "Total params: 2,024,513\n",
      "Trainable params: 2,024,513\n",
      "Non-trainable params: 0\n",
      "_________________________________________________________________\n",
      "----------------------\n",
      "Model: \"sequential_31\"\n",
      "_________________________________________________________________\n",
      "Layer (type)                 Output Shape              Param #   \n",
      "=================================================================\n",
      "embedding_31 (Embedding)     (None, None, 200)         2000000   \n",
      "_________________________________________________________________\n",
      "global_average_pooling1d_4 ( (None, 200)               0         \n",
      "_________________________________________________________________\n",
      "dense_56 (Dense)             (None, 8)                 1608      \n",
      "_________________________________________________________________\n",
      "dense_57 (Dense)             (None, 1)                 9         \n",
      "=================================================================\n",
      "Total params: 2,001,617\n",
      "Trainable params: 2,001,617\n",
      "Non-trainable params: 0\n",
      "_________________________________________________________________\n",
      "----------------------\n"
     ]
    }
   ],
   "source": [
    "# RNN 모델 설계\n",
    "vocab_size = 10000  # 어휘 사전의 크기입니다(10,000개의 단어)\n",
    "word_vector_dim = 200  # 워드 벡터의 차원수 (변경가능한 하이퍼파라미터)\n",
    "\n",
    "model = keras.Sequential()\n",
    "model.add(keras.layers.Embedding(vocab_size, word_vector_dim, input_shape=(None,)))\n",
    "model.add(keras.layers.LSTM(8))   # 가장 널리 쓰이는 RNN인 LSTM 레이어를 사용하였습니다. 이때 LSTM state 벡터의 차원수는 8로 하였습니다. (변경가능)\n",
    "model.add(keras.layers.Dense(8, activation='relu'))\n",
    "model.add(keras.layers.Dense(1, activation='sigmoid'))  # 최종 출력은 긍정/부정을 나타내는 1dim 입니다.\n",
    "\n",
    "model.summary()\n",
    "print('----------------------')\n",
    "\n",
    "cnn = keras.Sequential()\n",
    "cnn.add(keras.layers.Embedding(vocab_size, word_vector_dim, input_shape=(None,))) \n",
    "cnn.add(keras.layers.Conv1D(16, 7, activation='relu'))\n",
    "cnn.add(keras.layers.MaxPooling1D(5))\n",
    "cnn.add(keras.layers.Conv1D(16, 7, activation='relu'))\n",
    "cnn.add(keras.layers.GlobalMaxPooling1D())\n",
    "cnn.add(keras.layers.Dense(16, activation='relu'))\n",
    "cnn.add(keras.layers.Dense(1, activation='sigmoid'))\n",
    "\n",
    "cnn.summary()\n",
    "print('----------------------')\n",
    "simple = keras.Sequential()\n",
    "simple.add(keras.layers.Embedding(vocab_size, word_vector_dim, input_shape=(None,)))\n",
    "simple.add(keras.layers.GlobalAveragePooling1D())\n",
    "simple.add(keras.layers.Dense(8, activation='relu'))\n",
    "simple.add(keras.layers.Dense(1, activation='sigmoid'))\n",
    "\n",
    "simple.summary()\n",
    "print('----------------------')"
   ]
  },
  {
   "cell_type": "markdown",
   "id": "excellent-auction",
   "metadata": {},
   "source": [
    "### validation set 구성\n",
    "---\n",
    "validation set은 20000건으로 구성했습니다."
   ]
  },
  {
   "cell_type": "code",
   "execution_count": 106,
   "id": "bright-floating",
   "metadata": {},
   "outputs": [
    {
     "name": "stdout",
     "output_type": "stream",
     "text": [
      "(126182, 41)\n",
      "(126182,)\n"
     ]
    }
   ],
   "source": [
    "# validation set 20000건 분리\n",
    "x_val = X_train[:20000]   \n",
    "y_val = y_train[:20000]\n",
    "\n",
    "# validation set을 제외한 나머지\n",
    "partial_x_train = X_train[20000:]  \n",
    "partial_y_train = y_train[20000:]\n",
    "\n",
    "print(partial_x_train.shape)\n",
    "print(partial_y_train.shape)"
   ]
  },
  {
   "cell_type": "markdown",
   "id": "exciting-method",
   "metadata": {},
   "source": [
    "### 모델 훈련 개시\n",
    "---\n",
    "각 모델은 시각화를 위해 epoch을 20회 진행했습니다."
   ]
  },
  {
   "cell_type": "code",
   "execution_count": 107,
   "id": "modular-drilling",
   "metadata": {},
   "outputs": [
    {
     "name": "stdout",
     "output_type": "stream",
     "text": [
      "Epoch 1/20\n",
      "247/247 [==============================] - 9s 29ms/step - loss: 0.5521 - accuracy: 0.7372 - val_loss: 0.3527 - val_accuracy: 0.8493\n",
      "Epoch 2/20\n",
      "247/247 [==============================] - 7s 27ms/step - loss: 0.3238 - accuracy: 0.8666 - val_loss: 0.3422 - val_accuracy: 0.8525\n",
      "Epoch 3/20\n",
      "247/247 [==============================] - 7s 27ms/step - loss: 0.2890 - accuracy: 0.8830 - val_loss: 0.3354 - val_accuracy: 0.8572\n",
      "Epoch 4/20\n",
      "247/247 [==============================] - 7s 27ms/step - loss: 0.2611 - accuracy: 0.8950 - val_loss: 0.3375 - val_accuracy: 0.8583\n",
      "Epoch 5/20\n",
      "247/247 [==============================] - 7s 27ms/step - loss: 0.2341 - accuracy: 0.9074 - val_loss: 0.3425 - val_accuracy: 0.8587\n",
      "Epoch 6/20\n",
      "247/247 [==============================] - 7s 27ms/step - loss: 0.2134 - accuracy: 0.9166 - val_loss: 0.3621 - val_accuracy: 0.8566\n",
      "Epoch 7/20\n",
      "247/247 [==============================] - 7s 27ms/step - loss: 0.1929 - accuracy: 0.9261 - val_loss: 0.3713 - val_accuracy: 0.8569\n",
      "Epoch 8/20\n",
      "247/247 [==============================] - 7s 27ms/step - loss: 0.1732 - accuracy: 0.9343 - val_loss: 0.3979 - val_accuracy: 0.8525\n",
      "Epoch 9/20\n",
      "247/247 [==============================] - 7s 27ms/step - loss: 0.1575 - accuracy: 0.9426 - val_loss: 0.4301 - val_accuracy: 0.8507\n",
      "Epoch 10/20\n",
      "247/247 [==============================] - 7s 27ms/step - loss: 0.1432 - accuracy: 0.9485 - val_loss: 0.4662 - val_accuracy: 0.8485\n",
      "Epoch 11/20\n",
      "247/247 [==============================] - 7s 27ms/step - loss: 0.1336 - accuracy: 0.9519 - val_loss: 0.4747 - val_accuracy: 0.8431\n",
      "Epoch 12/20\n",
      "247/247 [==============================] - 7s 27ms/step - loss: 0.1230 - accuracy: 0.9560 - val_loss: 0.5124 - val_accuracy: 0.8459\n",
      "Epoch 13/20\n",
      "247/247 [==============================] - 7s 27ms/step - loss: 0.1099 - accuracy: 0.9619 - val_loss: 0.5376 - val_accuracy: 0.8430\n",
      "Epoch 14/20\n",
      "247/247 [==============================] - 7s 27ms/step - loss: 0.1026 - accuracy: 0.9644 - val_loss: 0.5596 - val_accuracy: 0.8411\n",
      "Epoch 15/20\n",
      "247/247 [==============================] - 7s 27ms/step - loss: 0.0974 - accuracy: 0.9671 - val_loss: 0.5958 - val_accuracy: 0.8402\n",
      "Epoch 16/20\n",
      "247/247 [==============================] - 7s 27ms/step - loss: 0.0892 - accuracy: 0.9693 - val_loss: 0.6125 - val_accuracy: 0.8390\n",
      "Epoch 17/20\n",
      "247/247 [==============================] - 7s 27ms/step - loss: 0.0851 - accuracy: 0.9710 - val_loss: 0.6665 - val_accuracy: 0.8374\n",
      "Epoch 18/20\n",
      "247/247 [==============================] - 7s 27ms/step - loss: 0.0777 - accuracy: 0.9744 - val_loss: 0.6850 - val_accuracy: 0.8392\n",
      "Epoch 19/20\n",
      "247/247 [==============================] - 7s 27ms/step - loss: 0.0792 - accuracy: 0.9733 - val_loss: 0.7211 - val_accuracy: 0.8371\n",
      "Epoch 20/20\n",
      "247/247 [==============================] - 7s 27ms/step - loss: 0.0713 - accuracy: 0.9764 - val_loss: 0.7392 - val_accuracy: 0.8374\n",
      "----------------------\n",
      "Epoch 1/20\n",
      "247/247 [==============================] - 12s 44ms/step - loss: 0.5509 - accuracy: 0.7025 - val_loss: 0.3416 - val_accuracy: 0.8521\n",
      "Epoch 2/20\n",
      "247/247 [==============================] - 7s 28ms/step - loss: 0.3010 - accuracy: 0.8747 - val_loss: 0.3279 - val_accuracy: 0.8582\n",
      "Epoch 3/20\n",
      "247/247 [==============================] - 7s 28ms/step - loss: 0.2388 - accuracy: 0.9064 - val_loss: 0.3388 - val_accuracy: 0.8565\n",
      "Epoch 4/20\n",
      "247/247 [==============================] - 7s 28ms/step - loss: 0.1689 - accuracy: 0.9392 - val_loss: 0.3887 - val_accuracy: 0.8504\n",
      "Epoch 5/20\n",
      "247/247 [==============================] - 7s 28ms/step - loss: 0.1096 - accuracy: 0.9642 - val_loss: 0.4570 - val_accuracy: 0.8469\n",
      "Epoch 6/20\n",
      "247/247 [==============================] - 7s 28ms/step - loss: 0.0702 - accuracy: 0.9783 - val_loss: 0.5548 - val_accuracy: 0.8432\n",
      "Epoch 7/20\n",
      "247/247 [==============================] - 7s 28ms/step - loss: 0.0463 - accuracy: 0.9856 - val_loss: 0.6084 - val_accuracy: 0.8375\n",
      "Epoch 8/20\n",
      "247/247 [==============================] - 7s 28ms/step - loss: 0.0346 - accuracy: 0.9900 - val_loss: 0.6747 - val_accuracy: 0.8382\n",
      "Epoch 9/20\n",
      "247/247 [==============================] - 7s 28ms/step - loss: 0.0276 - accuracy: 0.9915 - val_loss: 0.7745 - val_accuracy: 0.8353\n",
      "Epoch 10/20\n",
      "247/247 [==============================] - 7s 28ms/step - loss: 0.0231 - accuracy: 0.9929 - val_loss: 0.7925 - val_accuracy: 0.8322\n",
      "Epoch 11/20\n",
      "247/247 [==============================] - 7s 28ms/step - loss: 0.0209 - accuracy: 0.9935 - val_loss: 0.8760 - val_accuracy: 0.8305\n",
      "Epoch 12/20\n",
      "247/247 [==============================] - 7s 28ms/step - loss: 0.0207 - accuracy: 0.9930 - val_loss: 0.9245 - val_accuracy: 0.8307\n",
      "Epoch 13/20\n",
      "247/247 [==============================] - 7s 28ms/step - loss: 0.0253 - accuracy: 0.9913 - val_loss: 0.9455 - val_accuracy: 0.8317\n",
      "Epoch 14/20\n",
      "247/247 [==============================] - 7s 28ms/step - loss: 0.0259 - accuracy: 0.9908 - val_loss: 0.9543 - val_accuracy: 0.8257\n",
      "Epoch 15/20\n",
      "247/247 [==============================] - 7s 28ms/step - loss: 0.0222 - accuracy: 0.9922 - val_loss: 0.9970 - val_accuracy: 0.8309\n",
      "Epoch 16/20\n",
      "247/247 [==============================] - 7s 28ms/step - loss: 0.0159 - accuracy: 0.9948 - val_loss: 1.0403 - val_accuracy: 0.8234\n",
      "Epoch 17/20\n",
      "247/247 [==============================] - 7s 28ms/step - loss: 0.0122 - accuracy: 0.9957 - val_loss: 1.0915 - val_accuracy: 0.8278\n",
      "Epoch 18/20\n",
      "247/247 [==============================] - 7s 28ms/step - loss: 0.0098 - accuracy: 0.9968 - val_loss: 1.1130 - val_accuracy: 0.8299\n",
      "Epoch 19/20\n",
      "247/247 [==============================] - 7s 28ms/step - loss: 0.0094 - accuracy: 0.9966 - val_loss: 1.1807 - val_accuracy: 0.8267\n",
      "Epoch 20/20\n",
      "247/247 [==============================] - 7s 28ms/step - loss: 0.0088 - accuracy: 0.9968 - val_loss: 1.1925 - val_accuracy: 0.8285\n",
      "----------------------\n",
      "Epoch 1/20\n",
      "247/247 [==============================] - 6s 22ms/step - loss: 0.6116 - accuracy: 0.7174 - val_loss: 0.3827 - val_accuracy: 0.8391\n",
      "Epoch 2/20\n",
      "247/247 [==============================] - 5s 22ms/step - loss: 0.3618 - accuracy: 0.8464 - val_loss: 0.3539 - val_accuracy: 0.8475\n",
      "Epoch 3/20\n",
      "247/247 [==============================] - 5s 22ms/step - loss: 0.3312 - accuracy: 0.8612 - val_loss: 0.3498 - val_accuracy: 0.8493\n",
      "Epoch 4/20\n",
      "247/247 [==============================] - 5s 22ms/step - loss: 0.3152 - accuracy: 0.8684 - val_loss: 0.3514 - val_accuracy: 0.8484\n",
      "Epoch 5/20\n",
      "247/247 [==============================] - 5s 22ms/step - loss: 0.3098 - accuracy: 0.8700 - val_loss: 0.3532 - val_accuracy: 0.8467\n",
      "Epoch 6/20\n",
      "247/247 [==============================] - 5s 21ms/step - loss: 0.3039 - accuracy: 0.8730 - val_loss: 0.3549 - val_accuracy: 0.8443\n",
      "Epoch 7/20\n",
      "247/247 [==============================] - 5s 22ms/step - loss: 0.3000 - accuracy: 0.8741 - val_loss: 0.3585 - val_accuracy: 0.8457\n",
      "Epoch 8/20\n",
      "247/247 [==============================] - 5s 22ms/step - loss: 0.2954 - accuracy: 0.8768 - val_loss: 0.3584 - val_accuracy: 0.8443\n",
      "Epoch 9/20\n",
      "247/247 [==============================] - 5s 22ms/step - loss: 0.2914 - accuracy: 0.8798 - val_loss: 0.3622 - val_accuracy: 0.8458\n",
      "Epoch 10/20\n",
      "247/247 [==============================] - 5s 22ms/step - loss: 0.2900 - accuracy: 0.8787 - val_loss: 0.3619 - val_accuracy: 0.8436\n",
      "Epoch 11/20\n",
      "247/247 [==============================] - 5s 21ms/step - loss: 0.2824 - accuracy: 0.8826 - val_loss: 0.3645 - val_accuracy: 0.8424\n",
      "Epoch 12/20\n",
      "247/247 [==============================] - 5s 21ms/step - loss: 0.2801 - accuracy: 0.8825 - val_loss: 0.3677 - val_accuracy: 0.8435\n",
      "Epoch 13/20\n",
      "247/247 [==============================] - 5s 22ms/step - loss: 0.2742 - accuracy: 0.8853 - val_loss: 0.3691 - val_accuracy: 0.8434\n",
      "Epoch 14/20\n",
      "247/247 [==============================] - 6s 23ms/step - loss: 0.2732 - accuracy: 0.8853 - val_loss: 0.3731 - val_accuracy: 0.8440\n",
      "Epoch 15/20\n",
      "247/247 [==============================] - 5s 22ms/step - loss: 0.2657 - accuracy: 0.8887 - val_loss: 0.3775 - val_accuracy: 0.8437\n",
      "Epoch 16/20\n",
      "247/247 [==============================] - 5s 22ms/step - loss: 0.2647 - accuracy: 0.8892 - val_loss: 0.3836 - val_accuracy: 0.8414\n",
      "Epoch 17/20\n",
      "247/247 [==============================] - 5s 22ms/step - loss: 0.2600 - accuracy: 0.8912 - val_loss: 0.3880 - val_accuracy: 0.8426\n"
     ]
    },
    {
     "name": "stdout",
     "output_type": "stream",
     "text": [
      "Epoch 18/20\n",
      "247/247 [==============================] - 5s 22ms/step - loss: 0.2554 - accuracy: 0.8942 - val_loss: 0.3903 - val_accuracy: 0.8411\n",
      "Epoch 19/20\n",
      "247/247 [==============================] - 6s 22ms/step - loss: 0.2546 - accuracy: 0.8951 - val_loss: 0.3961 - val_accuracy: 0.8414\n",
      "Epoch 20/20\n",
      "247/247 [==============================] - 5s 21ms/step - loss: 0.2485 - accuracy: 0.8969 - val_loss: 0.4030 - val_accuracy: 0.8419\n"
     ]
    }
   ],
   "source": [
    "model.compile(optimizer='adam',\n",
    "              loss='binary_crossentropy',\n",
    "              metrics=['accuracy'])\n",
    "              \n",
    "epochs=20  # 몇 epoch를 훈련하면 좋을지 결과를 보면서 바꾸어 봅시다. \n",
    "\n",
    "history = model.fit(partial_x_train,\n",
    "                    partial_y_train,\n",
    "                    epochs=epochs,\n",
    "                    batch_size=512,\n",
    "                    validation_data=(x_val, y_val),\n",
    "                    verbose=1)\n",
    "\n",
    "print('----------------------')\n",
    "cnn.compile(optimizer='adam',\n",
    "              loss='binary_crossentropy',\n",
    "              metrics=['accuracy'])\n",
    "\n",
    "\n",
    "history_cnn = cnn.fit(partial_x_train,\n",
    "                    partial_y_train,\n",
    "                    epochs=epochs,\n",
    "                    batch_size=512,\n",
    "                    validation_data=(x_val, y_val),\n",
    "                    verbose=1)\n",
    "\n",
    "print('----------------------')\n",
    "simple.compile(optimizer='adam',\n",
    "              loss='binary_crossentropy',\n",
    "              metrics=['accuracy'])\n",
    "\n",
    "history_simple = simple.fit(partial_x_train,\n",
    "                    partial_y_train,\n",
    "                    epochs=epochs,\n",
    "                    batch_size=512,\n",
    "                    validation_data=(x_val, y_val),\n",
    "                    verbose=1)"
   ]
  },
  {
   "cell_type": "markdown",
   "id": "affected-newton",
   "metadata": {},
   "source": [
    "### 모델 훈련 결과\n",
    "---\n",
    "모델의 훈련 결과는 요구하는 값에 미치지 못 하였습니다.\\\n",
    "epoch값을 줄이면 도달할 수 있을 것도 같습니다.\\\n",
    "중간에 오버피팅이 발생했기 때문입니다."
   ]
  },
  {
   "cell_type": "code",
   "execution_count": 109,
   "id": "sexual-dominican",
   "metadata": {},
   "outputs": [
    {
     "name": "stdout",
     "output_type": "stream",
     "text": [
      "1537/1537 - 5s - loss: 0.7317 - accuracy: 0.8363\n",
      "[0.7317453622817993, 0.8363000154495239]\n",
      "--------------------------\n",
      "CNN\n",
      "1537/1537 - 3s - loss: 1.2277 - accuracy: 0.8267\n",
      "[1.227718472480774, 0.8267388343811035]\n",
      "--------------------------\n",
      "GlobalAveragePooling1D layer\n",
      "1537/1537 - 3s - loss: 0.4078 - accuracy: 0.8363\n",
      "[0.4077545404434204, 0.8363407254219055]\n"
     ]
    }
   ],
   "source": [
    "results = model.evaluate(X_test,  y_test, verbose=2)\n",
    "print(results)\n",
    "print(\"--------------------------\")\n",
    "print(\"CNN\")\n",
    "results_cnn = cnn.evaluate(X_test, y_test, verbose=2)\n",
    "print(results_cnn)\n",
    "print(\"--------------------------\")\n",
    "print(\"GlobalAveragePooling1D layer\")\n",
    "results_simple = simple.evaluate(X_test, y_test, verbose=2)\n",
    "print(results_simple)"
   ]
  },
  {
   "cell_type": "markdown",
   "id": "italic-terror",
   "metadata": {},
   "source": [
    "### lstm 모델 시각화\n",
    "---\n",
    "lstm 모델은 약 2epoch 이후부터 overfitting이 발생하는 것 같습니다."
   ]
  },
  {
   "cell_type": "code",
   "execution_count": 110,
   "id": "australian-dependence",
   "metadata": {},
   "outputs": [
    {
     "data": {
      "image/png": "[encoded data removed]",
      "text/plain": [
       "<Figure size 432x288 with 1 Axes>"
      ]
     },
     "metadata": {
      "needs_background": "light"
     },
     "output_type": "display_data"
    }
   ],
   "source": [
    "history_dict = history.history\n",
    "import matplotlib.pyplot as plt\n",
    "\n",
    "acc = history_dict['accuracy']\n",
    "val_acc = history_dict['val_accuracy']\n",
    "loss = history_dict['loss']\n",
    "val_loss = history_dict['val_loss']\n",
    "\n",
    "epochs = range(1, len(acc) + 1)\n",
    "\n",
    "# \"bo\"는 \"파란색 점\"입니다\n",
    "plt.plot(epochs, loss, 'bo', label='Training loss')\n",
    "# b는 \"파란 실선\"입니다\n",
    "plt.plot(epochs, val_loss, 'b', label='Validation loss')\n",
    "plt.title('Training and validation loss')\n",
    "plt.xlabel('Epochs')\n",
    "plt.ylabel('Loss')\n",
    "plt.legend()\n",
    "\n",
    "plt.show()"
   ]
  },
  {
   "cell_type": "code",
   "execution_count": 111,
   "id": "coordinate-afghanistan",
   "metadata": {
    "scrolled": true
   },
   "outputs": [
    {
     "data": {
      "image/png": "[encoded data removed]",
      "text/plain": [
       "<Figure size 432x288 with 1 Axes>"
      ]
     },
     "metadata": {
      "needs_background": "light"
     },
     "output_type": "display_data"
    }
   ],
   "source": [
    "plt.clf()   # 그림을 초기화합니다\n",
    "\n",
    "plt.plot(epochs, acc, 'bo', label='Training acc')\n",
    "plt.plot(epochs, val_acc, 'b', label='Validation acc')\n",
    "plt.title('Training and validation accuracy')\n",
    "plt.xlabel('Epochs')\n",
    "plt.ylabel('Accuracy')\n",
    "plt.legend()\n",
    "\n",
    "plt.show()"
   ]
  },
  {
   "cell_type": "markdown",
   "id": "suited-motion",
   "metadata": {},
   "source": [
    "### cnn 모델 시각화\n",
    "---\n",
    "cnn 모델도 약 2epoch 이후부터 overfitting이 발생하는 것 같습니다."
   ]
  },
  {
   "cell_type": "code",
   "execution_count": 112,
   "id": "worldwide-toilet",
   "metadata": {},
   "outputs": [
    {
     "data": {
      "image/png": "[encoded data removed]",
      "text/plain": [
       "<Figure size 432x288 with 1 Axes>"
      ]
     },
     "metadata": {
      "needs_background": "light"
     },
     "output_type": "display_data"
    },
    {
     "data": {
      "image/png": "[encoded data removed]",
      "text/plain": [
       "<Figure size 432x288 with 1 Axes>"
      ]
     },
     "metadata": {
      "needs_background": "light"
     },
     "output_type": "display_data"
    }
   ],
   "source": [
    "history_dict = history_cnn.history\n",
    "\n",
    "acc = history_dict['accuracy']\n",
    "val_acc = history_dict['val_accuracy']\n",
    "loss = history_dict['loss']\n",
    "val_loss = history_dict['val_loss']\n",
    "\n",
    "epochs = range(1, len(acc) + 1)\n",
    "\n",
    "plt.plot(epochs, loss, 'bo', label='Training loss')\n",
    "plt.plot(epochs, val_loss, 'b', label='Validation loss')\n",
    "\n",
    "plt.title('Training and validation loss')\n",
    "plt.xlabel('Epochs')\n",
    "plt.ylabel('Loss')\n",
    "plt.legend()\n",
    "\n",
    "plt.show()\n",
    "\n",
    "plt.clf()\n",
    "\n",
    "plt.plot(epochs, acc, 'bo', label='Training acc')\n",
    "plt.plot(epochs, val_acc, 'b', label='Validation acc')\n",
    "plt.title('Training and validation accuracy')\n",
    "plt.xlabel('Epochs')\n",
    "plt.ylabel('Accuracy')\n",
    "plt.legend()\n",
    "\n",
    "plt.show()"
   ]
  },
  {
   "cell_type": "markdown",
   "id": "understood-hopkins",
   "metadata": {},
   "source": [
    "### GlobalMaxPooling 모델 시각화\n",
    "---\n",
    "GlobalMaxPooling 모델도 약 2epoch 이후부터 overfitting이 발생하는 것 같습니다.\n",
    "세 모델 모두 많은 학습회수가 필요하지 않은 것 같습니다."
   ]
  },
  {
   "cell_type": "code",
   "execution_count": 113,
   "id": "welcome-plumbing",
   "metadata": {},
   "outputs": [
    {
     "data": {
      "image/png": "[encoded data removed]",
      "text/plain": [
       "<Figure size 432x288 with 1 Axes>"
      ]
     },
     "metadata": {
      "needs_background": "light"
     },
     "output_type": "display_data"
    },
    {
     "data": {
      "image/png": "[encoded data removed]",
      "text/plain": [
       "<Figure size 432x288 with 1 Axes>"
      ]
     },
     "metadata": {
      "needs_background": "light"
     },
     "output_type": "display_data"
    }
   ],
   "source": [
    "history_dict = history_simple.history\n",
    "\n",
    "acc = history_dict['accuracy']\n",
    "val_acc = history_dict['val_accuracy']\n",
    "loss = history_dict['loss']\n",
    "val_loss = history_dict['val_loss']\n",
    "\n",
    "epochs = range(1, len(acc) + 1)\n",
    "\n",
    "plt.plot(epochs, loss, 'bo', label='Training loss')\n",
    "plt.plot(epochs, val_loss, 'b', label='Validation loss')\n",
    "\n",
    "plt.title('Training and validation loss')\n",
    "plt.xlabel('Epochs')\n",
    "plt.ylabel('Loss')\n",
    "plt.legend()\n",
    "\n",
    "plt.show()\n",
    "\n",
    "plt.clf()\n",
    "\n",
    "plt.plot(epochs, acc, 'bo', label='Training acc')\n",
    "plt.plot(epochs, val_acc, 'b', label='Validation acc')\n",
    "plt.title('Training and validation accuracy')\n",
    "plt.xlabel('Epochs')\n",
    "plt.ylabel('Accuracy')\n",
    "plt.legend()\n",
    "\n",
    "plt.show()"
   ]
  },
  {
   "cell_type": "code",
   "execution_count": 114,
   "id": "possible-review",
   "metadata": {},
   "outputs": [
    {
     "name": "stdout",
     "output_type": "stream",
     "text": [
      "(10000, 200)\n"
     ]
    }
   ],
   "source": [
    "embedding_layer = model.layers[0]\n",
    "weights = embedding_layer.get_weights()[0]\n",
    "print(weights.shape)    # shape: (vocab_size, embedding_dim)"
   ]
  },
  {
   "cell_type": "markdown",
   "id": "packed-attack",
   "metadata": {},
   "source": [
    "### word2vec 적용\n",
    "---\n",
    "앞서 라이브러리에서 설명한대로 많은 시행착오가 있었던 부분입니다.\\\n",
    "처음에는 tsv파일을 이용해야 된다고 생각했습니다.\n"
   ]
  },
  {
   "cell_type": "code",
   "execution_count": 115,
   "id": "black-present",
   "metadata": {},
   "outputs": [
    {
     "data": {
      "text/html": [
       "<div>\n",
       "<style scoped>\n",
       "    .dataframe tbody tr th:only-of-type {\n",
       "        vertical-align: middle;\n",
       "    }\n",
       "\n",
       "    .dataframe tbody tr th {\n",
       "        vertical-align: top;\n",
       "    }\n",
       "\n",
       "    .dataframe thead th {\n",
       "        text-align: right;\n",
       "    }\n",
       "</style>\n",
       "<table border=\"1\" class=\"dataframe\">\n",
       "  <thead>\n",
       "    <tr style=\"text-align: right;\">\n",
       "      <th></th>\n",
       "      <th>0</th>\n",
       "      <th>하</th>\n",
       "      <th>[ 1.2513299  -0.79136038 -1.73257852 -0.10256522  0.49739066 -0.6211493</th>\n",
       "    </tr>\n",
       "  </thead>\n",
       "  <tbody>\n",
       "    <tr>\n",
       "      <th>0</th>\n",
       "      <td>-0.75320292 -0.73639965 -0.48074064 -2.717918...</td>\n",
       "      <td>NaN</td>\n",
       "      <td>NaN</td>\n",
       "    </tr>\n",
       "    <tr>\n",
       "      <th>1</th>\n",
       "      <td>-1.31397796 -1.23559558  2.00065851 -1.614447...</td>\n",
       "      <td>NaN</td>\n",
       "      <td>NaN</td>\n",
       "    </tr>\n",
       "    <tr>\n",
       "      <th>2</th>\n",
       "      <td>-0.31341434 -0.84969783 -1.16742218  3.886214...</td>\n",
       "      <td>NaN</td>\n",
       "      <td>NaN</td>\n",
       "    </tr>\n",
       "    <tr>\n",
       "      <th>3</th>\n",
       "      <td>1.61381435  1.22231627 -1.98783004  0.164879...</td>\n",
       "      <td>NaN</td>\n",
       "      <td>NaN</td>\n",
       "    </tr>\n",
       "    <tr>\n",
       "      <th>4</th>\n",
       "      <td>-0.49372947  0.26293227 -1.1739614  -0.711869...</td>\n",
       "      <td>NaN</td>\n",
       "      <td>NaN</td>\n",
       "    </tr>\n",
       "    <tr>\n",
       "      <th>...</th>\n",
       "      <td>...</td>\n",
       "      <td>...</td>\n",
       "      <td>...</td>\n",
       "    </tr>\n",
       "    <tr>\n",
       "      <th>1207628</th>\n",
       "      <td>-1.72668040e-01  -8.13257694e-02   8.1845924...</td>\n",
       "      <td>NaN</td>\n",
       "      <td>NaN</td>\n",
       "    </tr>\n",
       "    <tr>\n",
       "      <th>1207629</th>\n",
       "      <td>1.07380293e-01  -1.63414225e-01   1.7965671...</td>\n",
       "      <td>NaN</td>\n",
       "      <td>NaN</td>\n",
       "    </tr>\n",
       "    <tr>\n",
       "      <th>1207630</th>\n",
       "      <td>-1.62735716e-01   1.58400889e-02   2.4628922...</td>\n",
       "      <td>NaN</td>\n",
       "      <td>NaN</td>\n",
       "    </tr>\n",
       "    <tr>\n",
       "      <th>1207631</th>\n",
       "      <td>2.33353496e-01  -2.97980547e-01   2.8282153...</td>\n",
       "      <td>NaN</td>\n",
       "      <td>NaN</td>\n",
       "    </tr>\n",
       "    <tr>\n",
       "      <th>1207632</th>\n",
       "      <td>4.25812155e-02  -8.86933804e-02   3.0509624...</td>\n",
       "      <td>NaN</td>\n",
       "      <td>NaN</td>\n",
       "    </tr>\n",
       "  </tbody>\n",
       "</table>\n",
       "<p>1207633 rows × 3 columns</p>\n",
       "</div>"
      ],
      "text/plain": [
       "                                                         0    하  \\\n",
       "0         -0.75320292 -0.73639965 -0.48074064 -2.717918...  NaN   \n",
       "1         -1.31397796 -1.23559558  2.00065851 -1.614447...  NaN   \n",
       "2         -0.31341434 -0.84969783 -1.16742218  3.886214...  NaN   \n",
       "3          1.61381435  1.22231627 -1.98783004  0.164879...  NaN   \n",
       "4         -0.49372947  0.26293227 -1.1739614  -0.711869...  NaN   \n",
       "...                                                    ...  ...   \n",
       "1207628    -1.72668040e-01  -8.13257694e-02   8.1845924...  NaN   \n",
       "1207629     1.07380293e-01  -1.63414225e-01   1.7965671...  NaN   \n",
       "1207630    -1.62735716e-01   1.58400889e-02   2.4628922...  NaN   \n",
       "1207631     2.33353496e-01  -2.97980547e-01   2.8282153...  NaN   \n",
       "1207632     4.25812155e-02  -8.86933804e-02   3.0509624...  NaN   \n",
       "\n",
       "        [ 1.2513299  -0.79136038 -1.73257852 -0.10256522  0.49739066 -0.6211493  \n",
       "0                                                      NaN                       \n",
       "1                                                      NaN                       \n",
       "2                                                      NaN                       \n",
       "3                                                      NaN                       \n",
       "4                                                      NaN                       \n",
       "...                                                    ...                       \n",
       "1207628                                                NaN                       \n",
       "1207629                                                NaN                       \n",
       "1207630                                                NaN                       \n",
       "1207631                                                NaN                       \n",
       "1207632                                                NaN                       \n",
       "\n",
       "[1207633 rows x 3 columns]"
      ]
     },
     "execution_count": 115,
     "metadata": {},
     "output_type": "execute_result"
    }
   ],
   "source": [
    "word2vec_file_path = os.getenv('HOME')+'/aiffel/sentiment_classification/data/ko.tsv'\n",
    "word2vec_data = pd.read_csv(word2vec_file_path, delimiter='\\t')\n",
    "word2vec_data\n"
   ]
  },
  {
   "cell_type": "markdown",
   "id": "declared-garage",
   "metadata": {},
   "source": [
    "### word2vec 적용\n",
    "---\n",
    "예전 모델을 불러올 경우 4.xx버전 이상의 gensim은 문제를 일을킬 수 있다는\n",
    "블로그 내용을 찾아서, 3.xx버전으로 하기로 했습니다.\n"
   ]
  },
  {
   "cell_type": "code",
   "execution_count": 116,
   "id": "registered-journalist",
   "metadata": {},
   "outputs": [
    {
     "name": "stdout",
     "output_type": "stream",
     "text": [
      "[ 0.16752283 -1.4403394   2.8093226  -2.2942572   0.13433917 -1.0179986\n",
      " -1.6604831   1.4500121   0.26260966 -0.9908764  -0.86152965  0.2907808\n",
      " -0.71542895  0.11167914 -0.03550755  1.0984114  -1.266807   -1.73354\n",
      "  1.6347289  -0.6296538  -0.4523188  -0.5940362  -0.07651725 -1.8494816\n",
      " -1.3535714  -2.3276203   1.3144854   1.9779409  -0.4396118   1.5602161\n",
      "  1.4577893   1.1083381   0.65025765  0.51086545  0.1116109   0.46636197\n",
      " -0.50944877 -0.5409319  -1.0953526  -2.4960513  -0.28755617 -0.7519181\n",
      "  0.6840282  -0.69424474 -0.24744606  0.03568178  3.426236   -2.2075064\n",
      " -0.38595662 -0.11880949  1.7459064  -1.8460087   1.8704582  -0.8907359\n",
      "  0.258816    0.46029854  2.7752008   0.83754796 -1.1874206   0.22281261\n",
      "  2.1227393   0.64509875 -2.9229567   1.8654289  -0.32230487 -1.6857306\n",
      "  0.39045802  0.935903    0.02172696  0.0644962   0.9145913  -0.95547587\n",
      " -1.2014496  -0.16720626  0.86859787  0.07173832  0.60098696  0.5265061\n",
      "  1.744407   -0.01287265 -1.8676045  -0.30340263  1.6570233  -1.6057646\n",
      " -0.5974502  -0.4333903  -0.42364794 -0.22590072 -1.287298    2.575613\n",
      "  1.1819437  -1.4708831  -0.06213734  1.4932028  -0.77028203  0.10911041\n",
      " -1.4376347  -0.17732285  0.40324122  0.58457375 -1.7288164  -1.3531774\n",
      "  2.1099668  -2.1753383   0.70452553  0.7564847  -0.2853594  -2.2756026\n",
      " -1.5135059  -1.0090587   1.6956885  -4.3892484   0.40522134  1.1383907\n",
      "  0.8675943  -0.71887    -2.183344   -0.94228035  1.4405013   0.10398538\n",
      "  1.4842703  -2.1172695  -1.2553492  -1.027058   -0.91286653 -1.5840228\n",
      "  0.40014455 -1.9178793   2.0758982  -0.4492585   2.600914   -1.0651177\n",
      "  0.3085886   2.2858596   2.031188    1.1228061  -0.4241463  -0.8984276\n",
      "  1.5775079   1.375866    0.65672606  1.5157895  -0.2591533   0.12122362\n",
      " -2.002886   -2.4956489  -0.31128073  3.6452951   1.1940784  -0.19789606\n",
      " -1.1892436  -2.166677   -1.6949068  -0.04891506 -1.0742688  -0.7870227\n",
      " -0.60343325 -0.30573794 -0.65736485  0.56394255 -0.7284615   1.0965234\n",
      "  0.15493485  0.38409495 -2.056695    0.51320124 -0.01231898 -0.06928851\n",
      "  0.18692942  2.409596    0.4157542   0.32584712  0.04806245 -0.787956\n",
      " -0.74002236  1.1421252  -2.1025956  -1.8587397   0.21269812  0.20395787\n",
      " -1.8000438  -0.48295444  1.8755666  -0.5706804   0.7089433  -0.2579657\n",
      " -0.43446818  0.63479984 -0.51427615  3.0392275   0.7882852   0.10229518\n",
      "  0.30560106  2.3750932   0.87071246 -1.1083885   0.53167546 -0.11499456\n",
      "  0.7529078   0.30495274]\n",
      "(200,)\n"
     ]
    }
   ],
   "source": [
    "\n",
    "# 학습한 Embedding 파라미터를 파일에 써서 저장합니다. \n",
    "word2vec_file_path = os.getenv('HOME')+'/aiffel/sentiment_classification/data/ko.bin'\n",
    "word_txt_file_paht = os.getenv('HOME')+'/aiffel/sentiment_classification/data/ko.txt'\n",
    "\n",
    "# ko_vec = KeyedVectors.load(word2vec_file_path)\n",
    "\n",
    "ko_vec = gensim.models.Word2Vec.load(word2vec_file_path)\n",
    "print(ko_vec.wv[\"배우\"])\n",
    "print(ko_vec.wv[\"배우\"].shape)\n",
    "# kovec = KeyedVectors.load_word2vec_format(word2vec_file_path, binary=True, encoding='cp949')\n",
    "# kovec.save_word2vec_format(word_txt_file_paht, binary=False)"
   ]
  },
  {
   "cell_type": "code",
   "execution_count": 117,
   "id": "domestic-plane",
   "metadata": {},
   "outputs": [
    {
     "name": "stdout",
     "output_type": "stream",
     "text": [
      "(10000, 200)\n"
     ]
    },
    {
     "name": "stderr",
     "output_type": "stream",
     "text": [
      "/opt/conda/lib/python3.7/site-packages/ipykernel_launcher.py:7: DeprecationWarning: Call to deprecated `__contains__` (Method will be removed in 4.0.0, use self.wv.__contains__() instead).\n",
      "  import sys\n",
      "/opt/conda/lib/python3.7/site-packages/ipykernel_launcher.py:8: DeprecationWarning: Call to deprecated `__getitem__` (Method will be removed in 4.0.0, use self.wv.__getitem__() instead).\n",
      "  \n"
     ]
    }
   ],
   "source": [
    "vocab_size_ko_vec = 10000\n",
    "word_vector_dim_ko_vec = 200\n",
    "\n",
    "embedding_matrix = np.random.rand(vocab_size_ko_vec, word_vector_dim_ko_vec)\n",
    "\n",
    "for i in range(4,vocab_size_ko_vec):\n",
    "    if index_to_word[i] in ko_vec:\n",
    "        embedding_matrix[i] = ko_vec[index_to_word[i]]\n",
    "        \n",
    "print(embedding_matrix.shape)"
   ]
  },
  {
   "cell_type": "markdown",
   "id": "whole-delivery",
   "metadata": {},
   "source": [
    "### 모델설계\n",
    "---\n",
    "word2vec 이후 모델 설계 부분입니다.\\\n",
    "하이퍼 파라미터도 수정하여 최적값을 찾아보았습니다."
   ]
  },
  {
   "cell_type": "code",
   "execution_count": 118,
   "id": "lonely-astrology",
   "metadata": {},
   "outputs": [
    {
     "name": "stdout",
     "output_type": "stream",
     "text": [
      "Model: \"sequential_32\"\n",
      "_________________________________________________________________\n",
      "Layer (type)                 Output Shape              Param #   \n",
      "=================================================================\n",
      "embedding_32 (Embedding)     (None, 41, 200)           2000000   \n",
      "_________________________________________________________________\n",
      "lstm_19 (LSTM)               (None, 256)               467968    \n",
      "_________________________________________________________________\n",
      "dense_58 (Dense)             (None, 256)               65792     \n",
      "_________________________________________________________________\n",
      "dense_59 (Dense)             (None, 1)                 257       \n",
      "=================================================================\n",
      "Total params: 2,534,017\n",
      "Trainable params: 2,534,017\n",
      "Non-trainable params: 0\n",
      "_________________________________________________________________\n",
      "=====================-------------------\n",
      "Model: \"sequential_33\"\n",
      "_________________________________________________________________\n",
      "Layer (type)                 Output Shape              Param #   \n",
      "=================================================================\n",
      "embedding_33 (Embedding)     (None, 41, 200)           2000000   \n",
      "_________________________________________________________________\n",
      "dropout_2 (Dropout)          (None, 41, 200)           0         \n",
      "_________________________________________________________________\n",
      "conv1d_10 (Conv1D)           (None, 35, 512)           717312    \n",
      "_________________________________________________________________\n",
      "max_pooling1d_5 (MaxPooling1 (None, 7, 512)            0         \n",
      "_________________________________________________________________\n",
      "conv1d_11 (Conv1D)           (None, 1, 512)            1835520   \n",
      "_________________________________________________________________\n",
      "global_max_pooling1d_5 (Glob (None, 512)               0         \n",
      "_________________________________________________________________\n",
      "dense_60 (Dense)             (None, 256)               131328    \n",
      "_________________________________________________________________\n",
      "dense_61 (Dense)             (None, 1)                 257       \n",
      "=================================================================\n",
      "Total params: 4,684,417\n",
      "Trainable params: 4,684,417\n",
      "Non-trainable params: 0\n",
      "_________________________________________________________________\n",
      "=====================-------------------\n",
      "Model: \"sequential_34\"\n",
      "_________________________________________________________________\n",
      "Layer (type)                 Output Shape              Param #   \n",
      "=================================================================\n",
      "embedding_34 (Embedding)     (None, 41, 200)           2000000   \n",
      "_________________________________________________________________\n",
      "global_average_pooling1d_5 ( (None, 200)               0         \n",
      "_________________________________________________________________\n",
      "dense_62 (Dense)             (None, 128)               25728     \n",
      "_________________________________________________________________\n",
      "dropout_3 (Dropout)          (None, 128)               0         \n",
      "_________________________________________________________________\n",
      "dense_63 (Dense)             (None, 1)                 129       \n",
      "=================================================================\n",
      "Total params: 2,025,857\n",
      "Trainable params: 2,025,857\n",
      "Non-trainable params: 0\n",
      "_________________________________________________________________\n"
     ]
    }
   ],
   "source": [
    "lstm = keras.Sequential()\n",
    "lstm.add(keras.layers.Embedding(vocab_size, \n",
    "                                 word_vector_dim_ko_vec, \n",
    "                                 embeddings_initializer=Constant(embedding_matrix),\n",
    "                                 input_length=maxlen, \n",
    "                                 trainable=True))\n",
    "lstm.add(keras.layers.LSTM(256))\n",
    "lstm.add(keras.layers.Dense(256, activation='relu'))\n",
    "lstm.add(keras.layers.Dense(1, activation='sigmoid'))\n",
    "\n",
    "lstm.summary()\n",
    "print('=====================-------------------')\n",
    "cnn = keras.Sequential()\n",
    "cnn.add(keras.layers.Embedding(vocab_size, \n",
    "                                 word_vector_dim, \n",
    "                                 embeddings_initializer=Constant(embedding_matrix),\n",
    "                                 input_length=maxlen, \n",
    "                                 trainable=True))\n",
    "cnn.add(keras.layers.Dropout(0.5))\n",
    "cnn.add(keras.layers.Conv1D(512, 7, activation='relu'))\n",
    "cnn.add(keras.layers.MaxPooling1D(5))\n",
    "cnn.add(keras.layers.Conv1D(512, 7, activation='relu'))\n",
    "cnn.add(keras.layers.GlobalMaxPooling1D())\n",
    "cnn.add(keras.layers.Dense(256, activation='relu'))\n",
    "cnn.add(keras.layers.Dense(1, activation='sigmoid'))\n",
    "\n",
    "cnn.summary()\n",
    "print('=====================-------------------')\n",
    "simple = keras.Sequential()\n",
    "simple.add(keras.layers.Embedding(vocab_size, \n",
    "                                 word_vector_dim, \n",
    "                                 embeddings_initializer=Constant(embedding_matrix),\n",
    "                                 input_length=maxlen, \n",
    "                                 trainable=True))\n",
    "\n",
    "simple.add(keras.layers.GlobalAveragePooling1D())\n",
    "simple.add(keras.layers.Dense(128, activation='relu'))\n",
    "simple.add(keras.layers.Dropout(0.1))\n",
    "simple.add(keras.layers.Dense(1, activation='sigmoid'))\n",
    "\n",
    "simple.summary()"
   ]
  },
  {
   "cell_type": "markdown",
   "id": "numerical-cricket",
   "metadata": {},
   "source": [
    "### 모델학습\n",
    "---\n",
    "모델학습에서 대략 epoch이 5 내외에서 최적의 결과를 보여서\\\n",
    "epoch을 줄인 상태로 진행했습니다."
   ]
  },
  {
   "cell_type": "code",
   "execution_count": 124,
   "id": "intellectual-falls",
   "metadata": {},
   "outputs": [
    {
     "name": "stdout",
     "output_type": "stream",
     "text": [
      "Epoch 1/5\n",
      "247/247 [==============================] - 20s 72ms/step - loss: 0.0258 - accuracy: 0.9900 - val_loss: 1.0031 - val_accuracy: 0.8613\n",
      "Epoch 2/5\n",
      "247/247 [==============================] - 17s 70ms/step - loss: 0.0218 - accuracy: 0.9915 - val_loss: 1.0416 - val_accuracy: 0.8529\n",
      "Epoch 3/5\n",
      "247/247 [==============================] - 17s 71ms/step - loss: 0.0170 - accuracy: 0.9932 - val_loss: 1.0944 - val_accuracy: 0.8554\n",
      "Epoch 4/5\n",
      "247/247 [==============================] - 17s 71ms/step - loss: 0.0175 - accuracy: 0.9927 - val_loss: 1.1096 - val_accuracy: 0.8576\n",
      "Epoch 5/5\n",
      "247/247 [==============================] - 17s 71ms/step - loss: 0.0177 - accuracy: 0.9934 - val_loss: 1.0956 - val_accuracy: 0.8586\n",
      "=====================-------------------\n",
      "Epoch 1/5\n",
      "247/247 [==============================] - 23s 90ms/step - loss: 0.1662 - accuracy: 0.9313 - val_loss: 0.3808 - val_accuracy: 0.8588\n",
      "Epoch 2/5\n",
      "247/247 [==============================] - 22s 90ms/step - loss: 0.1610 - accuracy: 0.9340 - val_loss: 0.3911 - val_accuracy: 0.8578\n",
      "Epoch 3/5\n",
      "247/247 [==============================] - 22s 90ms/step - loss: 0.1504 - accuracy: 0.9391 - val_loss: 0.3961 - val_accuracy: 0.8543\n",
      "Epoch 4/5\n",
      "247/247 [==============================] - 22s 90ms/step - loss: 0.1460 - accuracy: 0.9400 - val_loss: 0.4108 - val_accuracy: 0.8597\n",
      "Epoch 5/5\n",
      "247/247 [==============================] - 22s 89ms/step - loss: 0.1394 - accuracy: 0.9430 - val_loss: 0.4203 - val_accuracy: 0.8525\n",
      "=====================-------------------\n",
      "Epoch 1/5\n",
      "247/247 [==============================] - 6s 22ms/step - loss: 0.2820 - accuracy: 0.8812 - val_loss: 0.3608 - val_accuracy: 0.8464\n",
      "Epoch 2/5\n",
      "247/247 [==============================] - 5s 22ms/step - loss: 0.2792 - accuracy: 0.8830 - val_loss: 0.3595 - val_accuracy: 0.8474\n",
      "Epoch 3/5\n",
      "247/247 [==============================] - 5s 22ms/step - loss: 0.2763 - accuracy: 0.8838 - val_loss: 0.3700 - val_accuracy: 0.8476\n",
      "Epoch 4/5\n",
      "247/247 [==============================] - 5s 22ms/step - loss: 0.2702 - accuracy: 0.8862 - val_loss: 0.3770 - val_accuracy: 0.8406\n",
      "Epoch 5/5\n",
      "247/247 [==============================] - 5s 22ms/step - loss: 0.2696 - accuracy: 0.8875 - val_loss: 0.3686 - val_accuracy: 0.8450\n"
     ]
    }
   ],
   "source": [
    "epochs = 5\n",
    "\n",
    "lstm.compile(optimizer='adam',\n",
    "              loss='binary_crossentropy',\n",
    "              metrics=['accuracy'])\n",
    "\n",
    "history_lstm = lstm.fit(partial_x_train,\n",
    "                    partial_y_train,\n",
    "                    epochs=epochs,\n",
    "                    batch_size=512,\n",
    "                    validation_data=(x_val, y_val),\n",
    "                    verbose=1)\n",
    "print('=====================-------------------')\n",
    "\n",
    "epochs = 5\n",
    "\n",
    "cnn.compile(optimizer='adam',\n",
    "              loss='binary_crossentropy',\n",
    "              metrics=['accuracy'])\n",
    "\n",
    "history_cnn = cnn.fit(partial_x_train,\n",
    "                    partial_y_train,\n",
    "                    epochs=epochs,\n",
    "                    batch_size=512,\n",
    "                    validation_data=(x_val, y_val),\n",
    "                    verbose=1)\n",
    "                    \n",
    "print('=====================-------------------')\n",
    "\n",
    "epochs = 5\n",
    "\n",
    "simple.compile(optimizer='adam',\n",
    "              loss='binary_crossentropy',\n",
    "              metrics=['accuracy'])\n",
    "\n",
    "history_simple = simple.fit(partial_x_train,\n",
    "                    partial_y_train,\n",
    "                    epochs=epochs,\n",
    "                    batch_size=512,\n",
    "                    validation_data=(x_val, y_val),\n",
    "                    verbose=1)"
   ]
  },
  {
   "cell_type": "code",
   "execution_count": 127,
   "id": "adjacent-premium",
   "metadata": {},
   "outputs": [
    {
     "name": "stdout",
     "output_type": "stream",
     "text": [
      "LSTM\n",
      "1537/1537 - 8s - loss: 1.1097 - accuracy: 0.8529\n",
      "[1.1097440719604492, 0.8529202342033386]\n",
      "--------------------------\n",
      "CNN\n",
      "1537/1537 - 7s - loss: 0.4334 - accuracy: 0.8481\n",
      "[0.4334131181240082, 0.8481396436691284]\n",
      "--------------------------\n",
      "GlobalAveragePooling1D layer\n",
      "1537/1537 - 3s - loss: 0.3769 - accuracy: 0.8411\n",
      "[0.37692227959632874, 0.8411416411399841]\n"
     ]
    }
   ],
   "source": [
    "print(\"LSTM\")\n",
    "results_lstm = lstm.evaluate(X_test, y_test, verbose=2)\n",
    "print(results_lstm)\n",
    "print(\"--------------------------\")\n",
    "print(\"CNN\")\n",
    "results_cnn = cnn.evaluate(X_test, y_test, verbose=2)\n",
    "print(results_cnn)\n",
    "print(\"--------------------------\")\n",
    "print(\"GlobalAveragePooling1D layer\")\n",
    "results_simple = simple.evaluate(X_test, y_test, verbose=2)\n",
    "print(results_simple)"
   ]
  },
  {
   "cell_type": "markdown",
   "id": "ruled-bahrain",
   "metadata": {},
   "source": [
    "### 회고\n",
    "---\n",
    "LSTM과 CNN은 학습과정내에서 종종 0.86을 넘기는 결과도 관찰되었지만,\\\n",
    "GlobalAveragePooling은 0.84대가 최적값이었습니다.\\\n",
    "다만 word2vec를 적용한 것과 적용하지 않은 것 사이에서 유의미한 차이가 발생하지\\\n",
    "않은 것 같아서 의문이 듭니다.\\\n",
    "모델이 빠르게 과적합에 이른다는 점에서 봤을 때,\\\n",
    "모델의 학습속도는 충분히 빠르고\\\n",
    "가중치를 미리 학습하게 하는 word2vec이 큰 의미를 보이지 않는다는 생각이 듭니다."
   ]
  },
  {
   "cell_type": "markdown",
   "id": "adult-active",
   "metadata": {},
   "source": []
  }
 ],
 "metadata": {
  "kernelspec": {
   "display_name": "Python 3",
   "language": "python",
   "name": "python3"
  },
  "language_info": {
   "codemirror_mode": {
    "name": "ipython",
    "version": 3
   },
   "file_extension": ".py",
   "mimetype": "text/x-python",
   "name": "python",
   "nbconvert_exporter": "python",
   "pygments_lexer": "ipython3",
   "version": "3.7.9"
  }
 },
 "nbformat": 4,
 "nbformat_minor": 5
}
