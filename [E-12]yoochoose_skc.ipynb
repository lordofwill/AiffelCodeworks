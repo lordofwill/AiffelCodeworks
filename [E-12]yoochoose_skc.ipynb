{
 "cells": [
  {
   "cell_type": "markdown",
   "id": "directed-election",
   "metadata": {},
   "source": [
    "### 라이브러리 import\n",
    "---\n",
    "아직 안 했습니다. 곧 할게요"
   ]
  },
  {
   "cell_type": "code",
   "execution_count": null,
   "id": "overhead-riverside",
   "metadata": {},
   "outputs": [],
   "source": []
  }
 ],
 "metadata": {
  "kernelspec": {
   "display_name": "Python 3",
   "language": "python",
   "name": "python3"
  },
  "language_info": {
   "codemirror_mode": {
    "name": "ipython",
    "version": 3
   },
   "file_extension": ".py",
   "mimetype": "text/x-python",
   "name": "python",
   "nbconvert_exporter": "python",
   "pygments_lexer": "ipython3",
   "version": "3.7.9"
  }
 },
 "nbformat": 4,
 "nbformat_minor": 5
}
