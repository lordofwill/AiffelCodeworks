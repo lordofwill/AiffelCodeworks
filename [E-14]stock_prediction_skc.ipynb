{
 "cells": [
  {
   "cell_type": "markdown",
   "id": "packed-gospel",
   "metadata": {},
   "source": [
    "### 프로젝트 시작\n",
    "---\n",
    "프로젝트 합시다"
   ]
  },
  {
   "cell_type": "code",
   "execution_count": 1,
   "id": "adjustable-scenario",
   "metadata": {},
   "outputs": [],
   "source": [
    "import numpy as np"
   ]
  },
  {
   "cell_type": "code",
   "execution_count": null,
   "id": "desirable-bruce",
   "metadata": {},
   "outputs": [],
   "source": []
  },
  {
   "cell_type": "code",
   "execution_count": null,
   "id": "adjustable-provider",
   "metadata": {},
   "outputs": [],
   "source": []
  }
 ],
 "metadata": {
  "kernelspec": {
   "display_name": "Python 3",
   "language": "python",
   "name": "python3"
  },
  "language_info": {
   "codemirror_mode": {
    "name": "ipython",
    "version": 3
   },
   "file_extension": ".py",
   "mimetype": "text/x-python",
   "name": "python",
   "nbconvert_exporter": "python",
   "pygments_lexer": "ipython3",
   "version": "3.7.9"
  }
 },
 "nbformat": 4,
 "nbformat_minor": 5
}
