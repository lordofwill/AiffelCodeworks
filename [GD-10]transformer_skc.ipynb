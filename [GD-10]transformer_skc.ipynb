{
 "cells": [
  {
   "cell_type": "markdown",
   "id": "olive-portrait",
   "metadata": {},
   "source": [
    "## 꾸러미 가져오기\n",
    "---\n",
    "갑자기 영어로 된 표현이 맘에 안 들어서 제목을 바꿨습니다.\n",
    "또한 폰트 설치도 여기서 했습니다."
   ]
  },
  {
   "cell_type": "code",
   "execution_count": 1,
   "id": "invalid-hopkins",
   "metadata": {},
   "outputs": [],
   "source": [
    "import matplotlib as mpl\n",
    "import matplotlib.pyplot as plt\n",
    "import matplotlib.font_manager as fm\n",
    "\n",
    "import numpy as np\n",
    "import tensorflow as tf\n",
    "import sentencepiece as spm\n",
    "from tqdm import tqdm_notebook\n",
    "from tqdm.notebook import tqdm\n",
    "\n",
    "import re\n",
    "import os\n",
    "import io\n",
    "import time\n",
    "import random\n",
    "\n",
    "import seaborn # Attention 시각화를 위해 필요!"
   ]
  },
  {
   "cell_type": "code",
   "execution_count": 2,
   "id": "covered-saturn",
   "metadata": {},
   "outputs": [
    {
     "name": "stdout",
     "output_type": "stream",
     "text": [
      "fonts-nanum is already the newest version (20170925-1).\n",
      "0 upgraded, 0 newly installed, 0 to remove and 0 not upgraded.\n"
     ]
    }
   ],
   "source": [
    "!sudo apt -qq -y install fonts-nanum"
   ]
  },
  {
   "cell_type": "code",
   "execution_count": 3,
   "id": "educational-arctic",
   "metadata": {},
   "outputs": [
    {
     "data": {
      "text/plain": [
       "'/usr/share/fonts/truetype/nanum/NanumBarunGothic.ttf'"
      ]
     },
     "execution_count": 3,
     "metadata": {},
     "output_type": "execute_result"
    }
   ],
   "source": [
    "%config InlineBackend.figure_format = 'retina'\n",
    " \n",
    "fontpath = '/usr/share/fonts/truetype/nanum/NanumBarunGothic.ttf'\n",
    "font = fm.FontProperties(fname=fontpath, size=9)\n",
    "plt.rc('font', family='NanumBarunGothic') \n",
    "mpl.font_manager.findfont(font)"
   ]
  },
  {
   "cell_type": "markdown",
   "id": "allied-committee",
   "metadata": {},
   "source": [
    "## 자료 가져오기, 중복제거\n",
    "---"
   ]
  },
  {
   "cell_type": "code",
   "execution_count": 4,
   "id": "limiting-thomas",
   "metadata": {},
   "outputs": [],
   "source": [
    "data_dir = os.getenv('HOME')+'/aiffel/transformer/data'\n",
    "work_dir = os.getenv('HOME')+'/aiffel/transformer/workdata'\n",
    "kor_path = data_dir+\"/korean-english-park.train.ko\"\n",
    "eng_path = data_dir+\"/korean-english-park.train.en\"\n",
    "model_path = work_dir + '/model'"
   ]
  },
  {
   "cell_type": "code",
   "execution_count": 5,
   "id": "solar-strap",
   "metadata": {},
   "outputs": [],
   "source": [
    "def clean_corpus(kor_path, eng_path):\n",
    "    with open(kor_path, \"r\") as f: \n",
    "        kor = f.read().splitlines()\n",
    "    with open(eng_path, \"r\") as f: \n",
    "        eng = f.read().splitlines()\n",
    "    assert len(kor) == len(eng)\n",
    "\n",
    "    raw = zip(kor, eng)\n",
    "    cleaned_corpus = set(raw)\n",
    "\n",
    "    return cleaned_corpus"
   ]
  },
  {
   "cell_type": "code",
   "execution_count": 6,
   "id": "fifteen-xerox",
   "metadata": {},
   "outputs": [
    {
     "name": "stdout",
     "output_type": "stream",
     "text": [
      "78968 78968\n"
     ]
    }
   ],
   "source": [
    "cleaned_corpus = clean_corpus(kor_path, eng_path)\n",
    "kor_corpus, eng_corpus = zip(*cleaned_corpus)\n",
    "print(len(kor_corpus), len(eng_corpus))"
   ]
  },
  {
   "cell_type": "code",
   "execution_count": 7,
   "id": "hungry-tumor",
   "metadata": {},
   "outputs": [
    {
     "name": "stdout",
     "output_type": "stream",
     "text": [
      "7671\n",
      "ko >>> 전문가들은 \"비디오 게임과 컴퓨터 게임에 지나치게 많은 시간을 소비하는 사람 중 10%에게서 발견된 게임 중독이 정신장애라고 판정짓기에는 연구자료가 부족하다\"고 설명했다.\n",
      "en >>> They said more study is needed before excessive use of video and online games a problem that affects about 10 percent of players could be considered a mental illness.\n",
      "\n",
      "24479\n",
      "ko >>> ANSA는 성당 교구인이 고해소에서 바스락 소리와 신음소리가 들리자 경찰에 신고했으며 신고를 받고 출동한 경찰에 의해 고해소 커튼 뒤에서 구강성교를 하던 이들 커플을 발각됐다고 보도했다.\n",
      "en >>> Authorities were alerted after a parishoner heard \"rustling and groaning\" coming from inside the confession box and pulled back the curtains to reveal a goth-rock couple engaged in oral sex, ANSA said.\n",
      "\n",
      "40883\n",
      "ko >>> 프란시스는 현재 자신의 제안이 결렬됐었다고 전했다.\n",
      "en >>> Francis said at that point, his offer was off the table:\n",
      "\n",
      "74478\n",
      "ko >>> 한국 정부 관계자는, 이번 에 살해당한 피해자가 42세의 배형규 목사로 보인다고 언급했는데, 탈레반은 그의 시신을 가즈니 구 무세키 지역 도로변에 유기하였다고 주장했다.\n",
      "en >>> Korean government officials said that the victim seemed to be 42-year-old Rev. Bae Hyung-kyu, whom the Taliban claimed to have deserted on the road in Musheky, Ghazni.\n",
      "\n",
      "45258\n",
      "ko >>> 어떤 점에선 인터뷰가 현재 호평을 받고 있으며 골든 글로브 작품상 후보에 오른 영화이자 상을 받은 연극용으로는 색다른 주제였다.\n",
      "en >>> In some ways, the interviews were an odd topic for an award-winning play (and, now, well-reviewed and Golden Globe-nominated movie).\n",
      "\n",
      "62843\n",
      "ko >>> 이들의 생사는 아직 확인되지 않고 있다.\n",
      "en >>> Their fate is unknown, the news agency said.\n",
      "\n",
      "33374\n",
      "ko >>> 브로드웨이 스타가 꿈인 미스 미시간 커스텐 헤글런드(19)가 26(현지시간) 생방송으로 진행된‘2008 미스 아메리카’에 선발됐다. 이번 87회 선발대회는 새로운 골반바지풍 패션을 선보였다.\n",
      "en >>> LAS VEGAS, Nevada (CNN) Miss Michigan Kirsten Haglund, a 19-year-old aspiring Broadway star, was crowned Miss America 2008 on Saturday in a live show billed as the unveiling of the 87-year-old pageant's new, hipper look.\n",
      "\n",
      "34981\n",
      "ko >>> 탐사선 분리는 사람의 눈 사이 의 간격만큼 거리 감각을 유지해 입체영상을 제공할 수 있었다.\n",
      "en >>> The separation, just like the distance between our two eyes, provides the depth perception that allows the 3-D images to be obtained.\n",
      "\n",
      "72370\n",
      "ko >>> 대신 장난스런 힌트와 2008년 대선 유세에서 보통사람을 나타내는 ‘조(Joe)’로 평범한 유명인사에 대해 동의한다는 의미로 그는 “나는 첼리스트 조”라고 소개했다.\n",
      "en >>> Instead, with a hint of mischief and a nod to the everyman celebrity of campaign '08, he offers, \"I'm Joe the cellist.\"\n",
      "\n",
      "43844\n",
      "ko >>> 머독 회장은 호주에서 신문사 사장으로 출발했다. 그는 21세기 폭스, 폭스 뉴스 채널, 뉴욕포스트, 위성방송 그리고 커뮤니티 사이트 ‘마이 스페이스’를 소유해 뉴스코퍼레이션을 글로벌 미디어 기업으로 성장시켰다.\n",
      "en >>> Murdoch started out as a newspaper owner in Australia, and today his News Corp. media conglomerate has operations across the globe including Twentieth Century Fox, Fox News Channel, the New York Post, satellite TV broadcasting and the social networking Web site MySpace.\n",
      "\n",
      "23159\n",
      "ko >>> Nagasaki Mayor dies after being shot 나가사키 시장 총격 피살     2007.06\n",
      "en >>> He killed himself after the rampage.\n",
      "\n",
      "5844\n",
      "ko >>> 그는 강제 영양 공급을 거부하는 의사들을 처벌하지는 않는다고 전했다.\n",
      "en >>> The military does not punish doctors who won't participate in force-feeding, Haupt wrote Friday in an e-mail response to questions from The Associated Press.\n",
      "\n",
      "3623\n",
      "ko >>> 스타벅스의 주식은 15일(현지시간) 미국 뉴욕 주식시장에서 28.39 달러에 거래돼 지난해 11월 40.01 달러에 비해 30% 떨어졌다.\n",
      "en >>> Starbucks shares closed at $28.39 Tuesday on the New York Stock Exchange, 30 percent below a lifetime high of $40.01 hit on November 16 of last year.\n",
      "\n",
      "6077\n",
      "ko >>> 비록 이러한 방법으로 얻은 결과가 인적 자본의 교육적 요소에 대한 측정 수단으로 경제학자들에 의해 광범위하게 이용되고는 있으나 여전히 부족한 점들이 남아 있다.\n",
      "en >>> One snag is the varying quality of education:\n",
      "\n",
      "10821\n",
      "ko >>> 이라크에서 활동하고 있는 알카에다 1인자인 아부 아유브 알마스리가 이라크 북부 모술에서 검거됐다고 8일(현지시간) 국방부 대변인이 밝혔다.\n",
      "en >>> BAGHDAD, Iraq (CNN) The leader of al Qaeda in Iraq, Abu Ayyub al-Masri, was arrested in the northern city of Mosul, the Iraqi Defense Ministry spokesman said Thursday.\n",
      "\n",
      "69837\n",
      "ko >>> “ 던컨 장관은 보수냐, 진보냐를 떠나 오로지 정책의 효과에만 초점을 둘 것입니다.\n",
      "en >>> “ Secretary Duncan will use only one test when deciding what ideas to support with your precious tax dollars ?\n",
      "\n",
      "51303\n",
      "ko >>> 그는 또 4일간의 비축유(備蓄油)를 확보해 놓았다고 덧붙였다.\n",
      "en >>> He said Gaza keeps about four days of fuel reserves, the AP reported.\n",
      "\n",
      "11596\n",
      "ko >>> 1997년 한때 차 안에서든 운동을 하던 중이든 어디서든 셀린 디온이 부른 영화 ‘타이타닉’ 주제곡 ‘마이 하트 윌 고 온(My Heart Will Go On)’이 들려왔다.\n",
      "en >>> LOS ANGELES, California (CNN) There was a time around 1997 when no matter where you were in the car, on the StairMaster, at the dentist's office you couldn't help but hear \"My Heart Will Go On,\" the soaring Celine Dion ballad from \"Titanic.\n",
      "\n",
      "46298\n",
      "ko >>> petition 탄원서, 청원서\n",
      "en >>> He was a cigar and martini man, and was perpetually rumpled.\n",
      "\n",
      "31237\n",
      "ko >>> 수천명의 승객의 발이 묶인 수카르노-하타 공항 부근에서 교통정리를 하고 있는 경찰관인 토키는 “최근 몇 년간 이런 심각한 상황을 경험하지 못했다”고 말했다.\n",
      "en >>> \"I haven't seen it this bad in several years,\" said Toki, a police officer who was directing traffic around a flooded area near Sukarno-Hatta airport, where thousands of passengers were stranded.\n",
      "\n",
      "74878\n",
      "ko >>> 그는 응급차량들은 올버니에서 약 35마일 떨어진 아메리커스에 구조요청을 받고 가던 중이었다고 덧붙였다.\n",
      "en >>> Ambulances from Albany, about 35 miles away, were sent to Americus to help, Weiss said.\n",
      "\n",
      "34445\n",
      "ko >>> 원문기사보기 새로운 연구조사에서 10대 청소년 54%가 성, 음주, 폭행 등의 행위에 관해 친교 인터넷 웹사이트 마이스페이스(MySpace)에서 이야기를 나누고 있다는 사실이 밝혀졌다.\n",
      "en >>> A new study finds that 54 percent of teens talk about behaviors such as sex, alcohol use, and violence on the social networking giant MySpace\n",
      "\n",
      "59458\n",
      "ko >>> 장이 열리고 1시간30분 만에 다우지수는 250포인트 이상 떨어졌습니다.\n",
      "en >>> So far, in the first hour and a half of trading, the Dow has dropped more than 250 points.\n",
      "\n",
      "4198\n",
      "ko >>> 이런 가운데 PKK에 대한 터키 국민들의 분노는 극에 달했다.\n",
      "en >>> However, the outrage in Turkey toward the PKK has been boiling over.\n",
      "\n",
      "50646\n",
      "ko >>> 그는 정오부터 오후 7시까지 매주 2번 오전 7시부터 다음날 오전 10시까지 1번 모두 3일을 아이들과 보낼 수게 된다.\n",
      "en >>> She will get two visits a week from noon to 7 p.m. and one from noon to 10 a.m. the next morning.\n",
      "\n",
      "10022\n",
      "ko >>> 코스피 지수는 42.87포인트 또는 2.34포인트 뛰어 1,877.56포인트를 기록했다.\n",
      "en >>> The benchmark Korea Composite Stock Price Index (KOSPI) jumped 42.87 points, or 2.34 percent, to 1,877.56.\n",
      "\n",
      "9930\n",
      "ko >>> 에디 \"그웬\" 아라우조 2세 살인사건은 양성애자와 밀접한 관련이 있는 문법적 문제를 야기했는데 그것은 여자로 살았던 10대 피살자가 남자로 지칭돼야 하느냐 또는 여자로 지칭돼야 하느냐는 문제다.\n",
      "en >>> has raised a question of grammar with serious implications for transgender people _ should the slain teen who lived as a girl be referred to as he or she?\n",
      "\n",
      "53584\n",
      "ko >>> 한국의 중앙은행은 일요일, 달러 화에 대한 원화의 약세가 외환 자산의 원화 가치 역전을 가속시켜 적자가 작년 대폭 감소했다고 밝혔다.\n",
      "en >>> South Korea´s central bank said Sunday its losses sharply narrowed last year as the local currency´s weakness against the U.S. dollar boosted the won conversion value of assets in foreign currency.\n",
      "\n",
      "6094\n",
      "ko >>> RDQ 이코노믹스의 경제학자 존 라이딩은 상황은 호전되기보다는 악화되고 있다고 전했습니다.\n",
      "en >>> Economist John Ryding of RDQ Economics says things are getting worse instead of better.\n",
      "\n",
      "27727\n",
      "ko >>> 인도에서는 지난 2년 간 어린아이가 구덩이나 우물에 빠진 사건이 모두 6차례 발생했다.\n",
      "en >>> It was the sixth time a child had fallen into an open pit or uncovered well in India over the past two years.\n",
      "\n",
      "31651\n",
      "ko >>> 버락 오바마 당선자는 이미 백악관을 방문한 바 있지만 대통령 집무실은 방문한 적이 없습니다. 대통령 당선자로서 대통령과 오늘 개별 회동을 가지기 전까지는 말입니다.\n",
      "en >>> He's forty-seven, he's a first-term Senator, and yes, Barack Obama has been to the White House before, but never the Oval Office-until, that is, the President Elect sits down for a private chat with the President today.\n",
      "\n",
      "41756\n",
      "ko >>> 정명훈씨의 취임은 한국 음악사에 있어서 논쟁 거리가 되어 왔다.\n",
      "en >>> The appointment of Chung has been a controversial issue within the Korean music scene.\n",
      "\n",
      "53090\n",
      "ko >>> 그러나 연방 보건국(U. S. Department of Health & Human Services, HHS)이 관계규정을 수정할 때까지 미국의 여행 금지령은 계속 그 효력이 남아있었다.\n",
      "en >>> But the United States travel ban still remains in effect, and will continue to be the law until the Department of Health and Human Services (HHS) modifies its regulations.\n",
      "\n",
      "42505\n",
      "ko >>> 마이클 와인펠드 AP 연예부 기자는 적어도 한 부문에서 미묘한 경쟁이 이루어지고 있다고 보도했습니다.\n",
      "en >>> That little bit of audio was a sneak preview of the Golden Globe Nominations out this morning, AP entertainment editor Michael Weinfeld reports, there's some strange competition in at least one category:\n",
      "\n",
      "27239\n",
      "ko >>> 이 비디오는 스콜피언스 소속 대원이 일반에 공개되지 않을 것으로 믿고 촬영한 것으로 무장단체는 팔이 포승줄에 묶인 보스니아들을 트럭에서 내리게 한 뒤 경사진 곳에 눕혀 총기를 난사했다.\n",
      "en >>> The footage, recorded by a Scorpions member who apparently believed it would never become public, showed the men taking Bosnian Muslim civilians from a truck with their hands tied and lining them up on a hillside before spraying them with machine gun fire.\n",
      "\n",
      "39764\n",
      "ko >>> 미 프로야구(MLB)의 대표적 홈런 타자 베리본즈가 3일(현지시간) 신시내티와의 경기에서 751호 홈런을 기록, 행크 아론의 메이저리그 역대 최다 홈런 기록인 755호에 바짝 다가섰다.\n",
      "en >>> The second stage of the Tour takes the riders from the French port of Dunkirk to Ghent in Belgium and again is expected to favor the sprinters.\n",
      "\n",
      "26519\n",
      "ko >>> 팔레스타인 파타당과 하마스의 4일 동안의 가자지구 총격적으로 적어도 17명이 사망했다.\n",
      "en >>> At least 17 people have been killed in a fourth day of gun battles in the Gaza Strip between the rival Palestinian factions, Fatah and Hamas.\n",
      "\n",
      "17196\n",
      "ko >>> 부시 행정부는 폴란드와 체코에 요격미사일과 추적레이더를 설치하려는 미국의 MD 배치안은 러시아를 겨낭한 것이 아니라 ‘테러지원국가’에 맞서기 위해서라고 주장했다.\n",
      "en >>> The Bush administration said the defense system, components of which are to be set up in Poland and the Czech Republic, is designed to defend against attacks from \"rogue states,\" not from Russia.\n",
      "\n",
      "34361\n",
      "ko >>> 코엘류는 팀의 성적이 최근 몇 달 동안 부진하여 감독에 대한 비판 여론 및 경질론이 확산되어왔다.\n",
      "en >>> Coelho has been under fire for the team's embarrassing performance in recent months, and pressure on him to resign has grown.\n",
      "\n",
      "27561\n",
      "ko >>> MIT 공대 학생인 웨스 오스틴은 “샌디에이고에서 오는 어머니와 여동생에게 스팩타클 섬은 최적의 관광코스가 될 것”이라고 말했다.\n",
      "en >>> Wes Austin, a student at the Massachusetts Institute of Technology, thought it would be the perfect place to bring his mother and sister visiting from San Diego.\n",
      "\n",
      "16876\n",
      "ko >>> 파병 반대 움직임에도 불구, 정부 추가 파병 계획 밝혀     2005.08\n",
      "en >>> South Korea plans to send new troops to Iraq despite opposition movement.\n",
      "\n",
      "34594\n",
      "ko >>> 무어는 그러나 우울한 시기가 애완견을 돌보기 시작하는 적기일 수 있다고 밝혔다.\n",
      "en >>> But dark times may be a good time to start looking after a dog, says Moore:\n",
      "\n",
      "78868\n",
      "ko >>> 하마스와 이슬람 지하드는 가자시티 인근에서 이스라엘군을 매복 공격했다고 주장했습니다.\n",
      "en >>> Hamas and Islamic Jihad claim to have ambushed Israeli troops in a Gaza City suburb.\n",
      "\n",
      "12833\n",
      "ko >>> 타이거 우즈가 19일(현지시간) 브리티스 오픈 첫날 경기에서 선두권을 형성하며 이 대회 3번째 우승 가능성을 높였다.\n",
      "en >>> Tiger Woods moved straight into the thick of the battle towards the top of the leaderboard when he launched his challenge for a third British Open title running on Thursday.\n",
      "\n",
      "65394\n",
      "ko >>> 북한은 지난 6월 핵폭탄 7개를 생산할 수 있는 분량인 약 40kg의 고농축 플루토늄을 생산하고 있다고 인정했다.\n",
      "en >>> In June, it acknowledged producing roughly 40 kilograms of enriched plutonium enough for about seven nuclear bombs.\n",
      "\n",
      "34228\n",
      "ko >>> 미국 웨스트 버지니아 주에 위치한 월마트에서 25일(현지시간) 쇼핑을 즐기던 12세 여아가 씨 없는 수박을 집어들 던 중 상자에 있던 3cm짜리 황갈색 전갈에 쏘이는 사고가 발생했다.\n",
      "en >>> A 12-year-old girl picking up a seedless watermelon from a bin was stung Sunday by a tan, inch-long scorpion that had apparently stowed away in a shipment from Mexico.\n",
      "\n",
      "54308\n",
      "ko >>> 단장 (=improvement in the appearance of sth;\n",
      "en >>> ex) The alliance was forged in the crucible of war.\n",
      "\n",
      "74179\n",
      "ko >>> 오렌지민주운동(ODM)의 지도자인 오딩가는 키바키 대통령을 만난 자리에서 “오늘 우리는 부정선거 의혹으로 한달째 계속되고 있는 폭력사태를 해결하기 위한 첫 발짝을 옮겼다”고 말했다.\n",
      "en >>> \"Today, we have taken the first vital steps in resolving the electoral dispute and conflict that has ravaged this country for nearly a month now,\" said Odinga, who shook hands with Kibaki following Thursday's meeting.\n",
      "\n",
      "9585\n",
      "ko >>> 기번스는 지난달 29일 수단 하르툼의 한 법원으로부터 구금 15일을 선고 받았다.\n",
      "en >>> Gibbons, 54, was sentenced to 15 days in jail last Thursday.\n",
      "\n",
      "11261\n",
      "ko >>> 로마에선 로마법을 따른다.\n",
      "en >>> When in Rome, do as the Romans do.\n",
      "\n"
     ]
    }
   ],
   "source": [
    "idx = np.random.choice(len(kor_corpus), 50)\n",
    "for i in idx:\n",
    "    print(f'{i}')\n",
    "    print(f'ko >>> {kor_corpus[i]}')\n",
    "    print(f'en >>> {eng_corpus[i]}\\n')"
   ]
  },
  {
   "cell_type": "markdown",
   "id": "filled-funeral",
   "metadata": {},
   "source": [
    "## 자료 정제 및 조각화(tokenize)\n",
    "---"
   ]
  },
  {
   "cell_type": "code",
   "execution_count": 8,
   "id": "eastern-wellington",
   "metadata": {},
   "outputs": [],
   "source": [
    "def preprocess_sentence(sentence):\n",
    "    sentence = sentence.lower().strip()\n",
    "    sentence = re.sub(r\"([?.!,])\", r\" \\1 \", sentence)\n",
    "    sentence = re.sub(r\"[^a-zA-Zㄱ-ㅣ가-힣?.!,]+\", \" \", sentence)\n",
    "    sentence = re.sub(r'[\" \"]+', \" \", sentence)\n",
    "    sentence = sentence.strip()\n",
    "    return sentence"
   ]
  },
  {
   "cell_type": "code",
   "execution_count": 9,
   "id": "hindu-chance",
   "metadata": {},
   "outputs": [],
   "source": [
    "def generate_tokenizer(corpus,\n",
    "                        vocab_size=20000,\n",
    "                        lang=\"ko\",\n",
    "                        pad_id=0,\n",
    "                        bos_id=1,\n",
    "                        eos_id=2,\n",
    "                        unk_id=3):\n",
    "    \n",
    "    corpus_path = f'{work_dir}/sp_train_corpus_{lang}.temp'\n",
    "    with open(corpus_path, 'w') as f:\n",
    "        for row in corpus:\n",
    "            f.write(str(row) + '\\n')\n",
    "\n",
    "    prefix = f'{model_path}/spm_{lang}'\n",
    "    \n",
    "    spm.SentencePieceTrainer.Train(\n",
    "        f'--input={corpus_path} \\\n",
    "            --model_prefix={prefix} \\\n",
    "            --vocab_size={vocab_size} \\\n",
    "            --model_type=unigram \\\n",
    "            --pad_id={pad_id} \\\n",
    "            --bos_id={bos_id} \\\n",
    "            --eos_id={eos_id} \\\n",
    "            --unk_id={unk_id}')\n",
    "    \n",
    "    tokenizer = spm.SentencePieceProcessor()\n",
    "    tokenizer.Load(f'{prefix}.model')\n",
    "\n",
    "    return tokenizer"
   ]
  },
  {
   "cell_type": "code",
   "execution_count": 10,
   "id": "aging-hours",
   "metadata": {},
   "outputs": [
    {
     "data": {
      "text/plain": [
       "True"
      ]
     },
     "execution_count": 10,
     "metadata": {},
     "output_type": "execute_result"
    }
   ],
   "source": [
    "SRC_VOCAB_SIZE = TGT_VOCAB_SIZE = 20000\n",
    "\n",
    "eng_corpus = []\n",
    "kor_corpus = []\n",
    "\n",
    "for pair in cleaned_corpus:\n",
    "    k, e = pair\n",
    "\n",
    "    kor_corpus.append(preprocess_sentence(k))\n",
    "    eng_corpus.append(preprocess_sentence(e))\n",
    "\n",
    "ko_tokenizer = generate_tokenizer(kor_corpus, SRC_VOCAB_SIZE, \"ko\")\n",
    "en_tokenizer = generate_tokenizer(eng_corpus, TGT_VOCAB_SIZE, \"en\")\n",
    "en_tokenizer.set_encode_extra_options(\"bos:eos\")"
   ]
  },
  {
   "cell_type": "code",
   "execution_count": 11,
   "id": "second-reward",
   "metadata": {},
   "outputs": [
    {
     "name": "stderr",
     "output_type": "stream",
     "text": [
      "/opt/conda/lib/python3.7/site-packages/ipykernel_launcher.py:8: TqdmDeprecationWarning: This function will be removed in tqdm==5.0.0\n",
      "Please use `tqdm.notebook.tqdm` instead of `tqdm.tqdm_notebook`\n",
      "  \n"
     ]
    },
    {
     "data": {
      "application/vnd.jupyter.widget-view+json": {
       "model_id": "6fd85c529e6d497f889973e9dd624752",
       "version_major": 2,
       "version_minor": 0
      },
      "text/plain": [
       "  0%|          | 0/78968 [00:00<?, ?it/s]"
      ]
     },
     "metadata": {},
     "output_type": "display_data"
    }
   ],
   "source": [
    "src_corpus = []\n",
    "tgt_corpus = []\n",
    "max_len = 50\n",
    "\n",
    "assert len(kor_corpus) == len(eng_corpus)\n",
    "\n",
    "# 토큰의 길이가 50 이하인 문장만 남깁니다. \n",
    "for idx in tqdm_notebook(range(len(kor_corpus))):\n",
    "    ko_tokenized = ko_tokenizer.EncodeAsIds(kor_corpus[idx])\n",
    "    en_tokenized = en_tokenizer.EncodeAsIds(eng_corpus[idx])\n",
    "    \n",
    "    if len(ko_tokenized) <= max_len and len(en_tokenized) <= max_len:\n",
    "        src_corpus.append(ko_tokenized)\n",
    "        tgt_corpus.append(en_tokenized)\n",
    "\n",
    "# 패딩처리를 완료하여 학습용 데이터를 완성합니다. \n",
    "enc_train = tf.keras.preprocessing.sequence.pad_sequences(src_corpus, padding='post')\n",
    "dec_train = tf.keras.preprocessing.sequence.pad_sequences(tgt_corpus, padding='post')"
   ]
  },
  {
   "cell_type": "code",
   "execution_count": 12,
   "id": "bizarre-bruce",
   "metadata": {},
   "outputs": [
    {
     "data": {
      "text/plain": [
       "(66356, 66356)"
      ]
     },
     "execution_count": 12,
     "metadata": {},
     "output_type": "execute_result"
    }
   ],
   "source": [
    "len(enc_train), len(dec_train)"
   ]
  },
  {
   "cell_type": "code",
   "execution_count": 13,
   "id": "established-paradise",
   "metadata": {},
   "outputs": [
    {
     "name": "stdout",
     "output_type": "stream",
     "text": [
      "ko encoded : [14459   471     7  1495 11057  2342  4608   385    74  1435   495     8\n",
      "  1546    10   150  3858  5743    30   357    15   202     4     5     0\n",
      "     0     0     0     0     0     0     0     0     0     0     0     0\n",
      "     0     0     0     0     0     0     0     0     0     0     0     0\n",
      "     0     0]\n",
      "ko decoded : 스몰 박사는 실험 대상자 수가 소규모였지만 집단 간의 차이를 알기에 적합한 수였다고 설명했다 .\n",
      "en encoded : [   1    6  250   12   55   13    6  652   26  497    4    8   43 6115\n",
      "   10  261   11 1664   20  186    6  141    5    4    7   28   26  158\n",
      " 1498   24  856    4    8  497   18    4    7    2    0    0    0    0\n",
      "    0    0    0    0    0    0    0    0]\n",
      "en decoded : the number of people in the study was small , but adequate to see a difference between the groups . it was so significantly different , small said .\n",
      "\n"
     ]
    }
   ],
   "source": [
    "print(f'ko encoded : {enc_train[2]}')\n",
    "print(f'ko decoded : {ko_tokenizer.DecodeIds(enc_train[2].tolist())}')\n",
    "print(f'en encoded : {dec_train[2]}')\n",
    "print(f'en decoded : {en_tokenizer.DecodeIds(dec_train[2].tolist())}\\n')"
   ]
  },
  {
   "cell_type": "markdown",
   "id": "alpine-bradley",
   "metadata": {},
   "source": [
    "## 모델 구성 함수\n",
    "---"
   ]
  },
  {
   "cell_type": "markdown",
   "id": "opened-tuning",
   "metadata": {},
   "source": [
    "positional encoding"
   ]
  },
  {
   "cell_type": "code",
   "execution_count": 14,
   "id": "liquid-posting",
   "metadata": {},
   "outputs": [],
   "source": [
    "def positional_encoding(pos, d_model):\n",
    "    def cal_angle(position, i, d_model):\n",
    "        return position / np.power(10000, int(i) / d_model)\n",
    "\n",
    "    def get_posi_angle_vec(position, d_model):\n",
    "        return [cal_angle(position, i, d_model) for i in range(d_model)]\n",
    "\n",
    "    sinusoid_table = np.array([get_posi_angle_vec(pos_i, d_model) for pos_i in range(pos)])\n",
    "\n",
    "    sinusoid_table[:, 0::2] = np.sin(sinusoid_table[:, 0::2])\n",
    "    sinusoid_table[:, 1::2] = np.cos(sinusoid_table[:, 1::2])\n",
    "\n",
    "    return sinusoid_table"
   ]
  },
  {
   "cell_type": "markdown",
   "id": "federal-brisbane",
   "metadata": {},
   "source": [
    "multi-head attention"
   ]
  },
  {
   "cell_type": "code",
   "execution_count": 15,
   "id": "binding-tooth",
   "metadata": {},
   "outputs": [],
   "source": [
    "class MultiHeadAttention(tf.keras.layers.Layer):\n",
    "    def __init__(self, d_model, num_heads):\n",
    "        super(MultiHeadAttention, self).__init__()\n",
    "        self.num_heads = num_heads\n",
    "        self.d_model = d_model\n",
    "        \n",
    "        self.depth = d_model // self.num_heads\n",
    "        \n",
    "        self.W_q = tf.keras.layers.Dense(d_model) # Linear Layer\n",
    "        self.W_k = tf.keras.layers.Dense(d_model)\n",
    "        self.W_v = tf.keras.layers.Dense(d_model)\n",
    "        \n",
    "        self.linear = tf.keras.layers.Dense(d_model)\n",
    "\n",
    "    def scaled_dot_product_attention(self, Q, K, V, mask):\n",
    "        matmul_qk = tf.matmul(Q, K, transpose_b=True)\n",
    "        dk = tf.cast(K.shape[-1], tf.float32)\n",
    "        scaled_qk = matmul_qk / tf.math.sqrt(dk)\n",
    "        \n",
    "        if mask is not None: \n",
    "            scaled_qk += (mask * -1e9)\n",
    "\n",
    "        attentions = tf.nn.softmax(scaled_qk, axis=-1)\n",
    "        out = tf.matmul(attentions, V)\n",
    "\n",
    "        return out, attentions\n",
    "        \n",
    "\n",
    "    def split_heads(self, x):\n",
    "        bsz = x.shape[0]\n",
    "        split_x = tf.reshape(x, (bsz, -1, self.num_heads, self.depth))\n",
    "        split_x = tf.transpose(split_x, perm=[0, 2, 1, 3])\n",
    "\n",
    "        return split_x\n",
    "\n",
    "    def combine_heads(self, x):\n",
    "        \"\"\"\n",
    "        분할된 Embedding을 하나로 결합하는 함수\n",
    "        \"\"\"\n",
    "        bsz = x.shape[0]\n",
    "        combined_x = tf.transpose(x, perm=[0, 2, 1, 3])\n",
    "        combined_x = tf.reshape(combined_x, (bsz, -1, self.d_model))\n",
    "\n",
    "        return combined_x\n",
    "    \n",
    "\n",
    "    def call(self, Q, K, V, mask):\n",
    "        WQ = self.W_q(Q)\n",
    "        WK = self.W_k(K)\n",
    "        WV = self.W_v(V)\n",
    "\n",
    "        WQ_splits = self.split_heads(WQ)\n",
    "        WK_splits = self.split_heads(WK)\n",
    "        WV_splits = self.split_heads(WV)\n",
    "\n",
    "        out, attention_weights = self.scaled_dot_product_attention(WQ_splits, WK_splits, WV_splits, mask)\n",
    "\n",
    "        out = self.combine_heads(out)\n",
    "        out = self.linear(out)\n",
    "\n",
    "        return out, attention_weights"
   ]
  },
  {
   "cell_type": "markdown",
   "id": "specific-universal",
   "metadata": {},
   "source": [
    "position-wise feed-forward network"
   ]
  },
  {
   "cell_type": "code",
   "execution_count": 16,
   "id": "appreciated-damages",
   "metadata": {},
   "outputs": [],
   "source": [
    "class PoswiseFeedForwardNet(tf.keras.layers.Layer):\n",
    "    def __init__(self, d_model, d_ff):\n",
    "        super(PoswiseFeedForwardNet, self).__init__()\n",
    "        self.w_1 = tf.keras.layers.Dense(d_ff, activation='relu')\n",
    "        self.w_2 = tf.keras.layers.Dense(d_model)\n",
    "\n",
    "    def call(self, x):\n",
    "        out = self.w_1(x)\n",
    "        out = self.w_2(out)\n",
    "            \n",
    "        return out"
   ]
  },
  {
   "cell_type": "markdown",
   "id": "creative-puzzle",
   "metadata": {},
   "source": [
    "encoder & decoder module"
   ]
  },
  {
   "cell_type": "code",
   "execution_count": 17,
   "id": "adopted-finish",
   "metadata": {},
   "outputs": [],
   "source": [
    "class EncoderLayer(tf.keras.layers.Layer):\n",
    "    def __init__(self, d_model, n_heads, d_ff, dropout):\n",
    "        super(EncoderLayer, self).__init__()\n",
    "\n",
    "        self.enc_self_attn = MultiHeadAttention(d_model, n_heads)\n",
    "        self.ffn = PoswiseFeedForwardNet(d_model, d_ff)\n",
    "\n",
    "        self.norm_1 = tf.keras.layers.LayerNormalization(epsilon=1e-6)\n",
    "        self.norm_2 = tf.keras.layers.LayerNormalization(epsilon=1e-6)\n",
    "\n",
    "        self.do = tf.keras.layers.Dropout(dropout)\n",
    "        \n",
    "    def call(self, x, mask):\n",
    "\n",
    "        \"\"\"\n",
    "        Multi-Head Attention\n",
    "        \"\"\"\n",
    "        residual = x\n",
    "        out = self.norm_1(x)\n",
    "        out, enc_attn = self.enc_self_attn(out, out, out, mask)\n",
    "        out = self.do(out)\n",
    "        out += residual\n",
    "        \n",
    "        \"\"\"\n",
    "        Position-Wise Feed Forward Network\n",
    "        \"\"\"\n",
    "        residual = out\n",
    "        out = self.norm_2(out)\n",
    "        out = self.ffn(out)\n",
    "        out = self.do(out)\n",
    "        out += residual\n",
    "        \n",
    "        return out, enc_attn"
   ]
  },
  {
   "cell_type": "code",
   "execution_count": 18,
   "id": "taken-clearing",
   "metadata": {},
   "outputs": [],
   "source": [
    "class Encoder(tf.keras.Model):\n",
    "    def __init__(self,\n",
    "                 n_layers,\n",
    "                 d_model,\n",
    "                 n_heads,\n",
    "                 d_ff,\n",
    "                 dropout):\n",
    "        super(Encoder, self).__init__()\n",
    "        self.n_layers = n_layers\n",
    "        self.enc_layers = [EncoderLayer(d_model, n_heads, d_ff, dropout) \n",
    "                        for _ in range(n_layers)]\n",
    "    \n",
    "        self.do = tf.keras.layers.Dropout(dropout)\n",
    "        \n",
    "    def call(self, x, mask):\n",
    "        out = x\n",
    "    \n",
    "        enc_attns = list()\n",
    "        for i in range(self.n_layers):\n",
    "            out, enc_attn = self.enc_layers[i](out, mask)\n",
    "            enc_attns.append(enc_attn)\n",
    "        \n",
    "        return out, enc_attns"
   ]
  },
  {
   "cell_type": "code",
   "execution_count": 19,
   "id": "blank-dominant",
   "metadata": {},
   "outputs": [],
   "source": [
    "class DecoderLayer(tf.keras.layers.Layer):\n",
    "    def __init__(self, d_model, num_heads, d_ff, dropout):\n",
    "        super(DecoderLayer, self).__init__()\n",
    "\n",
    "        self.dec_self_attn = MultiHeadAttention(d_model, num_heads)\n",
    "        self.enc_dec_attn = MultiHeadAttention(d_model, num_heads)\n",
    "\n",
    "        self.ffn = PoswiseFeedForwardNet(d_model, d_ff)\n",
    "\n",
    "        self.norm_1 = tf.keras.layers.LayerNormalization(epsilon=1e-6)\n",
    "        self.norm_2 = tf.keras.layers.LayerNormalization(epsilon=1e-6)\n",
    "        self.norm_3 = tf.keras.layers.LayerNormalization(epsilon=1e-6)\n",
    "\n",
    "        self.do = tf.keras.layers.Dropout(dropout)\n",
    "\n",
    "    def call(self, x, enc_out, causality_mask, padding_mask):\n",
    "\n",
    "        \"\"\"\n",
    "        Masked Multi-Head Attention\n",
    "        \"\"\"\n",
    "        residual = x\n",
    "        out = self.norm_1(x)\n",
    "        out, dec_attn = self.dec_self_attn(out, out, out, causality_mask)\n",
    "        out = self.do(out)\n",
    "        out += residual\n",
    "\n",
    "        \"\"\"\n",
    "        Multi-Head Attention\n",
    "        \"\"\"\n",
    "        residual = out\n",
    "        out = self.norm_2(out)\n",
    "        out, dec_enc_attn = self.enc_dec_attn(out, enc_out, enc_out, padding_mask)\n",
    "        out = self.do(out)\n",
    "        out += residual\n",
    "\n",
    "        \"\"\"\n",
    "        Position-Wise Feed Forward Network\n",
    "        \"\"\"\n",
    "        residual = out\n",
    "        out = self.norm_3(out)\n",
    "        out = self.ffn(out)\n",
    "        out = self.do(out)\n",
    "        out += residual\n",
    "\n",
    "        return out, dec_attn, dec_enc_attn"
   ]
  },
  {
   "cell_type": "code",
   "execution_count": 20,
   "id": "sunrise-browse",
   "metadata": {},
   "outputs": [],
   "source": [
    "class Decoder(tf.keras.Model):\n",
    "    def __init__(self,\n",
    "                 n_layers,\n",
    "                 d_model,\n",
    "                 n_heads,\n",
    "                 d_ff,\n",
    "                 dropout):\n",
    "        super(Decoder, self).__init__()\n",
    "        self.n_layers = n_layers\n",
    "        self.dec_layers = [DecoderLayer(d_model, n_heads, d_ff, dropout) \n",
    "                            for _ in range(n_layers)]\n",
    "                            \n",
    "                            \n",
    "    def call(self, x, enc_out, causality_mask, padding_mask):\n",
    "        out = x\n",
    "    \n",
    "        dec_attns = list()\n",
    "        dec_enc_attns = list()\n",
    "        for i in range(self.n_layers):\n",
    "            out, dec_attn, dec_enc_attn = \\\n",
    "            self.dec_layers[i](out, enc_out, causality_mask, padding_mask)\n",
    "\n",
    "            dec_attns.append(dec_attn)\n",
    "            dec_enc_attns.append(dec_enc_attn)\n",
    "\n",
    "        return out, dec_attns, dec_enc_attns"
   ]
  },
  {
   "cell_type": "markdown",
   "id": "deluxe-psychology",
   "metadata": {},
   "source": [
    "transformer"
   ]
  },
  {
   "cell_type": "code",
   "execution_count": 21,
   "id": "existing-prize",
   "metadata": {},
   "outputs": [],
   "source": [
    "class Transformer(tf.keras.Model):\n",
    "    def __init__(self,\n",
    "                n_layers,\n",
    "                d_model,\n",
    "                n_heads,\n",
    "                d_ff,\n",
    "                src_vocab_size,\n",
    "                tgt_vocab_size,\n",
    "                pos_len,\n",
    "                dropout=0.2,\n",
    "                shared=True):\n",
    "        super(Transformer, self).__init__()\n",
    "        self.d_model = tf.cast(d_model, tf.float32)\n",
    "\n",
    "        self.enc_emb = tf.keras.layers.Embedding(src_vocab_size, d_model)\n",
    "        self.dec_emb = tf.keras.layers.Embedding(tgt_vocab_size, d_model)\n",
    "\n",
    "        self.pos_encoding = positional_encoding(pos_len, d_model)\n",
    "        self.do = tf.keras.layers.Dropout(dropout)\n",
    "\n",
    "        self.encoder = Encoder(n_layers, d_model, n_heads, d_ff, dropout)\n",
    "        self.decoder = Decoder(n_layers, d_model, n_heads, d_ff, dropout)\n",
    "\n",
    "        self.fc = tf.keras.layers.Dense(tgt_vocab_size)\n",
    "\n",
    "        self.shared = shared\n",
    "\n",
    "        if shared: self.fc.set_weights(tf.transpose(self.dec_emb.weights))\n",
    "\n",
    "    def embedding(self, emb, x):\n",
    "        seq_len = x.shape[1]\n",
    "        out = emb(x)\n",
    "\n",
    "        if self.shared: out *= tf.math.sqrt(self.d_model)\n",
    "\n",
    "        out += self.pos_encoding[np.newaxis, ...][:, :seq_len, :]\n",
    "        out = self.do(out)\n",
    "\n",
    "        return out\n",
    "\n",
    "\n",
    "    def call(self, enc_in, dec_in, enc_mask, causality_mask, dec_mask):\n",
    "        enc_in = self.embedding(self.enc_emb, enc_in)\n",
    "        dec_in = self.embedding(self.dec_emb, dec_in)\n",
    "\n",
    "        enc_out, enc_attns = self.encoder(enc_in, enc_mask)\n",
    "\n",
    "        dec_out, dec_attns, dec_enc_attns = \\\n",
    "            self.decoder(dec_in, enc_out, causality_mask, dec_mask)\n",
    "\n",
    "        logits = self.fc(dec_out)\n",
    "\n",
    "        return logits, enc_attns, dec_attns, dec_enc_attns"
   ]
  },
  {
   "cell_type": "markdown",
   "id": "subjective-association",
   "metadata": {},
   "source": [
    "그 외 함수(Masking, LearningRateSchedule class)"
   ]
  },
  {
   "cell_type": "code",
   "execution_count": 22,
   "id": "thick-central",
   "metadata": {},
   "outputs": [],
   "source": [
    "def generate_padding_mask(seq):\n",
    "    seq = tf.cast(tf.math.equal(seq, 0), tf.float32)\n",
    "    return seq[:, tf.newaxis, tf.newaxis, :]\n",
    "\n",
    "def generate_causality_mask(src_len, tgt_len):\n",
    "    mask = 1 - np.cumsum(np.eye(src_len, tgt_len), 0)\n",
    "    return tf.cast(mask, tf.float32)\n",
    "\n",
    "def generate_masks(inp, tar):\n",
    "  # Encoder padding mask\n",
    "    temp = tf.cast(tf.math.equal(inp, 0), tf.float32)\n",
    "    enc_padding_mask = temp[:, tf.newaxis, tf.newaxis, :]\n",
    "#     enc_padding_mask = create_padding_mask(inp)\n",
    "    dec_padding_mask = temp[:, tf.newaxis, tf.newaxis, :]\n",
    "    look_ahead_mask = 1 - tf.linalg.band_part(tf.ones((tf.shape(tar)[1], tf.shape(tar)[1])), -1, 0)\n",
    "    \n",
    "    temp = tf.cast(tf.math.equal(tar, 0), tf.float32)\n",
    "    \n",
    "    dec_target_padding_mask = temp[:, tf.newaxis, tf.newaxis, :]\n",
    "    combined_mask = tf.maximum(dec_target_padding_mask, look_ahead_mask)\n",
    "\n",
    "    return enc_padding_mask, combined_mask, dec_padding_mask"
   ]
  },
  {
   "cell_type": "code",
   "execution_count": 23,
   "id": "differential-relay",
   "metadata": {},
   "outputs": [],
   "source": [
    "class LearningRateScheduler(tf.keras.optimizers.schedules.LearningRateSchedule):\n",
    "    def __init__(self, d_model, warmup_steps=4000):\n",
    "        super(LearningRateScheduler, self).__init__()\n",
    "        self.d_model = d_model\n",
    "        self.warmup_steps = warmup_steps\n",
    "    \n",
    "    def __call__(self, step):\n",
    "        arg1 = step ** -0.5\n",
    "        arg2 = step * (self.warmup_steps ** -1.5)\n",
    "        \n",
    "        return (self.d_model ** -0.5) * tf.math.minimum(arg1, arg2)"
   ]
  },
  {
   "cell_type": "markdown",
   "id": "silver-connection",
   "metadata": {},
   "source": [
    "## 트랜스포머 모델 형성\n",
    "---"
   ]
  },
  {
   "cell_type": "code",
   "execution_count": 24,
   "id": "collected-alloy",
   "metadata": {},
   "outputs": [],
   "source": [
    "transformer = Transformer(n_layers=2, \n",
    "                          d_model=512, \n",
    "                          n_heads=8, \n",
    "                          d_ff=2048, \n",
    "                          src_vocab_size=SRC_VOCAB_SIZE, \n",
    "                          tgt_vocab_size=TGT_VOCAB_SIZE, \n",
    "                          pos_len=50, \n",
    "                          dropout=0.3)"
   ]
  },
  {
   "cell_type": "code",
   "execution_count": 25,
   "id": "behavioral-hazard",
   "metadata": {},
   "outputs": [],
   "source": [
    "learning_rate = LearningRateScheduler(512)\n",
    "optimizer = tf.keras.optimizers.Adam(learning_rate,\n",
    "                                     beta_1=0.9,\n",
    "                                     beta_2=0.98, \n",
    "                                     epsilon=1e-9)"
   ]
  },
  {
   "cell_type": "code",
   "execution_count": 26,
   "id": "stretch-singles",
   "metadata": {},
   "outputs": [],
   "source": [
    "loss_object = tf.keras.losses.SparseCategoricalCrossentropy(\n",
    "    from_logits=True, reduction='none')\n",
    "\n",
    "def loss_function(real, pred):\n",
    "    mask = tf.math.logical_not(tf.math.equal(real, 0))\n",
    "    loss_ = loss_object(real, pred)\n",
    "\n",
    "    # Masking 되지 않은 입력의 개수로 Scaling하는 과정\n",
    "    mask = tf.cast(mask, dtype=loss_.dtype)\n",
    "    loss_ *= mask\n",
    "\n",
    "    return tf.reduce_sum(loss_)/tf.reduce_sum(mask)"
   ]
  },
  {
   "cell_type": "code",
   "execution_count": 27,
   "id": "front-pension",
   "metadata": {},
   "outputs": [],
   "source": [
    "@tf.function()\n",
    "def train_step(src, tgt, model, optimizer):\n",
    "    gold = tgt[:, 1:]\n",
    "        \n",
    "    enc_mask, dec_enc_mask, dec_mask = generate_masks(src, tgt)\n",
    "\n",
    "    # 계산된 loss에 tf.GradientTape()를 적용해 학습을 진행합니다.\n",
    "    with tf.GradientTape() as tape:\n",
    "        predictions, enc_attns, dec_attns, dec_enc_attns = \\\n",
    "        model(src, tgt, enc_mask, dec_enc_mask, dec_mask)\n",
    "        loss = loss_function(gold, predictions[:, :-1])\n",
    "\n",
    "    # 최종적으로 optimizer.apply_gradients()가 사용됩니다. \n",
    "    gradients = tape.gradient(loss, model.trainable_variables)\n",
    "    optimizer.apply_gradients(zip(gradients, model.trainable_variables))\n",
    "    \n",
    "    return loss, enc_attns, dec_attns, dec_enc_attns"
   ]
  },
  {
   "cell_type": "code",
   "execution_count": 28,
   "id": "impossible-amber",
   "metadata": {},
   "outputs": [],
   "source": [
    "def visualize_attention(src, tgt, enc_attns, dec_attns, dec_enc_attns):\n",
    "    def draw(data, ax, x=\"auto\", y=\"auto\"):\n",
    "        seaborn.heatmap(data, square=True, vmin=0.0, vmax=1.0, cbar=False, ax=ax, xticklabels=x, yticklabels=y)\n",
    "        \n",
    "    for layer in range(0, 2, 1):\n",
    "        fig, axs = plt.subplots(1, 4, figsize=(20, 10))\n",
    "        print(\"Encoder Layer\", layer + 1)\n",
    "        for h in range(4):\n",
    "            draw(enc_attns[layer][0, h, :len(src), :len(src)], axs[h], src, src)\n",
    "        plt.show()\n",
    "        \n",
    "    for layer in range(0, 2, 1):\n",
    "        fig, axs = plt.subplots(1, 4, figsize=(20, 10))\n",
    "        print(\"Decoder Self Layer\", layer+1)\n",
    "        for h in range(4):\n",
    "            draw(dec_attns[layer][0, h, :len(tgt), :len(tgt)], axs[h], tgt, tgt)\n",
    "        plt.show()\n",
    "\n",
    "        print(\"Decoder Src Layer\", layer+1)\n",
    "        fig, axs = plt.subplots(1, 4, figsize=(20, 10))\n",
    "        for h in range(4):\n",
    "            draw(dec_enc_attns[layer][0, h, :len(tgt), :len(src)], axs[h], src, tgt)\n",
    "        plt.show()"
   ]
  },
  {
   "cell_type": "code",
   "execution_count": 29,
   "id": "optimum-royal",
   "metadata": {},
   "outputs": [],
   "source": [
    "def evaluate(sentence, model, src_tokenizer, tgt_tokenizer):\n",
    "    sentence = preprocess_sentence(sentence)\n",
    "\n",
    "    pieces = src_tokenizer.encode_as_pieces(sentence)\n",
    "    tokens = src_tokenizer.encode_as_ids(sentence)\n",
    "\n",
    "    _input = tf.keras.preprocessing.sequence.pad_sequences([tokens],\n",
    "                                                           maxlen=enc_train.shape[-1],\n",
    "                                                           padding='post')\n",
    "    ids = []\n",
    "    output = tf.expand_dims([tgt_tokenizer.bos_id()], 0)\n",
    "    \n",
    "    for i in range(dec_train.shape[-1]):\n",
    "        enc_padding_mask, combined_mask, dec_padding_mask = generate_masks(\n",
    "            _input, output)\n",
    "        \n",
    "        predictions, enc_attns, dec_attns, dec_enc_attns = model(_input, \n",
    "                                                                 output,\n",
    "                                                                 enc_padding_mask,\n",
    "                                                                 combined_mask,\n",
    "                                                                 dec_padding_mask)\n",
    "        \n",
    "        predictions = predictions[:, -1:, :]\n",
    "        predicted_id = tf.argmax(predictions, axis=-1).numpy().item()\n",
    "\n",
    "        if tgt_tokenizer.eos_id() == predicted_id:\n",
    "            result = tgt_tokenizer.decode_ids(ids)\n",
    "            return pieces, result, enc_attns, dec_attns, dec_enc_attns\n",
    "\n",
    "        ids.append(predicted_id)\n",
    "        output = tf.concat([output, tf.expand_dims([predicted_id], 0)], axis=-1)\n",
    "\n",
    "    result = tgt_tokenizer.decode_ids(ids)\n",
    "\n",
    "    return pieces, result, enc_attns, dec_attns, dec_enc_attns"
   ]
  },
  {
   "cell_type": "code",
   "execution_count": 30,
   "id": "according-mathematics",
   "metadata": {},
   "outputs": [],
   "source": [
    "def translate(sentence, model, src_tokenizer, tgt_tokenizer, plot_attention=False):\n",
    "    pieces, result, enc_attns, dec_attns, dec_enc_attns = \\\n",
    "        evaluate(sentence, model, src_tokenizer, tgt_tokenizer)\n",
    "    \n",
    "    print('kr : %s' % (sentence))\n",
    "    print('us : {}'.format(result))\n",
    "\n",
    "    if plot_attention:\n",
    "        visualize_attention(pieces, result.split(), enc_attns, dec_attns, dec_enc_attns)"
   ]
  },
  {
   "cell_type": "markdown",
   "id": "sound-permission",
   "metadata": {},
   "source": [
    "## 모델 학습\n",
    "---"
   ]
  },
  {
   "cell_type": "code",
   "execution_count": 31,
   "id": "spatial-economy",
   "metadata": {},
   "outputs": [],
   "source": [
    "BATCH_SIZE = 256\n",
    "EPOCHS = 20"
   ]
  },
  {
   "cell_type": "code",
   "execution_count": 32,
   "id": "intermediate-occurrence",
   "metadata": {},
   "outputs": [],
   "source": [
    "examples = [\n",
    "    \"오바마는 대통령이다.\",\n",
    "    \"시민들은 도시 속에 산다.\",\n",
    "    \"커피는 필요 없다.\",\n",
    "    \"일곱 명의 사망자가 발생했다.\"\n",
    "]"
   ]
  },
  {
   "cell_type": "code",
   "execution_count": 33,
   "id": "instrumental-lithuania",
   "metadata": {},
   "outputs": [],
   "source": [
    "def train(transformer, optimizer, enc_train, dec_train, \n",
    "          enc_tokenizer, dec_tokenizer,\n",
    "          examples, EPOCHS=20, BATCH_SIZE=128):\n",
    "    \n",
    "    losses = []\n",
    "    \n",
    "    for epoch in range(EPOCHS):\n",
    "        total_loss = 0\n",
    "\n",
    "        idx_list = list(range(0, enc_train.shape[0], BATCH_SIZE))\n",
    "        random.shuffle(idx_list)\n",
    "        t = tqdm(idx_list)\n",
    "\n",
    "        for (batch, idx) in enumerate(t):\n",
    "            batch_loss, enc_attns, dec_attns, dec_enc_attns = train_step(\n",
    "                enc_train[idx:idx+BATCH_SIZE],\n",
    "                dec_train[idx:idx+BATCH_SIZE],\n",
    "                transformer,\n",
    "                optimizer)\n",
    "\n",
    "            total_loss += batch_loss\n",
    "\n",
    "            t.set_description_str('Epoch %2d' % (epoch + 1))\n",
    "            t.set_postfix_str('Loss %.4f' % (total_loss.numpy() / (batch + 1)))\n",
    "            \n",
    "        print(f'[EPOCH = {epoch+1}]')\n",
    "        for i, example in enumerate(examples):\n",
    "            if epoch + 1 == EPOCHS and i == 0:\n",
    "                translate(example, transformer, enc_tokenizer, dec_tokenizer, plot_attention=True)\n",
    "            else:\n",
    "                translate(example, transformer, enc_tokenizer, dec_tokenizer)\n",
    "            \n",
    "            \n",
    "        losses.append(total_loss)\n",
    "        \n",
    "    return losses"
   ]
  },
  {
   "cell_type": "code",
   "execution_count": 34,
   "id": "respected-homeless",
   "metadata": {},
   "outputs": [],
   "source": [
    "def show_train_loss(losses):\n",
    "    fig, ax = plt.subplots(1, 1, figsize=(10, 5))\n",
    "    ax.plot(losses)\n",
    "    ax.set_title('Traina loss', fontsize=15)\n",
    "    plt.show()"
   ]
  },
  {
   "cell_type": "code",
   "execution_count": 37,
   "id": "digital-spectrum",
   "metadata": {},
   "outputs": [],
   "source": [
    "def print_result(model, src_tokenizer, tgt_tokenizer, sentences):\n",
    "    \n",
    "    print(\"Translations\")\n",
    "    for i, sentence in enumerate(sentences):\n",
    "        pieces, result, enc_attns, dec_attns, dec_enc_attns = \\\n",
    "            evaluate(sentence, model, src_tokenizer, tgt_tokenizer)\n",
    "        print(f\"> {i+1}. {result}\")"
   ]
  },
  {
   "cell_type": "code",
   "execution_count": 36,
   "id": "central-circulation",
   "metadata": {
    "scrolled": false
   },
   "outputs": [
    {
     "data": {
      "application/vnd.jupyter.widget-view+json": {
       "model_id": "95ced2ecb6f34b8abaa0f432aa71678f",
       "version_major": 2,
       "version_minor": 0
      },
      "text/plain": [
       "  0%|          | 0/260 [00:00<?, ?it/s]"
      ]
     },
     "metadata": {},
     "output_type": "display_data"
    },
    {
     "name": "stdout",
     "output_type": "stream",
     "text": [
      "[EPOCH = 1]\n",
      "kr : 오바마는 대통령이다.\n",
      "us : the .\n",
      "kr : 시민들은 도시 속에 산다.\n",
      "us : they .\n",
      "kr : 커피는 필요 없다.\n",
      "us : they .\n",
      "kr : 일곱 명의 사망자가 발생했다.\n",
      "us : they .\n"
     ]
    },
    {
     "data": {
      "application/vnd.jupyter.widget-view+json": {
       "model_id": "299d12eefae749a58ef41344a2320525",
       "version_major": 2,
       "version_minor": 0
      },
      "text/plain": [
       "  0%|          | 0/260 [00:00<?, ?it/s]"
      ]
     },
     "metadata": {},
     "output_type": "display_data"
    },
    {
     "name": "stdout",
     "output_type": "stream",
     "text": [
      "[EPOCH = 2]\n",
      "kr : 오바마는 대통령이다.\n",
      "us : obama s .\n",
      "kr : 시민들은 도시 속에 산다.\n",
      "us : they .\n",
      "kr : 커피는 필요 없다.\n",
      "us : they , they .\n",
      "kr : 일곱 명의 사망자가 발생했다.\n",
      "us : the official was killed in the two year old .\n"
     ]
    },
    {
     "data": {
      "application/vnd.jupyter.widget-view+json": {
       "model_id": "74c10ec33dfd4af2b88003b164ed9522",
       "version_major": 2,
       "version_minor": 0
      },
      "text/plain": [
       "  0%|          | 0/260 [00:00<?, ?it/s]"
      ]
     },
     "metadata": {},
     "output_type": "display_data"
    },
    {
     "name": "stdout",
     "output_type": "stream",
     "text": [
      "[EPOCH = 3]\n",
      "kr : 오바마는 대통령이다.\n",
      "us : obama s president barack obama is a new presidential candidate .\n",
      "kr : 시민들은 도시 속에 산다.\n",
      "us : they are the .\n",
      "kr : 커피는 필요 없다.\n",
      "us : it was not .\n",
      "kr : 일곱 명의 사망자가 발생했다.\n",
      "us : they were killed .\n"
     ]
    },
    {
     "data": {
      "application/vnd.jupyter.widget-view+json": {
       "model_id": "3c207f565e124fc99a6e301a02ad4b66",
       "version_major": 2,
       "version_minor": 0
      },
      "text/plain": [
       "  0%|          | 0/260 [00:00<?, ?it/s]"
      ]
     },
     "metadata": {},
     "output_type": "display_data"
    },
    {
     "name": "stdout",
     "output_type": "stream",
     "text": [
      "[EPOCH = 4]\n",
      "kr : 오바마는 대통령이다.\n",
      "us : obama is a good .\n",
      "kr : 시민들은 도시 속에 산다.\n",
      "us : the bus is the bus .\n",
      "kr : 커피는 필요 없다.\n",
      "us : i don t think it s not to do .\n",
      "kr : 일곱 명의 사망자가 발생했다.\n",
      "us : the death toll was , the death toll in the .\n"
     ]
    },
    {
     "data": {
      "application/vnd.jupyter.widget-view+json": {
       "model_id": "0e6a9fb1ca934b4fa8bee8a01f77c989",
       "version_major": 2,
       "version_minor": 0
      },
      "text/plain": [
       "  0%|          | 0/260 [00:00<?, ?it/s]"
      ]
     },
     "metadata": {},
     "output_type": "display_data"
    },
    {
     "name": "stdout",
     "output_type": "stream",
     "text": [
      "[EPOCH = 5]\n",
      "kr : 오바마는 대통령이다.\n",
      "us : obama is a president .\n",
      "kr : 시민들은 도시 속에 산다.\n",
      "us : the city is .\n",
      "kr : 커피는 필요 없다.\n",
      "us : there is no .\n",
      "kr : 일곱 명의 사망자가 발생했다.\n",
      "us : the death toll was killed .\n"
     ]
    },
    {
     "data": {
      "application/vnd.jupyter.widget-view+json": {
       "model_id": "e3ff6af8de7441c2a854d833c9bbefb1",
       "version_major": 2,
       "version_minor": 0
      },
      "text/plain": [
       "  0%|          | 0/260 [00:00<?, ?it/s]"
      ]
     },
     "metadata": {},
     "output_type": "display_data"
    },
    {
     "name": "stdout",
     "output_type": "stream",
     "text": [
      "[EPOCH = 6]\n",
      "kr : 오바마는 대통령이다.\n",
      "us : obama is the president of obama s president .\n",
      "kr : 시민들은 도시 속에 산다.\n",
      "us : the city is the bus .\n",
      "kr : 커피는 필요 없다.\n",
      "us : there is no .\n",
      "kr : 일곱 명의 사망자가 발생했다.\n",
      "us : seven deaths , the death toll was killed .\n"
     ]
    },
    {
     "data": {
      "application/vnd.jupyter.widget-view+json": {
       "model_id": "4c9e61fe99b443fdb073a8c4b1620a23",
       "version_major": 2,
       "version_minor": 0
      },
      "text/plain": [
       "  0%|          | 0/260 [00:00<?, ?it/s]"
      ]
     },
     "metadata": {},
     "output_type": "display_data"
    },
    {
     "name": "stdout",
     "output_type": "stream",
     "text": [
      "[EPOCH = 7]\n",
      "kr : 오바마는 대통령이다.\n",
      "us : obama is the president of the president .\n",
      "kr : 시민들은 도시 속에 산다.\n",
      "us : the city s urban city is the city of .\n",
      "kr : 커피는 필요 없다.\n",
      "us : there was no immediate need for anything .\n",
      "kr : 일곱 명의 사망자가 발생했다.\n",
      "us : six deaths were killed , the death toll .\n"
     ]
    },
    {
     "data": {
      "application/vnd.jupyter.widget-view+json": {
       "model_id": "6a286e9f9462497c8979be294c073c57",
       "version_major": 2,
       "version_minor": 0
      },
      "text/plain": [
       "  0%|          | 0/260 [00:00<?, ?it/s]"
      ]
     },
     "metadata": {},
     "output_type": "display_data"
    },
    {
     "name": "stdout",
     "output_type": "stream",
     "text": [
      "[EPOCH = 8]\n",
      "kr : 오바마는 대통령이다.\n",
      "us : obama s president is a president .\n",
      "kr : 시민들은 도시 속에 산다.\n",
      "us : the city is the old .\n",
      "kr : 커피는 필요 없다.\n",
      "us : there is no needs for life .\n",
      "kr : 일곱 명의 사망자가 발생했다.\n",
      "us : seven deaths , seven deaths .\n"
     ]
    },
    {
     "data": {
      "application/vnd.jupyter.widget-view+json": {
       "model_id": "2f3188c94623479387dbebbf61a3dde6",
       "version_major": 2,
       "version_minor": 0
      },
      "text/plain": [
       "  0%|          | 0/260 [00:00<?, ?it/s]"
      ]
     },
     "metadata": {},
     "output_type": "display_data"
    },
    {
     "name": "stdout",
     "output_type": "stream",
     "text": [
      "[EPOCH = 9]\n",
      "kr : 오바마는 대통령이다.\n",
      "us : obama is the president of president .\n",
      "kr : 시민들은 도시 속에 산다.\n",
      "us : the city is the most urban city .\n",
      "kr : 커피는 필요 없다.\n",
      "us : there was no need for coffee .\n",
      "kr : 일곱 명의 사망자가 발생했다.\n",
      "us : seven people were killed seven people .\n"
     ]
    },
    {
     "data": {
      "application/vnd.jupyter.widget-view+json": {
       "model_id": "9a7111ec82e94cdc97d1ec8944291c25",
       "version_major": 2,
       "version_minor": 0
      },
      "text/plain": [
       "  0%|          | 0/260 [00:00<?, ?it/s]"
      ]
     },
     "metadata": {},
     "output_type": "display_data"
    },
    {
     "name": "stdout",
     "output_type": "stream",
     "text": [
      "[EPOCH = 10]\n",
      "kr : 오바마는 대통령이다.\n",
      "us : obama is the president s presidential race\n",
      "kr : 시민들은 도시 속에 산다.\n",
      "us : the city is the most urban city .\n",
      "kr : 커피는 필요 없다.\n",
      "us : there is no need for coffee .\n",
      "kr : 일곱 명의 사망자가 발생했다.\n",
      "us : seven people were killed seven deaths .\n"
     ]
    },
    {
     "data": {
      "application/vnd.jupyter.widget-view+json": {
       "model_id": "cba7da10d5c843bfb85946e527f6c20b",
       "version_major": 2,
       "version_minor": 0
      },
      "text/plain": [
       "  0%|          | 0/260 [00:00<?, ?it/s]"
      ]
     },
     "metadata": {},
     "output_type": "display_data"
    },
    {
     "name": "stdout",
     "output_type": "stream",
     "text": [
      "[EPOCH = 11]\n",
      "kr : 오바마는 대통령이다.\n",
      "us : obama is the second president s president .\n",
      "kr : 시민들은 도시 속에 산다.\n",
      "us : the city is busy across the city .\n",
      "kr : 커피는 필요 없다.\n",
      "us : there is no for coffee .\n",
      "kr : 일곱 명의 사망자가 발생했다.\n",
      "us : seven people were killed and seven deaths .\n"
     ]
    },
    {
     "data": {
      "application/vnd.jupyter.widget-view+json": {
       "model_id": "82716bfb833b43ac955d809502b1ce4c",
       "version_major": 2,
       "version_minor": 0
      },
      "text/plain": [
       "  0%|          | 0/260 [00:00<?, ?it/s]"
      ]
     },
     "metadata": {},
     "output_type": "display_data"
    },
    {
     "name": "stdout",
     "output_type": "stream",
     "text": [
      "[EPOCH = 12]\n",
      "kr : 오바마는 대통령이다.\n",
      "us : obama is a president for president .\n",
      "kr : 시민들은 도시 속에 산다.\n",
      "us : the city is busy housing s citizens\n",
      "kr : 커피는 필요 없다.\n",
      "us : there s no need for any country .\n",
      "kr : 일곱 명의 사망자가 발생했다.\n",
      "us : seven seven seven seven seven deaths , seven were killed .\n"
     ]
    },
    {
     "data": {
      "application/vnd.jupyter.widget-view+json": {
       "model_id": "a70851bdb70e4064bbac27e43db0c695",
       "version_major": 2,
       "version_minor": 0
      },
      "text/plain": [
       "  0%|          | 0/260 [00:00<?, ?it/s]"
      ]
     },
     "metadata": {},
     "output_type": "display_data"
    },
    {
     "name": "stdout",
     "output_type": "stream",
     "text": [
      "[EPOCH = 13]\n",
      "kr : 오바마는 대통령이다.\n",
      "us : obama is the same president whoever he s ahead .\n",
      "kr : 시민들은 도시 속에 산다.\n",
      "us : citizens were able to rise .\n",
      "kr : 커피는 필요 없다.\n",
      "us : there needs to be no .\n",
      "kr : 일곱 명의 사망자가 발생했다.\n",
      "us : seventeen seventeen deaths , seven deaths .\n"
     ]
    },
    {
     "data": {
      "application/vnd.jupyter.widget-view+json": {
       "model_id": "1cc49c21d8154b26b6f5854d8fc680cc",
       "version_major": 2,
       "version_minor": 0
      },
      "text/plain": [
       "  0%|          | 0/260 [00:00<?, ?it/s]"
      ]
     },
     "metadata": {},
     "output_type": "display_data"
    },
    {
     "name": "stdout",
     "output_type": "stream",
     "text": [
      "[EPOCH = 14]\n",
      "kr : 오바마는 대통령이다.\n",
      "us : obama is the same president obama .\n",
      "kr : 시민들은 도시 속에 산다.\n",
      "us : the city is specially watching citizens .\n",
      "kr : 커피는 필요 없다.\n",
      "us : there needs to panic .\n",
      "kr : 일곱 명의 사망자가 발생했다.\n",
      "us : seven people were killed and three others were released .\n"
     ]
    },
    {
     "data": {
      "application/vnd.jupyter.widget-view+json": {
       "model_id": "ea53d14f27ce4a569fa21a82fe0be2b5",
       "version_major": 2,
       "version_minor": 0
      },
      "text/plain": [
       "  0%|          | 0/260 [00:00<?, ?it/s]"
      ]
     },
     "metadata": {},
     "output_type": "display_data"
    },
    {
     "name": "stdout",
     "output_type": "stream",
     "text": [
      "[EPOCH = 15]\n",
      "kr : 오바마는 대통령이다.\n",
      "us : obama is the same .\n",
      "kr : 시민들은 도시 속에 산다.\n",
      "us : citizens are citizens from the city s citizens to pay the city s citizens .\n",
      "kr : 커피는 필요 없다.\n",
      "us : it needs to be coffee .\n",
      "kr : 일곱 명의 사망자가 발생했다.\n",
      "us : seven deaths and seven deaths were released .\n"
     ]
    },
    {
     "data": {
      "application/vnd.jupyter.widget-view+json": {
       "model_id": "28489e70534748ae8de70ef035d4b575",
       "version_major": 2,
       "version_minor": 0
      },
      "text/plain": [
       "  0%|          | 0/260 [00:00<?, ?it/s]"
      ]
     },
     "metadata": {},
     "output_type": "display_data"
    },
    {
     "name": "stdout",
     "output_type": "stream",
     "text": [
      "[EPOCH = 16]\n",
      "kr : 오바마는 대통령이다.\n",
      "us : obama is president obama s picking up president .\n",
      "kr : 시민들은 도시 속에 산다.\n",
      "us : citizens from the housing cities are all rights cities .\n",
      "kr : 커피는 필요 없다.\n",
      "us : it s not a general .\n",
      "kr : 일곱 명의 사망자가 발생했다.\n",
      "us : seven people were killed and seven others were missing .\n"
     ]
    },
    {
     "data": {
      "application/vnd.jupyter.widget-view+json": {
       "model_id": "b1400e29b7ab4309b3a6cc8dca08db58",
       "version_major": 2,
       "version_minor": 0
      },
      "text/plain": [
       "  0%|          | 0/260 [00:00<?, ?it/s]"
      ]
     },
     "metadata": {},
     "output_type": "display_data"
    },
    {
     "name": "stdout",
     "output_type": "stream",
     "text": [
      "[EPOCH = 17]\n",
      "kr : 오바마는 대통령이다.\n",
      "us : obama is the president\n",
      "kr : 시민들은 도시 속에 산다.\n",
      "us : citizens were mayored in the city st city s busiest city .\n",
      "kr : 커피는 필요 없다.\n",
      "us : no need was needed .\n",
      "kr : 일곱 명의 사망자가 발생했다.\n",
      "us : seven deaths , among least seven people were found .\n"
     ]
    },
    {
     "data": {
      "application/vnd.jupyter.widget-view+json": {
       "model_id": "b9031efb696b4420b8a6f55d6789ecb2",
       "version_major": 2,
       "version_minor": 0
      },
      "text/plain": [
       "  0%|          | 0/260 [00:00<?, ?it/s]"
      ]
     },
     "metadata": {},
     "output_type": "display_data"
    },
    {
     "name": "stdout",
     "output_type": "stream",
     "text": [
      "[EPOCH = 18]\n",
      "kr : 오바마는 대통령이다.\n",
      "us : obama is the same kind of idea to president .\n",
      "kr : 시민들은 도시 속에 산다.\n",
      "us : the bus was seen into the nostalgia town\n",
      "kr : 커피는 필요 없다.\n",
      "us : don t need anything .\n",
      "kr : 일곱 명의 사망자가 발생했다.\n",
      "us : seven people were released tuesday with three others .\n"
     ]
    },
    {
     "data": {
      "application/vnd.jupyter.widget-view+json": {
       "model_id": "95e8bd4c16934ce0bf81650897b72be3",
       "version_major": 2,
       "version_minor": 0
      },
      "text/plain": [
       "  0%|          | 0/260 [00:00<?, ?it/s]"
      ]
     },
     "metadata": {},
     "output_type": "display_data"
    },
    {
     "name": "stdout",
     "output_type": "stream",
     "text": [
      "[EPOCH = 19]\n",
      "kr : 오바마는 대통령이다.\n",
      "us : obama become the president\n",
      "kr : 시민들은 도시 속에 산다.\n",
      "us : led to the city s urban city .\n",
      "kr : 커피는 필요 없다.\n",
      "us : it was not immediately coffee .\n",
      "kr : 일곱 명의 사망자가 발생했다.\n",
      "us : seven people were killed in seven were in seven first seven seven seven seven people .\n"
     ]
    },
    {
     "data": {
      "application/vnd.jupyter.widget-view+json": {
       "model_id": "6d9baeec69664f63ac1cedef84567cc7",
       "version_major": 2,
       "version_minor": 0
      },
      "text/plain": [
       "  0%|          | 0/260 [00:00<?, ?it/s]"
      ]
     },
     "metadata": {},
     "output_type": "display_data"
    },
    {
     "name": "stdout",
     "output_type": "stream",
     "text": [
      "[EPOCH = 20]\n",
      "kr : 오바마는 대통령이다.\n",
      "us : obama become the president\n",
      "Encoder Layer 1\n"
     ]
    },
    {
     "name": "stderr",
     "output_type": "stream",
     "text": [
      "/opt/conda/lib/python3.7/site-packages/matplotlib/backends/backend_agg.py:238: RuntimeWarning: Glyph 9601 missing from current font.\n",
      "  font.set_text(s, 0.0, flags=flags)\n",
      "/opt/conda/lib/python3.7/site-packages/matplotlib/backends/backend_agg.py:201: RuntimeWarning: Glyph 9601 missing from current font.\n",
      "  font.set_text(s, 0, flags=flags)\n"
     ]
    },
    {
     "data": {
      "image/png": "[encoded data removed]",
      "text/plain": [
       "<Figure size 1440x720 with 4 Axes>"
      ]
     },
     "metadata": {
      "image/png": {
       "height": 275,
       "width": 1148
      },
      "needs_background": "light"
     },
     "output_type": "display_data"
    },
    {
     "name": "stdout",
     "output_type": "stream",
     "text": [
      "Encoder Layer 2\n"
     ]
    },
    {
     "data": {
      "image/png": "[encoded data removed]",
      "text/plain": [
       "<Figure size 1440x720 with 4 Axes>"
      ]
     },
     "metadata": {
      "image/png": {
       "height": 275,
       "width": 1148
      },
      "needs_background": "light"
     },
     "output_type": "display_data"
    },
    {
     "name": "stdout",
     "output_type": "stream",
     "text": [
      "Decoder Self Layer 1\n"
     ]
    },
    {
     "data": {
      "image/png": "[encoded data removed]",
      "text/plain": [
       "<Figure size 1440x720 with 4 Axes>"
      ]
     },
     "metadata": {
      "image/png": {
       "height": 275,
       "width": 1148
      },
      "needs_background": "light"
     },
     "output_type": "display_data"
    },
    {
     "name": "stdout",
     "output_type": "stream",
     "text": [
      "Decoder Src Layer 1\n"
     ]
    },
    {
     "data": {
      "image/png": "[encoded data removed]",
      "text/plain": [
       "<Figure size 1440x720 with 4 Axes>"
      ]
     },
     "metadata": {
      "image/png": {
       "height": 195,
       "width": 1148
      },
      "needs_background": "light"
     },
     "output_type": "display_data"
    },
    {
     "name": "stdout",
     "output_type": "stream",
     "text": [
      "Decoder Self Layer 2\n"
     ]
    },
    {
     "data": {
      "image/png": "[encoded data removed]",
      "text/plain": [
       "<Figure size 1440x720 with 4 Axes>"
      ]
     },
     "metadata": {
      "image/png": {
       "height": 275,
       "width": 1148
      },
      "needs_background": "light"
     },
     "output_type": "display_data"
    },
    {
     "name": "stdout",
     "output_type": "stream",
     "text": [
      "Decoder Src Layer 2\n"
     ]
    },
    {
     "data": {
      "image/png": "[encoded data removed]",
      "text/plain": [
       "<Figure size 1440x720 with 4 Axes>"
      ]
     },
     "metadata": {
      "image/png": {
       "height": 195,
       "width": 1148
      },
      "needs_background": "light"
     },
     "output_type": "display_data"
    },
    {
     "name": "stdout",
     "output_type": "stream",
     "text": [
      "kr : 시민들은 도시 속에 산다.\n",
      "us : the citizens were well preserved .\n",
      "kr : 커피는 필요 없다.\n",
      "us : there is no needs for coffee .\n",
      "kr : 일곱 명의 사망자가 발생했다.\n",
      "us : seven people were killed .\n"
     ]
    },
    {
     "data": {
      "image/png": "[encoded data removed]",
      "text/plain": [
       "<Figure size 720x360 with 1 Axes>"
      ]
     },
     "metadata": {
      "image/png": {
       "height": 321,
       "width": 602
      },
      "needs_background": "light"
     },
     "output_type": "display_data"
    }
   ],
   "source": [
    "losses = train(transformer, optimizer, enc_train, dec_train, \n",
    "                 ko_tokenizer, en_tokenizer, examples, 20, 256)\n",
    "show_train_loss(losses)"
   ]
  },
  {
   "cell_type": "code",
   "execution_count": 40,
   "id": "british-benchmark",
   "metadata": {},
   "outputs": [
    {
     "name": "stdout",
     "output_type": "stream",
     "text": [
      "Translations\n",
      "> 1. obama become the president\n",
      "> 2. the citizens were well preserved .\n",
      "> 3. there is no needs for coffee .\n",
      "> 4. seven people were killed .\n"
     ]
    }
   ],
   "source": [
    "print_result(transformer, ko_tokenizer, en_tokenizer, examples)"
   ]
  },
  {
   "cell_type": "markdown",
   "id": "color-organizer",
   "metadata": {},
   "source": [
    "## 회고\n",
    "---\n",
    "전 프로젝트에서의 결과보다는 좋은 결과를 얻은 것 같습니다.\\\n",
    "첫 모델 학습에서 같은 글자가 반복해서 출력되고 학습이 되도 계속 반복되는 문제가 발생했습니다.\\\n",
    "\n",
    "원인을 직접적으로 찾지 못 하여 다른 사람들의 코드를 보며 수정을 진행했는데,\\\n",
    "그 중 찾은 원인은 텐서가 더 큰 쪽의 크기값을 따라가는데\\\n",
    "이 경우 scaled_dot_product_attention의 tf.matmul의 연산이\\\n",
    "문제가 될 수 있다고 합니다.\\\n",
    "\n",
    "따라서 tf.cast()를 이용하여 genertate_mask()함수에서 텐서를 수정하는 과정을\\\n",
    "거쳤습니다.\n",
    "\n",
    "같은 알파벳이 반복되는 문제는 이로써 피할 수 있었지만,\\\n",
    "모델의 성능이 만족스럽다고 말할 수 있는 지는 모르겠습니다.\n",
    "\n"
   ]
  }
 ],
 "metadata": {
  "kernelspec": {
   "display_name": "Python 3",
   "language": "python",
   "name": "python3"
  },
  "language_info": {
   "codemirror_mode": {
    "name": "ipython",
    "version": 3
   },
   "file_extension": ".py",
   "mimetype": "text/x-python",
   "name": "python",
   "nbconvert_exporter": "python",
   "pygments_lexer": "ipython3",
   "version": "3.7.9"
  }
 },
 "nbformat": 4,
 "nbformat_minor": 5
}
