{
 "cells": [
  {
   "cell_type": "markdown",
   "id": "eight-moment",
   "metadata": {},
   "source": [
    "### 라이브러리 사용\n",
    "---\n",
    "glob와 os는 데이터를 읽어오기 위한 목적입니다.\\\n",
    "re는 정규식을 이용하여 문자열 수정을 하기 위함입니다.\\\n",
    "tensorflow는 토큰화 및 문장 생성을 위함입니다.\\\n",
    "train_test_split은 학습용 자료와 시험용 자료를 나누기 위함입니다."
   ]
  },
  {
   "cell_type": "code",
   "execution_count": 413,
   "id": "demonstrated-plain",
   "metadata": {},
   "outputs": [],
   "source": [
    "import glob\n",
    "import os\n",
    "import re\n",
    "import tensorflow as tf\n",
    "from sklearn.model_selection import train_test_split"
   ]
  },
  {
   "cell_type": "markdown",
   "id": "frank-participation",
   "metadata": {},
   "source": [
    "### 데이터 읽어보기\n",
    "---\n",
    "4-7의 방법대로 모든 텍스트를 읽어온 후 문장단위로 리스트에 저장했습니다.\\\n",
    "변경사항은 없습니다."
   ]
  },
  {
   "cell_type": "code",
   "execution_count": 382,
   "id": "domestic-adventure",
   "metadata": {},
   "outputs": [
    {
     "name": "stdout",
     "output_type": "stream",
     "text": [
      "데이터 크기: 187088\n",
      "Examples:\n",
      " [' There must be some kind of way outta here', 'Said the joker to the thief', \"There's too much confusion\", \"I can't get no relief Business men, they drink my wine\", 'Plowman dig my earth', 'None were level on the mind', 'Nobody up at his word', 'Hey, hey No reason to get excited', 'The thief he kindly spoke', 'There are many here among us', 'Who feel that life is but a joke', \"But, uh, but you and I, we've been through that\", 'And this is not our fate', \"So let us stop talkin' falsely now\", \"The hour's getting late, hey All along the watchtower\", 'Princes kept the view', 'While all the women came and went', 'Barefoot servants, too', 'Outside in the cold distance', 'A wildcat did growl', 'Two riders were approaching', 'And the wind began to howl [Intro]', 'Hey Joe', 'Where you going with that gun in your hand?', 'Hey Joe', 'I said where you going with that gun in your hand? [Verse 1]', \"I'm going down to shoot my old lady\", 'You know, I caught her messing around with another man', \"I'm going down to shoot my old lady\", 'You know, I caught her messing around with another man', \"And that ain't too cool [Verse 2 ]\", 'Hey Joe', 'I heard you shot your woman down', 'Shot her down, now', 'Hey Joe', 'I heard you shot your old lady down', 'You shot her down to the ground [Verse 3]', 'Yes I did, I shot her', 'You know, I caught her messing around, messing around town', 'Yes I did, I shot her', 'You know, I caught my old lady messing around town', 'And I gave her the gun', 'I shot her! [Guitar Solo/Bridge]', 'Hey Joe, alright', 'Shoot her one more time, baby [Verse 4]', 'Hey Joe, said now', 'Where you going to run to now?', 'Where you going to run to?', 'Hey Joe, I said', 'Where you going to run to now?', 'Where you, where you going to go?', 'Well, dig it [Verse 5]', \"I'm going way down south\", 'Way down to Mexico way', 'Alright', \"I'm going way down south\", 'Way down where I can be free', \"There's no one going to find me [Verse 6]\", \"There's no hangman going to\", \"He ain't gonna put a rope around me\", 'You better believe it right now', 'I got to go now [Outro]', 'Hey Joe', 'You better run on down', 'Goodbye everybody, ow!', 'Hey Joe, uh', 'Run on down Purple haze, all in my brain', \"Lately things they don't seem the same\", \"Actin' funny, but I don't know why\", 'Excuse me while I kiss the sky Purple haze, all around', \"Don't know if I'm comin' up or down\", 'Am I happy or in misery?', 'What ever it is, that girl put a spell on me Help me', 'Help me', 'Oh, no, no Ooo, ahhh', 'Ooo, ahhh', 'Ooo, ahhh', 'Ooo, ahhh, yeah! Purple haze all in my eyes', \"Don't know if it's day or night\", \"You got me blowin', blowin' my mind\", 'Is it tomorrow, or just the end of time? Ooo', 'Help me', 'Ahh, yea-yeah, purple haze', 'Oh, no, oh', 'Oh, help me', 'Tell me, tell me, purple haze', \"I can't go on like this\", 'Purple haze', \"You're makin' me blow my mind\", 'Purple haze, n-no, nooo', 'Purple haze Foxy', \"Foxy You know you're a cute little heartbreaker\", 'Foxy', \"You know you're a sweet little lovemaker\", 'Foxy I wanna take you home', \"I won't do you no harm, no\", \"You've got to be all mine, all mine\", 'Ooh, foxy lady I see you, heh, on down on the scene', 'Foxy', 'You make me wanna get up and uh scream', 'Foxy', 'Ah, baby listen now', \"I've made up my mind yeah\", \"I'm tired of wasting all my precious time\", \"You've got to be all mine, all mine\", \"Foxy lady Here I come I'm gonna take you home\", \"I won't do you no harm, no\", \"You've got to be all mine, all mine Here I come baby\", \"I'm comin' to get ya\", 'Ow foxy lady', 'You look so good', 'Yeah, foxy', 'Yeah, give us some', 'Foxy', 'Yeah, get it, babe', 'You make me feel like', \"Feel like sayin' foxy\", 'Oh lady', 'Foxy', 'Foxy lady', 'Foxy lady After all the jacks are in their boxes', 'And the clowns have all gone to bed', 'You can hear happiness staggering on down the street', 'Footprints dressed in red', 'And the wind whispers Mary A broom is drearily sweeping', 'Up the broken pieces of yesterdays life', 'Somewhere a queen is weeping', 'Somewhere a king has no wife', 'And the wind, it cries Mary The traffic lights they all true blue tomorrow', 'And shine their emptiness down on my bed', 'The tiny island sags downstream', 'Cause the life that lived is, is dead', 'And the wind screams Mary Will the wind ever remember', 'The names it has blown in the past', \"And with his crutch, its old age, and it's wisdom\", 'It whispers no, this will be the last', 'And the wind cries Mary Wild thing, you make my heart sing', 'You make everything groovy, wild thing', 'Wild thing, I think I love you', 'But I wanna know for sure', 'Come on and hold me tight', 'I love you Wild thing, you make my heart sing', 'You make everything groovy, wild thing', 'Wild thing, I think you move me', 'But I wanna know for sure', 'Come on and hold me tight', 'You move me Wild thing, you make my heart sing', 'You make everything groovy, wild thing', 'Wild thing, you make my heart sing', 'You make everything groovy, wild thing']\n"
     ]
    }
   ],
   "source": [
    "\n",
    "\n",
    "txt_file_path = os.getenv('HOME')+'/aiffel/lyricist/data/lyrics/*'\n",
    "\n",
    "txt_list = glob.glob(txt_file_path)\n",
    "\n",
    "raw_corpus = []\n",
    "\n",
    "# 여러개의 txt 파일을 모두 읽어서 raw_corpus 에 담습니다.\n",
    "for txt_file in txt_list:\n",
    "    with open(txt_file, \"r\") as f:\n",
    "        raw = f.read().splitlines()\n",
    "        raw_corpus.extend(raw)\n",
    "\n",
    "print(\"데이터 크기:\", len(raw_corpus))\n",
    "print(\"Examples:\\n\", raw_corpus[:150])"
   ]
  },
  {
   "cell_type": "markdown",
   "id": "subject-bryan",
   "metadata": {},
   "source": [
    "### 문장 정제\n",
    "---\n",
    "기존의 인공지능 대본 제작기의 문장 정제용 함수를 그대로 갖고왔으나,\\\n",
    "텍스트 확인 결과 어퍼스트로피(apostrophe)가 누락되는 결과를 발견하여\\\n",
    "네번째 sentence 선언부에 어퍼스트로피를 공백으로 치환되지 않도록 했습니다."
   ]
  },
  {
   "cell_type": "code",
   "execution_count": 383,
   "id": "overhead-sierra",
   "metadata": {},
   "outputs": [
    {
     "name": "stdout",
     "output_type": "stream",
     "text": [
      "<start> this is sample sentence . <end>\n"
     ]
    }
   ],
   "source": [
    "def preprocess_sentence(sentence):\n",
    "    sentence = sentence.lower().strip() # 1\n",
    "    sentence = re.sub(r\"([?.!,¿])\", r\" \\1 \", sentence) # 2\n",
    "    sentence = re.sub(r'[\" \"]+', \" \", sentence) # 3\n",
    "    sentence = re.sub(r\"[^a-zA-Z?.!,¿,']+\", \" \", sentence) # 4\n",
    "    sentence = sentence.strip() # 5\n",
    "    sentence = '<start> ' + sentence + ' <end>' # 6\n",
    "    return sentence\n",
    "\n",
    "# 이 문장이 어떻게 필터링되는지 확인해 보세요.\n",
    "print(preprocess_sentence(\"This @_is ;;;sample        sentence.\"))"
   ]
  },
  {
   "cell_type": "markdown",
   "id": "selective-lyric",
   "metadata": {},
   "source": [
    "### 토큰 갯수 제한\n",
    "---\n",
    "토큰화 했을 때 토큰의 개수가 15개를 넘는 문장을 제외하기위해 조건문을 추가했습니다.\\\n",
    "공백의 개수를 세어 조건을 설정했습니다.\\\n",
    "다만 다양한 시도를 했음에도 실습란에 있던 정확한 숫자를 맞추는데는 실패했습니다.\\\n",
    "왜 숫자를 맞출 수 없었는지에 대해서는 아직도 궁금하게 생각합니다."
   ]
  },
  {
   "cell_type": "code",
   "execution_count": 384,
   "id": "unauthorized-optimum",
   "metadata": {},
   "outputs": [
    {
     "data": {
      "text/plain": [
       "['<start> there must be some kind of way outta here <end>',\n",
       " '<start> said the joker to the thief <end>',\n",
       " \"<start> there's too much confusion <end>\",\n",
       " \"<start> i can't get no relief business men , they drink my wine <end>\",\n",
       " '<start> plowman dig my earth <end>',\n",
       " '<start> none were level on the mind <end>',\n",
       " '<start> nobody up at his word <end>',\n",
       " '<start> hey , hey no reason to get excited <end>',\n",
       " '<start> the thief he kindly spoke <end>',\n",
       " '<start> there are many here among us <end>',\n",
       " '<start> who feel that life is but a joke <end>',\n",
       " \"<start> but , uh , but you and i , we've been through that <end>\",\n",
       " '<start> and this is not our fate <end>',\n",
       " \"<start> so let us stop talkin' falsely now <end>\",\n",
       " \"<start> the hour's getting late , hey all along the watchtower <end>\",\n",
       " '<start> princes kept the view <end>',\n",
       " '<start> while all the women came and went <end>',\n",
       " '<start> barefoot servants , too <end>',\n",
       " '<start> outside in the cold distance <end>',\n",
       " '<start> a wildcat did growl <end>',\n",
       " '<start> two riders were approaching <end>',\n",
       " '<start> and the wind began to howl intro <end>',\n",
       " '<start> hey joe <end>',\n",
       " '<start> where you going with that gun in your hand ? <end>',\n",
       " '<start> hey joe <end>',\n",
       " '<start> i said where you going with that gun in your hand ? verse <end>',\n",
       " \"<start> i'm going down to shoot my old lady <end>\",\n",
       " '<start> you know , i caught her messing around with another man <end>',\n",
       " \"<start> i'm going down to shoot my old lady <end>\",\n",
       " '<start> you know , i caught her messing around with another man <end>',\n",
       " \"<start> and that ain't too cool verse <end>\",\n",
       " '<start> hey joe <end>',\n",
       " '<start> i heard you shot your woman down <end>',\n",
       " '<start> shot her down , now <end>',\n",
       " '<start> hey joe <end>',\n",
       " '<start> i heard you shot your old lady down <end>',\n",
       " '<start> you shot her down to the ground verse <end>',\n",
       " '<start> yes i did , i shot her <end>',\n",
       " '<start> you know , i caught her messing around , messing around town <end>',\n",
       " '<start> yes i did , i shot her <end>',\n",
       " '<start> you know , i caught my old lady messing around town <end>',\n",
       " '<start> and i gave her the gun <end>',\n",
       " '<start> i shot her ! guitar solo bridge <end>',\n",
       " '<start> hey joe , alright <end>',\n",
       " '<start> shoot her one more time , baby verse <end>',\n",
       " '<start> hey joe , said now <end>',\n",
       " '<start> where you going to run to now ? <end>',\n",
       " '<start> where you going to run to ? <end>',\n",
       " '<start> hey joe , i said <end>',\n",
       " '<start> where you going to run to now ? <end>',\n",
       " '<start> where you , where you going to go ? <end>',\n",
       " '<start> well , dig it verse <end>',\n",
       " \"<start> i'm going way down south <end>\",\n",
       " '<start> way down to mexico way <end>',\n",
       " '<start> alright <end>',\n",
       " \"<start> i'm going way down south <end>\",\n",
       " '<start> way down where i can be free <end>',\n",
       " \"<start> there's no one going to find me verse <end>\",\n",
       " \"<start> there's no hangman going to <end>\",\n",
       " \"<start> he ain't gonna put a rope around me <end>\",\n",
       " '<start> you better believe it right now <end>',\n",
       " '<start> i got to go now outro <end>',\n",
       " '<start> hey joe <end>',\n",
       " '<start> you better run on down <end>',\n",
       " '<start> goodbye everybody , ow ! <end>',\n",
       " '<start> hey joe , uh <end>',\n",
       " '<start> run on down purple haze , all in my brain <end>',\n",
       " \"<start> lately things they don't seem the same <end>\",\n",
       " \"<start> actin' funny , but i don't know why <end>\",\n",
       " '<start> excuse me while i kiss the sky purple haze , all around <end>',\n",
       " \"<start> don't know if i'm comin' up or down <end>\",\n",
       " '<start> am i happy or in misery ? <end>',\n",
       " '<start> help me <end>',\n",
       " '<start> oh , no , no ooo , ahhh <end>',\n",
       " '<start> ooo , ahhh <end>',\n",
       " '<start> ooo , ahhh <end>',\n",
       " '<start> ooo , ahhh , yeah ! purple haze all in my eyes <end>',\n",
       " \"<start> don't know if it's day or night <end>\",\n",
       " \"<start> you got me blowin' , blowin' my mind <end>\",\n",
       " '<start> is it tomorrow , or just the end of time ? ooo <end>',\n",
       " '<start> help me <end>',\n",
       " '<start> ahh , yea yeah , purple haze <end>',\n",
       " '<start> oh , no , oh <end>',\n",
       " '<start> oh , help me <end>',\n",
       " '<start> tell me , tell me , purple haze <end>',\n",
       " \"<start> i can't go on like this <end>\",\n",
       " '<start> purple haze <end>',\n",
       " \"<start> you're makin' me blow my mind <end>\",\n",
       " '<start> purple haze , n no , nooo <end>',\n",
       " '<start> purple haze foxy <end>',\n",
       " \"<start> foxy you know you're a cute little heartbreaker <end>\",\n",
       " '<start> foxy <end>',\n",
       " \"<start> you know you're a sweet little lovemaker <end>\",\n",
       " '<start> foxy i wanna take you home <end>',\n",
       " \"<start> i won't do you no harm , no <end>\",\n",
       " \"<start> you've got to be all mine , all mine <end>\",\n",
       " '<start> foxy <end>',\n",
       " '<start> you make me wanna get up and uh scream <end>',\n",
       " '<start> foxy <end>',\n",
       " '<start> ah , baby listen now <end>',\n",
       " \"<start> i've made up my mind yeah <end>\",\n",
       " \"<start> i'm tired of wasting all my precious time <end>\",\n",
       " \"<start> you've got to be all mine , all mine <end>\",\n",
       " \"<start> foxy lady here i come i'm gonna take you home <end>\",\n",
       " \"<start> i won't do you no harm , no <end>\",\n",
       " \"<start> you've got to be all mine , all mine here i come baby <end>\",\n",
       " \"<start> i'm comin' to get ya <end>\",\n",
       " '<start> ow foxy lady <end>',\n",
       " '<start> you look so good <end>',\n",
       " '<start> yeah , foxy <end>',\n",
       " '<start> yeah , give us some <end>',\n",
       " '<start> foxy <end>',\n",
       " '<start> yeah , get it , babe <end>',\n",
       " '<start> you make me feel like <end>',\n",
       " \"<start> feel like sayin' foxy <end>\",\n",
       " '<start> oh lady <end>',\n",
       " '<start> foxy <end>',\n",
       " '<start> foxy lady <end>',\n",
       " '<start> foxy lady after all the jacks are in their boxes <end>',\n",
       " '<start> and the clowns have all gone to bed <end>',\n",
       " '<start> you can hear happiness staggering on down the street <end>',\n",
       " '<start> footprints dressed in red <end>',\n",
       " '<start> and the wind whispers mary a broom is drearily sweeping <end>',\n",
       " '<start> up the broken pieces of yesterdays life <end>',\n",
       " '<start> somewhere a queen is weeping <end>',\n",
       " '<start> somewhere a king has no wife <end>',\n",
       " '<start> and shine their emptiness down on my bed <end>',\n",
       " '<start> the tiny island sags downstream <end>',\n",
       " '<start> cause the life that lived is , is dead <end>',\n",
       " '<start> and the wind screams mary will the wind ever remember <end>',\n",
       " '<start> the names it has blown in the past <end>',\n",
       " \"<start> and with his crutch , its old age , and it's wisdom <end>\",\n",
       " '<start> it whispers no , this will be the last <end>',\n",
       " '<start> and the wind cries mary wild thing , you make my heart sing <end>',\n",
       " '<start> you make everything groovy , wild thing <end>',\n",
       " '<start> wild thing , i think i love you <end>',\n",
       " '<start> but i wanna know for sure <end>',\n",
       " '<start> come on and hold me tight <end>',\n",
       " '<start> i love you wild thing , you make my heart sing <end>',\n",
       " '<start> you make everything groovy , wild thing <end>',\n",
       " '<start> wild thing , i think you move me <end>',\n",
       " '<start> but i wanna know for sure <end>',\n",
       " '<start> come on and hold me tight <end>',\n",
       " '<start> you move me wild thing , you make my heart sing <end>',\n",
       " '<start> you make everything groovy , wild thing <end>',\n",
       " '<start> wild thing , you make my heart sing <end>',\n",
       " '<start> you make everything groovy , wild thing <end>',\n",
       " '<start> wild thing , you make my heart sing <end>',\n",
       " \"<start> you make everything groovy , wild thing well she's walking through the clouds <end>\",\n",
       " '<start> with a circus mind <end>',\n",
       " \"<start> that's running wild <end>\",\n",
       " '<start> butterflies and zebras and moonbeams <end>',\n",
       " '<start> with a thousand smiles <end>',\n",
       " \"<start> she gives to me free it's alright , she says <end>\",\n",
       " \"<start> it's alright <end>\",\n",
       " '<start> take anything you want from me <end>',\n",
       " '<start> anything fly on , little wing yeah <end>',\n",
       " '<start> sing a song , brother <end>',\n",
       " '<start> if the sun refused to shine , <end>',\n",
       " \"<start> i don't mind , i don't mind . <end>\",\n",
       " '<start> yeah <end>',\n",
       " '<start> if the mountains fell in the sea , <end>',\n",
       " \"<start> let it be , it ain't me . <end>\",\n",
       " '<start> got my own world to live through <end>',\n",
       " \"<start> i don't mind , i don't mind . <end>\",\n",
       " '<start> if all the hippies cut off their hair , <end>',\n",
       " \"<start> i don't care , i don't care . <end>\",\n",
       " \"<start> dig ? 'cos i got my own world to live through <end>\",\n",
       " '<start> pointing their plastic finger at me . <end>',\n",
       " \"<start> they're hoping soon my kind will drop and die , <end>\",\n",
       " \"<start> falling mountains just don't fall on me <end>\",\n",
       " '<start> point on mister businessman , <end>',\n",
       " \"<start> you can't dress like me . <end>\",\n",
       " \"<start> nobody know what i'm talking about <end>\",\n",
       " \"<start> i've got my own life to live <end>\",\n",
       " \"<start> i'm the one that's gonna have to die <end>\",\n",
       " \"<start> when it's time for me to die <end>\",\n",
       " '<start> sing on brother , <end>',\n",
       " '<start> and i chop it down with the edge of my hand <end>',\n",
       " '<start> well , i stand up next to a mountain <end>',\n",
       " '<start> chop it down with the edge of my hand <end>',\n",
       " '<start> well , i pick up all the pieces and make an island <end>',\n",
       " '<start> might even raise just a little sand <end>',\n",
       " \"<start> 'cause i'm a voodoo child <end>\",\n",
       " \"<start> i'll give it right back to you one of these days <end>\",\n",
       " \"<start> i'll give it right back to you one of these days <end>\",\n",
       " \"<start> and if i don't meet you no more in this world <end>\",\n",
       " \"<start> then i'll , i'll meet you in the next one <end>\",\n",
       " \"<start> and don't be late , don't be late <end>\",\n",
       " \"<start> 'cause i'm a voodoo child <end>\",\n",
       " \"<start> lord knows i'm a voodoo child <end>\",\n",
       " \"<start> i'm a voodoo child alright , <end>\",\n",
       " \"<start> now dig this , baby you don't care for me <end>\",\n",
       " \"<start> i don' a care about that <end>\",\n",
       " '<start> gotta new fool , ha ! <end>',\n",
       " '<start> i like it like that i have only one burning desire <end>',\n",
       " '<start> let me stand next to your fire <end>',\n",
       " '<start> let me stand next to your fire repeat times listen here , baby <end>',\n",
       " '<start> and stop acting so crazy <end>',\n",
       " \"<start> you say your mum ain't home , <end>\",\n",
       " \"<start> it ain't my concern , <end>\",\n",
       " '<start> let me stand next to your fire <end>',\n",
       " '<start> and let jimi take over <end>',\n",
       " \"<start> yeah , you know what i'm talking 'bout <end>\",\n",
       " '<start> yeah , get on with it , baby <end>',\n",
       " \"<start> that's what i'm talking 'bout <end>\",\n",
       " '<start> now dig this ! <end>',\n",
       " '<start> ha ! <end>',\n",
       " '<start> now listen , baby you try to gimme your money <end>',\n",
       " '<start> you better save it , babe <end>',\n",
       " '<start> save it for your rainy day <end>',\n",
       " '<start> i have only one burning desire <end>',\n",
       " '<start> let me stand next to your fire <end>',\n",
       " '<start> let me stand next to your fire manic depression is touching my soul <end>',\n",
       " \"<start> i know what i want but i just don't know <end>\",\n",
       " \"<start> how to , go about gettin' it <end>\",\n",
       " '<start> feeling sweet feeling , <end>',\n",
       " '<start> drops from my fingers , fingers <end>',\n",
       " '<start> you make love , you break love <end>',\n",
       " \"<start> it's all the same <end>\",\n",
       " \"<start> when it's , when it's over , mama <end>\",\n",
       " '<start> music , sweet music <end>',\n",
       " '<start> i wish i could caress , caress , caress <end>',\n",
       " '<start> and go on down <end>',\n",
       " '<start> all the way down <end>',\n",
       " \"<start> really ain't no use in me hanging around <end>\",\n",
       " '<start> in your kinda scene music , sweet music <end>',\n",
       " '<start> i wish i could caress , caress , caress <end>',\n",
       " '<start> manic depression is a frustrating mess you got my pride <end>',\n",
       " '<start> hanging out of my bed <end>',\n",
       " \"<start> you're messin' with my life <end>\",\n",
       " '<start> so i brought my lead <end>',\n",
       " '<start> you even mess with my children <end>',\n",
       " \"<start> and you're screamin' at my wife , baby <end>\",\n",
       " '<start> get off my back , <end>',\n",
       " '<start> if you want to get outta here alive freedom , <end>',\n",
       " \"<start> that's what i want now <end>\",\n",
       " \"<start> freedom , that's what i need now <end>\",\n",
       " '<start> freedom to live <end>',\n",
       " '<start> freedom , so i can give you got my heart <end>',\n",
       " '<start> speak electric water <end>',\n",
       " '<start> you got my soul <end>',\n",
       " \"<start> screamin' and howlin' <end>\",\n",
       " '<start> you know you hook my girlfriend <end>',\n",
       " '<start> you know the drugstore man <end>',\n",
       " \"<start> when i don't need it now <end>\",\n",
       " '<start> freedom , so i can give <end>',\n",
       " '<start> freedom , yeah <end>',\n",
       " \"<start> if you don't mean it <end>\",\n",
       " \"<start> you'd better believe <end>\",\n",
       " '<start> if you need me <end>',\n",
       " '<start> or you just want to bleed me <end>',\n",
       " \"<start> you'd better stick in your dagger in someone else <end>\",\n",
       " '<start> so i can leave <end>',\n",
       " '<start> set me free <end>',\n",
       " '<start> yeah right on , straight ahead <end>',\n",
       " '<start> stay up and straight ahead <end>',\n",
       " '<start> freedom , so i could live <end>',\n",
       " \"<start> freedom , 'cause i've got lotta to give , baby <end>\",\n",
       " '<start> freedom , so i can live , freedom the story of jesus <end>',\n",
       " '<start> so easy to explain <end>',\n",
       " '<start> after they crucified him , <end>',\n",
       " '<start> a woman , she claimed his name <end>',\n",
       " '<start> the story of jesus <end>',\n",
       " '<start> the whole bible knows <end>',\n",
       " '<start> went all across the desert <end>',\n",
       " '<start> there should be no lies <end>',\n",
       " '<start> he was married ever happily after <end>',\n",
       " '<start> all the tears we cry <end>',\n",
       " '<start> no use in arguing <end>',\n",
       " '<start> all the use to the man that moans <end>',\n",
       " '<start> when each man falls in battle <end>',\n",
       " '<start> his soul it has to roam <end>',\n",
       " '<start> angles of heaven <end>',\n",
       " '<start> flying saucers to some , <end>',\n",
       " '<start> made easter sunday <end>',\n",
       " '<start> the name of the rising sun the story is written <end>',\n",
       " '<start> by so many people who dared , <end>',\n",
       " '<start> to lay down the truth <end>',\n",
       " '<start> to so very many who cared <end>',\n",
       " '<start> to carry the cross <end>',\n",
       " '<start> of jesus and beyond <end>',\n",
       " '<start> we will guide the light <end>',\n",
       " '<start> this time with a woman in our arms <end>',\n",
       " '<start> we as men <end>',\n",
       " \"<start> can't explain the reason why <end>\",\n",
       " \"<start> the woman's always mentioned <end>\",\n",
       " '<start> at the moment that we die <end>',\n",
       " '<start> all we know <end>',\n",
       " '<start> is god is by our side , <end>',\n",
       " '<start> and he says the word <end>',\n",
       " '<start> so easy yet so hard i wish not to be alone , <end>',\n",
       " '<start> so i must respect my other heart <end>',\n",
       " '<start> oh , the story <end>',\n",
       " '<start> of jesus is the story <end>',\n",
       " '<start> of you and me <end>',\n",
       " '<start> no use in feeling lonely , <end>',\n",
       " '<start> i am searching to be free angel came down from heaven yesterday <end>',\n",
       " '<start> she stayed with me just long enough to rescue me <end>',\n",
       " '<start> and she told me a story yesterday <end>']"
      ]
     },
     "execution_count": 384,
     "metadata": {},
     "output_type": "execute_result"
    }
   ],
   "source": [
    "# 여기에 정제된 문장을 모을겁니다\n",
    "corpus = []\n",
    "\n",
    "for sentence in raw_corpus:\n",
    "    # 우리가 원하지 않는 문장은 건너뜁니다\n",
    "    if len(sentence) == 0: continue\n",
    "#     if len(sentence) > 17: continue\n",
    "#     if sentence[-1] == \":\": print(sentence)\n",
    "#     if sentence.count(' ') > 14: continue\n",
    "    \n",
    "    # 정제를 하고 담아주세요\n",
    "    preprocessed_sentence = preprocess_sentence(sentence)\n",
    "    if 1 < preprocessed_sentence.count(' ') < 15:\n",
    "        corpus.append(preprocessed_sentence)\n",
    "        \n",
    "# 정제된 결과를 10개만 확인해보죠\n",
    "corpus[:300]\n",
    "# corpus[3].count(' ')\n",
    "# corpus[3]\n",
    "# corpus[:15]\n",
    "# print(corpus[0])\n",
    "# print(len(corpus[0]))\n",
    "# print(len(corpus))"
   ]
  },
  {
   "cell_type": "markdown",
   "id": "numeric-cruise",
   "metadata": {},
   "source": [
    "### 토큰 함수 제작\n",
    "---\n",
    "단어장의 크기를 12000이상이라고 정해줬기에 num_words를 12000으로 수정했고,\\\n",
    "문장 정제를 전부 거쳤기에 실습예제의 코드를 그대로 썼습니다.\n"
   ]
  },
  {
   "cell_type": "code",
   "execution_count": 385,
   "id": "soviet-brazilian",
   "metadata": {},
   "outputs": [],
   "source": [
    "def tokenize(corpus):\n",
    "    tokenizer = tf.keras.preprocessing.text.Tokenizer(\n",
    "        num_words=12000, \n",
    "        filters=' ',\n",
    "        oov_token=\"<unk>\"\n",
    "    )\n",
    "    tokenizer.fit_on_texts(corpus)\n",
    "    tensor = tokenizer.texts_to_sequences(corpus)   \n",
    "    tensor = tf.keras.preprocessing.sequence.pad_sequences(tensor, padding='post')  \n",
    "    \n",
    "    return tensor, tokenizer\n",
    "\n",
    "tensor, tokenizer = tokenize(corpus)"
   ]
  },
  {
   "cell_type": "markdown",
   "id": "beautiful-walker",
   "metadata": {},
   "source": [
    "### 토큰 확인\n",
    "---\n",
    "실습과 같이 토큰에 해당하는 단어들을 확인했습니다."
   ]
  },
  {
   "cell_type": "code",
   "execution_count": 386,
   "id": "desirable-mirror",
   "metadata": {},
   "outputs": [
    {
     "name": "stdout",
     "output_type": "stream",
     "text": [
      "1 : <unk>\n",
      "2 : <start>\n",
      "3 : <end>\n",
      "4 : ,\n",
      "5 : the\n",
      "6 : i\n",
      "7 : you\n",
      "8 : and\n",
      "9 : a\n",
      "10 : to\n"
     ]
    }
   ],
   "source": [
    "for idx in tokenizer.index_word:\n",
    "    print(idx, \":\", tokenizer.index_word[idx])\n",
    "\n",
    "    if idx >= 10: break"
   ]
  },
  {
   "cell_type": "markdown",
   "id": "swedish-perry",
   "metadata": {},
   "source": [
    "### source와 target 자료 생성\n",
    "---\n",
    "실습예제와 같이 모델에 들어갈 source자료와 target자료를 생성했고, 이 중 첫 번째 자료를 출력했습니다."
   ]
  },
  {
   "cell_type": "code",
   "execution_count": 387,
   "id": "confident-circumstances",
   "metadata": {},
   "outputs": [
    {
     "name": "stdout",
     "output_type": "stream",
     "text": [
      "[  2  84 285  25  91 534  18  83 772  92   3   0   0   0]\n",
      "[ 84 285  25  91 534  18  83 772  92   3   0   0   0   0]\n"
     ]
    }
   ],
   "source": [
    "src_input = tensor[:, :-1]\n",
    "# tensor에서 <start>를 잘라내서 타겟 문장을 생성합니다.\n",
    "tgt_input = tensor[:, 1:]    \n",
    "\n",
    "print(src_input[0])\n",
    "print(tgt_input[0])"
   ]
  },
  {
   "cell_type": "markdown",
   "id": "frank-preparation",
   "metadata": {},
   "source": [
    "### 학습자료와 시험자료의 분배\n",
    "---\n",
    "과제에서 요구한 대로 학습자료와 시험자료를 8:2의 비율로 나눴습니다."
   ]
  },
  {
   "cell_type": "code",
   "execution_count": 388,
   "id": "cooperative-korean",
   "metadata": {},
   "outputs": [],
   "source": [
    "enc_train, enc_val, dec_train, dec_val = train_test_split(src_input,\n",
    "                                                          tgt_input,\n",
    "                                                    test_size=0.2, \n",
    "                                                    random_state=12)"
   ]
  },
  {
   "cell_type": "markdown",
   "id": "brutal-ireland",
   "metadata": {},
   "source": [
    "### 자료 분배 결과\n",
    "---\n",
    "자료분배결과는 4-7과 달랐으며, 맞출 수 없었습니다. 따라서 토큰 길이를 맞추기만 했습니다."
   ]
  },
  {
   "cell_type": "code",
   "execution_count": 389,
   "id": "entitled-genealogy",
   "metadata": {},
   "outputs": [
    {
     "name": "stdout",
     "output_type": "stream",
     "text": [
      "Source Train: (127099, 14)\n",
      "Target Train: (127099, 14)\n"
     ]
    }
   ],
   "source": [
    "print(\"Source Train:\", enc_train.shape)\n",
    "print(\"Target Train:\", dec_train.shape)"
   ]
  },
  {
   "cell_type": "markdown",
   "id": "center-monaco",
   "metadata": {},
   "source": [
    "### 모델 hyperparameter 입력\n",
    "---\n",
    "모델 생성을 위한 hyperparameter를 입력했습니다.\\\n",
    "batch_size가 원래 256이었는데, 느리다고 생각해서 1024로 수정했지만 딱히 빨라지지는 않았습니다."
   ]
  },
  {
   "cell_type": "code",
   "execution_count": 397,
   "id": "familiar-myanmar",
   "metadata": {},
   "outputs": [
    {
     "name": "stdout",
     "output_type": "stream",
     "text": [
      "155\n"
     ]
    }
   ],
   "source": [
    "BUFFER_SIZE = len(src_input)\n",
    "BATCH_SIZE = 1024\n",
    "steps_per_epoch = len(src_input) // BATCH_SIZE\n",
    "\n",
    "VOCAB_SIZE = tokenizer.num_words + 1   \n",
    "\n",
    "# https://www.tensorflow.org/api_docs/python/tf/data/Dataset\n",
    "dataset = tf.data.Dataset.from_tensor_slices((src_input, tgt_input))\n",
    "dataset = dataset.shuffle(BUFFER_SIZE)\n",
    "dataset = dataset.batch(BATCH_SIZE, drop_remainder=True)\n",
    "# dataset\n",
    "print(steps_per_epoch)"
   ]
  },
  {
   "cell_type": "markdown",
   "id": "stable-shore",
   "metadata": {},
   "source": [
    "### 모델 생성\n",
    "---\n",
    "모델을 생성했습니다. embedding_size가 단어벡터 차원수라고 하는데 왜 256인지는 아직 이해가 가진 않습니다.\\\n",
    "그저 모델이 단어를 구분하는 추상적인 특징수를 지정한 것이 아닌가 생각하고 있습니다."
   ]
  },
  {
   "cell_type": "code",
   "execution_count": 398,
   "id": "innovative-radio",
   "metadata": {},
   "outputs": [],
   "source": [
    "class TextGenerator(tf.keras.Model):\n",
    "    def __init__(self, vocab_size, embedding_size, hidden_size):\n",
    "        super().__init__()\n",
    "        \n",
    "        self.embedding = tf.keras.layers.Embedding(vocab_size, embedding_size)\n",
    "        self.rnn_1 = tf.keras.layers.LSTM(hidden_size, return_sequences=True)\n",
    "        self.rnn_2 = tf.keras.layers.LSTM(hidden_size, return_sequences=True)\n",
    "        self.linear = tf.keras.layers.Dense(vocab_size)\n",
    "        \n",
    "    def call(self, x):\n",
    "        out = self.embedding(x)\n",
    "        out = self.rnn_1(out)\n",
    "        out = self.rnn_2(out)\n",
    "        out = self.linear(out)\n",
    "        \n",
    "        return out\n",
    "    \n",
    "embedding_size = 256\n",
    "hidden_size = 1024\n",
    "model = TextGenerator(tokenizer.num_words + 1, embedding_size , hidden_size)"
   ]
  },
  {
   "cell_type": "markdown",
   "id": "synthetic-seventh",
   "metadata": {},
   "source": [
    "### 모델 학습\n",
    "---\n",
    "모델을 학습시킵니다. 시간이 매우 오래 걸려서 많이 돌려보지는 않았습니다.\n",
    "다행히도 평가기준의 2.2이하로 loss가 떨어진 것을 확인했습니다."
   ]
  },
  {
   "cell_type": "code",
   "execution_count": 399,
   "id": "understood-nutrition",
   "metadata": {},
   "outputs": [
    {
     "name": "stdout",
     "output_type": "stream",
     "text": [
      "Epoch 1/30\n",
      "155/155 [==============================] - 180s 1s/step - loss: 4.7631\n",
      "Epoch 2/30\n",
      "155/155 [==============================] - 171s 1s/step - loss: 3.3312\n",
      "Epoch 3/30\n",
      "155/155 [==============================] - 169s 1s/step - loss: 3.1440\n",
      "Epoch 4/30\n",
      "155/155 [==============================] - 170s 1s/step - loss: 3.0329\n",
      "Epoch 5/30\n",
      "155/155 [==============================] - 170s 1s/step - loss: 2.9509\n",
      "Epoch 6/30\n",
      "155/155 [==============================] - 170s 1s/step - loss: 2.8846\n",
      "Epoch 7/30\n",
      "155/155 [==============================] - 170s 1s/step - loss: 2.8180\n",
      "Epoch 8/30\n",
      "155/155 [==============================] - 170s 1s/step - loss: 2.7544\n",
      "Epoch 9/30\n",
      "155/155 [==============================] - 169s 1s/step - loss: 2.6965\n",
      "Epoch 10/30\n",
      "155/155 [==============================] - 170s 1s/step - loss: 2.6465\n",
      "Epoch 11/30\n",
      "155/155 [==============================] - 170s 1s/step - loss: 2.5973\n",
      "Epoch 12/30\n",
      "155/155 [==============================] - 170s 1s/step - loss: 2.5474\n",
      "Epoch 13/30\n",
      "155/155 [==============================] - 169s 1s/step - loss: 2.5073\n",
      "Epoch 14/30\n",
      "155/155 [==============================] - 169s 1s/step - loss: 2.4653\n",
      "Epoch 15/30\n",
      "155/155 [==============================] - 169s 1s/step - loss: 2.4210\n",
      "Epoch 16/30\n",
      "155/155 [==============================] - 169s 1s/step - loss: 2.3823\n",
      "Epoch 17/30\n",
      "155/155 [==============================] - 169s 1s/step - loss: 2.3493\n",
      "Epoch 18/30\n",
      "155/155 [==============================] - 169s 1s/step - loss: 2.3076\n",
      "Epoch 19/30\n",
      "155/155 [==============================] - 169s 1s/step - loss: 2.2718\n",
      "Epoch 20/30\n",
      "155/155 [==============================] - 169s 1s/step - loss: 2.2434\n",
      "Epoch 21/30\n",
      "155/155 [==============================] - 169s 1s/step - loss: 2.2092\n",
      "Epoch 22/30\n",
      "155/155 [==============================] - 169s 1s/step - loss: 2.1764\n",
      "Epoch 23/30\n",
      "155/155 [==============================] - 169s 1s/step - loss: 2.1446\n",
      "Epoch 24/30\n",
      "155/155 [==============================] - 169s 1s/step - loss: 2.1147\n",
      "Epoch 25/30\n",
      "155/155 [==============================] - 169s 1s/step - loss: 2.0857\n",
      "Epoch 26/30\n",
      "155/155 [==============================] - 168s 1s/step - loss: 2.0561\n",
      "Epoch 27/30\n",
      "155/155 [==============================] - 168s 1s/step - loss: 2.0245\n",
      "Epoch 28/30\n",
      "155/155 [==============================] - 168s 1s/step - loss: 1.9973\n",
      "Epoch 29/30\n",
      "155/155 [==============================] - 168s 1s/step - loss: 1.9764\n",
      "Epoch 30/30\n",
      "155/155 [==============================] - 167s 1s/step - loss: 1.9480\n"
     ]
    },
    {
     "data": {
      "text/plain": [
       "<tensorflow.python.keras.callbacks.History at 0x7fe0bc0b0bd0>"
      ]
     },
     "execution_count": 399,
     "metadata": {},
     "output_type": "execute_result"
    }
   ],
   "source": [
    "\n",
    "optimizer = tf.keras.optimizers.Adam()\n",
    "loss = tf.keras.losses.SparseCategoricalCrossentropy(\n",
    "    from_logits=True,\n",
    "    reduction='none'\n",
    ")\n",
    "\n",
    "model.compile(loss=loss, optimizer=optimizer)\n",
    "model.fit(dataset, epochs=30)"
   ]
  },
  {
   "cell_type": "markdown",
   "id": "refined-truck",
   "metadata": {},
   "source": [
    "### 작사 함수\n",
    "---\n",
    "역시 실습예제의 코드를 그대로 가져왔습니다. \n",
    "매개변수로 받은 처음 문장을 통해 이후 문장을 생성하는 함수입니다."
   ]
  },
  {
   "cell_type": "code",
   "execution_count": 400,
   "id": "egyptian-charter",
   "metadata": {},
   "outputs": [],
   "source": [
    "def generate_text(model, tokenizer, init_sentence=\"<start>\", max_len=20):\n",
    "    # 테스트를 위해서 입력받은 init_sentence도 텐서로 변환합니다\n",
    "    test_input = tokenizer.texts_to_sequences([init_sentence])\n",
    "    test_tensor = tf.convert_to_tensor(test_input, dtype=tf.int64)\n",
    "    end_token = tokenizer.word_index[\"<end>\"]\n",
    "\n",
    "    # 단어 하나씩 예측해 문장을 만듭니다\n",
    "    #    1. 입력받은 문장의 텐서를 입력합니다\n",
    "    #    2. 예측된 값 중 가장 높은 확률인 word index를 뽑아냅니다\n",
    "    #    3. 2에서 예측된 word index를 문장 뒤에 붙입니다\n",
    "    #    4. 모델이 <end>를 예측했거나, max_len에 도달했다면 문장 생성을 마칩니다\n",
    "    while True:\n",
    "        # 1\n",
    "        predict = model(test_tensor) \n",
    "        # 2\n",
    "        predict_word = tf.argmax(tf.nn.softmax(predict, axis=-1), axis=-1)[:, -1] \n",
    "        # 3 \n",
    "        test_tensor = tf.concat([test_tensor, tf.expand_dims(predict_word, axis=0)], axis=-1)\n",
    "        # 4\n",
    "        if predict_word.numpy()[0] == end_token: break\n",
    "        if test_tensor.shape[1] >= max_len: break\n",
    "\n",
    "    generated = \"\"\n",
    "    # tokenizer를 이용해 word index를 단어로 하나씩 변환합니다 \n",
    "    for word_index in test_tensor[0].numpy():\n",
    "        generated += tokenizer.index_word[word_index] + \" \"\n",
    "\n",
    "    return generated"
   ]
  },
  {
   "cell_type": "markdown",
   "id": "intended-counter",
   "metadata": {},
   "source": [
    "### 실행결과\n",
    "---\n",
    "실행시킨 결과 문장이 생성되는 것을 확인 할 수 있었습니다.\\\n",
    "maxlen의 변경으로 더 긴 문장을 생성해내는 것은 아니란 것을 확인했습니다."
   ]
  },
  {
   "cell_type": "code",
   "execution_count": 410,
   "id": "toxic-sheffield",
   "metadata": {},
   "outputs": [
    {
     "data": {
      "text/plain": [
       "'<start> i love you , liberian girl <end> '"
      ]
     },
     "execution_count": 410,
     "metadata": {},
     "output_type": "execute_result"
    }
   ],
   "source": [
    "generate_text(model, tokenizer, init_sentence=\"<start> i love\", max_len=55)"
   ]
  },
  {
   "cell_type": "code",
   "execution_count": 414,
   "id": "clean-operator",
   "metadata": {},
   "outputs": [
    {
     "data": {
      "text/plain": [
       "'<start> you love me , i love you <end> '"
      ]
     },
     "execution_count": 414,
     "metadata": {},
     "output_type": "execute_result"
    }
   ],
   "source": [
    "generate_text(model, tokenizer, init_sentence=\"<start> i love\", max_len=55)"
   ]
  },
  {
   "cell_type": "code",
   "execution_count": 415,
   "id": "portable-embassy",
   "metadata": {},
   "outputs": [
    {
     "data": {
      "text/plain": [
       "'<start> the love machine will you go ? <end> '"
      ]
     },
     "execution_count": 415,
     "metadata": {},
     "output_type": "execute_result"
    }
   ],
   "source": [
    "generate_text(model, tokenizer, init_sentence=\"<start> the love\", max_len=55)"
   ]
  },
  {
   "cell_type": "markdown",
   "id": "applicable-nylon",
   "metadata": {},
   "source": [
    "### 마치며\n",
    "---\n",
    "과제를 하며 한번 TFMaster 수업을 받았지만, 여전히 모르는 것 투성이인 과제라는 점을 파악했습니다.\\\n",
    "그래도 NLP의 첫 형태를 겪어봤다는 점에서 매우 기분이 좋은 과제였습니다.\\\n",
    "또한 문법적인 규칙을 직접 지정하지 않아도 컴퓨터가 스스로 문장구성을 한다는 점은 매우 신비롭게 느껴졌습니다."
   ]
  }
 ],
 "metadata": {
  "kernelspec": {
   "display_name": "Python 3",
   "language": "python",
   "name": "python3"
  },
  "language_info": {
   "codemirror_mode": {
    "name": "ipython",
    "version": 3
   },
   "file_extension": ".py",
   "mimetype": "text/x-python",
   "name": "python",
   "nbconvert_exporter": "python",
   "pygments_lexer": "ipython3",
   "version": "3.7.9"
  }
 },
 "nbformat": 4,
 "nbformat_minor": 5
}
